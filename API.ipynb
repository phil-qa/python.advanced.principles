{
 "cells": [
  {
   "cell_type": "markdown",
   "id": "a415fc0b-20bc-43f4-be93-099a96510611",
   "metadata": {},
   "source": [
    "## API example\n",
    "the following is a simple implementation of an API   \n",
    "It uses Flask which is a library dedicated to it. \n",
    "\n"
   ]
  },
  {
   "cell_type": "code",
   "execution_count": null,
   "id": "3665b98c-1eef-4679-b9fd-8dd2199a1be7",
   "metadata": {},
   "outputs": [],
   "source": [
    "from "
   ]
  },
  {
   "cell_type": "code",
   "execution_count": 2,
   "id": "00323ece-2985-4577-90e8-8d8baff32417",
   "metadata": {},
   "outputs": [
    {
     "ename": "ModuleNotFoundError",
     "evalue": "No module named 'flask'",
     "output_type": "error",
     "traceback": [
      "\u001b[1;31m---------------------------------------------------------------------------\u001b[0m",
      "\u001b[1;31mModuleNotFoundError\u001b[0m                       Traceback (most recent call last)",
      "Cell \u001b[1;32mIn[2], line 1\u001b[0m\n\u001b[1;32m----> 1\u001b[0m \u001b[38;5;28;01mfrom\u001b[39;00m \u001b[38;5;21;01mflask\u001b[39;00m \u001b[38;5;28;01mimport\u001b[39;00m Flask\n\u001b[0;32m      2\u001b[0m \u001b[38;5;28;01mfrom\u001b[39;00m \u001b[38;5;21;01mflask_restful\u001b[39;00m \u001b[38;5;28;01mimport\u001b[39;00m Api, Resource\n\u001b[0;32m      4\u001b[0m app \u001b[38;5;241m=\u001b[39m Flask(\u001b[38;5;18m__name__\u001b[39m)\n",
      "\u001b[1;31mModuleNotFoundError\u001b[0m: No module named 'flask'"
     ]
    }
   ],
   "source": [
    "from flask import Flask\n",
    "from flask_restful import Api, Resource\n",
    "\n",
    "app = Flask(__name__)\n",
    "api = Api(app)\n",
    "\n",
    "# Sample data\n",
    "buildings = [\n",
    "    {\"building\": 'mess', \"location\": \"north camp west\", \"site_admin\": \"ssgt millford \"},\n",
    "    {\"building\": 'square', \"location\": \"get off it\", \"site_admin\": \"rsm \"},\n",
    "    {\"building\": 'workshop', \"location\": \"south camp north\", \"site_admin\": \"wo1 gillington \"}\n",
    "]\n",
    "\n",
    "# Define a resource to represent a single book\n",
    "class Building(Resource):\n",
    "    def get(self,  building_name):\n",
    "        for building in buildings:\n",
    "            if building[\"building\"] == building_name:\n",
    "                return building, 200\n",
    "        return \"building not found\", 404\n",
    "\n",
    "# Define a resource to represent a collection of buildings\n",
    "class Camp(Resource):\n",
    "    def get(self):\n",
    "        return buildings\n",
    "\n",
    "# Add resources to the API\n",
    "api.add_resource(Camp, '/building')\n",
    "api.add_resource(Book, '/building/<name>')\n",
    "\n",
    "app.run(debug=True)"
   ]
  },
  {
   "cell_type": "code",
   "execution_count": null,
   "id": "8e6a8c8d-64b4-49e9-a390-9e27b577a512",
   "metadata": {},
   "outputs": [],
   "source": []
  }
 ],
 "metadata": {
  "kernelspec": {
   "display_name": "Python 3 (ipykernel)",
   "language": "python",
   "name": "python3"
  },
  "language_info": {
   "codemirror_mode": {
    "name": "ipython",
    "version": 3
   },
   "file_extension": ".py",
   "mimetype": "text/x-python",
   "name": "python",
   "nbconvert_exporter": "python",
   "pygments_lexer": "ipython3",
   "version": "3.12.1"
  }
 },
 "nbformat": 4,
 "nbformat_minor": 5
}
