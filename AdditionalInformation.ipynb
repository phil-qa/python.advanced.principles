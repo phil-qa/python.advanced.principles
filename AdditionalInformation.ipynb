{
 "cells": [
  {
   "cell_type": "markdown",
   "id": "306f1145-85f3-4a56-8f2b-a4da3772a373",
   "metadata": {},
   "source": [
    "# Additional information for ADV Python\n",
    "the information in here supports different questions asked by the students\n"
   ]
  },
  {
   "cell_type": "markdown",
   "id": "5d74ada3-e847-41a9-81cd-49dba5d698b3",
   "metadata": {},
   "source": [
    "## what is a use case for class decorator\n",
    "Decorators are a useful addition to Python, allowing a programmer the ability to modify the behaviour of function or class.  \n",
    "\n",
    "They give the facitilty to wrap another function in order to extend the behaviour of the wrapped function, without permanently modifying it.   \n",
    "\n",
    "We can define a decorator as a class and to do that we have to use a `__call__` method. When a user needs to create an object that acts as a function then function decorator needs to return an object that acts like a function, so __call__ can be useful.   \n",
    "\n",
    "This can be used with logging or some other administrational requirement of the code, profiling is an example:\n"
   ]
  },
  {
   "cell_type": "code",
   "execution_count": 6,
   "id": "02057b74-4fab-41a3-a107-d0f9fe2d0325",
   "metadata": {},
   "outputs": [
    {
     "ename": "TabError",
     "evalue": "inconsistent use of tabs and spaces in indentation (<string>, line 10)",
     "output_type": "error",
     "traceback": [
      "\u001b[1;36m  File \u001b[1;32m<string>:10\u001b[1;36m\u001b[0m\n\u001b[1;33m    start_time = time()\u001b[0m\n\u001b[1;37m                       ^\u001b[0m\n\u001b[1;31mTabError\u001b[0m\u001b[1;31m:\u001b[0m inconsistent use of tabs and spaces in indentation\n"
     ]
    }
   ],
   "source": [
    "#Use a decorator to profile code\n",
    "\n",
    "from time import time\n",
    "class ProfileTimer:\n",
    "\n",
    "\tdef __init__(self, func):\n",
    "\t\tself.function = func\n",
    "\n",
    "\tdef __call__(self, *args, **kwargs):\n",
    "    \tstart_time = time()\n",
    "    \tresult = self.function(*args, **kwargs)\n",
    "    \tend_time = time()\n",
    "        time_in_execution = end_time - start_time\n",
    "        print(f\"Execution took {time_in_execution} seconds\"})\n",
    "        return result\n",
    "\n",
    "\n",
    "# use the class as a decorator\n",
    "@ProfileTimer\n",
    "def some_function(delay):\n",
    "\tfrom time import sleep\n",
    "\tsleep(delay)\n",
    "\n",
    "some_function(3)\n"
   ]
  },
  {
   "cell_type": "markdown",
   "id": "9700c01b-e7ed-40c5-9041-1560c339d032",
   "metadata": {},
   "source": [
    "Can we make something that performs data validation. The task is to develop a Python program that creates a data validation library utilizing Python's \"dataclasses\" and type hints. This library enables automatic validation of \"dataclass\" fields based on specified type hints and custom validation functions. By integrating these features, the program will facilitate robust data validation, ensuring data conforms to expected types and constraints. This will enhance data integrity and reducing runtime errors in applications."
   ]
  },
  {
   "cell_type": "code",
   "execution_count": 1,
   "id": "09ca66b9-0277-4cee-b8b2-f58f2a28b84f",
   "metadata": {},
   "outputs": [
    {
     "name": "stdout",
     "output_type": "stream",
     "text": [
      "User is valid\n"
     ]
    }
   ],
   "source": [
    "# Import necessary modules\n",
    "from dataclasses import dataclass, field, fields, Field\n",
    "from typing import Any, Callable, List, get_type_hints\n",
    "\n",
    "# Custom exception for validation errors\n",
    "class ValidationError(Exception):\n",
    "    pass\n",
    "\n",
    "# Function to validate dataclass fields\n",
    "def validate(instance):\n",
    "    cls = instance.__class__\n",
    "    hints = get_type_hints(cls)\n",
    "    # Iterate through fields and type hints\n",
    "    for name, type_hint in hints.items():\n",
    "        value = getattr(instance, name)\n",
    "        # Check if value matches type hint\n",
    "        if not isinstance(value, type_hint):\n",
    "            raise ValidationError(f\"Field '{name}' expects {type_hint}, got {type(value)}\")\n",
    "        # Check for custom validators\n",
    "        field: Field = next(f for f in fields(cls) if f.name == name)\n",
    "        if 'validators' in field.metadata:\n",
    "            for validator in field.metadata['validators']:\n",
    "                validator(instance, value)\n",
    "\n",
    "# Decorator to define a validator function\n",
    "def validator(func: Callable[[Any, Any], None]):\n",
    "    if not callable(func):\n",
    "        raise ValueError(\"Validator must be callable\")\n",
    "    func._is_validator = True\n",
    "    return func\n",
    "\n",
    "# Function to define a field with validation\n",
    "def field_with_validation(*, default: Any = None, default_factory: Callable[[], Any] = None, validators: List[Callable[[Any, Any], None]] = None) -> Field:\n",
    "    # Ensure only one of default or default_factory is provided\n",
    "    if default is not None and default_factory is not None:\n",
    "        raise ValueError('cannot specify both default and default_factory')\n",
    "    \n",
    "    metadata = {}\n",
    "    # Attach validators to metadata\n",
    "    if validators:\n",
    "        metadata['validators'] = validators\n",
    "    \n",
    "    # Define field with appropriate parameters\n",
    "    if default is not None:\n",
    "        return field(default=default, metadata=metadata)\n",
    "    elif default_factory is not None:\n",
    "        return field(default_factory=default_factory, metadata=metadata)\n",
    "    else:\n",
    "        return field(metadata=metadata)\n",
    "\n",
    "# Dataclass representing a User with validation\n",
    "@dataclass\n",
    "class User:\n",
    "    # Define fields with validation\n",
    "    name: str\n",
    "    age: int = field_with_validation(default=0, validators=[\n",
    "        validator(lambda instance, value: value >= 0 or ValidationError(\"Age must be non-negative\")),\n",
    "        validator(lambda instance, value: value <= 150 or ValidationError(\"Age must be 150 or less\"))\n",
    "    ])\n",
    "    email: str = field_with_validation(default=\"\", validators=[\n",
    "        validator(lambda instance, value: \"@\" in value or ValidationError(\"Invalid email address\"))\n",
    "    ])\n",
    "\n",
    "# Example usage\n",
    "try:\n",
    "    user = User(name=\"Arsen\", age=30, email=\"arsen@example.com\")\n",
    "    validate(user)\n",
    "    print(\"User is valid\")\n",
    "except ValidationError as e:\n",
    "    print(f\"Validation error: {e}\")\n"
   ]
  },
  {
   "cell_type": "code",
   "execution_count": null,
   "id": "35a2c94f-dfbb-46bd-a64e-88553630bc07",
   "metadata": {},
   "outputs": [],
   "source": []
  }
 ],
 "metadata": {
  "kernelspec": {
   "display_name": "Python 3 (ipykernel)",
   "language": "python",
   "name": "python3"
  },
  "language_info": {
   "codemirror_mode": {
    "name": "ipython",
    "version": 3
   },
   "file_extension": ".py",
   "mimetype": "text/x-python",
   "name": "python",
   "nbconvert_exporter": "python",
   "pygments_lexer": "ipython3",
   "version": "3.11.9"
  }
 },
 "nbformat": 4,
 "nbformat_minor": 5
}
