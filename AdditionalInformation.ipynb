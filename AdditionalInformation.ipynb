{
 "cells": [
  {
   "cell_type": "markdown",
   "id": "306f1145-85f3-4a56-8f2b-a4da3772a373",
   "metadata": {},
   "source": [
    "# Additional information for ADV Python\n",
    "the information in here supports different questions asked by the students\n"
   ]
  },
  {
   "cell_type": "markdown",
   "id": "5d74ada3-e847-41a9-81cd-49dba5d698b3",
   "metadata": {},
   "source": [
    "## what is a use case for class decorator\n",
    "Decorators are a useful addition to Python, allowing a programmer the ability to modify the behaviour of function or class.  \n",
    "\n",
    "They give the facitilty to wrap another function in order to extend the behaviour of the wrapped function, without permanently modifying it.   \n",
    "\n",
    "We can define a decorator as a class and to do that we have to use a `__call__` method. When a user needs to create an object that acts as a function then function decorator needs to return an object that acts like a function, so __call__ can be useful.   \n",
    "\n",
    "This can be used with logging or some other administrational requirement of the code, profiling is an example:\n"
   ]
  },
  {
   "cell_type": "code",
   "execution_count": 6,
   "id": "02057b74-4fab-41a3-a107-d0f9fe2d0325",
   "metadata": {},
   "outputs": [
    {
     "ename": "TabError",
     "evalue": "inconsistent use of tabs and spaces in indentation (<string>, line 10)",
     "output_type": "error",
     "traceback": [
      "\u001b[1;36m  File \u001b[1;32m<string>:10\u001b[1;36m\u001b[0m\n\u001b[1;33m    start_time = time()\u001b[0m\n\u001b[1;37m                       ^\u001b[0m\n\u001b[1;31mTabError\u001b[0m\u001b[1;31m:\u001b[0m inconsistent use of tabs and spaces in indentation\n"
     ]
    }
   ],
   "source": [
    "#Use a decorator to profile code\n",
    "\n",
    "from time import time\n",
    "class ProfileTimer:\n",
    "\n",
    "\tdef __init__(self, func):\n",
    "\t\tself.function = func\n",
    "\n",
    "\tdef __call__(self, *args, **kwargs):\n",
    "    \tstart_time = time()\n",
    "    \tresult = self.function(*args, **kwargs)\n",
    "    \tend_time = time()\n",
    "        time_in_execution = end_time - start_time\n",
    "        print(f\"Execution took {time_in_execution} seconds\"})\n",
    "        return result\n",
    "\n",
    "\n",
    "# use the class as a decorator\n",
    "@ProfileTimer\n",
    "def some_function(delay):\n",
    "\tfrom time import sleep\n",
    "\tsleep(delay)\n",
    "\n",
    "some_function(3)\n"
   ]
  },
  {
   "cell_type": "code",
   "execution_count": null,
   "id": "f0117aca-61d8-48db-a80e-45d45078f23e",
   "metadata": {},
   "outputs": [],
   "source": []
  }
 ],
 "metadata": {
  "kernelspec": {
   "display_name": "Python 3 (ipykernel)",
   "language": "python",
   "name": "python3"
  },
  "language_info": {
   "codemirror_mode": {
    "name": "ipython",
    "version": 3
   },
   "file_extension": ".py",
   "mimetype": "text/x-python",
   "name": "python",
   "nbconvert_exporter": "python",
   "pygments_lexer": "ipython3",
   "version": "3.12.1"
  }
 },
 "nbformat": 4,
 "nbformat_minor": 5
}
