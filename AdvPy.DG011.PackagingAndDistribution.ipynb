{
 "cells": [
  {
   "cell_type": "markdown",
   "id": "5b0b9bba",
   "metadata": {},
   "source": [
    "# Packaging and distribution \n",
    "IN python the concept of packaging refers to the process of creating a distributable package of your code. This can the be installed by others, A package will consist of one or more modules or scripts as well as any associated dependencies\n",
    "\n",
    "Therea re several ntools to do this in python that will create and nanage packages to name a few \n",
    "\n",
    "- setuptools - Library for simplifying the process of building and distributing \n",
    "- distutils - standard library module for doing it \n",
    "- pip - package manager for python for istalling packages from Python Package index or pypi\n",
    "- virtualenv - tool for creatig isolated python environments useful for managing dependencies and managing conflicts between packages\n",
    "\n",
    "The results are a distributable package that can be in one of several formats, tarball, or zip or a binary distribution for a particular platform\n",
    "\n",
    "On the recieving side, (the platform installing the code) there can be multiple methods by which that happens in python \n",
    "setup.py for example which is an output from something like distutills, is a file used to define the metadata and configuration options for a python package. It leverages access to the setuptools library to define various attributes as through functions and classes for that purpose \n",
    "\n",
    "An example of this is in the coffee machine module \n",
    "\n",
    "\n",
    "setup.py sdist\n",
    "\n"
   ]
  },
  {
   "cell_type": "code",
   "execution_count": null,
   "id": "b3eee55e",
   "metadata": {},
   "outputs": [],
   "source": []
  },
  {
   "cell_type": "code",
   "execution_count": null,
   "id": "bdeb6553",
   "metadata": {},
   "outputs": [],
   "source": []
  }
 ],
 "metadata": {
  "kernelspec": {
   "display_name": "Python 3 (ipykernel)",
   "language": "python",
   "name": "python3"
  },
  "language_info": {
   "codemirror_mode": {
    "name": "ipython",
    "version": 3
   },
   "file_extension": ".py",
   "mimetype": "text/x-python",
   "name": "python",
   "nbconvert_exporter": "python",
   "pygments_lexer": "ipython3",
   "version": "3.9.7"
  }
 },
 "nbformat": 4,
 "nbformat_minor": 5
}
