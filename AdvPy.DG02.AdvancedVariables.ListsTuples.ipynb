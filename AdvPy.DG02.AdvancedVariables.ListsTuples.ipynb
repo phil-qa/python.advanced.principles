{
 "cells": [
  {
   "cell_type": "markdown",
   "id": "7a78575d-9e70-4c20-9e7e-1aed7615473d",
   "metadata": {},
   "source": [
    "## Lists and tuples\n",
    "\n",
    "### Tuples in python are a little different\n",
    "Tuples have allocated space (free list) for small dimensions, the issues facing this container type is that removing items can involve a resize, but additionally it's worth considering that removing something from a list (especially if it is a large one) could take longer. \n",
    "\n",
    "One aspect of the functions that operate on lists is : \n",
    "min() max() sum() are linear operations, and indeed lists and tuples are linear objects, however, they remain quite performant in things like random access. "
   ]
  }
 ],
 "metadata": {
  "kernelspec": {
   "display_name": "Python 3 (ipykernel)",
   "language": "python",
   "name": "python3"
  },
  "language_info": {
   "codemirror_mode": {
    "name": "ipython",
    "version": 3
   },
   "file_extension": ".py",
   "mimetype": "text/x-python",
   "name": "python",
   "nbconvert_exporter": "python",
   "pygments_lexer": "ipython3",
   "version": "3.11.9"
  }
 },
 "nbformat": 4,
 "nbformat_minor": 5
}
