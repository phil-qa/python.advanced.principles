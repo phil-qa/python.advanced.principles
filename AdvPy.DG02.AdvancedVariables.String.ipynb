{
 "cells": [
  {
   "cell_type": "code",
   "execution_count": null,
   "id": "349e516d-9a98-42ee-81d1-39d2aca6b95d",
   "metadata": {},
   "outputs": [],
   "source": [
    "# admin functions \n",
    "import pprint\n",
    "from IPython.display import clear_output\n",
    "\n",
    "def clean_print(content, header=None):\n",
    "  \"\"\"Prints content with a formatted header, underlining the header if a value exists.\n",
    "\n",
    "  Args:\n",
    "      content: The data structure to be pretty printed.\n",
    "      header: The optional header string. If present, it will be underlined.\n",
    "  \"\"\"\n",
    "\n",
    "  if header:\n",
    "    underline = ''.join('-' for _ in range(len(header)))  # More efficient underline generation\n",
    "    print(f\"{header}:\\n{underline}\")  # Formatted header with f-string\n",
    "  else:\n",
    "    print()  # Print an empty line if no header is provided\n",
    "\n",
    "  pprint.pprint(content)"
   ]
  },
  {
   "cell_type": "markdown",
   "id": "f6930c8c-55b2-414f-8b86-300cddb4b22d",
   "metadata": {},
   "source": [
    "<a id='string.intro'></a>\n",
    "## Algorithms, under the hood - Strings \n",
    "Sometimes it's useful to understand what is happening under the hood functionally speaking that is. \n",
    "String is a good example of something that we declare is immutable, and we can of course prove that "
   ]
  },
  {
   "cell_type": "code",
   "execution_count": null,
   "id": "17116fee-1590-43e3-aac7-38570652fb1e",
   "metadata": {},
   "outputs": [],
   "source": [
    "thing = 'string thing'\n",
    "thing[0] = 'b'"
   ]
  },
  {
   "cell_type": "markdown",
   "id": "05e7e00d-1024-47f9-81b5-5b06bf1fba1c",
   "metadata": {},
   "source": [
    "However, sometimes, the code under the hood does things unexpectedly, for example there is _Pystring_Resize() method in the c code under the hood.  \n",
    "Purpose: Resizes the memory allocated for a Python string object.\n",
    "Context: Used internally by Python to manage the memory of string objects when their size needs to change.   \n",
    "in cases where there is a function like :"
   ]
  },
  {
   "cell_type": "code",
   "execution_count": null,
   "id": "bab41071-b02c-45e6-8bb1-41a0c9ff43cc",
   "metadata": {},
   "outputs": [],
   "source": [
    "clean_print(\"The following is an example of concatenation, it should take a while because\\nof the work needed\",\"Example of Concat\")\n",
    "word = ''\n",
    "with open(r'Shakespeare.as.you.like.it.txt', 'r') as fi:\n",
    "    for w in fi.readlines():\n",
    "        word+=w\n",
    "\n",
    "print(word)      \n",
    "del(word)\n"
   ]
  },
  {
   "cell_type": "code",
   "execution_count": null,
   "id": "8ec76e98-853f-4733-b35b-f2c05a651bbf",
   "metadata": {},
   "outputs": [],
   "source": [
    "# This time with list \n",
    "clean_print(\"The following is an example of using list and str.join\",\"Example of str.join and list\")\n",
    "lines = []\n",
    "with open(r'Shakespeare.as.you.like.it.txt', 'r') as fi:\n",
    "    for w in fi.readlines():\n",
    "        lines.append(w)\n",
    "\n",
    "word = ' '.join(lines)\n",
    "\n",
    "print(word)\n",
    "del(word)"
   ]
  },
  {
   "cell_type": "markdown",
   "id": "8c06dbb2-5ea0-4edf-8be5-dd4d52e9aa64",
   "metadata": {},
   "source": [
    "## considerations\n",
    "The response, or rather the resizing method that is unseen, may be different for each release and it's one of those things that, if there is a requirement for being aware of pernformance, that this is approached as a review exercise \n",
    "\n",
    "### The same is true for things like lists\n",
    "Under the hood the code is doing realloc() in response to changes to the list structure, things like this make benchmarking a bit of a difficult thing to do given the abastraction that is Python. \n",
    "\n",
    "### Free List in Python Lists:\n",
    "\n",
    "When a list element is removed or deleted, it's not immediately erased from memory. Instead, it gets added to the list's internal free list.   \n",
    "The free list essentially becomes a pool of previously used memory chunks that can be reused when new elements are added to the list. This avoids the overhead of constantly allocating and deallocating memory for list operations.\n",
    "The size of the free list (80 elements in your case) indicates the number of recently removed elements that are currently available for reuse.   \n",
    "\n",
    "#### Benefits of a Free List:\n",
    " \n",
    "**Performance**: Reusing memory from the free list is faster than allocating entirely new memory for every list insertion. This improves the overall performance of list operations.  \n",
    "\n",
    "**Memory Efficiency**: By reusing available memory, the free list helps to reduce memory fragmentation and potentially lowers overall memory usage.  \n",
    "\n",
    "### One final  point \n",
    "When adding and removing to either end, there is functionality provided by the collections module, collections.deque"
   ]
  },
  {
   "cell_type": "code",
   "execution_count": null,
   "id": "8a65f233-47f0-4376-8335-a28097c015cb",
   "metadata": {},
   "outputs": [],
   "source": [
    "import collections\n",
    "z_shifts = collections.deque([1,4,5,66])\n",
    "print(z_shifts)\n",
    "z_shifts.appendleft([00,0.5])\n",
    "print(z_shifts)\n",
    "z_shifts.extendleft([99,1000])\n",
    "print(z_shifts)"
   ]
  }
 ],
 "metadata": {
  "kernelspec": {
   "display_name": "Python 3 (ipykernel)",
   "language": "python",
   "name": "python3"
  },
  "language_info": {
   "codemirror_mode": {
    "name": "ipython",
    "version": 3
   },
   "file_extension": ".py",
   "mimetype": "text/x-python",
   "name": "python",
   "nbconvert_exporter": "python",
   "pygments_lexer": "ipython3",
   "version": "3.11.9"
  }
 },
 "nbformat": 4,
 "nbformat_minor": 5
}
