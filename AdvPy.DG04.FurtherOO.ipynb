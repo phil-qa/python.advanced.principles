{
 "cells": [
  {
   "cell_type": "markdown",
   "id": "69d469b6",
   "metadata": {},
   "source": [
    "## More OO\n",
    "\n",
    "in this section we will cover a number of interesting subjects associated with object orientation. \n",
    "we will revise some points such as decorators we looked at earlier, as wll as name mangling in Python as it tries to be all private. We will also get a look at the special built-in operators and the fact that they can be overwritten, and looking at the new-style classes. Finally in revising them we will look at how python deals with getters and setters (properties)\n",
    "\n",
    "\n",
    "### Mixins\n",
    "In Python, a mixin is a class that provides a specific functionality that can be inherited by other classes without requiring a full inheritance hierarchy. A mixin is typically used to add or enhance the behavior of a class, without modifying its implementation.So it is not meant to be instantiated on its own, but instead, it is meant to be subclassed by other classes. which then gains the functionality provided by the mixin, as if the methods and attributes of the mixin were defined in the class itself.\n",
    "\n",
    "### Duck typing\n",
    "A foundation concept of Object Orientation is that messages are\n",
    "sent to objects requesting actions. We should not need to check\n",
    "the class of the object, only that it can carry out the action\n",
    "requested. That principle has been lost with many OO languages,\n",
    "particularly static ones. Even those that fully support\n",
    "polymorphism, the practice is often to test the class rather than\n",
    "the behaviour.\n",
    "Python, and most dynamic languages, allows the programmer to\n",
    "check if behaviour exists. This is called Duck Typing: we don't care\n",
    "what kind of thing it is, if it quacks that's good enough. It could be\n",
    "some kind of duck mimic, who cares?\n",
    "This is why type is deprecated.\n",
    "\n",
    "### getattr, hasattr and setattr\n",
    "We will review the built in functions getattr which will return the value of an atribute we will see that these call the special methods under the hood __getattr__() __setattr()__ \n",
    "\n",
    "additionally we will mention delegation which, unlike other languages, has no keyword. It's a popular OO pattern allonwing objects to call other objects at runtime. \n",
    "\n",
    "### slots\n",
    "We will mention slots, as a new thing, it's a manual method of developing a class dictionary and it looks like a neat way of hiding things, but it has problems, the key word there being manual.\n",
    "\n",
    "### Inheritance introspection\n",
    "This is a preferred way of finding out if an object or class belongs to a particular class, we have already seen this though, isinstance() and issubclass() \n",
    "\n",
    "\n",
    "## context managers\n",
    "we will look at  context managers, that can initialise and destroy objects within a context, it provides a more stable approach than something like '__del__'\n"
   ]
  },
  {
   "cell_type": "markdown",
   "id": "0166ead7",
   "metadata": {},
   "source": [
    "## Revision\n",
    "\n",
    "### Class Method\n",
    "A class method is bound to a class rather than its instance so no necessity to create a class instance. This is much similar to the static method.\n",
    "The parameters of the Class method is predominantly the class itself and hence it associates with it. Therefore class methods operate at a global class level\n",
    "\n",
    "It’s important to note that you can access a class method using either the class or a concrete instance of the class at hand\n",
    "\n",
    "Unlike regular methods, class methods don’t take the current instance, self, as an argument. Instead, they take the class itself, which is commonly passed in as the cls argument. Using cls to name this argument is a popular convention in the Python community."
   ]
  },
  {
   "cell_type": "code",
   "execution_count": 1,
   "id": "71973df1",
   "metadata": {},
   "outputs": [],
   "source": [
    "# point.py\n",
    "\n",
    "import math\n",
    "\n",
    "class PolarPoint:\n",
    "    def __init__(self, distance, angle):\n",
    "        self.distance = distance\n",
    "        self.angle = angle\n",
    "\n",
    "    @classmethod\n",
    "    def from_cartesian(cls,x ,y):\n",
    "        distance = math.dist((0, 0), (x, y))\n",
    "        angle = math.degrees(math.atan2(y, x))\n",
    "        return cls(distance, angle)"
   ]
  },
  {
   "cell_type": "code",
   "execution_count": 6,
   "id": "bfebee14",
   "metadata": {},
   "outputs": [
    {
     "name": "stdout",
     "output_type": "stream",
     "text": [
      "13 22.6\n",
      "distance 33.37663853655727, angle 81.3843518158359\n"
     ]
    }
   ],
   "source": [
    "value = PolarPoint(13, 22.6)\n",
    "print(f\"{value.distance} {value.angle}\")\n",
    "convert_vector = value.from_cartesian(5,33)\n",
    "print(f\"distance {convert_vector.distance}, angle {convert_vector.angle}\")"
   ]
  },
  {
   "cell_type": "markdown",
   "id": "20fea214",
   "metadata": {},
   "source": [
    "# Name Mangling\n",
    "Conventions with underscores - reminder\n",
    "• Names beginning with one underscore are private to\n",
    "a module\n",
    "• Names beginning with two underscores are private to\n",
    "a class\n",
    "• Names surrounded by two underscores have a special\n",
    "meaning\n",
    "The double under-score prefix for private variables is a\n",
    "form of name mangling\n",
    "The real name is prefixed with the class name:\n",
    "• __var in class Stuff becomes _Stuff__var\n",
    "This name mangling\n"
   ]
  },
  {
   "cell_type": "code",
   "execution_count": 16,
   "id": "402916ae",
   "metadata": {},
   "outputs": [],
   "source": [
    "class my_class:\n",
    "    def __init__(self):\n",
    "        self.a_value = 0\n",
    "        self.another_value = 0\n",
    "    \n",
    "    def add(self,number_1, number_2):\n",
    "        return number_1 + number_2\n",
    "    \n",
    "    def _sum(self, number_1, number_2):\n",
    "        return number_1 * number_2\n",
    "    \n",
    "    def __another_sum(self, number_1, number_2):\n",
    "        return number_1 * number_2"
   ]
  },
  {
   "cell_type": "code",
   "execution_count": 17,
   "id": "dedec345",
   "metadata": {
    "scrolled": true
   },
   "outputs": [
    {
     "data": {
      "text/plain": [
       "['__class__',\n",
       " '__delattr__',\n",
       " '__dict__',\n",
       " '__dir__',\n",
       " '__doc__',\n",
       " '__eq__',\n",
       " '__format__',\n",
       " '__ge__',\n",
       " '__getattribute__',\n",
       " '__gt__',\n",
       " '__hash__',\n",
       " '__init__',\n",
       " '__init_subclass__',\n",
       " '__le__',\n",
       " '__lt__',\n",
       " '__module__',\n",
       " '__ne__',\n",
       " '__new__',\n",
       " '__reduce__',\n",
       " '__reduce_ex__',\n",
       " '__repr__',\n",
       " '__setattr__',\n",
       " '__sizeof__',\n",
       " '__str__',\n",
       " '__subclasshook__',\n",
       " '__weakref__',\n",
       " '_my_class__another_sum',\n",
       " '_sum',\n",
       " 'add']"
      ]
     },
     "execution_count": 17,
     "metadata": {},
     "output_type": "execute_result"
    }
   ],
   "source": [
    "dir(my_class)"
   ]
  },
  {
   "cell_type": "markdown",
   "id": "2f02a8e6",
   "metadata": {},
   "source": [
    "# built-in operators\n",
    "As they say the calls to these exercise the appropriate special function, this can be overridden, __str__ being the common one\n",
    "\n"
   ]
  },
  {
   "cell_type": "code",
   "execution_count": 18,
   "id": "8ca857cc",
   "metadata": {},
   "outputs": [
    {
     "name": "stdout",
     "output_type": "stream",
     "text": [
      "<__main__.my_class object at 0x0000019FC1861490>\n",
      "This has just been added\n"
     ]
    }
   ],
   "source": [
    "a_new_class = my_class()\n",
    "\n",
    "print(a_new_class)\n",
    "\n",
    "class my_class:\n",
    "    def __init__(self):\n",
    "        self.a_value = 0\n",
    "        self.another_value = 0\n",
    "    \n",
    "    def add(self,number_1, number_2):\n",
    "        return number_1 + number_2\n",
    "    \n",
    "    def _sum(self, number_1, number_2):\n",
    "        return number_1 * number_2\n",
    "    \n",
    "    def __another_sum(self, number_1, number_2):\n",
    "        return number_1 * number_2\n",
    "    \n",
    "    def __str__(self):\n",
    "        return(\"This has just been added\")\n",
    "    \n",
    "\n",
    "a_new_class = my_class()\n",
    "\n",
    "print(a_new_class)"
   ]
  },
  {
   "cell_type": "markdown",
   "id": "24060dcb",
   "metadata": {},
   "source": [
    "# classes derive from object\n",
    "Python Classes/Objects\n",
    "Python is an object oriented programming language.\n",
    "\n",
    "Almost everything in Python is an object, with its properties and methods. The New-Style classes derive from some built-in base class, which derive from object.\n",
    "\n",
    "In python 3 all classes that are not derived from object are removed\n",
    "\n",
    "\n"
   ]
  },
  {
   "cell_type": "code",
   "execution_count": 19,
   "id": "66486b05",
   "metadata": {},
   "outputs": [],
   "source": [
    "class BankAccount(object): #Note that object does not need to be there its implied\n",
    "    def __init__(self, account_name, account_number):\n",
    "        self.account_name = account_name\n",
    "        self.account_number = account_number\n",
    "        self.balance = 0\n",
    "\n",
    "    def deposit(self, amount):\n",
    "        self.balance += amount\n",
    "\n",
    "    def withdraw(self, amount):\n",
    "        self.balance -= amount\n",
    "\n",
    "    def get_balance(self):\n",
    "        return  self.balance"
   ]
  },
  {
   "cell_type": "markdown",
   "id": "36b2b31e",
   "metadata": {},
   "source": [
    "### modifying the above\n",
    "Clearly that last class shouldnt have account and account number as something that can be modified in a public context, so we can modify it a little using property and setter decorations"
   ]
  },
  {
   "cell_type": "code",
   "execution_count": null,
   "id": "f28e1b37",
   "metadata": {},
   "outputs": [],
   "source": [
    "class BankAccount(object): #Note that object does not need to be there its implied\n",
    "    def __init__(self, account_name, account_number):\n",
    "        self._account_name = account_name\n",
    "        self._account_number = account_number\n",
    "        self._balance = 0\n",
    "\n",
    "            \n",
    "    def deposit(self, amount):\n",
    "        self._balance += amount\n",
    "\n",
    "    def withdraw(self, amount):\n",
    "        self._balance -= amount\n",
    "\n",
    "    def get_balance(self):\n",
    "        return  self.balance\n",
    "    \n",
    "    @property\n",
    "    def get_account_name(self):\n",
    "        return self._account_name\n",
    "    \n",
    "    @property\n",
    "    def get_account_number(self): \n",
    "        return self._account_number\n",
    "    "
   ]
  },
  {
   "cell_type": "markdown",
   "id": "a441a28e",
   "metadata": {},
   "source": [
    "# Mixins\n",
    "What is a mixin in Python\n",
    "A mixin is a class that provides method implementations for reuse by multiple related child classes. However, the inheritance is not implying an is-a relationship.\n",
    "\n",
    "A mixin doesn’t define a new type. Therefore, it is not intended for instantiation.\n",
    "\n",
    "A mixin will bundle a set of methods for reuse. However it is the intent that the methods implenented are closely related and requires each mixin to have a single specific behavior. The following example is from pythontutorial"
   ]
  },
  {
   "cell_type": "code",
   "execution_count": 20,
   "id": "71646b37",
   "metadata": {},
   "outputs": [],
   "source": [
    "class Person:\n",
    "    def __init__(self, name):\n",
    "        self.name = name"
   ]
  },
  {
   "cell_type": "code",
   "execution_count": 21,
   "id": "bc7ac0d1",
   "metadata": {},
   "outputs": [],
   "source": [
    "# define employee that inherits from the Person class\n",
    "class Employee(Person):\n",
    "    def __init__(self, name, skills, dependents):\n",
    "        super().__init__(name)\n",
    "        self.skills = skills\n",
    "        self.dependents = dependents"
   ]
  },
  {
   "cell_type": "code",
   "execution_count": 24,
   "id": "13e2d8f9",
   "metadata": {},
   "outputs": [],
   "source": [
    "# create an instance\n",
    "e = Employee(\n",
    "    name='John',\n",
    "    skills=['Python Programming','Project Management'],\n",
    "    dependents={'wife': 'Jane', 'children': ['Alice', 'Bob']})"
   ]
  },
  {
   "cell_type": "markdown",
   "id": "173d19b2",
   "metadata": {},
   "source": [
    "In this case we may want to convert the Employee to a dictionary and we can add a method for that but what if we want to convert objects of other classes to dictionaries. to make the code reusable we can define a mixin class"
   ]
  },
  {
   "cell_type": "code",
   "execution_count": 25,
   "id": "c673553a",
   "metadata": {},
   "outputs": [],
   "source": [
    "class DictMixin:\n",
    "    def to_dict(self):\n",
    "        return self._traverse_dict(self.__dict__)\n",
    "\n",
    "    def _traverse_dict(self, attributes: dict) -> dict:\n",
    "        result = {}\n",
    "        for key, value in attributes.items():\n",
    "            result[key] = self._traverse(key, value)\n",
    "\n",
    "        return result\n",
    "\n",
    "    def _traverse(self, key, value):\n",
    "        if isinstance(value, DictMixin):\n",
    "            return value.to_dict()\n",
    "        elif isinstance(value, dict):\n",
    "            return self._traverse_dict(value)\n",
    "        elif isinstance(value, list):\n",
    "            return [self._traverse(key, v) for v in value]\n",
    "        elif hasattr(value, '__dict__'):\n",
    "            return self._traverse_dict(value.__dict__)\n",
    "        else:\n",
    "            return value"
   ]
  },
  {
   "cell_type": "markdown",
   "id": "f6354fd0",
   "metadata": {},
   "source": [
    "The DictMixin class has the to_dict() method that converts an object to a dictionary.\n",
    "\n",
    "The _traverse_dict() method iterates the object’s attributes and assigns the key and value to the result.\n",
    "\n",
    "The attribute of an object may be a list, a dictionary, or an object with the __dict__ attribute. Therefore, the _traverse_dict() method uses the _traverse() method to convert the attribute to value.\n",
    "\n",
    "To convert instances of the Employee class to dictionaries, the Employee needs to inherit from both DictMixin and Person classes:"
   ]
  },
  {
   "cell_type": "code",
   "execution_count": 26,
   "id": "ea334094",
   "metadata": {},
   "outputs": [],
   "source": [
    "class Employee(DictMixin, Person):\n",
    "    def __init__(self, name, skills, dependents):\n",
    "        super().__init__(name)\n",
    "        self.skills = skills\n",
    "        self.dependents = dependents"
   ]
  },
  {
   "cell_type": "markdown",
   "id": "a188f2a4",
   "metadata": {},
   "source": [
    "Now creating an instance of Employee again"
   ]
  },
  {
   "cell_type": "code",
   "execution_count": 27,
   "id": "8ca96c97",
   "metadata": {},
   "outputs": [
    {
     "name": "stdout",
     "output_type": "stream",
     "text": [
      "{'name': 'John', 'skills': ['Python Programming', 'Project Management'], 'dependents': {'wife': 'Jane', 'children': ['Alice', 'Bob']}}\n"
     ]
    }
   ],
   "source": [
    "e = Employee(\n",
    "    name='John',\n",
    "    skills=['Python Programming', 'Project Management'],\n",
    "    dependents={'wife': 'Jane', 'children': ['Alice', 'Bob']}\n",
    ")\n",
    "\n",
    "print(e.to_dict())"
   ]
  },
  {
   "cell_type": "markdown",
   "id": "ef4cb5af",
   "metadata": {},
   "source": [
    "This could be further enhanced by including a new Mixin for handling json conversion"
   ]
  },
  {
   "cell_type": "markdown",
   "id": "a3488973",
   "metadata": {},
   "source": [
    "## MRO - in slide ref only\n",
    "Method Resolution Order(MRO) it denotes the way a programming language resolves a method or attribute. Python supports classes inheriting from other classes. The class being inherited is called the Parent or Superclass, while the class that inherits is called the Child or Subclass \n",
    "\n",
    "### For Mixins consider composition\n",
    "What is Composition (Has-A Relation)? \n",
    "It is one of the fundamental concepts of Object-Oriented Programming. In this concept, we will describe a class that references to one or more objects of other classes as an Instance variable. Here, by using the class name or by creating the object we can access the members of one class inside another class. It enables creating complex types by combining objects of different classes. It means that a class Composite can contain an object of another class Component. This type of relationship is known as Has-A Relation.\n",
    "\n"
   ]
  },
  {
   "cell_type": "markdown",
   "id": "a0d23a57",
   "metadata": {},
   "source": [
    "### built-ins getattr and hasattr\n",
    "Rahter than querying a class, we can run these functions getattr() and asattr(), they work to return validity checks and values, we can query attributed whos name is stored in a string, likewise we can set the values as well. \n",
    "\n",
    "getattr, setattr, delattr, all call __getattr__ __setattr__ __delattr__ __getattribute__\n",
    "\n",
    "\n",
    "Clearly we can create whatever we like, Python doesnt care, so it's worthwhile being careful not to overwrite something that is already there\n",
    "\n",
    "the following is an example "
   ]
  },
  {
   "cell_type": "code",
   "execution_count": 32,
   "id": "541257e8",
   "metadata": {},
   "outputs": [],
   "source": [
    "class SetStruct:\n",
    "    _fields = []\n",
    "\n",
    "    def __init__(self, *args):\n",
    "        for attr_name, attr_val in zip(self._fields, args):\n",
    "            setattr(self, attr_name, attr_val)\n",
    "\n",
    "    def __str__(self):\n",
    "        lstr = []\n",
    "        for attr_name in self._fields:\n",
    "            lstr.append(str(getattr(self, attr_name, '')))\n",
    "        return ', '.join(lstr)\n",
    "\n",
    "\n",
    "class File(SetStruct):\n",
    "    _fields = ['filename', 'size', 'owner']\n",
    "\n",
    "\n",
    "class Person(SetStruct):\n",
    "    _fields = ['name', 'address', 'dob']"
   ]
  },
  {
   "cell_type": "code",
   "execution_count": 33,
   "id": "cff49146",
   "metadata": {},
   "outputs": [],
   "source": [
    "p1 = Person('Fred Bloggs', '4 Railway Road', '12/12/1990')\n"
   ]
  },
  {
   "cell_type": "code",
   "execution_count": 34,
   "id": "c7103787",
   "metadata": {},
   "outputs": [
    {
     "data": {
      "text/plain": [
       "['__class__',\n",
       " '__delattr__',\n",
       " '__dict__',\n",
       " '__dir__',\n",
       " '__doc__',\n",
       " '__eq__',\n",
       " '__format__',\n",
       " '__ge__',\n",
       " '__getattribute__',\n",
       " '__gt__',\n",
       " '__hash__',\n",
       " '__init__',\n",
       " '__init_subclass__',\n",
       " '__le__',\n",
       " '__lt__',\n",
       " '__module__',\n",
       " '__ne__',\n",
       " '__new__',\n",
       " '__reduce__',\n",
       " '__reduce_ex__',\n",
       " '__repr__',\n",
       " '__setattr__',\n",
       " '__sizeof__',\n",
       " '__str__',\n",
       " '__subclasshook__',\n",
       " '__weakref__',\n",
       " '_fields',\n",
       " 'address',\n",
       " 'dob',\n",
       " 'name']"
      ]
     },
     "execution_count": 34,
     "metadata": {},
     "output_type": "execute_result"
    }
   ],
   "source": [
    "dir(p1)"
   ]
  },
  {
   "cell_type": "code",
   "execution_count": 35,
   "id": "1803a323",
   "metadata": {},
   "outputs": [
    {
     "name": "stdout",
     "output_type": "stream",
     "text": [
      "Fred Bloggs, 4 Railway Road, 12/12/1990\n"
     ]
    }
   ],
   "source": [
    "print(p1)"
   ]
  },
  {
   "cell_type": "markdown",
   "id": "41920a8a",
   "metadata": {},
   "source": [
    "### Delegation\n",
    "Sometimes called \"object proxying\", delegation is a popular OO\n",
    "pattern. It is sometimes seen as an alternative to inheritance, but\n",
    "they often reside together in a design pattern.\n",
    "Delegation enables an object to call other object methods\n",
    "dynamically - that is the decision is made at run-time.\n",
    "\n"
   ]
  },
  {
   "cell_type": "code",
   "execution_count": 36,
   "id": "750ac9d8",
   "metadata": {},
   "outputs": [
    {
     "name": "stdout",
     "output_type": "stream",
     "text": [
      "Hi welcome to the day\n"
     ]
    }
   ],
   "source": [
    "class MessageMachine:\n",
    "    def send_message(self, thing_to_send):\n",
    "        print(thing_to_send)\n",
    "\n",
    "class Broadcaster:\n",
    "    def __init__(self, message_machine):\n",
    "        self.message_machine =  message_machine\n",
    "        \n",
    "    def broadcast(self, message):\n",
    "        self.message_machine.send_message(message)\n",
    "\n",
    "message_machine = MessageMachine()\n",
    "\n",
    "broadcaster = Broadcaster(message_machine)\n",
    "\n",
    "broadcaster.broadcast(\"Hi welcome to the day\")\n",
    "\n"
   ]
  },
  {
   "cell_type": "markdown",
   "id": "39d4bdf9",
   "metadata": {},
   "source": [
    "### __slots__\n",
    "as per the slide, The key here is manual \n",
    "__slots__ look like a neat data hiding trick on the face of it, but it\n",
    "was never designed as a safety feature. It is an optimisation\n",
    "feature which does away with the __dict__ dictionary.\n",
    "It has a number of disadvantages. First, it has to be constructed\n",
    "and maintained 'manually‘. Second, inherited classes must use it\n",
    "as well, otherwise they might be slower. Thirdly, it breaks some\n",
    "introspection code."
   ]
  },
  {
   "cell_type": "markdown",
   "id": "6632d9a4",
   "metadata": {},
   "source": [
    "### Context managers\n",
    "\n",
    "Context managers were introduced in Python 2.5. Their advantage\n",
    "is that we can initialise and destroy objects within its context. A\n",
    "destructor might not get called immediately, but the __exit__\n",
    "method will be called on exit from the context, even in the event of\n",
    "an exception.\n",
    "\n",
    "Calling __del__ is not guaranteed, so something like a context manager provides a greater level of exit assurance \n",
    "In the following example we make a class called File, this will act as a context manager. the __enter__ () method is used to open the file, allowing it to be used with with. Once the with block finishes then the __exit__() method is called.\n",
    "\n",
    "Note that __exit__() takes three arguments which provide information about any exceptions raised in the with block\n"
   ]
  },
  {
   "cell_type": "code",
   "execution_count": 40,
   "id": "7e84095a",
   "metadata": {},
   "outputs": [],
   "source": [
    "class File:\n",
    "    def __init__(self, filename, mode):\n",
    "        self.filename = filename\n",
    "        self.mode = mode\n",
    "        self.file = None\n",
    "\n",
    "    def __enter__(self):\n",
    "        self.file = open(self.filename, self.mode)\n",
    "        return self.file\n",
    "\n",
    "    def __exit__(self, exc_type, exc_value, traceback):\n",
    "        if self.file:\n",
    "            self.file.close()\n",
    "\n",
    "with File('example.txt', 'w') as f:\n",
    "    f.write('Hello, world!')\n"
   ]
  },
  {
   "cell_type": "code",
   "execution_count": null,
   "id": "4b603c55",
   "metadata": {},
   "outputs": [],
   "source": []
  }
 ],
 "metadata": {
  "kernelspec": {
   "display_name": "Python 3 (ipykernel)",
   "language": "python",
   "name": "python3"
  },
  "language_info": {
   "codemirror_mode": {
    "name": "ipython",
    "version": 3
   },
   "file_extension": ".py",
   "mimetype": "text/x-python",
   "name": "python",
   "nbconvert_exporter": "python",
   "pygments_lexer": "ipython3",
   "version": "3.9.7"
  }
 },
 "nbformat": 4,
 "nbformat_minor": 5
}
