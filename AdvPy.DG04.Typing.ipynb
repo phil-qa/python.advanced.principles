{
 "cells": [
  {
   "cell_type": "markdown",
   "id": "f72fd4ca-868a-4161-8f46-454a024b3fa5",
   "metadata": {},
   "source": [
    "# DG 04 Advanced Typing \n",
    "The majority of this can go to slide rahter than here, some notes are provided though.   \n"
   ]
  },
  {
   "cell_type": "markdown",
   "id": "4d795595-d67d-4119-871a-236d838e5883",
   "metadata": {},
   "source": [
    "## Gradual Typing \n",
    "Python supports gradual typing through the type module as wel as third party mondues. \n",
    "Gradual typing is a type system feature that allows a programming language to support both dynamic and static typing. This approach enables developers to start with dynamic typing and gradually add static type annotations as needed. The main advantage of gradual typing is that it provides the flexibility of dynamic typing with the benefits of static type checking, such as early error detection, better code documentation, and improved tooling support.  \n",
    "\n",
    "\n",
    "### Benefits of Gradual Typing\n",
    "Flexibility: Allows you to start with dynamic typing and incrementally add static types, balancing flexibility and safety.\n",
    "Early Error Detection: Static type checking can catch errors early in the development process, reducing runtime errors.\n",
    "Improved Documentation: Type annotations serve as inline documentation, making code easier to understand and maintain.\n",
    "Enhanced Tooling: Better integration with IDEs and tools that support type checking, code completion, and refactoring.\n"
   ]
  },
  {
   "cell_type": "markdown",
   "id": "6b6d1c7c-233a-4e93-8409-2bcd2e3ee360",
   "metadata": {},
   "source": [
    "## Creating custom types \n",
    "Creating custom types in Python can be accomplished through the use of classes, type annotations, and the typing module.   \n",
    "This allows you to define complex data structures and enforce type safety in your code. \n",
    "\n",
    "Specifically we look at the NewType() method\n",
    "\n"
   ]
  },
  {
   "cell_type": "code",
   "execution_count": 1,
   "id": "5d010bde-7629-426e-ae61-fc0c944bfe73",
   "metadata": {},
   "outputs": [],
   "source": [
    "from typing import NewType\n",
    "\n",
    "UserId = NewType('UserId', str)\n",
    "DepartmentId = NewType('DepartmentId', int)\n"
   ]
  },
  {
   "cell_type": "code",
   "execution_count": 8,
   "id": "382fe37e-91c9-43b6-ad07-2c1a28ebb3e6",
   "metadata": {},
   "outputs": [],
   "source": [
    "mock_db = {\n",
    "    'A1': 'Alice',\n",
    "    'B2': 'Bob',\n",
    "    'C3': 'Charlie',\n",
    "    'D4': 'David',\n",
    "    'E5': 'Eve'\n",
    "}\n",
    "departments = ['Main office', 'supply', 'engineering', 'hr']"
   ]
  },
  {
   "cell_type": "code",
   "execution_count": 13,
   "id": "5f19a402-dd35-42fd-934a-a2f1a92d2d3d",
   "metadata": {},
   "outputs": [],
   "source": [
    "def get_user_name(user_id: UserId) -> str:\n",
    "    return mock_db[user_id] if user_id in mock_db.keys() else f'{user_id} User Not Found'\n",
    "\n",
    "def get_department_name(department_id: DepartmentId) -> str:\n",
    "    return departments[department_id] if department_id <= len(departments) else f'{department_id} does not exist'\n",
    "\n",
    "        "
   ]
  },
  {
   "cell_type": "code",
   "execution_count": 14,
   "id": "29edda8e-2ffb-4d6d-b19f-ab25bf92849f",
   "metadata": {},
   "outputs": [
    {
     "name": "stdout",
     "output_type": "stream",
     "text": [
      "Charlie\n",
      "supply\n"
     ]
    }
   ],
   "source": [
    "print(get_user_name('C3'))\n",
    "print(get_department_name(1))"
   ]
  },
  {
   "cell_type": "markdown",
   "id": "837b5844-847d-4173-8af3-358d38b97905",
   "metadata": {},
   "source": [
    "## mypy\n",
    "mypy is a static type checker for Python. It analyzes your Python code to enforce type annotations, catching type-related errors before your code runs. \n",
    "\n",
    "***Static Analysis***  Unlike dynamic analysis (which happens at runtime), mypy performs static analysis. This means it examines the code without executing it, focusing on the structure and types specified by annotations.   \n",
    "\n",
    "***Type Checking*** analyzes Python code and checks if the types of variables, function arguments, and return values match the expected types specified in type annotations.   \n",
    "\n",
    "***Error Detection***: mypy detects type-related errors such as:\n",
    "\n",
    "Type mismatch errors (e.g., passing a str where an int is expected).\n",
    "Missing type annotations where they are expected.\n",
    "Inconsistent type usage across function calls and assignments."
   ]
  },
  {
   "cell_type": "markdown",
   "id": "20b3295e-287f-4d35-afb9-5a79b0591c98",
   "metadata": {},
   "source": [
    "### Union\n",
    "This can be considered a round about way of enforcing typing in python, basically a typre that can be one of multiple types \n"
   ]
  },
  {
   "cell_type": "code",
   "execution_count": 15,
   "id": "9cdf6e8a-39c3-46a2-b103-dde4e32d2055",
   "metadata": {},
   "outputs": [
    {
     "name": "stdout",
     "output_type": "stream",
     "text": [
      "36\n",
      "HelloHello\n"
     ]
    }
   ],
   "source": [
    "from typing import Union\n",
    "\n",
    "def square_or_concatenate(x: Union[int, str]) -> Union[int, str]:\n",
    "    if isinstance(x, int):\n",
    "        return x ** 2\n",
    "    elif isinstance(x, str):\n",
    "        return x + x\n",
    "    else:\n",
    "        raise TypeError(\"Unsupported type\")\n",
    "\n",
    "\n",
    "print(square_or_concatenate(6))  \n",
    "\n",
    "print(square_or_concatenate(\"Hello\"))  "
   ]
  },
  {
   "cell_type": "markdown",
   "id": "2cc6a89f-4097-440c-b2a2-4db36f9f8525",
   "metadata": {},
   "source": [
    "## Type Variables  \n",
    "In Python, a type variable is a concept used in type hinting, which is a way to provide optional annotations about the expected data types for variables and function arguments/returns. It's not a built-in data type itself.   \n",
    "\n",
    "Type Hinting: This is a way to improve code readability and maintainability by specifying the expected data types using comments. It's optional and doesn't enforce types at runtime.   \n",
    "\n",
    "Type Variable: Within type hinting, a type variable acts like a placeholder for an unknown data type. It allows you to define functions or classes that can work with various data types without explicitly listing them all.   \n",
    "\n",
    "Generics: You can create generic functions or classes that can operate on different data types. This promotes code reusability and flexibility.    \n",
    "Generic Stack:\n",
    "\n",
    "A generic stack is a stack implementation that leverages generics. It allows you to create a single stack class that can hold elements of any data type, as opposed to a specific type like integers or strings.    \n",
    "\n"
   ]
  },
  {
   "cell_type": "code",
   "execution_count": 3,
   "id": "1db181d3-bae9-4b17-826f-832225759c2e",
   "metadata": {},
   "outputs": [],
   "source": [
    "from typing import TypeVar\n",
    "\n",
    "T = TypeVar('T')  # Define a type variable named 'T'\n",
    "\n",
    "def identity(value: T) -> T:\n",
    "  \"\"\"function returns the value itself.\"\"\"\n",
    "  return value\n",
    "\n",
    "# Example usage with different data types\n",
    "name: str = \"Alice\"\n",
    "number: int = 42   \n",
    "\n",
    "result = identity(name)  \n",
    "result = identity(number) "
   ]
  },
  {
   "cell_type": "markdown",
   "id": "dcafefb7-db21-4f6a-80f0-cee2d2349974",
   "metadata": {},
   "source": [
    "## And then there was none, \n",
    "simple declaration to avoid being picked up by something like mypy"
   ]
  },
  {
   "cell_type": "markdown",
   "id": "95c06ca7-1948-4001-8d71-5bd5182db339",
   "metadata": {},
   "source": [
    "## Generic stack \n",
    "### Use case\n",
    "Undo/Redo Functionality:\n",
    "\n",
    "Imagine a text editor with undo/redo functionality. You can implement a generic stack to store the editing history (characters inserted, deleted, etc.). Each edit operation can be pushed onto the stack, and the pop operation can be used for undo, retrieving the previous state."
   ]
  },
  {
   "cell_type": "code",
   "execution_count": 5,
   "id": "923b3fcb-8534-4387-a431-bda80fc650b5",
   "metadata": {},
   "outputs": [
    {
     "name": "stdout",
     "output_type": "stream",
     "text": [
      "popping the stack World\n",
      "5\n"
     ]
    }
   ],
   "source": [
    "from typing import TypeVar, Generic\n",
    "\n",
    "T = TypeVar('T') \n",
    "\n",
    "class Stack(Generic[T]):\n",
    "  \"\"\"A generic stack class.\"\"\"\n",
    "  \n",
    "  def __init__(self) -> None:\n",
    "    self._items: list[T] = []  # Internal list to store elements\n",
    "\n",
    "  def push(self, item: T) -> None:\n",
    "    \"\"\"Pushes an element onto the stack.\"\"\"\n",
    "    self._items.append(item)\n",
    "\n",
    "  def pop(self) -> T:\n",
    "    \"\"\"Pops and returns the top element from the stack.\"\"\"\n",
    "    if self.is_empty():\n",
    "      raise IndexError(\"Stack is empty\")\n",
    "    return self._items.pop()\n",
    "\n",
    "  def is_empty(self) -> bool:\n",
    "    \"\"\"Returns True if the stack is empty, False otherwise.\"\"\"\n",
    "    return len(self._items) == 0\n",
    "\n",
    "# Example usage with different data types\n",
    "string_stack = Stack[str]()\n",
    "string_stack.push(\"Hello\")\n",
    "string_stack.push(\"World\")\n",
    "\n",
    "print(f'popping the stack {string_stack.pop()}')  \n",
    "\n",
    "number_stack = Stack[int]()\n",
    "number_stack.push(3)\n",
    "number_stack.push(5)\n",
    "\n",
    "print(number_stack.pop())  # Output: 5"
   ]
  },
  {
   "cell_type": "markdown",
   "id": "df660890-38ea-4388-90f5-294403a295c6",
   "metadata": {},
   "source": [
    "## Using leterals \n",
    "Example of this to increase type safety, pythons own dynamic typing means that it's not something that can be delt with at runtime, but we can pick it up using type checker\n",
    "\n"
   ]
  },
  {
   "cell_type": "code",
   "execution_count": 8,
   "id": "93393a48-0a0b-415c-b090-b93292857147",
   "metadata": {},
   "outputs": [
    {
     "name": "stdout",
     "output_type": "stream",
     "text": [
      "status pending\n",
      "status approved\n",
      "status in_progress\n"
     ]
    }
   ],
   "source": [
    "from typing import Literal\n",
    "\n",
    "status: Literal[\"pending\", \"approved\", \"rejected\"] = \"pending\"\n",
    "print(f\"status {status}\")\n",
    "status = \"approved\"\n",
    "print(f\"status {status}\")\n",
    "status = \"in_progress\"  # mypy would see this as an error\n",
    "print(f\"status {status}\") \n"
   ]
  },
  {
   "cell_type": "markdown",
   "id": "145228ce-6bc4-465f-8db8-cd36f39b33b6",
   "metadata": {},
   "source": [
    "## MonkeyType \n",
    "In essence, the MonkeyType package acts as a tool to improve code quality and maintainability by automatically inferring and incorporating type annotations.   \n",
    "\n",
    "### Benefits of MonkeyType (package):\n",
    "\n",
    "Improved Type Safety: By adding type annotations, MonkeyType helps identify potential type errors during development, making your code more robust.   \n",
    "Enhanced Readability: Type annotations clarify the expected data types for functions and variables, improving code understanding and maintainability.   \n",
    "Integration with Static Type Checkers: The generated type annotations can be used with static type checkers like mypy to catch type errors early in the development process.   "
   ]
  },
  {
   "cell_type": "code",
   "execution_count": 9,
   "id": "ad41b9d1-48f7-4511-959a-2831e8ecf92a",
   "metadata": {},
   "outputs": [
    {
     "name": "stdout",
     "output_type": "stream",
     "text": [
      "Collecting MonkeyType\n",
      "  Downloading MonkeyType-23.3.0-py3-none-any.whl.metadata (12 kB)\n",
      "Collecting mypy-extensions (from MonkeyType)\n",
      "  Downloading mypy_extensions-1.0.0-py3-none-any.whl.metadata (1.1 kB)\n",
      "Collecting libcst>=0.4.4 (from MonkeyType)\n",
      "  Downloading libcst-1.4.0-cp311-cp311-win_amd64.whl.metadata (17 kB)\n",
      "Requirement already satisfied: pyyaml>=5.2 in c:\\users\\phili\\anaconda3\\envs\\development\\lib\\site-packages (from libcst>=0.4.4->MonkeyType) (6.0.1)\n",
      "Downloading MonkeyType-23.3.0-py3-none-any.whl (40 kB)\n",
      "   ---------------------------------------- 0.0/40.9 kB ? eta -:--:--\n",
      "   ---------------------------------------- 40.9/40.9 kB 1.9 MB/s eta 0:00:00\n",
      "Downloading libcst-1.4.0-cp311-cp311-win_amd64.whl (2.0 MB)\n",
      "   ---------------------------------------- 0.0/2.0 MB ? eta -:--:--\n",
      "   ---------------------------------------- 0.0/2.0 MB ? eta -:--:--\n",
      "   ---------------------------------------- 0.0/2.0 MB ? eta -:--:--\n",
      "   ---- ----------------------------------- 0.2/2.0 MB 4.6 MB/s eta 0:00:01\n",
      "   ----------- ---------------------------- 0.6/2.0 MB 5.9 MB/s eta 0:00:01\n",
      "   ------------------- -------------------- 1.0/2.0 MB 6.9 MB/s eta 0:00:01\n",
      "   ------------------------------- -------- 1.6/2.0 MB 9.3 MB/s eta 0:00:01\n",
      "   ---------------------------------------- 2.0/2.0 MB 9.2 MB/s eta 0:00:00\n",
      "Downloading mypy_extensions-1.0.0-py3-none-any.whl (4.7 kB)\n",
      "Installing collected packages: mypy-extensions, libcst, MonkeyType\n",
      "Successfully installed MonkeyType-23.3.0 libcst-1.4.0 mypy-extensions-1.0.0\n"
     ]
    }
   ],
   "source": [
    "!pip install MonkeyType\n"
   ]
  },
  {
   "cell_type": "markdown",
   "id": "09237b69-cfc4-46b7-a8ea-b8244b4b098a",
   "metadata": {},
   "source": [
    "An example would be to run monkeytype from a terminal on a python file , MonkeyType will look at the file and find the functions and generate a stub file appropriately"
   ]
  },
  {
   "cell_type": "code",
   "execution_count": 10,
   "id": "1d5dab44-a5fc-4370-9a59-1cadbb118d28",
   "metadata": {},
   "outputs": [
    {
     "name": "stdout",
     "output_type": "stream",
     "text": [
      "8.2\n"
     ]
    }
   ],
   "source": [
    "#source file \n",
    "def add_numbers(x, y):\n",
    "  \"\"\"Adds two numbers and returns the sum.\"\"\"\n",
    "  return x + y\n",
    "# Calling the function , note two different data types\n",
    "result = add_numbers(5, 3.2)  \n",
    "print(result)  \n"
   ]
  },
  {
   "cell_type": "code",
   "execution_count": 11,
   "id": "82c64214-6d95-47a5-a9f8-5041f68e91cc",
   "metadata": {},
   "outputs": [],
   "source": [
    "#code stub produced by MonkeyType\n",
    "\n",
    "from typing import Union\n",
    "\n",
    "def add_numbers(x: Union[int, float], y: Union[int, float]) -> Union[int, float]:\n",
    "  \"\"\"Adds two numbers and returns the sum.\"\"\"\n",
    "  return x + y\n"
   ]
  },
  {
   "cell_type": "code",
   "execution_count": null,
   "id": "d053f7ca-750e-401c-a9ca-97fb2694e81a",
   "metadata": {},
   "outputs": [],
   "source": []
  }
 ],
 "metadata": {
  "kernelspec": {
   "display_name": "Python 3 (ipykernel)",
   "language": "python",
   "name": "python3"
  },
  "language_info": {
   "codemirror_mode": {
    "name": "ipython",
    "version": 3
   },
   "file_extension": ".py",
   "mimetype": "text/x-python",
   "name": "python",
   "nbconvert_exporter": "python",
   "pygments_lexer": "ipython3",
   "version": "3.11.9"
  }
 },
 "nbformat": 4,
 "nbformat_minor": 5
}
