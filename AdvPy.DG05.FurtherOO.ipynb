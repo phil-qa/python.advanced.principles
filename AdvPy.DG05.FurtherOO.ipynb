{
 "cells": [
  {
   "cell_type": "markdown",
   "id": "69d469b6",
   "metadata": {},
   "source": [
    "## More OO\n",
    "\n",
    "in this section we will cover a number of interesting subjects associated with object orientation. \n",
    "we will revise some points such as decorators we looked at earlier, as well as name mangling in Python as it tries to be all private. We will also get a look at the special built-in operators and the fact that they can be overridden, and looking at the new-style classes. Finally in revising them we will look at how python deals with getters and setters (properties)\n",
    "\n",
    "\n",
    "### Mixins\n",
    "In Python, a mixin is a class that provides a specific functionality that can be inherited by other classes without requiring a full inheritance hierarchy. A mixin is typically used to add or enhance the behavior of a class, without modifying its implementation.So it is not meant to be instantiated on its own, but instead, it is meant to be subclassed by other classes. which then gains the functionality provided by the mixin, as if the methods and attributes of the mixin were defined in the class itself.\n",
    "\n",
    "\n",
    "additionally we will mention delegation which, unlike other languages, has no keyword. It's a popular OO pattern allonwing objects to call other objects at runtime. \n",
    "\n",
    "### slots\n",
    "We will mention slots, as a new thing, it's a manual method of developing a class dictionary and it looks like a neat way of hiding things, but it has problems, the key word there being manual.\n",
    "\n",
    "### Inheritance introspection\n",
    "This is a preferred way of finding out if an object or class belongs to a particular class, we have already seen this though, isinstance() and issubclass() \n",
    "\n",
    "\n",
    "## context managers\n",
    "we will look at  context managers, that can initialise and destroy objects within a context, it provides a more stable approach than something like '\\__del__'\n"
   ]
  },
  {
   "cell_type": "markdown",
   "id": "24060dcb",
   "metadata": {},
   "source": [
    "# classes derive from object\n",
    "Python Classes/Objects\n",
    "Python is an object oriented programming language.\n",
    "\n",
    "Almost everything in Python is an object, with its properties and methods. The New-Style classes derive from some built-in base class, which derive from object.\n",
    "\n",
    "In python 3 all classes that are not derived from object are removed\n",
    "\n",
    "\n"
   ]
  },
  {
   "cell_type": "code",
   "execution_count": 19,
   "id": "34fcc01c",
   "metadata": {},
   "outputs": [],
   "source": [
    "class BankAccount(object): #Note that object does not need to be there its implied\n",
    "    def __init__(self, account_name, account_number):\n",
    "        self.account_name = account_name\n",
    "        self.account_number = account_number\n",
    "        self.balance = 0\n",
    "\n",
    "    def deposit(self, amount):\n",
    "        self.balance += amount\n",
    "\n",
    "    def withdraw(self, amount):\n",
    "        self.balance -= amount\n",
    "\n",
    "    def get_balance(self):\n",
    "        return  self.balance"
   ]
  },
  {
   "cell_type": "markdown",
   "id": "87f5fa31",
   "metadata": {},
   "source": [
    "### modifying the above\n",
    "Clearly that last class shouldnt have account and account number as something that can be modified in a public context, so we can modify it a little using property and setter decorations"
   ]
  },
  {
   "cell_type": "code",
   "execution_count": 9,
   "id": "22665f83",
   "metadata": {},
   "outputs": [
    {
     "name": "stdout",
     "output_type": "stream",
     "text": [
      "account name Phil Bridge, account number 1234546 has balance £0, and interest 0.0%\n",
      "10\n",
      "account name Phil Bridge, account number 1234546 has balance £1000, and interest 10%\n"
     ]
    }
   ],
   "source": [
    "my_account = BankAccount(account_name='Phil Bridge', account_number=1234546)\n",
    "print(my_account)\n",
    "\n",
    "my_account.deposit(1000)\n",
    "\n",
    "my_account.interest = 10\n",
    "\n",
    "print(my_account.interest)\n",
    "\n",
    "print(my_account)"
   ]
  },
  {
   "cell_type": "markdown",
   "id": "20fea214",
   "metadata": {},
   "source": [
    "# Name Mangling\n",
    "Conventions with underscores - reminder\n",
    "- Names beginning with one underscore are private to\n",
    "a module\n",
    "- Names beginning with two underscores are private to\n",
    "a class\n",
    "- Names surrounded by two underscores have a special\n",
    "meaning\n",
    "The double under-score prefix for private variables is a\n",
    "form of name mangling\n",
    "The real name is prefixed with the class name:\n",
    "- \\__var in class Stuff becomes \\_Stuff__var\n",
    "This name mangling\n"
   ]
  },
  {
   "cell_type": "code",
   "execution_count": 10,
   "id": "7ab4430c",
   "metadata": {},
   "outputs": [],
   "source": [
    "class my_class:\n",
    "    def __init__(self):\n",
    "        self.a_value = 0\n",
    "        self.another_value = 0\n",
    "    \n",
    "    def add(self,number_1, number_2):\n",
    "        return number_1 + number_2\n",
    "    \n",
    "    def _sum(self, number_1, number_2):\n",
    "        return number_1 * number_2\n",
    "    \n",
    "    def __another_sum(self, number_1, number_2):\n",
    "        return number_1 * number_2"
   ]
  },
  {
   "cell_type": "code",
   "execution_count": 11,
   "id": "f783cc6d",
   "metadata": {
    "scrolled": true
   },
   "outputs": [
    {
     "data": {
      "text/plain": [
       "['__class__',\n",
       " '__delattr__',\n",
       " '__dict__',\n",
       " '__dir__',\n",
       " '__doc__',\n",
       " '__eq__',\n",
       " '__format__',\n",
       " '__ge__',\n",
       " '__getattribute__',\n",
       " '__getstate__',\n",
       " '__gt__',\n",
       " '__hash__',\n",
       " '__init__',\n",
       " '__init_subclass__',\n",
       " '__le__',\n",
       " '__lt__',\n",
       " '__module__',\n",
       " '__ne__',\n",
       " '__new__',\n",
       " '__reduce__',\n",
       " '__reduce_ex__',\n",
       " '__repr__',\n",
       " '__setattr__',\n",
       " '__sizeof__',\n",
       " '__str__',\n",
       " '__subclasshook__',\n",
       " '__weakref__',\n",
       " '_my_class__another_sum',\n",
       " '_sum',\n",
       " 'add']"
      ]
     },
     "execution_count": 11,
     "metadata": {},
     "output_type": "execute_result"
    }
   ],
   "source": [
    "dir(my_class)"
   ]
  },
  {
   "cell_type": "markdown",
   "id": "0166ead7",
   "metadata": {},
   "source": [
    "## Revision\n",
    "\n",
    "### Class Method\n",
    "A class method is bound to a class rather than its instance so no necessity to create a class instance. This is much similar to the static method.\n",
    "The parameters of the Class method is predominantly the class itself and hence it associates with it. Therefore class methods operate at a global class level\n",
    "\n",
    "It’s important to note that you can access a class method using either the class or a concrete instance of the class at hand\n",
    "\n",
    "Unlike regular methods, class methods don’t take the current instance, self, as an argument. Instead, they take the class itself, which is commonly passed in as the cls argument. Using cls to name this argument is a popular convention in the Python community."
   ]
  },
  {
   "cell_type": "code",
   "execution_count": 36,
   "id": "71973df1",
   "metadata": {},
   "outputs": [
    {
     "name": "stdout",
     "output_type": "stream",
     "text": [
      "Name: John Doe, Position: Manager, Salary: $75000\n",
      "Name: Jane Smith, Position: Developer, Salary: $65000\n",
      "Name: Emily Davis, Position: Designer, Salary: $70000\n",
      "Total number of employees: 3\n"
     ]
    }
   ],
   "source": [
    "class Employee:\n",
    "    employee_count = 0  # Class attribute to keep track of the number of employees\n",
    "\n",
    "    def __init__(self, name, position, salary):\n",
    "        self.name = name\n",
    "        self.position = position\n",
    "        self.salary = salary\n",
    "        Employee.employee_count += 1\n",
    "\n",
    "    @classmethod\n",
    "    def from_string(cls, employee_string):\n",
    "        name, position, salary = employee_string.split(',')\n",
    "        return cls(name, position, int(salary))\n",
    "\n",
    "    @classmethod\n",
    "    def get_employee_count(cls):\n",
    "        return cls.employee_count\n",
    "\n",
    "    def display_employee(self):\n",
    "        print(f\"Name: {self.name}, Position: {self.position}, Salary: ${self.salary}\")\n",
    "\n",
    "# Creating employees using the class method\n",
    "emp1 = Employee.from_string(\"John Doe,Manager,75000\")\n",
    "emp2 = Employee.from_string(\"Jane Smith,Developer,65000\")\n",
    "emp3 = Employee.from_string(\"Emily Davis,Designer,70000\")\n",
    "\n",
    "# Displaying employee details\n",
    "emp1.display_employee()\n",
    "emp2.display_employee()\n",
    "emp3.display_employee()\n",
    "\n",
    "# Getting the count of employees using the class method\n",
    "print(f\"Total number of employees: {Employee.get_employee_count()}\")\n"
   ]
  },
  {
   "cell_type": "markdown",
   "id": "2f02a8e6",
   "metadata": {},
   "source": [
    "# built-in operators\n",
    "As they say the calls to these exercise the appropriate special function, this can be overridden, __str__ being the common one\n",
    "\n",
    "The following is an example of overloading "
   ]
  },
  {
   "cell_type": "code",
   "execution_count": 12,
   "id": "23b94fb2",
   "metadata": {},
   "outputs": [
    {
     "name": "stdout",
     "output_type": "stream",
     "text": [
      "<__main__.my_class object at 0x00000219BC052C50>\n",
      "This has just been added\n"
     ]
    }
   ],
   "source": [
    "a_new_class = my_class()\n",
    "\n",
    "print(a_new_class)\n",
    "\n",
    "class my_class:\n",
    "    def __init__(self):\n",
    "        self.a_value = 0\n",
    "        self.another_value = 0\n",
    "    \n",
    "    def add(self,number_1, number_2):\n",
    "        return number_1 + number_2\n",
    "    \n",
    "    def _sum(self, number_1, number_2):\n",
    "        return number_1 * number_2\n",
    "    \n",
    "    def __another_sum(self, number_1, number_2):\n",
    "        return number_1 * number_2\n",
    "    \n",
    "    def __str__(self):\n",
    "        return(\"This has just been added\")\n",
    "    \n",
    "\n",
    "a_new_class = my_class()\n",
    "\n",
    "print(a_new_class)"
   ]
  },
  {
   "cell_type": "markdown",
   "id": "4813a4db-2436-460a-9a02-9cea6279ca74",
   "metadata": {},
   "source": [
    "## Iterable container\n",
    "As we saw earlier generators can yield values as lazy list, a class operating in this context can supply more complex objects \n",
    "In the following example, three classes are used to demonstrate this.   \n",
    "Note that the ProductIterator contains activities in `__iter__` and `__next__`"
   ]
  },
  {
   "cell_type": "code",
   "execution_count": null,
   "id": "c33126dc-2534-4ca6-80e9-023c480ffce6",
   "metadata": {},
   "outputs": [],
   "source": [
    "class Product:\n",
    "    '''\n",
    "    simple class for a product\n",
    "    '''\n",
    "    def __init__(self, name, price):\n",
    "        self.name = name\n",
    "        self.price = price\n",
    "\n",
    "    def __repr__(self):\n",
    "        return f\"Product(name={self.name}, price={self.price})\"\n",
    "\n",
    "class ProductContainer:\n",
    "    ''' class that contains multiple products'''\n",
    "    def __init__(self):\n",
    "        self.products = []\n",
    "\n",
    "    def add_product(self, product):\n",
    "        self.products.append(product)\n",
    "\n",
    "    def __iter__(self):\n",
    "        return ProductIterator(self.products)\n",
    "\n",
    "class ProductIterator:\n",
    "    ''class for iterating over the product list '''\n",
    "    def __init__(self, products):\n",
    "        self._products = products\n",
    "        self._index = 0\n",
    "\n",
    "    def __iter__(self):\n",
    "        return self\n",
    "\n",
    "    def __next__(self):\n",
    "        if self._index < len(self._products):\n",
    "            result = self._products[self._index]\n",
    "            self._index += 1\n",
    "            return result\n",
    "        else:\n",
    "            raise StopIteration\n",
    "\n",
    "# Example usage\n",
    "product1 = Product(\"Apple\", 1.20)\n",
    "product2 = Product(\"Banana\", 0.80)\n",
    "product3 = Product(\"Cherry\", 1.20)\n",
    "\n",
    "container = ProductContainer()\n",
    "container.add_product(product1)\n",
    "container.add_product(product2)\n",
    "container.add_product(product3)\n",
    "\n",
    "for product in container:\n",
    "    print(product)\n"
   ]
  },
  {
   "cell_type": "code",
   "execution_count": null,
   "id": "04e53e20-d8f4-4a33-9e29-ef8b59e178f1",
   "metadata": {},
   "outputs": [],
   "source": []
  },
  {
   "cell_type": "markdown",
   "id": "52e65fbc-4a7f-40a4-8d1b-985873289c5e",
   "metadata": {},
   "source": [
    "## Overloading\n",
    "@functools has some options that can assist with this , the example is total_ordering \n",
    "Imagine you want to create a class called Product that represents products in a store. You want to be able to sort products by different criteria, like name or price.  \n",
    "\n",
    "Without total_ordering:\n",
    "\n",
    "You would need to define all the comparison methods (__eq__, __ne__, __lt__, __le__, __gt__, __ge__) explicitly in the class.  \n",
    "\n"
   ]
  },
  {
   "cell_type": "code",
   "execution_count": 7,
   "id": "da067fad-9408-4e9b-9fe2-438f03c138ed",
   "metadata": {},
   "outputs": [
    {
     "name": "stdout",
     "output_type": "stream",
     "text": [
      "Product(name=Banana, price=0.8)\n",
      "Product(name=Apple, price=1.2)\n",
      "Product(name=Cherry, price=1.2)\n",
      "Product(name=Date, price=1.5)\n"
     ]
    }
   ],
   "source": [
    "from functools import total_ordering\n",
    "\n",
    "@total_ordering\n",
    "class Product:\n",
    "    def __init__(self, name, price):\n",
    "        self.name = name\n",
    "        self.price = price\n",
    "\n",
    "    def __eq__(self, other):\n",
    "        if not isinstance(other, Product):\n",
    "            return NotImplemented\n",
    "        return self.name == other.name and self.price == other.price\n",
    "\n",
    "    def __lt__(self, other):\n",
    "        if not isinstance(other, Product):\n",
    "            return NotImplemented\n",
    "        # Define comparison logic here, for example, comparing by price first, then by name\n",
    "        return (self.price, self.name) < (other.price, other.name)\n",
    "\n",
    "    def __repr__(self):\n",
    "        return f\"Product(name={self.name}, price={self.price})\"\n",
    "\n",
    "# Example usage\n",
    "product1 = Product(\"Apple\", 1.20)\n",
    "product2 = Product(\"Banana\", 0.80)\n",
    "product3 = Product(\"Cherry\", 1.20)\n",
    "product4 = Product(\"Date\", 1.50)\n",
    "\n",
    "products = [product1, product2, product3, product4]\n",
    "sorted_products = sorted(products)\n",
    "\n",
    "for product in sorted_products:\n",
    "    print(product)\n",
    "\n"
   ]
  },
  {
   "cell_type": "markdown",
   "id": "ad9dd7a1-1ab7-4d49-8b50-0c574eb76415",
   "metadata": {},
   "source": [
    "### __slots__\n",
    "as per the slide, The key here is manual \n",
    "__slots__ look like a neat data hiding trick on the face of it, but it\n",
    "was never designed as a safety feature. It is an optimisation\n",
    "feature which does away with the __dict__ dictionary.\n",
    "It has a number of disadvantages. First, it has to be constructed\n",
    "and maintained 'manually‘. Second, inherited classes must use it\n",
    "as well, otherwise they might be slower. Thirdly, it breaks some\n",
    "introspection code."
   ]
  },
  {
   "cell_type": "code",
   "execution_count": 39,
   "id": "c106c557-6a35-4f92-81dc-5c6d095746c7",
   "metadata": {},
   "outputs": [
    {
     "name": "stdout",
     "output_type": "stream",
     "text": [
      "Frank\n",
      "12\n",
      "'Cat' object has no attribute 'address'\n"
     ]
    }
   ],
   "source": [
    "class Cat:\n",
    "    __slots__ = ['name', 'age']\n",
    "\n",
    "    def __init__(self, name, age):\n",
    "        self.name = name\n",
    "        self.age = age\n",
    "\n",
    "# Creating instances of the class\n",
    "cats=[]\n",
    "cats.append(Cat(\"Frank\", 9))\n",
    "cats.append(Cat(\"Jess\", 12))\n",
    "\n",
    "print(cats[0].name)  \n",
    "print(cats[1].age)   \n",
    "\n",
    "# observe what happens if we thy to add an attribute that is not it __slots__\n",
    "try:\n",
    "    cats[0].address = \"123 Main St\"\n",
    "except AttributeError as e:\n",
    "    print(e)  \n"
   ]
  },
  {
   "cell_type": "markdown",
   "id": "546638f3-842e-448a-bfc8-757bd8a483ea",
   "metadata": {},
   "source": [
    "## Properties\n",
    "Properties allow us to implement class member methods that allow for encapsulation using the `@property` decorator \n",
    "Reflecting on the original bank account class we can apply them to that class. "
   ]
  },
  {
   "cell_type": "code",
   "execution_count": 13,
   "id": "ee8f23d4",
   "metadata": {},
   "outputs": [],
   "source": [
    "class BankAccount(object): #Note that object does not need to be there its implied\n",
    "    def __init__(self, account_name, account_number):\n",
    "        self._account_name = account_name\n",
    "        self._account_number = account_number\n",
    "        self._interest = 0.0\n",
    "        self._balance = 0\n",
    "\n",
    "            \n",
    "    def deposit(self, amount):\n",
    "        self._balance += amount\n",
    "\n",
    "    def withdraw(self, amount):\n",
    "        self._balance -= amount\n",
    "\n",
    "    def get_balance(self):\n",
    "        return  self._balance\n",
    "    \n",
    "    @property\n",
    "    def get_account_name(self):\n",
    "        return self._account_name\n",
    "    \n",
    "    @property\n",
    "    def get_account_number(self): \n",
    "        return self._account_number\n",
    "    \n",
    "    @property\n",
    "    def interest(self):\n",
    "        return self._interest\n",
    "    \n",
    "    @interest.setter\n",
    "    def interest(self, value): \n",
    "        self._interest = value\n",
    "    \n",
    "    def __str__(self):\n",
    "        return f\"account name {self._account_name}, account number {self._account_number} has balance £{self._balance}, and interest {self._interest}%\"\n",
    "    \n",
    "\n",
    "    \n",
    "    "
   ]
  },
  {
   "cell_type": "markdown",
   "id": "1dcd9207-824b-459e-adc4-a9f1a5fb22d3",
   "metadata": {},
   "source": [
    "### Duck typing\n",
    "A foundation concept of Object Orientation is that messages are\n",
    "sent to objects requesting actions. We should not need to check\n",
    "the class of the object, only that it can carry out the action\n",
    "requested. That principle has been lost with many OO languages,\n",
    "particularly static ones. Even those that fully support\n",
    "polymorphism, the practice is often to test the class rather than\n",
    "the behaviour.\n",
    "Python, and most dynamic languages, allows the programmer to\n",
    "check if behaviour exists. This is called Duck Typing: we don't care\n",
    "what kind of thing it is, if it quacks that's good enough. It could be\n",
    "some kind of duck mimic, who cares?\n",
    "This is why type is deprecated."
   ]
  },
  {
   "cell_type": "markdown",
   "id": "321afcdb-85ce-4417-9ae0-b5cc3ac8d2ce",
   "metadata": {},
   "source": [
    "## GetAttr , HsAttr, and SetAttr\n",
    "### getattr, hasattr and setattr\n",
    "In Python, getattr and hasattr are built-in functions used for attribute management in objects. They allow you to dynamically access or check for the presence of attributes. These call the special methods under the hood `__getattr__()` `__setattr()__ ` \n"
   ]
  },
  {
   "cell_type": "code",
   "execution_count": 15,
   "id": "985b14e0-7266-4193-adf1-c68bccef6c6d",
   "metadata": {},
   "outputs": [
    {
     "name": "stdout",
     "output_type": "stream",
     "text": [
      "100\n"
     ]
    }
   ],
   "source": [
    "#example \n",
    "bank_account = BankAccount('phil bridge', 1234567)\n",
    "bank_account.deposit(100)\n",
    "if hasattr(bank_account, '_balance'):\n",
    "    balance = getattr(bank_account, '_balance')\n",
    "else: \n",
    "    balance = 0\n",
    "print(balance)"
   ]
  },
  {
   "cell_type": "code",
   "execution_count": 16,
   "id": "13487283",
   "metadata": {},
   "outputs": [],
   "source": [
    "#example set attribute\n",
    "class SetStruct:\n",
    "    _fields = []\n",
    "\n",
    "    def __init__(self, *args):\n",
    "        '''constructor takes variable args and sets an attribute name and value for each'''\n",
    "        for attr_name, attr_val in zip(self._fields, args):\n",
    "            setattr(self, attr_name, attr_val)\n",
    "\n",
    "    def __str__(self):\n",
    "        '''overload __str__ to report on any set attributes'''\n",
    "        lstr = []\n",
    "        for attr_name in self._fields:\n",
    "            lstr.append(str(getattr(self, attr_name, '')))\n",
    "        return ', '.join(lstr)\n",
    "\n",
    "\n",
    "class File(SetStruct):\n",
    "    _fields = ['filename', 'size', 'owner']\n",
    "\n",
    "\n",
    "class Person(SetStruct):\n",
    "    _fields = ['name', 'address', 'dob']"
   ]
  },
  {
   "cell_type": "code",
   "execution_count": 18,
   "id": "73fe1870",
   "metadata": {},
   "outputs": [
    {
     "data": {
      "text/plain": [
       "['__class__',\n",
       " '__delattr__',\n",
       " '__dict__',\n",
       " '__dir__',\n",
       " '__doc__',\n",
       " '__eq__',\n",
       " '__format__',\n",
       " '__ge__',\n",
       " '__getattribute__',\n",
       " '__getstate__',\n",
       " '__gt__',\n",
       " '__hash__',\n",
       " '__init__',\n",
       " '__init_subclass__',\n",
       " '__le__',\n",
       " '__lt__',\n",
       " '__module__',\n",
       " '__ne__',\n",
       " '__new__',\n",
       " '__reduce__',\n",
       " '__reduce_ex__',\n",
       " '__repr__',\n",
       " '__setattr__',\n",
       " '__sizeof__',\n",
       " '__str__',\n",
       " '__subclasshook__',\n",
       " '__weakref__',\n",
       " '_fields',\n",
       " 'address',\n",
       " 'dob',\n",
       " 'name']"
      ]
     },
     "execution_count": 18,
     "metadata": {},
     "output_type": "execute_result"
    }
   ],
   "source": [
    "p1 = Person('Fred Bloggs', '4 Railway Road', '12/12/1990')\n",
    "dir(p1)"
   ]
  },
  {
   "cell_type": "markdown",
   "id": "b6d656f8-4178-46c1-86bb-92c07435ecba",
   "metadata": {},
   "source": [
    "## Inheritance example \n",
    "The following is an example of inheritance where an employee is a derived class or person "
   ]
  },
  {
   "cell_type": "code",
   "execution_count": 19,
   "id": "71646b37",
   "metadata": {},
   "outputs": [],
   "source": [
    "class Person:\n",
    "    def __init__(self, name):\n",
    "        self.name = name"
   ]
  },
  {
   "cell_type": "code",
   "execution_count": 20,
   "id": "bc7ac0d1",
   "metadata": {},
   "outputs": [],
   "source": [
    "# define employee that inherits from the Person class\n",
    "class Employee(Person):\n",
    "    def __init__(self, name, skills, dependents):\n",
    "        super().__init__(name)\n",
    "        self.skills = skills\n",
    "        self.dependents = dependents"
   ]
  },
  {
   "cell_type": "code",
   "execution_count": 22,
   "id": "13e2d8f9",
   "metadata": {},
   "outputs": [
    {
     "name": "stdout",
     "output_type": "stream",
     "text": [
      "John\n"
     ]
    }
   ],
   "source": [
    "# create an instance\n",
    "employee = Employee(\n",
    "    name='John',\n",
    "    skills=['Python Programming','Project Management'],\n",
    "    dependents={'wife': 'Jane', 'children': ['Alice', 'Bob']})\n",
    "\n",
    "print(employee.name)"
   ]
  },
  {
   "cell_type": "markdown",
   "id": "08d5a8c0-980f-4e03-b2ef-cffa48f03123",
   "metadata": {},
   "source": [
    "## Inheriting from standard library classes\n",
    "The following creates a Point object which is a named tuple, and then adds funtionality to it. Note that in this case we use slots() to prevent the creation of instance dictionaries. In this way we can extend the functionality and retain the immutability"
   ]
  },
  {
   "cell_type": "code",
   "execution_count": 23,
   "id": "009fe72a-ee52-46f0-9ad7-209d376e8668",
   "metadata": {},
   "outputs": [
    {
     "name": "stdout",
     "output_type": "stream",
     "text": [
      "ExtendedPoint(x=3, y=4)\n",
      "Distance from origin: 5.0\n",
      "ExtendedPoint(x=4, y=6)\n"
     ]
    }
   ],
   "source": [
    "from collections import namedtuple\n",
    "import math\n",
    "\n",
    "# Define the basic namedtuple\n",
    "Point = namedtuple('Point', ['x', 'y'])\n",
    "\n",
    "# Extend the namedtuple with additional methods\n",
    "class ExtendedPoint(Point):\n",
    "    __slots__ = ()  # This helps to prevent the creation of instance dictionaries\n",
    "\n",
    "    def distance_from_origin(self):\n",
    "        return math.sqrt(self.x**2 + self.y**2)\n",
    "\n",
    "    def __add__(self, other):\n",
    "        if not isinstance(other, Point):\n",
    "            return NotImplemented\n",
    "        return ExtendedPoint(self.x + other.x, self.y + other.y)\n",
    "\n",
    "    def __repr__(self):\n",
    "        return f\"ExtendedPoint(x={self.x}, y={self.y})\"\n",
    "\n",
    "# Example usage\n",
    "p1 = ExtendedPoint(3, 4)\n",
    "p2 = ExtendedPoint(1, 2)\n",
    "\n",
    "print(p1)  \n",
    "print(f\"Distance from origin: {p1.distance_from_origin()}\")  # Output: 5.0\n",
    "p3 = p1 + p2\n",
    "print(p3)  "
   ]
  },
  {
   "cell_type": "markdown",
   "id": "a441a28e",
   "metadata": {},
   "source": [
    "## Mixins\n",
    "What is a mixin in Python,\n",
    "\n",
    "A mixin is a class that provides method implementations for reuse by multiple related child classes. However, the inheritance does not imply a is-a relationship.\n",
    "\n",
    "Mixins are used where we want to:  \n",
    "Optionally add functionality to a class  \n",
    "Add functionality to many classes  \n",
    "This can be achieved (in Python) using multiple inheritance  \n",
    "We would not normally instantiate directly from a Mixin class as a mixin doesn’t define a new type. Therefore, it is not intended for instantiation.\n",
    "Not always the best solution, consider composition instead  \n",
    "\n",
    "Mixins and composition are both techniques used in object-oriented programming to share functionality between classes, but they achieve this in different ways. Understanding the distinction between the two is crucial for designing flexible and maintainable code.\n",
    "  \n",
    "Mixins\n",
    "A mixin is a class that provides methods to other classes through inheritance but is not intended to stand on its own. Mixins are used to \"mix in\" additional functionality into a class, without forming a true \"is-a\" relationship.\n",
    "\n",
    "Characteristics of Mixins:   \n",
    "   \n",
    "Purpose: To add reusable methods to one or more classes.   \n",
    "Inheritance: Used via multiple inheritance.   \n",
    "No Instance: Not intended to be instantiated on its own.   \n",
    "Orthogonal: Provides methods that can be orthogonal (unrelated) to the main class’s purpose.   \n",
    "\n"
   ]
  },
  {
   "cell_type": "code",
   "execution_count": 42,
   "id": "d24b0634-7725-42b5-9b36-0323d6e647f2",
   "metadata": {},
   "outputs": [
    {
     "name": "stdout",
     "output_type": "stream",
     "text": [
      "Sending email to billy@billieshouse.com: Subject\n",
      "Hi billy\n",
      "[LOG]: Email sent successfully\n"
     ]
    }
   ],
   "source": [
    "#Example of mixin code \n",
    "class LoggableMixin:\n",
    "    def log(self, message):\n",
    "        print(f\"[LOG]: {message}\")\n",
    "\n",
    "class EmailSender:\n",
    "    def send_email(self, to, subject, body):\n",
    "        print(f\"Sending email to {to}: {subject}\\n{body}\")\n",
    "\n",
    "class LoggableEmailSender(EmailSender, LoggableMixin):\n",
    "    pass\n",
    "\n",
    "emailer = LoggableEmailSender()\n",
    "emailer.send_email(\"billy@billieshouse.com\", \"Subject\", \"Hi billy\")\n",
    "emailer.log(\"Email sent successfully\")\n"
   ]
  },
  {
   "cell_type": "markdown",
   "id": "55822fec-36f1-4312-b5b0-47affb3f1b31",
   "metadata": {},
   "source": [
    "# Composition\n",
    "Composition involves building complex objects by combining simpler ones. Instead of inheriting methods from a parent class, a class includes objects of other classes as attributes and delegates work to those object.   \n",
    "\n",
    "Characteristics of Composition:   \n",
    "\n",
    "Purpose: To build complex functionality by composing objects.   \n",
    "Containment: Uses object attributes to include instances of other classes.   \n",
    "Instance Creation: The composed class creates instances of the other classes.   \n",
    "Explicit Delegation: Explicitly calls methods on the included objects.   "
   ]
  },
  {
   "cell_type": "code",
   "execution_count": 43,
   "id": "3dd39b17-77b3-49c2-8046-60d2edf3deb3",
   "metadata": {},
   "outputs": [
    {
     "name": "stdout",
     "output_type": "stream",
     "text": [
      "Sending email to billy@billieshouse.com: Subject\n",
      "Hi billy\n",
      "[LOG]: Email sent successfully\n"
     ]
    }
   ],
   "source": [
    "# example of composition the yucky way\n",
    "class Logger:\n",
    "    def log(self, message):\n",
    "        print(f\"[LOG]: {message}\")\n",
    "\n",
    "class EmailSender:\n",
    "    def send_email(self, to, subject, body):\n",
    "        print(f\"Sending email to {to}: {subject}\\n{body}\")\n",
    "\n",
    "class LoggableEmailSender:\n",
    "    def __init__(self):\n",
    "        self.logger = Logger()\n",
    "        self.email_sender = EmailSender()\n",
    "\n",
    "    def send_email(self, to, subject, body):\n",
    "        self.email_sender.send_email(to, subject, body)\n",
    "        self.logger.log(\"Email sent successfully\")\n",
    "\n",
    "emailer = LoggableEmailSender()\n",
    "emailer.send_email(\"billy@billieshouse.com\", \"Subject\", \"Hi billy\")\n"
   ]
  },
  {
   "cell_type": "code",
   "execution_count": 44,
   "id": "65b72e50-33da-4904-9d9f-e4753a032190",
   "metadata": {},
   "outputs": [
    {
     "name": "stdout",
     "output_type": "stream",
     "text": [
      "Sending email to billy@billieshouse.com: Subject\n",
      "Hi billy\n",
      "[LOG]: Email sent successfully\n"
     ]
    }
   ],
   "source": [
    "# same thing but with lovely dependency injection \n",
    "class Logger:\n",
    "    def log(self, message):\n",
    "        print(f\"[LOG]: {message}\")\n",
    "\n",
    "class EmailSender:\n",
    "    def send_email(self, to, subject, body):\n",
    "        print(f\"Sending email to {to}: {subject}\\n{body}\")\n",
    "\n",
    "class LoggableEmailSender:\n",
    "    def __init__(self, email_sender, logger):\n",
    "        self.email_sender = email_sender\n",
    "        self.logger = logger\n",
    "\n",
    "    def send_email(self, to, subject, body):\n",
    "        self.email_sender.send_email(to, subject, body)\n",
    "        self.logger.log(\"Email sent successfully\")\n",
    "\n",
    "# Dependency injection in action\n",
    "logger = Logger()\n",
    "email_sender = EmailSender()\n",
    "loggable_email_sender = LoggableEmailSender(email_sender, logger)\n",
    "\n",
    "loggable_email_sender.send_email(\"billy@billieshouse.com\", \"Subject\", \"Hi billy\")\n"
   ]
  },
  {
   "cell_type": "markdown",
   "id": "f6354fd0",
   "metadata": {},
   "source": [
    "The DictMixin class has the to_dict() method that converts an object to a dictionary.\n",
    "\n",
    "The _traverse_dict() method iterates the object’s attributes and assigns the key and value to the result.\n",
    "\n",
    "The attribute of an object may be a list, a dictionary, or an object with the `__dict__` attribute. Therefore, the `_traverse_dict()` method uses the _traverse() method to convert the attribute to value.\n",
    "\n",
    "To convert instances of the Employee class to dictionaries, the Employee needs to inherit from both DictMixin and Person classes:"
   ]
  },
  {
   "cell_type": "code",
   "execution_count": 27,
   "id": "c673553a",
   "metadata": {},
   "outputs": [],
   "source": [
    "class DictMixin:\n",
    "    def to_dict(self):\n",
    "        return self._traverse_dict(self.__dict__)\n",
    "\n",
    "    def _traverse_dict(self, attributes: dict) -> dict:\n",
    "        result = {}\n",
    "        for key, value in attributes.items():\n",
    "            result[key] = self._traverse(key, value)\n",
    "\n",
    "        return result\n",
    "\n",
    "    def _traverse(self, key, value):\n",
    "        if isinstance(value, DictMixin):\n",
    "            return value.to_dict()\n",
    "        elif isinstance(value, dict):\n",
    "            return self._traverse_dict(value)\n",
    "        elif isinstance(value, list):\n",
    "            return [self._traverse(key, v) for v in value]\n",
    "        elif hasattr(value, '__dict__'):\n",
    "            return self._traverse_dict(value.__dict__)\n",
    "        else:\n",
    "            return value"
   ]
  },
  {
   "cell_type": "markdown",
   "id": "111e2ba8-238a-495c-a692-c0bc4aa1f1a3",
   "metadata": {},
   "source": [
    "## Alternative to DictMixin \n",
    "DictMixin has been deprecated , completely removed 3.10 Componsition is preferred, or Direct inheritance. the following example shows an example of a read only dictionary. It uses Mapping from abc to provide the structure   \n",
    "\n",
    "Mapping is an abstract base class provided by the collections.abc module in Python. It defines the core interface for all mapping types, such as dictionaries. By inheriting from Mapping, a class can be made to behave like a read-only dictionary.\n"
   ]
  },
  {
   "cell_type": "code",
   "execution_count": 29,
   "id": "d76bf11c-1bb8-48ff-ab87-2e814f79772b",
   "metadata": {},
   "outputs": [
    {
     "name": "stdout",
     "output_type": "stream",
     "text": [
      "ReadOnlyDict({'a': 'harry', 'b': 'felicity', 'c': 'clarie'})\n",
      "harry\n",
      "'ReadOnlyDict' object does not support item assignment\n"
     ]
    }
   ],
   "source": [
    "from collections.abc import Mapping\n",
    "\n",
    "class ReadOnlyDict(Mapping):\n",
    "    def __init__(self, *args, **kwargs):\n",
    "        self.store = dict(*args, **kwargs)\n",
    "\n",
    "    def __getitem__(self, key):\n",
    "        return self.store[key]\n",
    "\n",
    "    def __iter__(self):\n",
    "        return iter(self.store)\n",
    "\n",
    "    def __len__(self):\n",
    "        return len(self.store)\n",
    "\n",
    "    def __repr__(self):\n",
    "        return f\"{self.__class__.__name__}({self.store})\"\n",
    "\n",
    "# Example usage\n",
    "read_only_dict = ReadOnlyDict(a='harry', b='felicity', c='clarie')\n",
    "\n",
    "\n",
    "print(read_only_dict)          \n",
    "print(read_only_dict['a'])      \n",
    "try:\n",
    "    read_only_dict['d'] = 'barry'    \n",
    "except TypeError as e:\n",
    "    print(e)                  \n"
   ]
  },
  {
   "cell_type": "markdown",
   "id": "580c6669-0597-44c1-bb96-61e0de450a37",
   "metadata": {},
   "source": [
    "## Metaclass\n",
    "Given that a class is a blueprint for creating objects, and a metaclass is a blueprint for creating classes. Remember that the default metaclass in python is type. the following is an example of using metaclass to implement the singleton pattern "
   ]
  },
  {
   "cell_type": "code",
   "execution_count": 30,
   "id": "a0c10a2a-c7b7-4116-9d62-fba1e630ee11",
   "metadata": {},
   "outputs": [
    {
     "name": "stdout",
     "output_type": "stream",
     "text": [
      "True\n",
      "1\n",
      "1\n"
     ]
    }
   ],
   "source": [
    "class SingletonMeta(type):\n",
    "    _instances = {}\n",
    "\n",
    "    def __call__(cls, *args, **kwargs):\n",
    "        if cls not in cls._instances:\n",
    "            cls._instances[cls] = super().__call__(*args, **kwargs)\n",
    "        return cls._instances[cls]\n",
    "\n",
    "class SingletonClass(metaclass=SingletonMeta):\n",
    "    def __init__(self, value):\n",
    "        self.value = value\n",
    "\n",
    "# Example usage\n",
    "singleton1 = SingletonClass(1)\n",
    "singleton2 = SingletonClass(2)\n",
    "\n",
    "print(singleton1 is singleton2)  \n",
    "print(singleton1.value)          \n",
    "print(singleton2.value)          \n"
   ]
  },
  {
   "cell_type": "markdown",
   "id": "ce3f1ab8-62bf-4e2b-bc07-5f88be4bef29",
   "metadata": {},
   "source": [
    "In Python, a metaclass hook is a mechanism by which a metaclass can modify the behavior of class creation. It links the user-defined class with the metaclass, allowing the metaclass to intervene during the class creation process.  \n",
    "The following example shows how this is implemented, When CheckMethodMeta is defined as a subclass ot `type` in this case the `__new__` method is overwritten to add a check that ensures the class being created conatains the method `required_method`"
   ]
  },
  {
   "cell_type": "code",
   "execution_count": 31,
   "id": "90be1c0f-a8cd-4cff-874a-181f82e63584",
   "metadata": {},
   "outputs": [
    {
     "ename": "TypeError",
     "evalue": "Class BaseClass must define 'required_method'",
     "output_type": "error",
     "traceback": [
      "\u001b[1;31m---------------------------------------------------------------------------\u001b[0m",
      "\u001b[1;31mTypeError\u001b[0m                                 Traceback (most recent call last)",
      "Cell \u001b[1;32mIn[31], line 9\u001b[0m\n\u001b[0;32m      6\u001b[0m         \u001b[38;5;28;01mreturn\u001b[39;00m \u001b[38;5;28msuper\u001b[39m()\u001b[38;5;241m.\u001b[39m\u001b[38;5;21m__new__\u001b[39m(\u001b[38;5;28mcls\u001b[39m, name, bases, dct)\n\u001b[0;32m      8\u001b[0m \u001b[38;5;66;03m# Use the metaclass in a base class\u001b[39;00m\n\u001b[1;32m----> 9\u001b[0m \u001b[38;5;28;43;01mclass\u001b[39;49;00m\u001b[43m \u001b[49m\u001b[38;5;21;43;01mBaseClass\u001b[39;49;00m\u001b[43m(\u001b[49m\u001b[43mmetaclass\u001b[49m\u001b[38;5;241;43m=\u001b[39;49m\u001b[43mCheckMethodMeta\u001b[49m\u001b[43m)\u001b[49m\u001b[43m:\u001b[49m\n\u001b[0;32m     10\u001b[0m \u001b[43m    \u001b[49m\u001b[38;5;28;43;01mpass\u001b[39;49;00m\n\u001b[0;32m     12\u001b[0m \u001b[38;5;66;03m# Example of a valid subclass\u001b[39;00m\n",
      "Cell \u001b[1;32mIn[31], line 5\u001b[0m, in \u001b[0;36mCheckMethodMeta.__new__\u001b[1;34m(cls, name, bases, dct)\u001b[0m\n\u001b[0;32m      3\u001b[0m \u001b[38;5;28;01mdef\u001b[39;00m \u001b[38;5;21m__new__\u001b[39m(\u001b[38;5;28mcls\u001b[39m, name, bases, dct):\n\u001b[0;32m      4\u001b[0m     \u001b[38;5;28;01mif\u001b[39;00m \u001b[38;5;124m'\u001b[39m\u001b[38;5;124mrequired_method\u001b[39m\u001b[38;5;124m'\u001b[39m \u001b[38;5;129;01mnot\u001b[39;00m \u001b[38;5;129;01min\u001b[39;00m dct:\n\u001b[1;32m----> 5\u001b[0m         \u001b[38;5;28;01mraise\u001b[39;00m \u001b[38;5;167;01mTypeError\u001b[39;00m(\u001b[38;5;124mf\u001b[39m\u001b[38;5;124m\"\u001b[39m\u001b[38;5;124mClass \u001b[39m\u001b[38;5;132;01m{\u001b[39;00mname\u001b[38;5;132;01m}\u001b[39;00m\u001b[38;5;124m must define \u001b[39m\u001b[38;5;124m'\u001b[39m\u001b[38;5;124mrequired_method\u001b[39m\u001b[38;5;124m'\u001b[39m\u001b[38;5;124m\"\u001b[39m)\n\u001b[0;32m      6\u001b[0m     \u001b[38;5;28;01mreturn\u001b[39;00m \u001b[38;5;28msuper\u001b[39m()\u001b[38;5;241m.\u001b[39m\u001b[38;5;21m__new__\u001b[39m(\u001b[38;5;28mcls\u001b[39m, name, bases, dct)\n",
      "\u001b[1;31mTypeError\u001b[0m: Class BaseClass must define 'required_method'"
     ]
    }
   ],
   "source": [
    "# Define the metaclass\n",
    "class CheckMethodMeta(type):\n",
    "    def __new__(cls, name, bases, dct):\n",
    "        if 'required_method' not in dct:\n",
    "            raise TypeError(f\"Class {name} must define 'required_method'\")\n",
    "        return super().__new__(cls, name, bases, dct)\n",
    "\n",
    "# Use the metaclass in a base class\n",
    "class BaseClass(metaclass=CheckMethodMeta):\n",
    "    pass\n",
    "\n",
    "# Example of a valid subclass\n",
    "class ValidClass(BaseClass):\n",
    "    def required_method(self):\n",
    "        return \"This is the required method.\"\n",
    "\n",
    "# Example of an invalid subclass (will raise an error)\n",
    "try:\n",
    "    class InvalidClass(BaseClass):\n",
    "        pass\n",
    "except TypeError as e:\n",
    "    print(e)  # Output: Class InvalidClass must define 'required_method'\n"
   ]
  },
  {
   "cell_type": "markdown",
   "id": "f8bd8de8-ea64-43a0-8ea1-0b1420b2de37",
   "metadata": {},
   "source": [
    "## Abstract base classes \n",
    "Not directly instantiated, but derived. "
   ]
  },
  {
   "cell_type": "code",
   "execution_count": 32,
   "id": "a9aeb943-ffd9-4789-9738-fad51345d1ca",
   "metadata": {},
   "outputs": [],
   "source": [
    "from abc import *\n",
    "\n",
    "class Vehicle(metaclass = ABCMeta):\n",
    "    @abstractmethod\n",
    "    def getReg(self):\n",
    "        pass\n",
    "\n",
    "class Car(Vehicle):\n",
    "    def getReg(self):\n",
    "        print(\"Car is a Vehicle\")\n"
   ]
  },
  {
   "cell_type": "markdown",
   "id": "7f9228cf-0db2-40b0-8da8-1ec5b9e75a76",
   "metadata": {},
   "source": [
    "## using ABC to implement dependency injection \n"
   ]
  },
  {
   "cell_type": "code",
   "execution_count": 33,
   "id": "b2b1351f-b71c-4b0d-81d2-ff0740adb998",
   "metadata": {},
   "outputs": [
    {
     "name": "stdout",
     "output_type": "stream",
     "text": [
      "Processing: Data from local storage\n",
      "Processing: Data from remote server\n"
     ]
    }
   ],
   "source": [
    "from abc import ABC, abstractmethod\n",
    "\n",
    "#define interface\n",
    "class DataService(ABC): \n",
    "    @abstractmethod\n",
    "    def get_data(self):\n",
    "        pass\n",
    "\n",
    "#implement concrete classes\n",
    "class LocalDataService(DataService):\n",
    "    def get_data(self):\n",
    "        return \"Data from local storage\"\n",
    "\n",
    "class RemoteDataService(DataService):\n",
    "    def get_data(self):\n",
    "        return \"Data from remote server\"\n",
    "        \n",
    "#Create a client class that uses dependency injection\n",
    "class DataProcessor:\n",
    "    def __init__(self, data_service: DataService):\n",
    "        self.data_service = data_service\n",
    "\n",
    "    def process_data(self):\n",
    "        data = self.data_service.get_data()\n",
    "        print(f\"Processing: {data}\")\n",
    "\n",
    "#inject dependencies\n",
    "# Using the local data service\n",
    "local_service = LocalDataService()\n",
    "processor = DataProcessor(local_service)\n",
    "processor.process_data()  \n",
    "\n",
    "# Using the remote data service\n",
    "remote_service = RemoteDataService()\n",
    "processor = DataProcessor(remote_service)\n",
    "processor.process_data()  \n"
   ]
  },
  {
   "cell_type": "markdown",
   "id": "afde3a6c-4714-4ad5-88cc-27a85d24b0d4",
   "metadata": {},
   "source": [
    "### Context managers\n",
    "\n",
    "Context managers were introduced in Python 2.5. Their advantage\n",
    "is that we can initialise and destroy objects within its context. A\n",
    "destructor might not get called immediately, but the __exit__\n",
    "method will be called on exit from the context, even in the event of\n",
    "an exception.   \n",
    "\n",
    "Managing Resources: In any programming language, the usage of resources like file operations or database connections is very common. But these resources are limited in supply. Therefore, the main problem lies in making sure to release these resources after usage. If they are not released then it will lead to resource leakage and may cause the system to either slow down or crash. It would be very helpful if users have a mechanism for the automatic setup and teardown of resources. In Python, it can be achieved by the usage of context managers which facilitate the proper handling of resources.   \n",
    "\n",
    "\n",
    "\n",
    "Calling __del__ is not guaranteed, so something like a context manager provides a greater level of exit assurance \n",
    "In the following example we make a class called File, this will act as a context manager. the __enter__ () method is used to open the file, allowing it to be used with with. Once the with block finishes then the __exit__() method is called.\n",
    "\n",
    "Note that __exit__() takes three arguments which provide information about any exceptions raised in the with block\n",
    "\n",
    "If we have a code block with an extensive set of return paths, closing a resource file becomes difficult, to assist us we can use context managers\n"
   ]
  },
  {
   "cell_type": "code",
   "execution_count": 35,
   "id": "ab551b23-f13c-4573-b40a-95641c3dc4c3",
   "metadata": {},
   "outputs": [
    {
     "name": "stdout",
     "output_type": "stream",
     "text": [
      "constructor called\n",
      "the internal __enter__ method is called\n",
      "with statement block\n",
      "the __exit__ internal method was called\n"
     ]
    }
   ],
   "source": [
    "# example \n",
    "class ContextManager():\n",
    "    def __init__(self):\n",
    "        print('constructor called')\n",
    "         \n",
    "    def __enter__(self):\n",
    "        print('the internal __enter__ method is called')\n",
    "        return self\n",
    "     \n",
    "    def __exit__(self, exc_type, exc_value, exc_traceback):\n",
    "        print('the __exit__ internal method was called')\n",
    " \n",
    "with ContextManager() as manager:\n",
    "    print('with statement block')"
   ]
  }
 ],
 "metadata": {
  "kernelspec": {
   "display_name": "Python 3 (ipykernel)",
   "language": "python",
   "name": "python3"
  },
  "language_info": {
   "codemirror_mode": {
    "name": "ipython",
    "version": 3
   },
   "file_extension": ".py",
   "mimetype": "text/x-python",
   "name": "python",
   "nbconvert_exporter": "python",
   "pygments_lexer": "ipython3",
   "version": "3.11.9"
  }
 },
 "nbformat": 4,
 "nbformat_minor": 5
}
