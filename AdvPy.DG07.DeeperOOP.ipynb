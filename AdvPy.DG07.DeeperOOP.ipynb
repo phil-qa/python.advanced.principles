{
 "cells": [
  {
   "cell_type": "markdown",
   "id": "66400734-2266-4ecc-b4a9-03930934aa08",
   "metadata": {},
   "source": [
    "# Deeper patterns  \n",
    "## Creational \n",
    "In software design, creational patterns are a category of design patterns that focus on object creation mechanisms. They provide reusable solutions to common problems associated with how objects are instantiated and initialized. Here are some key points about creational patterns: \n",
    "\n",
    "- Promote code flexibility and decoupling by separating object creation logic from the code that uses the objects.\n",
    "- Allow for centralized control over object creation, making it easier to manage and customize object behavior.\n",
    "- Encourage the creation of well-formed objects with proper initialization and configuration.\n",
    "\n",
    "- Singleton Pattern: Ensures that only a single instance of a class exists and provides a global access point to it.\n",
    "- Factory Pattern: Introduces a factory class responsible for creating objects based on a provided type.\n",
    "- Abstract Factory Pattern: Creates families of related objects without specifying their concrete classes.\n",
    "- Builder Pattern: Separates the construction of a complex object from its representation, allowing for step-by-step object creation with customization options.\n",
    "- Prototype Pattern: Creates new objects by copying an existing object, avoiding the overhead of creating objects from scratch."
   ]
  },
  {
   "cell_type": "markdown",
   "id": "e9c4387e-6569-434b-bb5a-f0c7a03eafe8",
   "metadata": {},
   "source": [
    "## Creational Factory\n",
    "The following is a simplified example \n"
   ]
  },
  {
   "cell_type": "code",
   "execution_count": 5,
   "id": "3143e161-869d-4ae2-9234-e4bcebc7ca1b",
   "metadata": {},
   "outputs": [],
   "source": [
    "from abc import ABCMeta\n",
    "from abc import abstractmethod\n",
    "\n",
    "class Vehicle(metaclass=ABCMeta):\n",
    "    def __init__(self, owner=None):\n",
    "        if owner:\n",
    "            self.owner = owner\n",
    "\n",
    "    @abstractmethod\n",
    "    def accelerate(self):\n",
    "        pass\n",
    "\n",
    "    @abstractmethod\n",
    "    def brake(self):\n",
    "        pass\n"
   ]
  },
  {
   "cell_type": "code",
   "execution_count": 6,
   "id": "53d67f6e-7a4d-4b40-8fd7-e80f9263e015",
   "metadata": {},
   "outputs": [],
   "source": [
    "#concrete classes\n",
    "\n",
    "class Car(Vehicle):\n",
    "    def __init__(self, owner=None):\n",
    "        Vehicle.__init__(self, owner)\n",
    "\n",
    "    def accelerate(self):\n",
    "        print(\"press accelerator\")\n",
    "\n",
    "    def brake(self):\n",
    "        print(\"press brake pedal!\")\n",
    "\n",
    "    #specialist method for this class\n",
    "    def beep_horn(self):\n",
    "        print(\"BEEP!\")\n",
    "\n",
    "\n",
    "class Bike(Vehicle):\n",
    "    def __init__(self, owner=None):\n",
    "        Vehicle.__init__(self, owner)\n",
    "\n",
    "    def accelerate(self):\n",
    "        print(\"pedal faster!\")\n",
    "\n",
    "    def brake(self):\n",
    "        print(\"pull brakes!\")\n"
   ]
  },
  {
   "cell_type": "code",
   "execution_count": 12,
   "id": "52a08ca2-718d-4770-a1cc-c0e0380c40b1",
   "metadata": {},
   "outputs": [],
   "source": [
    "def buy(vehicle_name, owner):\n",
    "  \"\"\"Factory function to create vehicle objects.\"\"\"\n",
    "  vehicle_name = vehicle_name.lower()  # Ensure case-insensitive matching\n",
    "  if vehicle_name == \"car\":\n",
    "    return Car(owner)\n",
    "  elif vehicle_name == \"bike\":\n",
    "    return Bike(owner)\n",
    "  else:\n",
    "    raise ValueError(f\"Invalid vehicle type: {vehicle_name}\")"
   ]
  },
  {
   "cell_type": "code",
   "execution_count": 13,
   "id": "65df5fa1-61d8-40f6-aea6-14d4cc517a41",
   "metadata": {},
   "outputs": [
    {
     "name": "stdout",
     "output_type": "stream",
     "text": [
      "press accelerator\n",
      "BEEP!\n",
      "press brake pedal!\n",
      "pedal faster!\n",
      "pull brakes!\n"
     ]
    }
   ],
   "source": [
    "car_obj = buy('car', owner=\"Frank\")\n",
    "\n",
    "car_obj.accelerate()\n",
    "car_obj.beep_horn()\n",
    "car_obj.brake()\n",
    "\n",
    "bike_obj = buy('bike', owner=\"Jess\")\n",
    "bike_obj.accelerate()\n",
    "bike_obj.brake()\n"
   ]
  },
  {
   "cell_type": "markdown",
   "id": "adc3be81-b0e7-466b-aa00-d6e42e10e730",
   "metadata": {},
   "source": [
    "## singleton  - covered earlier   \n",
    "1. Global Configuration:  \n",
    "Imagine an application that requires a single configuration object containing settings loaded from a file or environment variables. Using a singleton ensures all parts of your code access the same configuration data, preventing inconsistencies.  \n",
    "\n",
    "2. Resource Management:   \n",
    "Some resources, like database connections or file handles, are limited and require careful management. A singleton pattern can control the creation and access to such resources, ensuring efficient utilization and preventing resource leaks.\n",
    "\n",
    "\n",
    "4. Logging:  \n",
    "Logging systems often benefit from a singleton pattern. Having a single logger instance allows centralized configuration and avoids duplicate log messages from different parts of the application.\n",
    "\n",
    "4. Caching:\n",
    "Caching mechanisms can leverage singletons. A single cache object ensures consistent data storage and retrieval, preventing redundant calculations or database calls.   \n",
    "\n",
    "5. Thread Pools:   \n",
    "Thread pools manage a limited number of worker threads for executing tasks. A singleton pattern can be used to create and access a single thread pool object, simplifying thread management.\n",
    "\n",
    "7. Application State:   \n",
    "In some applications, maintaining a centralized state object might be useful. A singleton can hold this state, making it accessible from various parts of your code while ensuring consistency.\n",
    "\n",
    "\n",
    "7. Registries:   \n",
    "Singletons can be used to implement registries for components or services. This allows different parts of the application to discover and interact with registered components through a single access point."
   ]
  },
  {
   "cell_type": "markdown",
   "id": "744da627-c71a-4f3b-ac4d-e2a45a1a0d76",
   "metadata": {},
   "source": [
    "## Structural Patterns \n",
    "\n",
    "\n",
    "Structural patterns are a category of design patterns in software engineering that deal with the composition of classes and objects to form larger structures. These patterns help ensure that if one part of a system changes, the entire system doesn't need to change. They focus on how objects and classes can be composed to obtain new functionality.   \n",
    "\n",
    "Adapter Pattern: Converts the interface of a class into another interface clients expect. It allows classes to work together that couldn't otherwise because of incompatible interfaces.   \n",
    "\n",
    "Bridge Pattern: Separates an object’s interface from its implementation so that the two can vary independently. It is useful when both the class and what it does vary often.   \n",
    "\n",
    "Composite Pattern: Composes objects into tree structures to represent part-whole hierarchies. It lets clients treat individual objects and compositions of objects uniformly.   \n",
    "\n",
    "Decorator Pattern: Adds additional responsibilities to an object dynamically. Decorators provide a flexible alternative to subclassing for extending functionality.   \n",
    "\n",
    "Facade Pattern: Provides a simplified interface to a complex subsystem. It defines a higher-level interface that makes the subsystem easier to use.   \n",
    "\n",
    "Flyweight Pattern: Uses sharing to support large numbers of fine-grained objects efficiently. It reduces the cost of creating and managing a large number of similar objects.   \n",
    "\n",
    "Proxy Pattern: Provides a surrogate or placeholder for another object to control access to it. It can be used for lazy initialization, access control, logging, etc.   "
   ]
  },
  {
   "attachments": {},
   "cell_type": "markdown",
   "id": "656dd535-1b7d-45ba-85b0-f7e7e7fe486c",
   "metadata": {},
   "source": [
    "### Delegates or object proxy \n",
    "Sometimes called \"object proxying\", delegation is a popular object oriented design pattern.  It is sometimes seen as an alternative to inheritance, but they often reside together in a design pattern.\n",
    "\n",
    "Delegation enables an object to call other object methods dynamically - that is the decision is made at run-time.  \n",
    "\n",
    "Unlike C# there is no delegate keyword in Python.  A relevant difference in Python compared with a static language is that a method is a named attribute, so __getattr__ is invoked for each method call for each object of that class.   \n",
    "\n",
    "In the example, the proxy class has the same interface as the normal object and thus can be used interchageably, nothing done to the original as such. Looks like inheritance doesnt it. \n"
   ]
  },
  {
   "cell_type": "code",
   "execution_count": 14,
   "id": "7ffd9746-c488-4c3a-9af9-3bd8b1d44f4a",
   "metadata": {},
   "outputs": [],
   "source": [
    "from abc import ABC, abstractmethod\n",
    "\n",
    "class Employee(ABC):\n",
    "    @abstractmethod\n",
    "    def request(self) -> None:\n",
    "        pass\n",
    "\n",
    "class RealEmployee(Employee):\n",
    "    def request(self) -> None:\n",
    "        print(\"RealEmployee says: Handling leave request.\")\n",
    "\n",
    "class Proxy(Employee):\n",
    "    def __init__ (self, real_employee: RealEmployee) -> None:\n",
    "        self._real_employee = real_employee\n",
    "        \n",
    "    def request(self) -> None:     \n",
    "        if self.check_leave():\n",
    "            self._real_employee.request()\n",
    "            self.log_request()\n",
    "\n",
    "    def check_leave(self) -> bool:\n",
    "        print(\"Proxy says: Checking if employee can request leave\")\n",
    "        return True\n",
    "                        \n",
    "    def log_request(self) -> None:\n",
    "        print(\"Proxy says: Logging request!\", end = \"\")\n",
    "\n",
    "def handle_request(employee: Employee) -> None:\n",
    "     employee.request()\n"
   ]
  },
  {
   "cell_type": "code",
   "execution_count": 15,
   "id": "afec2a6d-2355-4287-a86a-8d4511393614",
   "metadata": {},
   "outputs": [
    {
     "name": "stdout",
     "output_type": "stream",
     "text": [
      "RealEmployee says: Handling leave request.\n",
      "Proxy says: Checking if employee can request leave\n",
      "RealEmployee says: Handling leave request.\n",
      "Proxy says: Logging request!"
     ]
    }
   ],
   "source": [
    "#Try a real employee\n",
    "real_employee = RealEmployee()\n",
    "handle_request(real_employee)\n",
    "\n",
    "#Try a proxy\n",
    "proxy = Proxy(real_employee)\n",
    "handle_request(proxy)\n"
   ]
  },
  {
   "cell_type": "markdown",
   "id": "a9711bf2-167f-45f0-b226-fc23e4b23186",
   "metadata": {},
   "source": [
    "## Adapter \n",
    "\n",
    "The Adapter Pattern is a structural design pattern that allows objects with incompatible interfaces to work together. It acts as a bridge between two incompatible interfaces by converting the interface of a class into another interface that a client expects. This pattern is particularly useful when you want to reuse existing code libraries that do not match the required interface.  "
   ]
  },
  {
   "cell_type": "code",
   "execution_count": 16,
   "id": "15128a5e-88be-4620-bf32-561afdfc075e",
   "metadata": {},
   "outputs": [],
   "source": [
    "# target - what we normally use (e.g. a library)\n",
    "class GetSet:\n",
    "    def request(self) -> set:\n",
    "        return set(range(10))\n",
    "\n",
    "# adaptee - useful but interface is not compatible, can't be modified\n",
    "# it could be legacy code\n",
    "class GetList:\n",
    "     def list_request(self) -> list:\n",
    "         return list(range(10))\n",
    "\n",
    "# build an adapter\n",
    "class Adapter(GetSet):\n",
    "    def __init__(self, adaptee: GetList) -> None:\n",
    "        self.adaptee = adaptee\n",
    "\n",
    "    def request(self) -> set:\n",
    "        return set(self.adaptee.list_request())\n",
    "\n",
    "# client code - what we want to use whatever the data source\n",
    "def grab_data(target) -> set:\n",
    "    return target.request()\n"
   ]
  },
  {
   "cell_type": "code",
   "execution_count": 17,
   "id": "f6a6787b-01be-48da-8955-e081f3388923",
   "metadata": {},
   "outputs": [
    {
     "name": "stdout",
     "output_type": "stream",
     "text": [
      "Set? {0, 1, 2, 3, 4, 5, 6, 7, 8, 9}\n",
      "Set? [0, 1, 2, 3, 4, 5, 6, 7, 8, 9]\n",
      "Set? {0, 1, 2, 3, 4, 5, 6, 7, 8, 9}\n"
     ]
    }
   ],
   "source": [
    "# work with the default\n",
    "target = GetSet()\n",
    "print(f\"Set? {grab_data(target)}\")\n",
    "\n",
    "# try to work with the adaptee directly...\n",
    "# but it won't give us what we want... (a set)\n",
    "adaptee = GetList()\n",
    "print(f\"Set? {adaptee.list_request()}\")\n",
    "\n",
    "# work with adaptee via adapter (it now works fine)\n",
    "adapter = Adapter(adaptee)\n",
    "print(f\"Set? {grab_data(adapter)}\")\n"
   ]
  },
  {
   "cell_type": "markdown",
   "id": "c4ce2564-facf-4a7c-952d-c823bac77891",
   "metadata": {},
   "source": [
    "## Behavioural pattern \n",
    "\n",
    "Behavioral design patterns focus on communication and interaction between objects. They describe how objects collaborate to achieve a specific goal or functionality. Unlike creational or structural patterns, they don't directly deal with object creation or composition, but rather define communication strategies and message-passing mechanisms. Here are some key aspects of behavioral pattern.   \n",
    "\n",
    "Observer Pattern: Allows one object (subject) to notify many other objects (observers) about changes in its state. This is useful for implementing event-driven systems.   \n",
    "\n",
    "Strategy Pattern: Provides a way to choose an algorithm at runtime. You can dynamically change the behavior of an object by swapping its associated strategy object.   \n",
    "\n",
    "Template Method Pattern: Defines the skeleton of an algorithm, allowing subclasses to define specific steps without changing the overall structure. This promotes code reuse and consistency.   \n",
    "\n",
    "Command Pattern: Encapsulates a request as an object, allowing for parameterization of requests, queuing or logging of requests, and undo/redo functionality.   \n",
    "\n",
    "Iterator Pattern: Provides a way to access elements of an object collection one at a time without exposing the underlying implementation details of the collection."
   ]
  },
  {
   "attachments": {},
   "cell_type": "markdown",
   "id": "ea24633a-0c5d-42ee-8fc9-160888e5620d",
   "metadata": {},
   "source": [
    "### Observer pattern \n"
   ]
  },
  {
   "cell_type": "code",
   "execution_count": 18,
   "id": "d1d7b3a0-d628-4ead-9681-2c58212d93ce",
   "metadata": {},
   "outputs": [],
   "source": [
    "class EmailUser:\n",
    "    def __init__(self, user):\n",
    "        self._username = user\n",
    "    def email(self, message):\n",
    "        print(f\"Email {self._username} message '{message}'\")\n",
    "    def junk(self, message):\n",
    "        pass\n",
    "        \n",
    "class SmsUser:\n",
    "    def __init__(self, user):\n",
    "        self._username = user\n",
    "    def sms(self, message):\n",
    "        print(f\"SMS {self._username} with message '{message}'\")\n",
    "    def junk(self, message):\n",
    "        pass\n",
    "\n",
    "class Forum:\n",
    "    def __init__(self):\n",
    "        self.subscribers = {}\n",
    "        \n",
    "    def register(self, user, callback = None):\n",
    "        if callback == None:\n",
    "            callback = getattr(user, 'junk')\n",
    "        self.subscribers[user] = callback\n",
    "    def dispatch(self, message):\n",
    "        for _, callback in self.subscribers.items():\n",
    "            callback(message)\n",
    "    def deregister(self, user):\n",
    "        del self.subscribers[user]"
   ]
  },
  {
   "cell_type": "code",
   "execution_count": 19,
   "id": "a46146ba-bd69-448c-bb45-4923c299152d",
   "metadata": {},
   "outputs": [
    {
     "name": "stdout",
     "output_type": "stream",
     "text": [
      "Email Frank message 'Service is down for update.'\n",
      "SMS Jess with message 'Service is down for update.'\n",
      "Email Frank message 'Service is available.'\n",
      "SMS Jess with message 'Service is available.'\n"
     ]
    }
   ],
   "source": [
    "#create observee\n",
    "forum = Forum()\n",
    "\n",
    "#create observers\n",
    "user1 = EmailUser('Phil')\n",
    "user2 = SmsUser('Jess')\n",
    "user3 = EmailUser('Frank')\n",
    "\n",
    "#register the observer and their prevent event handler\n",
    "forum.register(user3, user3.email)\n",
    "forum.register(user2, user2.sms)\n",
    "forum.register(user1) \n",
    "\n",
    "#generate an event\n",
    "forum.dispatch(\"Service is down for update.\")\n",
    "\n",
    "#remove an observer\n",
    "forum.deregister(user1)\n",
    "\n",
    "#generate another event\n",
    "forum.dispatch(\"Service is available.\")\n"
   ]
  },
  {
   "cell_type": "code",
   "execution_count": null,
   "id": "9e1c8bf8-00c9-4916-97ad-f163ad8bfbd3",
   "metadata": {},
   "outputs": [],
   "source": []
  }
 ],
 "metadata": {
  "kernelspec": {
   "display_name": "Python 3 (ipykernel)",
   "language": "python",
   "name": "python3"
  },
  "language_info": {
   "codemirror_mode": {
    "name": "ipython",
    "version": 3
   },
   "file_extension": ".py",
   "mimetype": "text/x-python",
   "name": "python",
   "nbconvert_exporter": "python",
   "pygments_lexer": "ipython3",
   "version": "3.11.9"
  }
 },
 "nbformat": 4,
 "nbformat_minor": 5
}
