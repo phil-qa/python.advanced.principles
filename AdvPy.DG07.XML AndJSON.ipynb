{
 "cells": [
  {
   "cell_type": "markdown",
   "id": "d4389fa4",
   "metadata": {},
   "source": [
    "# XML and JSON\n",
    "\n",
    "This chapter gives an overview of processing XML using various\n",
    "Python modules. Each approach has some advantages and\n",
    "disadvantages, so no single approach will necessarily work in all\n",
    "cases.\n",
    "We also look at the serialization mechanism JSON.\n"
   ]
  },
  {
   "cell_type": "markdown",
   "id": "4303e610",
   "metadata": {},
   "source": [
    "## Structured data\n",
    "\n",
    "We are all aware of the different types of data out there, some more than others, depending on your level of interaction with it all. \n",
    "\n",
    "If you are going to extract some data from a system and send it to\n",
    "someone (or something!) you probably need to think about how\n",
    "you are going to format the data.\n",
    "\n",
    "It usually needs to be readable by a computer program and it also\n",
    "makes sense to make it human readable so that whoever is going\n",
    "to process the data has an idea what each item of data represents.\n",
    "Formatting data is all about adding extra context (meta data) to\n",
    "the data itself adding extra meaning to it.\n"
   ]
  },
  {
   "cell_type": "code",
   "execution_count": 1,
   "id": "5a86e580",
   "metadata": {},
   "outputs": [],
   "source": [
    "#Comma separated variables\n",
    "data = '''\n",
    "title,price,author\n",
    "\"Fly Fishing 101”,25.99,\"Fred Bloggs\"\n",
    "\"Skiing on a Budget”,299.99,\"Itsa Joke\"\n",
    "'''"
   ]
  },
  {
   "cell_type": "code",
   "execution_count": 2,
   "id": "85f20b72",
   "metadata": {},
   "outputs": [],
   "source": [
    "#JSON\n",
    "data = [{\"title\":\"Fly Fishing 101\",\"price\":25.99,\"author\":\"Fred Bloggs\"},\n",
    "{\"title\":\"Skiing on a Budget\",\"price\":299.99,\"author\":\"Itsa Joke\"}]\n"
   ]
  },
  {
   "cell_type": "code",
   "execution_count": 3,
   "id": "70c70b14",
   "metadata": {},
   "outputs": [],
   "source": [
    "#YAML\n",
    "data = ''' \n",
    "- {author: Fred Bloggs, price: 25.99, title: Fly Fishing 101}\n",
    "- {author: Itsa Joke, price: 299.99, title: Skiing on a Budget}\n",
    "'''"
   ]
  },
  {
   "cell_type": "code",
   "execution_count": 4,
   "id": "1a651aa0",
   "metadata": {},
   "outputs": [],
   "source": [
    "# XML\n",
    "data = '''\n",
    "<books>\n",
    "<book title=\"Fly Fishing 101” price=\"25.99\" author=\"Fred\"/>\n",
    "<book title=\"Skiing on a Budget” price=\"299.99\" author=\"Dave\"/>\n",
    "</books>\n",
    "'''"
   ]
  },
  {
   "cell_type": "markdown",
   "id": "502edafa",
   "metadata": {},
   "source": [
    "Of the two it's worth reviewing \n",
    "XML, JSON, that's not to discount CSV which really is heavily used in contexts such as data analysis et al. \n"
   ]
  },
  {
   "cell_type": "markdown",
   "id": "56b434b6",
   "metadata": {},
   "source": [
    "## XML\n",
    "from the folder pull the books.xml and books.dtd into view, note that the two are not connected\n",
    "\n",
    "### Elements are related \n",
    "The document root is the outermost data element, excluding the\n",
    "XML declaration, DTD header and other XML-specific components.\n",
    "\n",
    "The APIs often refer to sibling and child elements. Siblings are at\n",
    "the same level as the current-processed element, child elements\n",
    "are beneath the currently processed element. The exact\n",
    "relationship changes as we traverse the tree.\n",
    "A leaf node is a completely empty leaf element.\n",
    "\n",
    "There are several modules in python that leverage this relationship and are therefore capable of working with \n",
    "documents in this formal format \n",
    "\n",
    "python has built-in modules for this but there are others, A more complete, and indeed, a super-implementation, is included\n",
    "in the (optional) lxml module, obtainable from the Python Package\n",
    "Index. This also covers XML validation against DTD and Schema.\n",
    "This will need to be built and installed into your current Python\n",
    "library on your specific platform. We do not cover this module in\n",
    "detail in this chapter, but check the documentation at\n",
    "www.lxml.de. \n",
    "\n",
    "Be awre though XML has vulnerabilities \n",
    "\n",
    "As mentioned there are multiple ways in which XML can be handled from a module perspective, expat is one for brevity we will look at SAX which may use expat"
   ]
  },
  {
   "cell_type": "markdown",
   "id": "363ff6ec",
   "metadata": {},
   "source": [
    "## SAX\n",
    "Simple API for XML works in a similar manner to expat, but the\n",
    "callbacks have different names and there may be more features.\n",
    "Depending on the implementation, SAX may call expat to parse\n",
    "the XML file \n",
    "\n",
    "Both the two APIs are useful for rapid parsing and reading of large\n",
    "XML documents as they do not load the entire structure into\n",
    "memory, they simply treat it as a stream of events. As each event is\n",
    "encountered the appropriate handler is called.\n",
    "\n",
    "Unlike DOM, SAX does not load an entire XML document into\n",
    "memory. This makes it suitable for scanning and reading data\n",
    "from a large file, but does not lend itself to easy modification and\n",
    "re-writing of the data back to a file.\n",
    "Store any required information as normal Python objects, or build\n",
    "your own object class, as appropriate.\n",
    "\n",
    "In essence though we will define a content handler, this can be simple or\n",
    "more complex based on need\n",
    "\n",
    "Lets see it in action"
   ]
  },
  {
   "cell_type": "code",
   "execution_count": 5,
   "id": "c25220f2",
   "metadata": {},
   "outputs": [],
   "source": [
    "import xml.sax.handler\n",
    "class BookHandler(xml.sax.handler.ContentHandler):\n",
    "    def __init__(self):\n",
    "        self.text = ''\n",
    "    def startElement(self, name, attributes):\n",
    "        self.tag = name\n",
    "        if attributes.items(): \n",
    "         print(attributes.items())\n",
    "    def characters(self, data):\n",
    "        if not data.isspace(): \n",
    "            self.text += data\n",
    "    def endElement(self, name):\n",
    "        if self.text:\n",
    "            print(self.tag,':',self.text)\n",
    "            self.text = self.tag = ''"
   ]
  },
  {
   "cell_type": "code",
   "execution_count": 6,
   "id": "5349a4b7",
   "metadata": {},
   "outputs": [
    {
     "name": "stdout",
     "output_type": "stream",
     "text": [
      "[('id', 'bk101')]\n",
      "author : Gambardella, Matthew\n",
      "title : XML Developer's Guide\n",
      "genre : Computer\n",
      "price : 44.95\n",
      "publish_date : 2000-10-01\n",
      "description : An in-depth look at creating applications      with XML.\n",
      "[('id', 'bk102')]\n",
      "author : Ralls, Kim\n",
      "title : Midnight Rain\n",
      "genre : Fantasy\n",
      "price : 5.95\n",
      "publish_date : 2000-12-16\n",
      "description : A former architect battles corporate zombies,      an evil sorceress, and her own childhood to become queen      of the world.\n",
      "[('id', 'bk103')]\n",
      "author : Corets, Eva\n",
      "title : Maeve Ascendant\n",
      "genre : Fantasy\n",
      "price : 5.95\n",
      "publish_date : 2000-11-17\n",
      "description : After the collapse of a nanotechnology      society in England, the young survivors lay the      foundation for a new society.\n",
      "[('id', 'bk104')]\n",
      "author : Corets, Eva\n",
      "title : Oberon's Legacy\n",
      "genre : Fantasy\n",
      "price : 5.95\n",
      "publish_date : 2001-03-10\n",
      "description : In post-apocalypse England, the mysterious      agent known only as Oberon helps to create a new life      for the inhabitants of London. Sequel to Maeve      Ascendant.\n",
      "[('id', 'bk105')]\n",
      "author : Corets, Eva\n",
      "title : The Sundered Grail\n",
      "genre : Fantasy\n",
      "price : 5.95\n",
      "publish_date : 2001-09-10\n",
      "description : The two daughters of Maeve, half-sisters,      battle one another for control of England. Sequel to      Oberon's Legacy.\n",
      "[('id', 'bk106')]\n",
      "author : Randall, Cynthia\n",
      "title : Lover Birds\n",
      "genre : Romance\n",
      "price : 4.95\n",
      "publish_date : 2000-09-02\n",
      "description : When Carla meets Paul at an ornithology      conference, tempers fly as feathers get ruffled.\n",
      "[('id', 'bk107')]\n",
      "author : Thurman, Paula\n",
      "title : Splish Splash\n",
      "genre : Romance\n",
      "price : 4.95\n",
      "publish_date : 2000-11-02\n",
      "description : A deep sea diver finds true love twenty      thousand leagues beneath the sea.\n",
      "[('id', 'bk108')]\n",
      "author : Knorr, Stefan\n",
      "title : Creepy Crawlies\n",
      "genre : Horror\n",
      "price : 4.95\n",
      "publish_date : 2000-12-06\n",
      "description : An anthology of horror stories about roaches,      centipedes, scorpions  and other insects.\n",
      "[('id', 'bk109')]\n",
      "author : Kress, Peter\n",
      "title : Paradox Lost\n",
      "genre : Science Fiction\n",
      "price : 6.95\n",
      "publish_date : 2000-11-02\n",
      "description : After an inadvertant trip through a Heisenberg      Uncertainty Device, James Salway discovers the problems      of being quantum.\n",
      "[('id', 'bk110')]\n",
      "author : O'Brien, Tim\n",
      "title : Microsoft .NET: The Programming Bible\n",
      "genre : Computer\n",
      "price : 36.95\n",
      "publish_date : 2000-12-09\n",
      "description : Microsoft's .NET initiative is explored in      detail in this deep programmer's reference.\n",
      "[('id', 'bk111')]\n",
      "author : O'Brien, Tim\n",
      "title : MSXML3: A Comprehensive Guide\n",
      "genre : Computer\n",
      "price : 36.95\n",
      "publish_date : 2000-12-01\n",
      "description : The Microsoft MSXML3 parser is covered in      detail, with attention to XML DOM interfaces, XSLT processing,      SAX and more.\n",
      "[('id', 'bk112')]\n",
      "author : Galos, Mike\n",
      "title : Visual Studio 7: A Comprehensive Guide\n",
      "genre : Computer\n",
      "price : 49.95\n",
      "publish_date : 2001-04-16\n",
      "description : Microsoft Visual Studio 7 is explored in depth,      looking at how Visual Basic, Visual C++, C#, and ASP+ are      integrated into a comprehensive development      environment.\n"
     ]
    }
   ],
   "source": [
    "parser = xml.sax.make_parser()\n",
    "handler = BookHandler()\n",
    "parser.setContentHandler(handler)\n",
    "parser.parse(\"books.xml\")"
   ]
  },
  {
   "cell_type": "markdown",
   "id": "d1775ee4",
   "metadata": {},
   "source": [
    "### DOM\n",
    "Parsing with DOM\n",
    "The DOM approach loads the entire XML document into memory\n",
    "as a tree of linked node objects.\n",
    "The relationship between the nodes is provided by attributes that\n",
    "may be accessed or iterated over.\n",
    "Each node type provides methods appropriate to handle the\n",
    "node's data and relationships.\n",
    "\n",
    "\n",
    "Minidom is a simple implementation of the full DOM specification. Parsing an XML string or a file (or Python file object) using DOM will create a document root node object with child nodes created beneath, representing the XML layout with tags from the input document. As usual, use 'dir(node_object)' to see the list of attributes and methods it supplies."
   ]
  },
  {
   "cell_type": "code",
   "execution_count": 7,
   "id": "d0b389ea",
   "metadata": {},
   "outputs": [
    {
     "name": "stdout",
     "output_type": "stream",
     "text": [
      "[<DOM Element: catalog at 0x1f76b23bc10>]\n",
      "catalog\n"
     ]
    }
   ],
   "source": [
    "import xml.dom.minidom\n",
    "doc = xml.dom.minidom.parse('books.xml')\n",
    "print(doc.childNodes)\n",
    "print(doc.firstChild.tagName)"
   ]
  },
  {
   "cell_type": "code",
   "execution_count": 8,
   "id": "be573cb3",
   "metadata": {},
   "outputs": [
    {
     "name": "stdout",
     "output_type": "stream",
     "text": [
      "catalog \n",
      " [<DOM Text node \"'\\n   '\">, <DOM Element: book at 0x1f76b245d30>, <DOM Text node \"'\\n   '\">, <DOM Element: book at 0x1f76b2551f0>, <DOM Text node \"'\\n   '\">, <DOM Element: book at 0x1f76b2555e0>, <DOM Text node \"'\\n   '\">, <DOM Element: book at 0x1f76b2559d0>, <DOM Text node \"'\\n   '\">, <DOM Element: book at 0x1f76b255dc0>, <DOM Text node \"'\\n   '\">, <DOM Element: book at 0x1f76b2591f0>, <DOM Text node \"'\\n   '\">, <DOM Element: book at 0x1f76b259670>, <DOM Text node \"'\\n   '\">, <DOM Element: book at 0x1f76b259a60>, <DOM Text node \"'\\n   '\">, <DOM Element: book at 0x1f76b259ee0>, <DOM Text node \"'\\n   '\">, <DOM Element: book at 0x1f76b25f310>, <DOM Text node \"'\\n   '\">, <DOM Element: book at 0x1f76b25f790>, <DOM Text node \"'\\n   '\">, <DOM Element: book at 0x1f76b25fb80>, <DOM Text node \"'\\n'\">]\n"
     ]
    }
   ],
   "source": [
    "for node in doc.childNodes:\n",
    "    if node.nodeType == doc.ELEMENT_NODE:\n",
    "        print(node.nodeName, \"\\n\", node.childNodes)"
   ]
  },
  {
   "cell_type": "markdown",
   "id": "6374b60e",
   "metadata": {},
   "source": [
    "Another way of doing this "
   ]
  },
  {
   "cell_type": "code",
   "execution_count": 9,
   "id": "46e03513",
   "metadata": {},
   "outputs": [
    {
     "name": "stdout",
     "output_type": "stream",
     "text": [
      "[<DOM Element: author at 0x1f76b251e50>, <DOM Element: title at 0x1f76b251ee0>, <DOM Element: genre at 0x1f76b251f70>, <DOM Element: price at 0x1f76b255040>, <DOM Element: publish_date at 0x1f76b2550d0>, <DOM Element: description at 0x1f76b255160>]\n"
     ]
    }
   ],
   "source": [
    "book1 = doc.firstChild.firstChild.nextSibling\n",
    "print(book1.childNodes[1:-1:2])"
   ]
  },
  {
   "cell_type": "markdown",
   "id": "e850945a",
   "metadata": {},
   "source": [
    "Can iterate through everything, the nodes and their attributes"
   ]
  },
  {
   "cell_type": "code",
   "execution_count": 10,
   "id": "f45cb7b5",
   "metadata": {},
   "outputs": [
    {
     "name": "stdout",
     "output_type": "stream",
     "text": [
      "bk101\n",
      "Gambardella, Matthew\n",
      "XML Developer's Guide\n",
      "Computer\n",
      "44.95\n",
      "2000-10-01\n",
      "An in-depth look at creating applications\n",
      "      with XML.\n",
      "bk102\n",
      "Ralls, Kim\n",
      "Midnight Rain\n",
      "Fantasy\n",
      "5.95\n",
      "2000-12-16\n",
      "A former architect battles corporate zombies,\n",
      "      an evil sorceress, and her own childhood to become queen\n",
      "      of the world.\n",
      "bk103\n",
      "Corets, Eva\n",
      "Maeve Ascendant\n",
      "Fantasy\n",
      "5.95\n",
      "2000-11-17\n",
      "After the collapse of a nanotechnology\n",
      "      society in England, the young survivors lay the\n",
      "      foundation for a new society.\n",
      "bk104\n",
      "Corets, Eva\n",
      "Oberon's Legacy\n",
      "Fantasy\n",
      "5.95\n",
      "2001-03-10\n",
      "In post-apocalypse England, the mysterious\n",
      "      agent known only as Oberon helps to create a new life\n",
      "      for the inhabitants of London. Sequel to Maeve\n",
      "      Ascendant.\n",
      "bk105\n",
      "Corets, Eva\n",
      "The Sundered Grail\n",
      "Fantasy\n",
      "5.95\n",
      "2001-09-10\n",
      "The two daughters of Maeve, half-sisters,\n",
      "      battle one another for control of England. Sequel to\n",
      "      Oberon's Legacy.\n",
      "bk106\n",
      "Randall, Cynthia\n",
      "Lover Birds\n",
      "Romance\n",
      "4.95\n",
      "2000-09-02\n",
      "When Carla meets Paul at an ornithology\n",
      "      conference, tempers fly as feathers get ruffled.\n",
      "bk107\n",
      "Thurman, Paula\n",
      "Splish Splash\n",
      "Romance\n",
      "4.95\n",
      "2000-11-02\n",
      "A deep sea diver finds true love twenty\n",
      "      thousand leagues beneath the sea.\n",
      "bk108\n",
      "Knorr, Stefan\n",
      "Creepy Crawlies\n",
      "Horror\n",
      "4.95\n",
      "2000-12-06\n",
      "An anthology of horror stories about roaches,\n",
      "      centipedes, scorpions  and other insects.\n",
      "bk109\n",
      "Kress, Peter\n",
      "Paradox Lost\n",
      "Science Fiction\n",
      "6.95\n",
      "2000-11-02\n",
      "After an inadvertant trip through a Heisenberg\n",
      "      Uncertainty Device, James Salway discovers the problems\n",
      "      of being quantum.\n",
      "bk110\n",
      "O'Brien, Tim\n",
      "Microsoft .NET: The Programming Bible\n",
      "Computer\n",
      "36.95\n",
      "2000-12-09\n",
      "Microsoft's .NET initiative is explored in\n",
      "      detail in this deep programmer's reference.\n",
      "bk111\n",
      "O'Brien, Tim\n",
      "MSXML3: A Comprehensive Guide\n",
      "Computer\n",
      "36.95\n",
      "2000-12-01\n",
      "The Microsoft MSXML3 parser is covered in\n",
      "      detail, with attention to XML DOM interfaces, XSLT processing,\n",
      "      SAX and more.\n",
      "bk112\n",
      "Galos, Mike\n",
      "Visual Studio 7: A Comprehensive Guide\n",
      "Computer\n",
      "49.95\n",
      "2001-04-16\n",
      "Microsoft Visual Studio 7 is explored in depth,\n",
      "      looking at how Visual Basic, Visual C++, C#, and ASP+ are\n",
      "      integrated into a comprehensive development\n",
      "      environment.\n"
     ]
    }
   ],
   "source": [
    "for book in doc.getElementsByTagName('book'):\n",
    "        print(book.getAttributeNode('id').nodeValue)\n",
    "        for child in book.childNodes:\n",
    "            if child.nodeType == book.ELEMENT_NODE:\n",
    "                for detail in child.childNodes:\n",
    "                    print(detail.data)"
   ]
  },
  {
   "cell_type": "markdown",
   "id": "16c5dd32",
   "metadata": {},
   "source": [
    "## Using etree\n",
    "The etree approach is very Pythonic. It uses standard Python \n",
    "interfaces such as iterators, lists and dictionaries to implement an \n",
    "iterable tree of objects. The ElementTree object encompasses the \n",
    "entire XML document and may be iterated through using the \n",
    ".iter*() and .find*() methods. Iteration takes place from top to \n",
    "bottom, first child first, then siblings' children (depth-first).\n",
    "The document root is an Element object and may also be iterated \n",
    "through using similar methods to the ElementTree. In addition, \n",
    "Element objects have list-like properties and methods as well as \n",
    "data attributes such as tag, tail, text and attrib, the latter being \n",
    "implemented as a dictionary of node attributes.\n",
    "New sub-element objects may be created and attached to the tree \n",
    "using the etree.SubElement() factory function.\n",
    "The Python documentation for xml.etree.ElementTree contains a \n",
    "short tutorial (19.7.1), see docs.python.org/2/library (or the \n",
    "corresponding Python 3 link)."
   ]
  },
  {
   "cell_type": "code",
   "execution_count": 13,
   "id": "5f6d4be0",
   "metadata": {},
   "outputs": [
    {
     "name": "stdout",
     "output_type": "stream",
     "text": [
      "author : Gambardella, Matthew\n",
      "title : XML Developer's Guide\n",
      "genre : Computer\n",
      "price : 44.95\n",
      "publish_date : 2000-10-01\n",
      "description : An in-depth look at creating applications\n",
      "      with XML.\n",
      "author : Ralls, Kim\n",
      "title : Midnight Rain\n",
      "genre : Fantasy\n",
      "price : 5.95\n",
      "publish_date : 2000-12-16\n",
      "description : A former architect battles corporate zombies,\n",
      "      an evil sorceress, and her own childhood to become queen\n",
      "      of the world.\n",
      "author : Corets, Eva\n",
      "title : Maeve Ascendant\n",
      "genre : Fantasy\n",
      "price : 5.95\n",
      "publish_date : 2000-11-17\n",
      "description : After the collapse of a nanotechnology\n",
      "      society in England, the young survivors lay the\n",
      "      foundation for a new society.\n",
      "author : Corets, Eva\n",
      "title : Oberon's Legacy\n",
      "genre : Fantasy\n",
      "price : 5.95\n",
      "publish_date : 2001-03-10\n",
      "description : In post-apocalypse England, the mysterious\n",
      "      agent known only as Oberon helps to create a new life\n",
      "      for the inhabitants of London. Sequel to Maeve\n",
      "      Ascendant.\n",
      "author : Corets, Eva\n",
      "title : The Sundered Grail\n",
      "genre : Fantasy\n",
      "price : 5.95\n",
      "publish_date : 2001-09-10\n",
      "description : The two daughters of Maeve, half-sisters,\n",
      "      battle one another for control of England. Sequel to\n",
      "      Oberon's Legacy.\n",
      "author : Randall, Cynthia\n",
      "title : Lover Birds\n",
      "genre : Romance\n",
      "price : 4.95\n",
      "publish_date : 2000-09-02\n",
      "description : When Carla meets Paul at an ornithology\n",
      "      conference, tempers fly as feathers get ruffled.\n",
      "author : Thurman, Paula\n",
      "title : Splish Splash\n",
      "genre : Romance\n",
      "price : 4.95\n",
      "publish_date : 2000-11-02\n",
      "description : A deep sea diver finds true love twenty\n",
      "      thousand leagues beneath the sea.\n",
      "author : Knorr, Stefan\n",
      "title : Creepy Crawlies\n",
      "genre : Horror\n",
      "price : 4.95\n",
      "publish_date : 2000-12-06\n",
      "description : An anthology of horror stories about roaches,\n",
      "      centipedes, scorpions  and other insects.\n",
      "author : Kress, Peter\n",
      "title : Paradox Lost\n",
      "genre : Science Fiction\n",
      "price : 6.95\n",
      "publish_date : 2000-11-02\n",
      "description : After an inadvertant trip through a Heisenberg\n",
      "      Uncertainty Device, James Salway discovers the problems\n",
      "      of being quantum.\n",
      "author : O'Brien, Tim\n",
      "title : Microsoft .NET: The Programming Bible\n",
      "genre : Computer\n",
      "price : 36.95\n",
      "publish_date : 2000-12-09\n",
      "description : Microsoft's .NET initiative is explored in\n",
      "      detail in this deep programmer's reference.\n",
      "author : O'Brien, Tim\n",
      "title : MSXML3: A Comprehensive Guide\n",
      "genre : Computer\n",
      "price : 36.95\n",
      "publish_date : 2000-12-01\n",
      "description : The Microsoft MSXML3 parser is covered in\n",
      "      detail, with attention to XML DOM interfaces, XSLT processing,\n",
      "      SAX and more.\n",
      "author : Galos, Mike\n",
      "title : Visual Studio 7: A Comprehensive Guide\n",
      "genre : Computer\n",
      "price : 49.95\n",
      "publish_date : 2001-04-16\n",
      "description : Microsoft Visual Studio 7 is explored in depth,\n",
      "      looking at how Visual Basic, Visual C++, C#, and ASP+ are\n",
      "      integrated into a comprehensive development\n",
      "      environment.\n"
     ]
    }
   ],
   "source": [
    "import xml.etree.ElementTree as ET\n",
    "tree = ET.parse('books.xml')\n",
    "root = tree.getroot()\n",
    "for book in root.findall('book'):\n",
    "    for item in book:\n",
    "        print(item.tag, \":\", item.text)"
   ]
  },
  {
   "cell_type": "markdown",
   "id": "f0b0843f",
   "metadata": {},
   "source": [
    "As well as iterating through elements, because they display list-like \n",
    "properties, we can also index into them.\n",
    "The document root Element equates to the <books> node. \n",
    "Therefore root[0] is an Element denoting the first <book> node and \n",
    "root[1] is an Element denoting the second <book> node. book2[2] is \n",
    "therefore the price SubElement of book2.\n",
    "In this example we have created a SubElement representing a new \n",
    "child of the book1 node, and we have updated the text of the price \n",
    "SubElement of the book2 node. \n",
    "Note that the empty dictionary '{ }' represents the (in this case, \n",
    "non-existent) attributes of the new node.\n"
   ]
  },
  {
   "cell_type": "code",
   "execution_count": 14,
   "id": "181029ef",
   "metadata": {
    "scrolled": true
   },
   "outputs": [
    {
     "name": "stdout",
     "output_type": "stream",
     "text": [
      "\n",
      "      \n",
      "Gambardella, Matthew\n",
      "XML Developer's Guide\n",
      "Computer\n",
      "44.95\n",
      "2000-10-01\n",
      "An in-depth look at creating applications\n",
      "      with XML.\n",
      "Today\n",
      "\n",
      "      \n",
      "Ralls, Kim\n",
      "Midnight Rain\n",
      "£12.00\n",
      "5.95\n",
      "2000-12-16\n",
      "A former architect battles corporate zombies,\n",
      "      an evil sorceress, and her own childhood to become queen\n",
      "      of the world.\n"
     ]
    }
   ],
   "source": [
    "book1 = root[0]\n",
    "pub = ET.SubElement(book1, 'Published', {})\n",
    "pub.text = 'Today'\n",
    "for item in book1.iter():\n",
    "    print(item.text)\n",
    "book2 = root[1]\n",
    "book2[2].text = '£12.00'\n",
    "for item in book2.iter():\n",
    "    print(item.text)\n"
   ]
  },
  {
   "cell_type": "markdown",
   "id": "0b94abc7",
   "metadata": {},
   "source": [
    "## JSON\n",
    "Transferring data can be a cumbersome task. XML is all well and\n",
    "good, however it requires a DOM parser in order to read/write and\n",
    "is not easily realised into object format.\n",
    "JavaScript Object Notation (or JSON) is a lightweight data\n",
    "interchange format which is easy to read and write and more\n",
    "importantly, it’s easy for machines to parse and to generate.\n",
    "JSON is a text format that is programming language independent\n",
    "and uses conventions familiar to most programmers. \n",
    "\n",
    "Universal data structures supported by most programming languages\n",
    "A collection of name/value pairs\n",
    "Realised as an object (associative array/hash/dictiomary)\n",
    "An ordered list of values\n",
    "Realised as an array/list\n",
    "JSON object\n",
    "Unordered set of name/value pairs\n",
    "Begins with { (left brace) and ends with } (right brace)\n",
    "Each name followed by a : (colon)\n",
    "Name/value pairs separated by a , (comma)\n",
    "\n",
    "\n"
   ]
  },
  {
   "cell_type": "code",
   "execution_count": 15,
   "id": "0b1af3ca",
   "metadata": {},
   "outputs": [
    {
     "name": "stdout",
     "output_type": "stream",
     "text": [
      "[{'isbn': '9781593275846', 'title': 'Eloquent JavaScript, Second Edition', 'subtitle': 'A Modern Introduction to Programming', 'author': 'Marijn Haverbeke', 'published': '2014-12-14T00:00:00.000Z', 'publisher': 'No Starch Press', 'pages': 472, 'description': 'JavaScript lies at the heart of almost every modern web application, from social apps to the newest browser-based games. Though simple for beginners to pick up and play with, JavaScript is a flexible, complex language that you can use to build full-scale applications.', 'website': 'http://eloquentjavascript.net/'}, {'isbn': '9781449331818', 'title': 'Learning JavaScript Design Patterns', 'subtitle': \"A JavaScript and jQuery Developer's Guide\", 'author': 'Addy Osmani', 'published': '2012-07-01T00:00:00.000Z', 'publisher': \"O'Reilly Media\", 'pages': 254, 'description': \"With Learning JavaScript Design Patterns, you'll learn how to write beautiful, structured, and maintainable JavaScript by applying classical and modern design patterns to the language. If you want to keep your code efficient, more manageable, and up-to-date with the latest best practices, this book is for you.\", 'website': 'http://www.addyosmani.com/resources/essentialjsdesignpatterns/book/'}, {'isbn': '9781449365035', 'title': 'Speaking JavaScript', 'subtitle': 'An In-Depth Guide for Programmers', 'author': 'Axel Rauschmayer', 'published': '2014-02-01T00:00:00.000Z', 'publisher': \"O'Reilly Media\", 'pages': 460, 'description': 'Like it or not, JavaScript is everywhere these days-from browser to server to mobile-and now you, too, need to learn the language or dive deeper than you have. This concise book guides you into and through JavaScript, written by a veteran programmer who once found himself in the same position.', 'website': 'http://speakingjs.com/'}, {'isbn': '9781491950296', 'title': 'Programming JavaScript Applications', 'subtitle': 'Robust Web Architecture with Node, HTML5, and Modern JS Libraries', 'author': 'Eric Elliott', 'published': '2014-07-01T00:00:00.000Z', 'publisher': \"O'Reilly Media\", 'pages': 254, 'description': \"Take advantage of JavaScript's power to build robust web-scale or enterprise applications that are easy to extend and maintain. By applying the design patterns outlined in this practical book, experienced JavaScript developers will learn how to write flexible and resilient code that's easier-yes, easier-to work with as your code base grows.\", 'website': 'http://chimera.labs.oreilly.com/books/1234000000262/index.html'}, {'isbn': '9781593277574', 'title': 'Understanding ECMAScript 6', 'subtitle': 'The Definitive Guide for JavaScript Developers', 'author': 'Nicholas C. Zakas', 'published': '2016-09-03T00:00:00.000Z', 'publisher': 'No Starch Press', 'pages': 352, 'description': 'ECMAScript 6 represents the biggest update to the core of JavaScript in the history of the language. In Understanding ECMAScript 6, expert developer Nicholas C. Zakas provides a complete guide to the object types, syntax, and other exciting changes that ECMAScript 6 brings to JavaScript.', 'website': 'https://leanpub.com/understandinges6/read'}, {'isbn': '9781491904244', 'title': \"You Don't Know JS\", 'subtitle': 'ES6 & Beyond', 'author': 'Kyle Simpson', 'published': '2015-12-27T00:00:00.000Z', 'publisher': \"O'Reilly Media\", 'pages': 278, 'description': 'No matter how much experience you have with JavaScript, odds are you donâ€™t fully understand the language. As part of the \"You Donâ€™t Know JS\" series, this compact guide focuses on new features available in ECMAScript 6 (ES6), the latest version of the standard upon which JavaScript is built.', 'website': 'https://github.com/getify/You-Dont-Know-JS/tree/master/es6%20&%20beyond'}, {'isbn': '9781449325862', 'title': 'Git Pocket Guide', 'subtitle': 'A Working Introduction', 'author': 'Richard E. Silverman', 'published': '2013-08-02T00:00:00.000Z', 'publisher': \"O'Reilly Media\", 'pages': 234, 'description': 'This pocket guide is the perfect on-the-job companion to Git, the distributed version control system. It provides a compact, readable introduction to Git for new users, as well as a reference to common commands and procedures for those of you with Git experience.', 'website': 'http://chimera.labs.oreilly.com/books/1230000000561/index.html'}, {'isbn': '9781449337711', 'title': 'Designing Evolvable Web APIs with ASP.NET', 'subtitle': 'Harnessing the Power of the Web', 'author': 'Glenn Block, et al.', 'published': '2014-04-07T00:00:00.000Z', 'publisher': \"O'Reilly Media\", 'pages': 538, 'description': 'Design and build Web APIs for a broad range of clientsâ€”including browsers and mobile devicesâ€”that can adapt to change over time. This practical, hands-on guide takes you through the theory and tools you need to build evolvable HTTP services with Microsoftâ€™s ASP.NET Web API framework. In the process, youâ€™ll learn how design and implement a real-world Web API.', 'website': 'http://chimera.labs.oreilly.com/books/1234000001708/index.html'}]\n"
     ]
    }
   ],
   "source": [
    "import json\n",
    "\n",
    "with open('books.json', 'r') as f:\n",
    "    data = json.load(f)\n",
    "    print(data['books'])"
   ]
  },
  {
   "cell_type": "code",
   "execution_count": 16,
   "id": "f0b26cac",
   "metadata": {},
   "outputs": [
    {
     "name": "stdout",
     "output_type": "stream",
     "text": [
      "{\"name\": \"Bob\", \"age\": 12, \"children\": null}\n"
     ]
    }
   ],
   "source": [
    "import json\n",
    "\n",
    "person_dict = {'name': 'Bob',\n",
    "'age': 12,\n",
    "'children': None\n",
    "}\n",
    "person_json = json.dumps(person_dict)\n",
    "\n",
    "print(person_json)"
   ]
  },
  {
   "cell_type": "code",
   "execution_count": 17,
   "id": "07178c1a",
   "metadata": {},
   "outputs": [],
   "source": [
    "\n",
    "import json\n",
    "\n",
    "person_dict = {\"name\": \"Bob\",\n",
    "\"languages\": [\"English\", \"French\"],\n",
    "\"married\": True,\n",
    "\"age\": 32\n",
    "}\n",
    "\n",
    "with open('person.txt', 'w') as json_file:\n",
    "  json.dump(person_dict, json_file)"
   ]
  },
  {
   "cell_type": "markdown",
   "id": "86217f41",
   "metadata": {},
   "source": [
    "### de-serialise to class\n",
    "It's often useful to de-serialise data, bring it into a class for working with it in different ways. "
   ]
  },
  {
   "cell_type": "code",
   "execution_count": 1,
   "id": "40899c47",
   "metadata": {},
   "outputs": [
    {
     "name": "stdout",
     "output_type": "stream",
     "text": [
      "print\n",
      "onData\n",
      "Madan Mohan\n"
     ]
    }
   ],
   "source": [
    "import json\n",
    "\n",
    "class Payload:\n",
    "    def __init__(self, action, method, data):\n",
    "        self.action = action\n",
    "        self.method = method\n",
    "        self.data = data\n",
    "\n",
    "# Example JSON string\n",
    "json_string = '{\"action\": \"print\", \"method\": \"onData\", \"data\": \"Madan Mohan\"}'\n",
    "\n",
    "# Deserialize to a Payload object\n",
    "p = Payload(**json.loads(json_string))\n",
    "\n",
    "# Access the attributes\n",
    "print(p.action)  \n",
    "print(p.method)  \n",
    "print(p.data)    \n"
   ]
  },
  {
   "cell_type": "markdown",
   "id": "1b35dc1b",
   "metadata": {},
   "source": [
    "## pickles\n",
    "Python provides pickle modules for Serialization and de-Serialization of python objects like lists, dictionaries, tuples, etc. Pickling is also called marshaling or flattening in other languages. Pickling is used to store python objects.\n",
    "\n",
    "Serialization or Pickling:\n",
    "Pickling or Serialization is the process of converting a Python object (lists, dict, tuples, etc.) into byte streams that can be saved to disks or can be transferred over a network.\n",
    "\n",
    "De-serialization or un pickling:\n",
    "The byte streams saved on file contains the necessary information to reconstruct the original python object. The process of converting byte streams back to python objects is called de-serialization.\n",
    "\n",
    "Below are the steps for pickling in python:\n",
    "\n",
    "Import pickle module. Use pickle.dump(object, filename) method to save the object into file : this will save the object in this file in byte format. Use pickle.load(filename): to load back python object from the file where it was dumped before.\n"
   ]
  },
  {
   "cell_type": "code",
   "execution_count": 18,
   "id": "4bf74dce",
   "metadata": {},
   "outputs": [
    {
     "name": "stdout",
     "output_type": "stream",
     "text": [
      "Pickling\n",
      "dictionary to be stored:\n",
      "{1: 'monday', 2: 'tuesday', 3: 'wednesday', 4: 'thursday', 5: 'friday', 6: 'saturday', 7: 'sunday'}\n",
      "\n",
      "\n",
      "Un-pickling\n",
      "displaying dictionary data\n",
      "1 --> monday\n",
      "2 --> tuesday\n",
      "3 --> wednesday\n",
      "4 --> thursday\n",
      "5 --> friday\n",
      "6 --> saturday\n",
      "7 --> sunday\n"
     ]
    }
   ],
   "source": [
    "import pickle\n",
    "# creating python object --> dictionary\n",
    "dictionary = {1: 'monday', 2: 'tuesday', 3: 'wednesday', 4: 'thursday', 5: 'friday', 6: 'saturday', 7: 'sunday'}\n",
    "print('Pickling')\n",
    "# open a file where to store dictionary\n",
    "print(\"dictionary to be stored:\")\n",
    "print(dictionary)\n",
    "with open('dictionary.pkl', 'wb') as file:\n",
    "    pickle.dump(dictionary, file) # storing dictionary into file\n",
    "\n",
    "print('\\n')\n",
    "print('Un-pickling')\n",
    "with open('dictionary.pkl', 'rb') as file:\n",
    "    unpickled_dict = pickle.load(file)\n",
    "\n",
    "print(\"displaying dictionary data\")\n",
    "for key, item in unpickled_dict.items():\n",
    "    print(key, '-->', item)"
   ]
  },
  {
   "cell_type": "code",
   "execution_count": null,
   "id": "bf49e599",
   "metadata": {},
   "outputs": [],
   "source": []
  }
 ],
 "metadata": {
  "kernelspec": {
   "display_name": "Python 3 (ipykernel)",
   "language": "python",
   "name": "python3"
  },
  "language_info": {
   "codemirror_mode": {
    "name": "ipython",
    "version": 3
   },
   "file_extension": ".py",
   "mimetype": "text/x-python",
   "name": "python",
   "nbconvert_exporter": "python",
   "pygments_lexer": "ipython3",
   "version": "3.9.7"
  }
 },
 "nbformat": 4,
 "nbformat_minor": 5
}
