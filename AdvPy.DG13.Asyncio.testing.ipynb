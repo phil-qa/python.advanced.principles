{
 "cells": [
  {
   "cell_type": "markdown",
   "id": "c1472716-7685-4706-b421-fa00f547bf1d",
   "metadata": {},
   "source": [
    "# Asyncio testing\n",
    "\n",
    "Introspection in asyncio testing plays a crucial role in understanding and managing the state and behavior of asynchronous code. In the context of asyncio, introspection involves examining and manipulating the event loop, tasks, and other components to ensure that asynchronous operations are functioning correctly. Here are some key aspects of introspection in asyncio testing:   \n",
    "\n",
    "- Monitoring the Event Loop:\n",
    "\n",
    "Checking for Pending Tasks: Introspection allows you to inspect the event loop to check for any pending tasks or scheduled callbacks. This helps ensure that no tasks are left incomplete or hanging, which is essential for verifying the correctness of your asynchronous code.\n",
    "Event Loop State: By examining the state of the event loop, you can ensure that it is in the expected state at various points in your test. This includes checking if the loop is running, closed, or has any pending I/O operations.\n",
    "\n",
    "- Task Management:\n",
    "\n",
    "Inspecting Task States: Introspection enables you to examine the state of individual tasks (e.g., pending, running, done) to verify that they are progressing as expected. This is useful for ensuring that tasks are properly scheduled, executed, and completed.\n",
    "Handling Task Results: You can retrieve the results or exceptions of completed tasks to validate the outcomes of asynchronous operations. This helps in verifying that tasks produce the expected results or handle errors appropriately. \n",
    "\n",
    "- Debugging and Troubleshooting:\n",
    "\n",
    "Identifying Deadlocks and Race Conditions: Introspection helps in identifying issues such as deadlocks and race conditions by providing visibility into the execution order and timing of asynchronous operations.\n",
    "Tracing Task Execution: By tracing the execution flow of tasks, you can understand how different tasks interact and influence each other, making it easier to diagnose and fix issues.   \n",
    "\n",
    "- Ensuring Clean State:\n",
    "\n",
    "Cleanup and Resource Management: Introspection aids in ensuring that all resources (e.g., sockets, file handles) are properly released and that the event loop is clean and ready for the next test. This helps prevent resource leaks and ensures that tests are isolated and repeatable.\n",
    "\n",
    "- Assertions and Verification:\n",
    "\n",
    "Making Assertions: You can make assertions about the state of the event loop, tasks, and other components to verify that they meet the expected conditions. This includes checking that tasks complete within a certain timeframe, that no unexpected tasks are running, and that the event loop behaves as expected.\n"
   ]
  },
  {
   "cell_type": "markdown",
   "id": "79a4652e-4508-4d09-b0f3-5ec1c25d4560",
   "metadata": {},
   "source": [
    "## Unittest also can cover Asyncio testing\n",
    " unittest can be effectively used to test asyncio code, especially with the enhancements and utilities provided by the standard library and third-party packages. \n",
    "\n",
    "- IsolatedAsyncioTestCase:  \n",
    "\n",
    "Python 3.8 introduced unittest.IsolatedAsyncioTestCase, which makes it easier to write tests for asyncio code by providing an isolated event loop for each test case.\n",
    "\n",
    "This class allows you to write asynchronous test methods directly.\n",
    "\n",
    "- Mocking and Patching:\n",
    "\n",
    "You can use unittest.mock to mock and patch asynchronous functions, which is useful for isolating the parts of the code you want to test.\n",
    "Third-Party Libraries:\n",
    "\n",
    "Libraries like pytest-asyncio provide additional utilities and fixtures that can simplify testing asyncio code."
   ]
  },
  {
   "cell_type": "code",
   "execution_count": null,
   "id": "7ddaf364-6def-4e3e-9291-e592f933cdd3",
   "metadata": {},
   "outputs": [],
   "source": [
    "import asyncio\n",
    "import unittest\n",
    "\n",
    "class TestAsyncioIntrospection(unittest.TestCase):\n",
    "\n",
    "    def setUp(self):\n",
    "        self.loop = asyncio.get_event_loop()\n",
    "\n",
    "    def tearDown(self):\n",
    "        self.loop.close()\n",
    "\n",
    "    async def async_task(self):\n",
    "        await asyncio.sleep(1)\n",
    "        return \"completed\"\n",
    "\n",
    "    def test_async_task(self):\n",
    "        task = self.loop.create_task(self.async_task())\n",
    "        \n",
    "        # Run the event loop until the task is complete\n",
    "        self.loop.run_until_complete(task)\n",
    "        \n",
    "        # Introspection: Check task state\n",
    "        self.assertTrue(task.done())\n",
    "        self.assertEqual(task.result(), \"completed\")\n",
    "        \n",
    "        # Introspection: Check event loop state\n",
    "        pending_tasks = asyncio.all_tasks(loop=self.loop)\n",
    "        self.assertEqual(len(pending_tasks), 0)\n",
    "\n",
    "    def test_no_pending_tasks(self):\n",
    "        # Introspection: Check for pending tasks\n",
    "        pending_tasks = asyncio.all_tasks(loop=self.loop)\n",
    "        self.assertEqual(len(pending_tasks), 0)\n",
    "\n",
    "if __name__ == \"__main__\":\n",
    "    unittest.main()\n"
   ]
  },
  {
   "cell_type": "code",
   "execution_count": 2,
   "id": "8d77fbee-6352-4177-ac97-56700b3d48dd",
   "metadata": {},
   "outputs": [
    {
     "name": "stderr",
     "output_type": "stream",
     "text": [
      "E\n",
      "======================================================================\n",
      "ERROR: C:\\Users\\phili\\AppData\\Roaming\\jupyter\\runtime\\kernel-934b62a5-f928-4d8a-b3c9-ff8840400f2b (unittest.loader._FailedTest.C:\\Users\\phili\\AppData\\Roaming\\jupyter\\runtime\\kernel-934b62a5-f928-4d8a-b3c9-ff8840400f2b)\n",
      "----------------------------------------------------------------------\n",
      "AttributeError: module '__main__' has no attribute 'C:\\Users\\phili\\AppData\\Roaming\\jupyter\\runtime\\kernel-934b62a5-f928-4d8a-b3c9-ff8840400f2b'\n",
      "\n",
      "----------------------------------------------------------------------\n",
      "Ran 1 test in 0.001s\n",
      "\n",
      "FAILED (errors=1)\n"
     ]
    },
    {
     "ename": "SystemExit",
     "evalue": "True",
     "output_type": "error",
     "traceback": [
      "An exception has occurred, use %tb to see the full traceback.\n",
      "\u001b[1;31mSystemExit\u001b[0m\u001b[1;31m:\u001b[0m True\n"
     ]
    },
    {
     "name": "stderr",
     "output_type": "stream",
     "text": [
      "C:\\Users\\phili\\anaconda3\\envs\\development\\Lib\\site-packages\\IPython\\core\\interactiveshell.py:3585: UserWarning: To exit: use 'exit', 'quit', or Ctrl-D.\n",
      "  warn(\"To exit: use 'exit', 'quit', or Ctrl-D.\", stacklevel=1)\n"
     ]
    }
   ],
   "source": [
    "#example code  \n",
    "import asyncio\n",
    "import unittest\n",
    "\n",
    "async def fetch_data(url):\n",
    "  # Simulate fetching data from a URL (replace with actual logic)\n",
    "  await asyncio.sleep(0.1)  # Simulate some wait time\n",
    "  return f\"Data from {url}\"\n",
    "\n",
    "class TestAsyncFunction(unittest.IsolatedAsyncioTestCase):\n",
    "  async def test_fetch_data(self):\n",
    "    url = \"https://example.com/data\"\n",
    "    data = await fetch_data(url)\n",
    "    self.assertEqual(data, f\"Data from {url}\")\n",
    "\n",
    "if __name__ == \"__main__\":\n",
    "  unittest.main()\n",
    "\n"
   ]
  },
  {
   "cell_type": "code",
   "execution_count": null,
   "id": "4cc4049f-af80-45d2-9f4d-cf205dee4041",
   "metadata": {},
   "outputs": [],
   "source": [
    "#with mock example \n",
    "import asyncio\n",
    "import unittest\n",
    "from unittest.mock import AsyncMock\n",
    "\n",
    "async def fetch_data(url):\n",
    "  # Simulate calling an external service\n",
    "  return await external_service.get_data(url)\n",
    "\n",
    "async def external_service():\n",
    "  # Simulate external service (replace with actual logic)\n",
    "  await asyncio.sleep(0.2)  # Simulate wait time\n",
    "  return AsyncMock()\n",
    "\n",
    "class TestAsyncFunction(unittest.IsolatedAsyncioTestCase):\n",
    "  async def test_fetch_data(self):\n",
    "    url = \"https://example.com/data\"\n",
    "    # Patch the external_service function with AsyncMock\n",
    "    with unittest.mock.patch.object(globals(), 'external_service', AsyncMock()) as mock_service:\n",
    "      mock_service.get_data.return_value = \"Mocked Data\"\n",
    "      data = await fetch_data(url)\n",
    "      # Assert the fetch_data called the mocked service\n",
    "      mock_service.get_data.assert_called_once_with(url)\n",
    "      # Assert the returned data\n",
    "      self.assertEqual(data, \"Mocked Data\")\n",
    "\n",
    "if __name__ == \"__main__\":\n",
    "  unittest.main()\n",
    "\n"
   ]
  },
  {
   "cell_type": "markdown",
   "id": "b22922e5-a144-4156-8ade-d80d4f5ac627",
   "metadata": {},
   "source": [
    "## Characteristics of coroutine \n",
    "These have been covered before but it is worth examining again: They are a special type of function in Python that can pause and resume its execution, allowing for cooperative multitasking. When you use async def to define a function and await to call other asynchronous operations within it, you create a coroutine. Coroutines are the building blocks of asynchronous programming.   \n",
    "Asynchronous Definition:\n",
    "\n",
    "A coroutine is defined using the async def syntax. This marks the function as asynchronous and allows it to use the await keyword to pause execution until an awaited task is completed.   \n",
    "Yielding Control:\n",
    "\n",
    "Unlike regular functions, coroutines can yield control back to the event loop using await. This allows other tasks to run while waiting for the awaited operation to complete. This is key to achieving concurrency without using threads or processes.   \n",
    "\n",
    "Event Loop:\n",
    "\n",
    "Coroutines run within an event loop, which manages their execution and ensures that tasks are run concurrently in an efficient manner. The event loop schedules and runs coroutines, handling the pauses and resumptions.   \n",
    "\n",
    "Non-blocking:\n",
    "\n",
    "By using await, coroutines can perform non-blocking I/O operations, such as reading from a network socket, without blocking the entire program. This makes them suitable for I/O-bound tasks where waiting for I/O operations would otherwise block the execution of other tasks.   \n",
    "\n",
    "Returning Values:\n",
    "\n",
    "Coroutines can return values using the return statement, just like regular functions. When a coroutine completes, it returns its result to the caller.\n"
   ]
  },
  {
   "cell_type": "markdown",
   "id": "f0dc3ba8-a30c-4a28-a54a-216aac7f63bd",
   "metadata": {},
   "source": [
    "## SelectorEventLoop \n",
    "The Selector event loop is the default event loop implementation used by asyncio on many platforms, including Windows and Unix systems (though on some Unix systems, another event loop implementation might be used). It is based on the selectors module, which provides a high-level interface for I/O multiplexing. Note though that on windows only sockets are supported Linux can support pipes for IPC communication.   \n",
    "\n",
    "I/O Multiplexing:\n",
    "\n",
    "The Selector event loop uses the selectors module, which in turn relies on the most efficient I/O multiplexing mechanism available on the platform, such as select(), poll(), epoll(), or kqueue(). These mechanisms allow the event loop to monitor multiple file descriptors (such as sockets) to see if they are ready for I/O operations (like reading or writing).   \n"
   ]
  },
  {
   "cell_type": "code",
   "execution_count": null,
   "id": "9933231c-a48e-481b-baad-73ecff2ec11f",
   "metadata": {},
   "outputs": [],
   "source": [
    "#example code THIS WIL NOT RUN IN JUPYTER as they reun their own event loops\n",
    "import asyncio\n",
    "import selectors\n",
    "\n",
    "async def handle_client(reader, writer):\n",
    "    data = await reader.read(100)\n",
    "    message = data.decode()\n",
    "    print(f\"Received: {message}\")\n",
    "    writer.write(data)\n",
    "    await writer.drain()\n",
    "    writer.close()\n",
    "\n",
    "async def main():\n",
    "    server = await asyncio.start_server(handle_client, '127.0.0.1', 8888)\n",
    "    async with server:\n",
    "        await server.serve_forever()\n",
    "\n",
    "# Create and set a Selector event loop\n",
    "selector = selectors.DefaultSelector()\n",
    "loop = asyncio.SelectorEventLoop(selector)\n",
    "asyncio.set_event_loop(loop)\n",
    "\n",
    "# Run the event loop\n",
    "loop.run_until_complete(main())\n"
   ]
  },
  {
   "attachments": {},
   "cell_type": "markdown",
   "id": "07b0bdf8-a062-4253-86d8-12f7dd7b73f6",
   "metadata": {},
   "source": [
    "## ProactorEventLoop \n",
    "The Proactor event loop is a specific type of event loop implementation provided by asyncio for Windows systems. It is designed to handle I/O operations using I/O completion ports (IOCP), which is an efficient mechanism provided by the Windows operating system for handling asynchronous I/O.   \n"
   ]
  },
  {
   "cell_type": "code",
   "execution_count": null,
   "id": "699fd23c-6d99-4344-916c-8d274caaaf56",
   "metadata": {},
   "outputs": [],
   "source": [
    "#Example code   \n",
    "import asyncio\n",
    "\n",
    "async def handle_client(reader, writer):\n",
    "    data = await reader.read(100)\n",
    "    message = data.decode()\n",
    "    print(f\"Received: {message}\")\n",
    "    writer.write(data)\n",
    "    await writer.drain()\n",
    "    writer.close()\n",
    "\n",
    "async def main():\n",
    "    server = await asyncio.start_server(handle_client, '127.0.0.1', 8888)\n",
    "    async with server:\n",
    "        await server.serve_forever()\n",
    "\n",
    "# Set ProactorEventLoop as the event loop for asyncio\n",
    "loop = asyncio.ProactorEventLoop()\n",
    "asyncio.set_event_loop(loop)\n",
    "\n",
    "# Run the event loop\n",
    "loop.run_until_complete(main())\n"
   ]
  },
  {
   "cell_type": "code",
   "execution_count": null,
   "id": "cac64d58-0aa4-40b4-9fb0-87c1b2e196e0",
   "metadata": {},
   "outputs": [],
   "source": []
  }
 ],
 "metadata": {
  "kernelspec": {
   "display_name": "Python 3 (ipykernel)",
   "language": "python",
   "name": "python3"
  },
  "language_info": {
   "codemirror_mode": {
    "name": "ipython",
    "version": 3
   },
   "file_extension": ".py",
   "mimetype": "text/x-python",
   "name": "python",
   "nbconvert_exporter": "python",
   "pygments_lexer": "ipython3",
   "version": "3.11.9"
  }
 },
 "nbformat": 4,
 "nbformat_minor": 5
}
