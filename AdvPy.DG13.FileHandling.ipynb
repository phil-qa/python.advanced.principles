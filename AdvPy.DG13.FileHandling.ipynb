{
 "cells": [
  {
   "cell_type": "markdown",
   "id": "6622ebd3",
   "metadata": {},
   "source": [
    "Normally there are no safeguards to protect against multiple\n",
    "processes accessing the same file concurrently. In such cases, the\n",
    "rule is that the \"last write wins\", in other words any changes made\n",
    "by one process may be lost if another were to write the same file.\n",
    "\n",
    "\n",
    "\n",
    "\n",
    "However, there is support in UNIX to apply locks to files (or parts of\n",
    "files, called records). It requires the processes to co-operate with\n",
    "each other (called advisory locking). Each process should always\n",
    "check if a given file or record is locked before accessing it. If this\n",
    "check is not performed, there is no built in protection to avoid\n",
    "possible corruption.\n",
    "\n",
    "The reason that locking is advisory is to avoid an unacceptable\n",
    "performance penalty. Some versions of UNIX support mandatory\n",
    "(enforced) locks, but this has a major impact on performance as\n",
    "every I/O operation on a file must be checked by the kernel.\n",
    "Mandatory locking can be enabled on SVR3 and 4 by turning on\n",
    "the set-group-ID bit (S_ISGID), and turning off the group-execute\n",
    "bit (S_IXGRP). This strange use of the set-group-ID is generally\n",
    "considered to be an inglorious hack!\n",
    "Most locks are exclusive, i.e. only one process may hold the lock at\n",
    "a time. This is clearly appropriate where many process may be\n",
    "writing to the file or record. It is possible, however, to have a\n",
    "shared lock where more than one process may hold the lock,\n",
    "allowing multiple readers to access the file or record concurrently.\n",
    "There are a number of locking regimes available on UNIX, for\n",
    "historical reasons. POSIX has standardised on one, using fcntl(),\n",
    "and this is the one we shall discuss."
   ]
  },
  {
   "cell_type": "markdown",
   "id": "57994202",
   "metadata": {},
   "source": [
    "The Python functions available in the fcntl module on UNIX are a\n",
    "little confusing. They are loosely based on the C routines of the\n",
    "same name, but there is often not a one-to-one relationship. This\n",
    "is an occasion where it might be better not to know the C API too\n",
    "well!\n"
   ]
  },
  {
   "cell_type": "markdown",
   "id": "3fd3771c",
   "metadata": {},
   "source": [
    "The easiest way to use file locking from Python on UNIX is\n",
    "fcntl.lockf() (see the notes on the previous slide).\n",
    "It can act on a raw file descriptor or on a file object. Either way the\n",
    "file must be open. Note that if you have two file descriptors open\n",
    "on the same file, the locking will only apply to the one specified to\n",
    "lockf().\n"
   ]
  },
  {
   "cell_type": "markdown",
   "id": "de9685ee",
   "metadata": {},
   "source": [
    "### Windows file locking \n",
    "The msvcrt (MicroSoft Visual C Run Time) module only implements\n",
    "a small number of the routines available in the MS RTL, however it\n",
    "does implement file locking.\n",
    "The example shown does a similar function to the previous one for\n",
    "fcntl.flock(), however the code is very different. Only exclusive locks\n",
    "are supported.\n",
    "Unlike fcntl.flock() there is no start argument (or whence). The lock\n",
    "or unlock call only operates on the current file position. This means\n",
    "that in order to unlock the correct region we have to move the\n",
    "current file position back to where it was before we did the read or\n",
    "write. Having unlocked, we now have to advance the file position\n",
    "again, back to where we were after the read or write, so we can\n",
    "proceed.\n",
    "Again, if we unlock a region for which we have no lock then we do\n",
    "not get an error or exception."
   ]
  },
  {
   "cell_type": "code",
   "execution_count": null,
   "id": "05e187f0",
   "metadata": {},
   "outputs": [],
   "source": []
  },
  {
   "cell_type": "markdown",
   "id": "6863cb72",
   "metadata": {},
   "source": [
    "## Race conditions\n",
    "Race conditions can be difficult to detect and diagnose, as they often occur only under certain conditions or when running the program on certain hardware or operating systems. They can also be difficult to reproduce and debug, as the behavior of the program may be non-deterministic.\n",
    "\n",
    "To prevent race conditions, developers use techniques such as locking, synchronization, and atomic operations to ensure that shared resources are accessed in a controlled and predictable manner. These techniques help to ensure that only one process or thread can access a shared resource at a time, reducing the likelihood of unexpected behavior."
   ]
  },
  {
   "cell_type": "markdown",
   "id": "ee60065e",
   "metadata": {},
   "source": [
    "Race conditions can be difficult to detect and diagnose, as they often occur only under certain conditions or when running the program on certain hardware or operating systems. They can also be difficult to reproduce and debug, as the behavior of the program may be non-deterministic.\n",
    "\n",
    "To prevent race conditions, developers use techniques such as locking, synchronization, and atomic operations to ensure that shared resources are accessed in a controlled and predictable manner. These techniques help to ensure that only one process or thread can access a shared resource at a time, reducing the likelihood of unexpected behavior.\n",
    "\n",
    "Sysinternals is a suite of system utilities and tools for Windows operating systems, created by Mark Russinovich and Bryce Cogswell in 1996. The suite consists of over 70 individual tools that are designed to help diagnose and troubleshoot a wide variety of system and application issues.\n",
    "\n",
    "The Sysinternals tools cover a wide range of system management tasks, including:\n",
    "\n",
    "Process management: tools for monitoring and controlling running processes and services, including Process Explorer and Process Monitor.\n",
    "System information: tools for gathering information about system hardware and software configuration, such as System Information for Windows (SIW) and RAMMap.\n",
    "Disk management: tools for managing disk usage and performance, such as Disk Usage (DU) and Disk2vhd.\n",
    "Network management: tools for monitoring and troubleshooting network connections and activity, such as TCPView and PsPing.\n",
    "Security and privacy: tools for identifying and removing malware, as well as managing system permissions and access controls, such as Autoruns and AccessChk."
   ]
  },
  {
   "cell_type": "markdown",
   "id": "0dc51987",
   "metadata": {},
   "source": []
  },
  {
   "cell_type": "code",
   "execution_count": null,
   "id": "24b83e99",
   "metadata": {},
   "outputs": [],
   "source": []
  }
 ],
 "metadata": {
  "kernelspec": {
   "display_name": "Python 3 (ipykernel)",
   "language": "python",
   "name": "python3"
  },
  "language_info": {
   "codemirror_mode": {
    "name": "ipython",
    "version": 3
   },
   "file_extension": ".py",
   "mimetype": "text/x-python",
   "name": "python",
   "nbconvert_exporter": "python",
   "pygments_lexer": "ipython3",
   "version": "3.9.7"
  }
 },
 "nbformat": 4,
 "nbformat_minor": 5
}
