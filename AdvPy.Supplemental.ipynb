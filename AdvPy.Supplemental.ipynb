{
 "cells": [
  {
   "cell_type": "markdown",
   "id": "7f681ffa-b016-4260-a793-097d3d44828c",
   "metadata": {},
   "source": [
    "# Supplemental data in support of Adv python \n",
    "This notebook is in support of the advanced python course, some examples of useful things. \n",
    "## Contents\n",
    "[map()](#map)   \n",
    "[filter()](#filter)"
   ]
  },
  {
   "cell_type": "markdown",
   "id": "c6e8ee6a-9515-4275-b399-d6234b0eeccc",
   "metadata": {},
   "source": [
    "## map()\n",
    "<a id='map'></a>\n",
    "The map() function in Python is used to apply a given function to all items in an input list (or any other iterable) and return a map object (which is an iterator)"
   ]
  },
  {
   "cell_type": "code",
   "execution_count": 2,
   "id": "77d46eb4-671d-4388-ad4e-112208e01b9b",
   "metadata": {},
   "outputs": [
    {
     "name": "stdout",
     "output_type": "stream",
     "text": [
      "coke\n",
      "brandy\n",
      "lemons\n"
     ]
    }
   ],
   "source": [
    "#GA standard iterator object \n",
    "tuply_things = ('coke', 'brandy', 'lemons')\n",
    "\n",
    "#make it iterable \n",
    "my_iterator = iter(tuply_things)\n",
    "\n",
    "#show it being an iterable \n",
    "print(next(my_iterator))\n",
    "print(next(my_iterator))\n",
    "print(next(my_iterator))\n"
   ]
  },
  {
   "cell_type": "code",
   "execution_count": 9,
   "id": "0e6c3ae8-33f1-4e00-9e9c-4090cb956a43",
   "metadata": {},
   "outputs": [
    {
     "name": "stdout",
     "output_type": "stream",
     "text": [
      "42 28 106\n"
     ]
    }
   ],
   "source": [
    "#Demonstrate Map returns iterator\n",
    "\n",
    "\n",
    "def double(x):\n",
    "    return x * 2\n",
    "\n",
    "numbers = [21, 14, 53, 4, 33]\n",
    "result = map(double, numbers)\n",
    "\n",
    "first = result.__next__()\n",
    "second = result.__next__()\n",
    "third = result.__next__()\n",
    "\n",
    "print(first, second, third)"
   ]
  },
  {
   "cell_type": "markdown",
   "id": "1f70281c-54a9-48cd-8f7c-e0c021a15d0c",
   "metadata": {},
   "source": [
    "## filter()\n",
    "<a id='filter'></a>\n",
    "Filter is another function that returns an iterator. Filters purpose is to construct an iterator from elements of an iterable for which a function returns trus, thus filtering out elements that do not meet a specified condition"
   ]
  },
  {
   "cell_type": "code",
   "execution_count": 15,
   "id": "9ab3c1f0-512e-476e-a9c2-23af63bdc491",
   "metadata": {},
   "outputs": [],
   "source": [
    "# example of filter\n",
    "#set up the filter function \n",
    "def is_prime(number):\n",
    "    if number <= 1:\n",
    "        return False\n",
    "    if number <= 3:\n",
    "        return True\n",
    "    if number % 2 == 0 or number % 3 == 0:\n",
    "        return False\n",
    "    index = 5\n",
    "    while index * index <= number:\n",
    "        if number % index == 0 or number % (index + 2) == 0:\n",
    "            return False\n",
    "        index += 6\n",
    "    return True"
   ]
  },
  {
   "cell_type": "code",
   "execution_count": 16,
   "id": "7e0f73a1-99fe-4a79-a73c-edb6da86d50f",
   "metadata": {},
   "outputs": [
    {
     "name": "stdout",
     "output_type": "stream",
     "text": [
      "[2, 3, 5, 7, 11, 13, 17, 19, 23, 29, 31, 37, 41, 43, 47, 53, 59, 61, 67, 71, 73, 79, 83, 89, 97, 101, 103, 107, 109, 113, 127, 131, 137, 139, 149, 151, 157, 163, 167, 173, 179, 181, 191, 193, 197, 199, 211, 223, 227, 229, 233, 239, 241, 251, 257, 263, 269, 271, 277, 281, 283, 293, 307, 311, 313, 317, 331, 337, 347, 349, 353, 359, 367, 373, 379, 383, 389, 397, 401, 409, 419, 421, 431, 433, 439, 443, 449, 457, 461, 463, 467, 479, 487, 491, 499, 503, 509, 521, 523, 541, 547, 557, 563, 569, 571, 577, 587, 593, 599, 601, 607, 613, 617, 619, 631, 641, 643, 647, 653, 659, 661, 673, 677, 683, 691, 701, 709, 719, 727, 733, 739, 743, 751, 757, 761, 769, 773, 787, 797, 809, 811, 821, 823, 827, 829, 839, 853, 857, 859, 863, 877, 881, 883, 887, 907, 911, 919, 929, 937, 941, 947, 953, 967, 971, 977, 983, 991, 997]\n"
     ]
    }
   ],
   "source": [
    "# test number range to 1000\n",
    "primes = filter(is_prime, range(0,1000))\n",
    "print(list(primes))"
   ]
  },
  {
   "cell_type": "markdown",
   "id": "eead93f1-74c0-441c-a103-beaf1a11bf68",
   "metadata": {},
   "source": [
    "## Dictionary view Objects\n",
    "In Python, dictionary view objects are dynamic views of the dictionary’s entries, which mean they reflect changes to the dictionary. There are three types of dictionary view objects:  \n",
    "- dict_keys,\n",
    "- dict_values,\n",
    "- and dict_items.\n",
    "\n",
    "These objects provide a way to look at the dictionary's keys, values, and key-value pairs."
   ]
  }
 ],
 "metadata": {
  "kernelspec": {
   "display_name": "Python 3 (ipykernel)",
   "language": "python",
   "name": "python3"
  },
  "language_info": {
   "codemirror_mode": {
    "name": "ipython",
    "version": 3
   },
   "file_extension": ".py",
   "mimetype": "text/x-python",
   "name": "python",
   "nbconvert_exporter": "python",
   "pygments_lexer": "ipython3",
   "version": "3.11.9"
  }
 },
 "nbformat": 4,
 "nbformat_minor": 5
}
