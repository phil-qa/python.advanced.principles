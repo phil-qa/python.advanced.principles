{
 "cells": [
  {
   "cell_type": "markdown",
   "id": "e9f50690",
   "metadata": {},
   "source": [
    "# Revision\n",
    "\n",
    "## Everything is a an object of a type\n",
    "\n",
    "Like most scripting languages, Python variables are defined\n",
    "automatically, and are untyped until assigned. \n",
    "\n",
    "In other words in python they are dynamic\n",
    "\n",
    "Variables are actually references to objects, so the assignment of a string to a\n",
    "variable makes that variable reference a string object. Uninitialised\n",
    "variables reference an object called None (NULL, nil or undef in\n",
    "other languages).\n",
    "You could argue, as some do, that Python does not have variables!\n",
    "Where the objects themselves are immutable (cannot be altered)\n",
    "then several names (variables) may reference the same physical\n",
    "value.\n",
    "Unlike most scripting languages, names defined in a function are\n",
    "local by default - and must be specifically marked as global if\n",
    "required"
   ]
  },
  {
   "cell_type": "code",
   "execution_count": 2,
   "id": "a8f4b50b",
   "metadata": {},
   "outputs": [
    {
     "name": "stdout",
     "output_type": "stream",
     "text": [
      "33210\n",
      "the value of thing is None\n",
      "The type of thing is <class 'NoneType'>\n",
      "the value of thing is 10\n",
      "The type of thing is <class 'int'>\n",
      "the value of thing is 10\n",
      "The type of thing is <class 'str'>\n",
      "the value of thing is 10.1\n",
      "The type of thing is <class 'float'>\n",
      "the value of thing is 0.30000000000000004\n",
      "The type of thing is <class 'float'>\n",
      "<class 'type'>\n"
     ]
    }
   ],
   "source": [
    "def print_type(thing):\n",
    "    print(f\"the value of thing is {thing}\")\n",
    "    print(f'The type of thing is {type(thing)}')\n",
    "\n",
    "thing = None\n",
    "\n",
    "import sys\n",
    "\n",
    "print(sys.getrefcount(None))\n",
    "\n",
    "print_type(thing)\n",
    "\n",
    "thing = 10\n",
    "\n",
    "print_type(thing)\n",
    "\n",
    "thing = '10'\n",
    "\n",
    "print_type(thing)\n",
    "\n",
    "thing = 10.1\n",
    "\n",
    "print_type(thing)\n",
    "\n",
    "thing = 0.1 + 0.1 + 0.1\n",
    "\n",
    "print_type(thing)\n",
    "\n",
    "print(type)\n"
   ]
  },
  {
   "cell_type": "markdown",
   "id": "831a1987",
   "metadata": {},
   "source": [
    "### Floating point issue\n",
    "Clearly the last float is not necessarily what we expected, this is an artefact of the method twos compliment that is used to develop a floating point\n",
    "better to use decimal"
   ]
  },
  {
   "cell_type": "code",
   "execution_count": 2,
   "id": "ebc32fa5",
   "metadata": {},
   "outputs": [
    {
     "name": "stdout",
     "output_type": "stream",
     "text": [
      "the value of thing is 0.3\n",
      "The type of thing is <class 'decimal.Decimal'>\n"
     ]
    }
   ],
   "source": [
    "import decimal\n",
    "from decimal import Decimal \n",
    "thing = Decimal('0.1') + Decimal ('0.1') + Decimal('0.1')\n",
    "print_type(thing)"
   ]
  },
  {
   "cell_type": "code",
   "execution_count": 3,
   "id": "41e07bc7",
   "metadata": {},
   "outputs": [
    {
     "name": "stdout",
     "output_type": "stream",
     "text": [
      "2.3\n",
      "3.4\n"
     ]
    }
   ],
   "source": [
    "# Using decimal we can apply rounding, first getting the context, global or local \n",
    "context = decimal.getcontext()\n",
    "context.rounding = decimal.ROUND_HALF_UP\n",
    "\n",
    "value_1 = Decimal('2.25')\n",
    "value_2 = Decimal('3.35')\n",
    "\n",
    "print(round(value_1, 1))\n",
    "print(round(value_2, 1))"
   ]
  },
  {
   "cell_type": "markdown",
   "id": "f614ca99",
   "metadata": {},
   "source": [
    "### Context allows access to more rounding options \n",
    "Rounding\tDescription\n",
    "ROUND_UP\tround away from zero\n",
    "ROUND_DOWN\tround towards zero\n",
    "ROUND_CEILING\tround to ceiling (towards positive infinity)\n",
    "ROUND_FLOOR\tround to floor (towards negative infinity)\n",
    "ROUND_HALF_UP\tround to nearest, ties away from zero\n",
    "ROUND_HALF_DOWN\tround to nearest, ties towards zero\n",
    "ROUND_HALF_EVEN\tround to nearest, ties to even (least significant digit)"
   ]
  },
  {
   "cell_type": "code",
   "execution_count": 4,
   "id": "15d935a4",
   "metadata": {},
   "outputs": [
    {
     "data": {
      "text/plain": [
       "Context(prec=28, rounding=ROUND_HALF_UP, Emin=-999999, Emax=999999, capitals=1, clamp=0, flags=[Inexact, Rounded], traps=[InvalidOperation, DivisionByZero, Overflow])"
      ]
     },
     "execution_count": 4,
     "metadata": {},
     "output_type": "execute_result"
    }
   ],
   "source": [
    "# get the current context \n",
    "decimal.getcontext()\n"
   ]
  },
  {
   "cell_type": "markdown",
   "id": "872d18fa",
   "metadata": {},
   "source": [
    "## List comprehensions\n",
    "Very useful container type in python takes all supported types as elements and extends functionality. "
   ]
  },
  {
   "cell_type": "code",
   "execution_count": 3,
   "id": "2b539500",
   "metadata": {},
   "outputs": [
    {
     "name": "stdout",
     "output_type": "stream",
     "text": [
      "\n",
      "\n",
      "\n",
      "\n",
      "+++++++++++++basic list comprehension++++++++++++++++++++\n",
      "\n",
      "[4096, 0, 0, 0, 20480, 0, 8192, 0, 4096, 0, 174, 0, 0, 4096, 4096, 0, 0, 4096, 0, 4096, 24576, 0, 28672, 0, 4096, 0, 0, 0, 4096, 0, 0, 0, 4096, 0, 4096, 0, 0, 4096, 0, 8192, 0, 98304, 0, 4096, 4096, 0, 4096, 4096, 4096, 0, 0, 0, 8192, 4096, 0, 4096, 0, 8192, 0, 4096, 0, 0, 0, 0, 4096, 4096, 0, 4096, 0, 0, 4096, 0, 0, 0, 0, 0, 40960, 0]\n",
      "\n",
      "\n",
      "\n",
      "\n",
      "+++++++++++++advanced list comprehension++++++++++++++++++++\n",
      "\n",
      "[{'name': 'C:/program files\\\\7-Zip', 'size': 4096}, {'name': 'C:/program files\\\\Adobe', 'size': 0}, {'name': 'C:/program files\\\\Android', 'size': 0}, {'name': 'C:/program files\\\\Application Verifier', 'size': 0}, {'name': 'C:/program files\\\\Audacity', 'size': 20480}, {'name': 'C:/program files\\\\BraveSoftware', 'size': 0}, {'name': 'C:/program files\\\\CodeBlocks', 'size': 8192}, {'name': 'C:/program files\\\\CodingRoad', 'size': 0}, {'name': 'C:/program files\\\\Common Files', 'size': 4096}, {'name': 'C:/program files\\\\ConEmu', 'size': 0}, {'name': 'C:/program files\\\\desktop.ini', 'size': 174}, {'name': 'C:/program files\\\\DIFX', 'size': 0}, {'name': 'C:/program files\\\\Docker', 'size': 0}, {'name': 'C:/program files\\\\dotnet', 'size': 4096}, {'name': 'C:/program files\\\\draw.io', 'size': 4096}, {'name': 'C:/program files\\\\Eclipse Adoptium', 'size': 0}, {'name': 'C:/program files\\\\GIMP 2', 'size': 0}, {'name': 'C:/program files\\\\Git', 'size': 4096}, {'name': 'C:/program files\\\\Google', 'size': 0}, {'name': 'C:/program files\\\\HP', 'size': 4096}, {'name': 'C:/program files\\\\HPPrintScanDoctor', 'size': 24576}, {'name': 'C:/program files\\\\IIS', 'size': 0}, {'name': 'C:/program files\\\\IIS Express', 'size': 28672}, {'name': 'C:/program files\\\\Intel', 'size': 0}, {'name': 'C:/program files\\\\Internet Explorer', 'size': 4096}, {'name': 'C:/program files\\\\iTop Screen Recorder', 'size': 0}, {'name': 'C:/program files\\\\Java', 'size': 0}, {'name': 'C:/program files\\\\JetBrains', 'size': 0}, {'name': 'C:/program files\\\\LINQPad5', 'size': 4096}, {'name': 'C:/program files\\\\Logi', 'size': 0}, {'name': 'C:/program files\\\\Logitech', 'size': 0}, {'name': 'C:/program files\\\\Microsoft', 'size': 0}, {'name': 'C:/program files\\\\Microsoft Office', 'size': 4096}, {'name': 'C:/program files\\\\Microsoft Office 15', 'size': 0}, {'name': 'C:/program files\\\\Microsoft OneDrive', 'size': 4096}, {'name': 'C:/program files\\\\Microsoft SDKs', 'size': 0}, {'name': 'C:/program files\\\\Microsoft SQL Server', 'size': 0}, {'name': 'C:/program files\\\\Microsoft Update Health Tools', 'size': 4096}, {'name': 'C:/program files\\\\Microsoft Visual Studio', 'size': 0}, {'name': 'C:/program files\\\\Microsoft VS Code', 'size': 8192}, {'name': 'C:/program files\\\\MindManager', 'size': 0}, {'name': 'C:/program files\\\\MindManager 22', 'size': 98304}, {'name': 'C:/program files\\\\ModifiableWindowsApps', 'size': 0}, {'name': 'C:/program files\\\\MongoDB Compass', 'size': 4096}, {'name': 'C:/program files\\\\MySQL', 'size': 4096}, {'name': 'C:/program files\\\\Mythicsoft', 'size': 0}, {'name': 'C:/program files\\\\nodejs', 'size': 4096}, {'name': 'C:/program files\\\\Notepad++', 'size': 4096}, {'name': 'C:/program files\\\\Npcap', 'size': 4096}, {'name': 'C:/program files\\\\NVIDIA Corporation', 'size': 0}, {'name': 'C:/program files\\\\Online Services', 'size': 0}, {'name': 'C:/program files\\\\PackageManagement', 'size': 0}, {'name': 'C:/program files\\\\PCHealthCheck', 'size': 8192}, {'name': 'C:/program files\\\\Pentablet', 'size': 4096}, {'name': 'C:/program files\\\\Portrait Displays', 'size': 0}, {'name': 'C:/program files\\\\PuTTY', 'size': 4096}, {'name': 'C:/program files\\\\River', 'size': 0}, {'name': 'C:/program files\\\\RUXIM', 'size': 8192}, {'name': 'C:/program files\\\\Softland', 'size': 0}, {'name': 'C:/program files\\\\TortoiseSVN', 'size': 4096}, {'name': 'C:/program files\\\\Uninstall Information', 'size': 0}, {'name': 'C:/program files\\\\VideoLAN', 'size': 0}, {'name': 'C:/program files\\\\VS2010Schemas', 'size': 0}, {'name': 'C:/program files\\\\VS2012Schemas', 'size': 0}, {'name': 'C:/program files\\\\Windows Defender', 'size': 4096}, {'name': 'C:/program files\\\\Windows Defender Advanced Threat Protection', 'size': 4096}, {'name': 'C:/program files\\\\Windows Mail', 'size': 0}, {'name': 'C:/program files\\\\Windows Media Player', 'size': 4096}, {'name': 'C:/program files\\\\Windows Multimedia Platform', 'size': 0}, {'name': 'C:/program files\\\\Windows NT', 'size': 0}, {'name': 'C:/program files\\\\Windows Photo Viewer', 'size': 4096}, {'name': 'C:/program files\\\\Windows Portable Devices', 'size': 0}, {'name': 'C:/program files\\\\Windows Security', 'size': 0}, {'name': 'C:/program files\\\\Windows Sidebar', 'size': 0}, {'name': 'C:/program files\\\\WindowsApps', 'size': 0}, {'name': 'C:/program files\\\\WindowsPowerShell', 'size': 0}, {'name': 'C:/program files\\\\Wireshark', 'size': 40960}, {'name': 'C:/program files\\\\Xerox', 'size': 0}]\n",
      "\n",
      "\n",
      "\n",
      "\n",
      "+++++++++++++advanced list comprehension with filter++++++++++++++++++++\n",
      "\n",
      "[{'name': 'C:/program files\\\\7-Zip', 'size': 4096}, {'name': 'C:/program files\\\\Adobe', 'size': 0}, {'name': 'C:/program files\\\\Android', 'size': 0}, {'name': 'C:/program files\\\\Application Verifier', 'size': 0}, {'name': 'C:/program files\\\\Audacity', 'size': 20480}, {'name': 'C:/program files\\\\BraveSoftware', 'size': 0}, {'name': 'C:/program files\\\\CodeBlocks', 'size': 8192}, {'name': 'C:/program files\\\\CodingRoad', 'size': 0}, {'name': 'C:/program files\\\\Common Files', 'size': 4096}, {'name': 'C:/program files\\\\ConEmu', 'size': 0}, {'name': 'C:/program files\\\\DIFX', 'size': 0}, {'name': 'C:/program files\\\\Docker', 'size': 0}, {'name': 'C:/program files\\\\dotnet', 'size': 4096}, {'name': 'C:/program files\\\\draw.io', 'size': 4096}, {'name': 'C:/program files\\\\Eclipse Adoptium', 'size': 0}, {'name': 'C:/program files\\\\GIMP 2', 'size': 0}, {'name': 'C:/program files\\\\Git', 'size': 4096}, {'name': 'C:/program files\\\\Google', 'size': 0}, {'name': 'C:/program files\\\\HP', 'size': 4096}, {'name': 'C:/program files\\\\HPPrintScanDoctor', 'size': 24576}, {'name': 'C:/program files\\\\IIS', 'size': 0}, {'name': 'C:/program files\\\\IIS Express', 'size': 28672}, {'name': 'C:/program files\\\\Intel', 'size': 0}, {'name': 'C:/program files\\\\Internet Explorer', 'size': 4096}, {'name': 'C:/program files\\\\iTop Screen Recorder', 'size': 0}, {'name': 'C:/program files\\\\Java', 'size': 0}, {'name': 'C:/program files\\\\JetBrains', 'size': 0}, {'name': 'C:/program files\\\\LINQPad5', 'size': 4096}, {'name': 'C:/program files\\\\Logi', 'size': 0}, {'name': 'C:/program files\\\\Logitech', 'size': 0}, {'name': 'C:/program files\\\\Microsoft', 'size': 0}, {'name': 'C:/program files\\\\Microsoft Office', 'size': 4096}, {'name': 'C:/program files\\\\Microsoft Office 15', 'size': 0}, {'name': 'C:/program files\\\\Microsoft OneDrive', 'size': 4096}, {'name': 'C:/program files\\\\Microsoft SDKs', 'size': 0}, {'name': 'C:/program files\\\\Microsoft SQL Server', 'size': 0}, {'name': 'C:/program files\\\\Microsoft Update Health Tools', 'size': 4096}, {'name': 'C:/program files\\\\Microsoft Visual Studio', 'size': 0}, {'name': 'C:/program files\\\\Microsoft VS Code', 'size': 8192}, {'name': 'C:/program files\\\\MindManager', 'size': 0}, {'name': 'C:/program files\\\\MindManager 22', 'size': 98304}, {'name': 'C:/program files\\\\ModifiableWindowsApps', 'size': 0}, {'name': 'C:/program files\\\\MongoDB Compass', 'size': 4096}, {'name': 'C:/program files\\\\MySQL', 'size': 4096}, {'name': 'C:/program files\\\\Mythicsoft', 'size': 0}, {'name': 'C:/program files\\\\nodejs', 'size': 4096}, {'name': 'C:/program files\\\\Notepad++', 'size': 4096}, {'name': 'C:/program files\\\\Npcap', 'size': 4096}, {'name': 'C:/program files\\\\NVIDIA Corporation', 'size': 0}, {'name': 'C:/program files\\\\Online Services', 'size': 0}, {'name': 'C:/program files\\\\PackageManagement', 'size': 0}, {'name': 'C:/program files\\\\PCHealthCheck', 'size': 8192}, {'name': 'C:/program files\\\\Pentablet', 'size': 4096}, {'name': 'C:/program files\\\\Portrait Displays', 'size': 0}, {'name': 'C:/program files\\\\PuTTY', 'size': 4096}, {'name': 'C:/program files\\\\River', 'size': 0}, {'name': 'C:/program files\\\\RUXIM', 'size': 8192}, {'name': 'C:/program files\\\\Softland', 'size': 0}, {'name': 'C:/program files\\\\TortoiseSVN', 'size': 4096}, {'name': 'C:/program files\\\\Uninstall Information', 'size': 0}, {'name': 'C:/program files\\\\VideoLAN', 'size': 0}, {'name': 'C:/program files\\\\VS2010Schemas', 'size': 0}, {'name': 'C:/program files\\\\VS2012Schemas', 'size': 0}, {'name': 'C:/program files\\\\Windows Defender', 'size': 4096}, {'name': 'C:/program files\\\\Windows Defender Advanced Threat Protection', 'size': 4096}, {'name': 'C:/program files\\\\Windows Mail', 'size': 0}, {'name': 'C:/program files\\\\Windows Media Player', 'size': 4096}, {'name': 'C:/program files\\\\Windows Multimedia Platform', 'size': 0}, {'name': 'C:/program files\\\\Windows NT', 'size': 0}, {'name': 'C:/program files\\\\Windows Photo Viewer', 'size': 4096}, {'name': 'C:/program files\\\\Windows Portable Devices', 'size': 0}, {'name': 'C:/program files\\\\Windows Security', 'size': 0}, {'name': 'C:/program files\\\\Windows Sidebar', 'size': 0}, {'name': 'C:/program files\\\\WindowsApps', 'size': 0}, {'name': 'C:/program files\\\\WindowsPowerShell', 'size': 0}, {'name': 'C:/program files\\\\Wireshark', 'size': 40960}, {'name': 'C:/program files\\\\Xerox', 'size': 0}]\n",
      "\n",
      "\n",
      "\n",
      "\n",
      "+++++++++++++Sets in comprehension++++++++++++++++++++\n",
      "\n",
      "{9, 10, 7}\n",
      "\n",
      "\n",
      "\n",
      "\n",
      "+++++++++++++Using dictionary in comprehension++++++++++++++++++++\n",
      "\n",
      "develop a basic tuple series\n",
      "develop a dictionary from the tuple series\n",
      "{'C:/program files\\\\7-Zip': 4096, 'C:/program files\\\\Audacity': 20480, 'C:/program files\\\\CodeBlocks': 8192, 'C:/program files\\\\Common Files': 4096, 'C:/program files\\\\desktop.ini': 174, 'C:/program files\\\\dotnet': 4096, 'C:/program files\\\\draw.io': 4096, 'C:/program files\\\\Git': 4096, 'C:/program files\\\\HP': 4096, 'C:/program files\\\\HPPrintScanDoctor': 24576, 'C:/program files\\\\IIS Express': 28672, 'C:/program files\\\\Internet Explorer': 4096, 'C:/program files\\\\LINQPad5': 4096, 'C:/program files\\\\Microsoft Office': 4096, 'C:/program files\\\\Microsoft OneDrive': 4096, 'C:/program files\\\\Microsoft Update Health Tools': 4096, 'C:/program files\\\\Microsoft VS Code': 8192, 'C:/program files\\\\MindManager 22': 98304, 'C:/program files\\\\MongoDB Compass': 4096, 'C:/program files\\\\MySQL': 4096, 'C:/program files\\\\nodejs': 4096, 'C:/program files\\\\Notepad++': 4096, 'C:/program files\\\\Npcap': 4096, 'C:/program files\\\\PCHealthCheck': 8192, 'C:/program files\\\\Pentablet': 4096, 'C:/program files\\\\PuTTY': 4096, 'C:/program files\\\\RUXIM': 8192, 'C:/program files\\\\TortoiseSVN': 4096, 'C:/program files\\\\Windows Defender': 4096, 'C:/program files\\\\Windows Defender Advanced Threat Protection': 4096, 'C:/program files\\\\Windows Media Player': 4096, 'C:/program files\\\\Windows Photo Viewer': 4096, 'C:/program files\\\\Wireshark': 40960}\n"
     ]
    }
   ],
   "source": [
    "import glob\n",
    "import os\n",
    "\n",
    "\n",
    "def separator(title):\n",
    "    print(f'\\n\\n\\n\\n+++++++++++++{title}++++++++++++++++++++\\n')\n",
    "\n",
    "#source pattern\n",
    "pattern = r'C:/program files/*'\n",
    "\n",
    "#develop basic list comprehension\n",
    "separator('basic list comprehension')\n",
    "sizes = [os.path.getsize(file_name) for file_name in glob.iglob(pattern)]\n",
    "print(sizes)\n",
    "\n",
    "\n",
    "#develop advanced list comprehension\n",
    "separator('advanced list comprehension')\n",
    "file_details = [{'name': file_name, 'size': os.path.getsize(file_name)} for file_name in glob.iglob(pattern)]\n",
    "print(file_details)\n",
    "\n",
    "\n",
    "\n",
    "#develop advanced list comprehension with filter\n",
    "separator('advanced list comprehension with filter')\n",
    "file_details = [{'name': file_name, 'size': os.path.getsize(file_name)} for file_name in glob.iglob(pattern) if os.path.isdir(file_name)]\n",
    "print(file_details)\n",
    "\n",
    "#show sets in comprehension\n",
    "separator('Sets in comprehension')\n",
    "def get_size(value):\n",
    "    return(len(value))\n",
    "\n",
    "test_set = {'Liverpool', 'Manchester', 'Everton'}\n",
    "\n",
    "results = {get_size(ob) for ob in test_set}\n",
    "\n",
    "print(results)\n",
    "\n",
    "#dictionaries in comprehension:\n",
    "separator('Using dictionary in comprehension')\n",
    "print('develop a basic tuple series')\n",
    "series = [(file_name, os.path.getsize(file_name)) for file_name in glob.iglob(pattern) ]\n",
    "print('develop a dictionary from the tuple series')\n",
    "dictionary_details = {file_name: size for file_name, size, in series if size>0}\n",
    "\n",
    "print(dictionary_details)"
   ]
  },
  {
   "cell_type": "code",
   "execution_count": null,
   "id": "91fe6de3",
   "metadata": {},
   "outputs": [],
   "source": []
  }
 ],
 "metadata": {
  "kernelspec": {
   "display_name": "Python 3 (ipykernel)",
   "language": "python",
   "name": "python3"
  },
  "language_info": {
   "codemirror_mode": {
    "name": "ipython",
    "version": 3
   },
   "file_extension": ".py",
   "mimetype": "text/x-python",
   "name": "python",
   "nbconvert_exporter": "python",
   "pygments_lexer": "ipython3",
   "version": "3.9.7"
  }
 },
 "nbformat": 4,
 "nbformat_minor": 5
}
