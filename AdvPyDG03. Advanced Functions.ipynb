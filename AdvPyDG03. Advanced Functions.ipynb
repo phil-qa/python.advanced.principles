{
 "cells": [
  {
   "cell_type": "markdown",
   "metadata": {},
   "source": [
    "# Advanced functions top summary\n",
    "\n",
    "## Passing parameters\n",
    "Parameters can be passed by position or name or default \n",
    "In this chapter would be looking at some of the more advanced features to do with functions and we begin that by looking at things like primer to pass it the mechanisms that we know and some of the approaches that are more commonly known another c languages such as a variadic  function, Which is a function that accepts a variable number of arguments. \n",
    "functionality like this this can be achieved in a couple of ways, kwargs for example, leverage flexibility in the same way, and Python allows for passing flexible containers in this way. \n",
    "\n",
    "## Python gotchas default parameter\n",
    "Pythons flexibility which is expressed in the ability to pass whatever we like into functions, has to be balanced with the knowledge that the outcomes of implementing those freedoms sometimes have unintended results.  one such example is the default parameter trap \n",
    "\n",
    "## Recursion\n",
    "\n",
    "Understanding what may result in  the use of functions in certain contexts is a responsibility of the programmer such that whatever is being developed doesn't behave in ways which are unexpected, much as we've just   mentioned with a default parameter to trap. we'll look at methods by which you might want to observe things like recursion and default values in this chapter whereby with me understand how much recursion is possible under a default condition, and again this is something that we want to be aware of in complex programmes within python.\n",
    "\n",
    "## Dispatch table\n",
    "\n",
    "We will have a look at a very useful creation of a dispatch table which, using a dictionary type structure, maps keys to functions which execute according to the key used  at runtime.\n",
    "\n",
    "## Operator.Itemgetter()\n",
    "\n",
    "We will look at Operator.Itemgetter where the operator module is commonly used as a procedural interface to the python bulit-in special methods\n",
    "\n",
    "## Nested Funtions\n",
    "\n",
    "Nested functions, that is placing a function iside another, is not something which all languages support. We will review that, indeed we will have to remember that there are issues with scope in python\n",
    "\n",
    "## Closures\n",
    "We will look at closures which is created by returning a function that refers to variables defined in a enclosing scope\n",
    "\n",
    "## Decorators\n",
    "We will look at how decorators are used, a requirement that comes from metaprogramming (used for developing frameworks) which is code that modifies code at runtime. Although this is a look at one aspect we look again at metaprogramming later. \n",
    "\n",
    "## Partial evaluation of arguments\n",
    "\n",
    "We will look at functools.partial that allows for partial evaluation of a function, the rest being used in different contexts later in the execution. We will note the difference between lambda and this\n"
   ]
  },
  {
   "cell_type": "markdown",
   "metadata": {},
   "source": [
    "## Passing parameters"
   ]
  },
  {
   "cell_type": "code",
   "execution_count": 1,
   "metadata": {},
   "outputs": [
    {
     "name": "stdout",
     "output_type": "stream",
     "text": [
      "from the documentation educational is of type marker and it's base is chalk\n",
      "from the documentation educational is of type marker and it's base is Ink\n",
      "from the documentation practical is of type exercise and it's base is exercise content\n"
     ]
    }
   ],
   "source": [
    "#In this example a function has all three used \n",
    "def a_function(source, display, base='chalk'):\n",
    "    print(f\"from the documentation {source} is of type {display} and it's base is {base}\")\n",
    "\n",
    "a_function(\"educational\", \"marker\")\n",
    "a_function(\"educational\", \"marker\", \"Ink\")\n",
    "a_function(source=\"practical\", display=\"exercise\", base=\"exercise content\")"
   ]
  },
  {
   "cell_type": "code",
   "execution_count": 3,
   "metadata": {},
   "outputs": [
    {
     "name": "stdout",
     "output_type": "stream",
     "text": [
      "source: context elements, containing('reading', 'writing', 'explaining', 'demonstrating')\n"
     ]
    }
   ],
   "source": [
    "#This example contains the same sort of approach but is a variadic\n",
    "def a_function(source, *training_elements):\n",
    "    print(f\"source: {source}, containing{training_elements}\")\n",
    "\n",
    "a_function(\"context elements\", \"reading\", \"writing\", \"explaining\", \"demonstrating\")"
   ]
  },
  {
   "cell_type": "code",
   "execution_count": 1,
   "metadata": {},
   "outputs": [],
   "source": [
    "#can also send a dictionary as kwargs\n",
    "my_trips = {\"Reading\": 100, \"Swindon\": 70, \"Gloucester\" : 10}\n",
    "\n",
    "def calculate_remittance(base_rate, **trip_data):\n",
    "    trip_values = trip_data.values()\n",
    "    total_distance = sum(list(trip_values))\n",
    "    return base_rate * total_distance"
   ]
  },
  {
   "cell_type": "code",
   "execution_count": 2,
   "metadata": {},
   "outputs": [
    {
     "data": {
      "text/plain": [
       "1800"
      ]
     },
     "execution_count": 2,
     "metadata": {},
     "output_type": "execute_result"
    }
   ],
   "source": [
    "calculate_remittance(10, **my_trips)"
   ]
  },
  {
   "cell_type": "markdown",
   "metadata": {},
   "source": [
    "# Default parameter trap\n",
    "If we use mutable objects as parameters then the behaviour is not quite what we expect, this is because it's a single object that is created, not a new one per call \n",
    "\n"
   ]
  },
  {
   "cell_type": "code",
   "execution_count": 3,
   "metadata": {},
   "outputs": [
    {
     "name": "stdout",
     "output_type": "stream",
     "text": [
      "[1]\n",
      "[1, 2]\n"
     ]
    }
   ],
   "source": [
    "def listy(value, my_list=[]):\n",
    "    my_list.append(value)\n",
    "    print(my_list)\n",
    "    \n",
    "listy(1)\n",
    "listy(2)"
   ]
  },
  {
   "cell_type": "code",
   "execution_count": 2,
   "metadata": {},
   "outputs": [
    {
     "name": "stdout",
     "output_type": "stream",
     "text": [
      "[1]\n",
      "[2]\n"
     ]
    }
   ],
   "source": [
    "# fix for behaviour\n",
    "def listy(value, my_list=None): #my_list is initialised with None as the default\n",
    "    if my_list is None:\n",
    "        my_list = []\n",
    "    my_list.append(value)\n",
    "    print(my_list)\n",
    "    \n",
    "listy(1)\n",
    "listy(2)"
   ]
  },
  {
   "cell_type": "markdown",
   "metadata": {},
   "source": [
    "### Lambda as a sort key \n",
    "Lambdas can be used where its not required to create a named function. the following is an example: "
   ]
  },
  {
   "cell_type": "code",
   "execution_count": 6,
   "metadata": {},
   "outputs": [
    {
     "name": "stdout",
     "output_type": "stream",
     "text": [
      "[Sue White (21), Mark Clark (22), Charlie Evans (35)]\n",
      "[Mark Clark (22), Charlie Evans (35), Sue White (21)]\n"
     ]
    }
   ],
   "source": [
    "class Person:\n",
    "    def __init__(self, first_name, second_name,  age):\n",
    "        self.first_name = first_name\n",
    "        self.second_name = second_name\n",
    "        self.age = age\n",
    "\n",
    "    def __repr__(self):\n",
    "        return f'{self.first_name} {self.second_name} ({self.age})'\n",
    "\n",
    "# List of Person objects\n",
    "people = [Person('Mark','Clark' , 22), Person('Sue', 'White', 21), Person('Charlie', 'Evans', 35)]\n",
    "\n",
    "# Sort by the 'age' attribute\n",
    "sorted_people = sorted(people, key=lambda person: person.age)\n",
    "\n",
    "print(sorted_people)\n",
    "\n",
    "alphabetic_people = sorted(people, key=lambda person: person.second_name)\n",
    "print(alphabetic_people)\n"
   ]
  },
  {
   "cell_type": "markdown",
   "metadata": {},
   "source": [
    "# Operator.itemgetter\n",
    "The operator module in Python provides a set of efficient functions corresponding to the intrinsic operators of Python. for example   \n",
    "- `operator.add(a,b)`\n",
    "- `operator.mod(a,b)`\n",
    "- `operator.eq(a,b)`\n",
    "\n",
    "These functions can be used in place of the standard arithmetic, comparison, and logical operators, and they often make code more readable and concise, especially when used with higher-order functions like map(), filter(), and sorted()  \n",
    "\n",
    "This is a useful code object that returns an element. The following gets the value from a dictionary and uses it to run a sort on it. \n"
   ]
  },
  {
   "cell_type": "code",
   "execution_count": 9,
   "metadata": {},
   "outputs": [
    {
     "name": "stdout",
     "output_type": "stream",
     "text": [
      "before sorting\n",
      " [{'phoneName': 'Apple', 'phonePrice': 900}, {'phoneName': 'Samsung', 'phonePrice': 800}, {'phoneName': 'Nokia', 'phonePrice': 850}]\n",
      "using lambda for comparison\n",
      "[{'phoneName': 'Samsung', 'phonePrice': 800}, {'phoneName': 'Nokia', 'phonePrice': 850}, {'phoneName': 'Apple', 'phonePrice': 900}]\n",
      "sorted on the phone name\n",
      " [{'phoneName': 'Apple', 'phonePrice': 900}, {'phoneName': 'Nokia', 'phonePrice': 850}, {'phoneName': 'Samsung', 'phonePrice': 800}]\n",
      "sorted on the phone price\n",
      " [{'phoneName': 'Samsung', 'phonePrice': 800}, {'phoneName': 'Nokia', 'phonePrice': 850}, {'phoneName': 'Apple', 'phonePrice': 900}]\n"
     ]
    }
   ],
   "source": [
    "import operator\n",
    "phones = [{'phoneName': 'Apple', 'phonePrice': 900},\n",
    "         {'phoneName' : 'Samsung', 'phonePrice':800},\n",
    "         {'phoneName' : 'Nokia', 'phonePrice' : 850}]\n",
    "print('before sorting\\n',phones)\n",
    "print('using lambda for comparison')\n",
    "print(sorted(phones, key=lambda phone: phone['phonePrice']))\n",
    "\n",
    "print('sorted on the phone name\\n',sorted(phones, key=operator.itemgetter('phoneName')))\n",
    "print('sorted on the phone price\\n',sorted(phones, key=operator.itemgetter('phonePrice')))"
   ]
  },
  {
   "cell_type": "markdown",
   "metadata": {},
   "source": [
    "# Recursion\n",
    "    There is a limit to the numer of times a system will allow recursion"
   ]
  },
  {
   "cell_type": "code",
   "execution_count": 13,
   "metadata": {},
   "outputs": [
    {
     "name": "stdout",
     "output_type": "stream",
     "text": [
      "3000\n"
     ]
    }
   ],
   "source": [
    "import sys\n",
    "print(sys.getrecursionlimit())"
   ]
  },
  {
   "cell_type": "code",
   "execution_count": 11,
   "metadata": {},
   "outputs": [
    {
     "name": "stdin",
     "output_type": "stream",
     "text": [
      "Enter the number: \n",
      " 100000\n"
     ]
    },
    {
     "ename": "RecursionError",
     "evalue": "maximum recursion depth exceeded",
     "output_type": "error",
     "traceback": [
      "\u001b[1;31m---------------------------------------------------------------------------\u001b[0m",
      "\u001b[1;31mRecursionError\u001b[0m                            Traceback (most recent call last)",
      "Cell \u001b[1;32mIn[11], line 16\u001b[0m\n\u001b[0;32m     11\u001b[0m \u001b[38;5;28;01mif\u001b[39;00m \u001b[38;5;18m__name__\u001b[39m \u001b[38;5;241m==\u001b[39m \u001b[38;5;124m'\u001b[39m\u001b[38;5;124m__main__\u001b[39m\u001b[38;5;124m'\u001b[39m:\n\u001b[0;32m     12\u001b[0m  \n\u001b[0;32m     13\u001b[0m     \u001b[38;5;66;03m# taking input\u001b[39;00m\n\u001b[0;32m     14\u001b[0m     f \u001b[38;5;241m=\u001b[39m \u001b[38;5;28mint\u001b[39m(\u001b[38;5;28minput\u001b[39m(\u001b[38;5;124m'\u001b[39m\u001b[38;5;124mEnter the number: \u001b[39m\u001b[38;5;130;01m\\n\u001b[39;00m\u001b[38;5;124m'\u001b[39m))\n\u001b[1;32m---> 16\u001b[0m     \u001b[38;5;28mprint\u001b[39m(\u001b[43mfact\u001b[49m\u001b[43m(\u001b[49m\u001b[43mf\u001b[49m\u001b[43m)\u001b[49m)\n",
      "Cell \u001b[1;32mIn[11], line 8\u001b[0m, in \u001b[0;36mfact\u001b[1;34m(n)\u001b[0m\n\u001b[0;32m      5\u001b[0m \u001b[38;5;28;01mif\u001b[39;00m(n \u001b[38;5;241m==\u001b[39m \u001b[38;5;241m0\u001b[39m):\n\u001b[0;32m      6\u001b[0m     \u001b[38;5;28;01mreturn\u001b[39;00m \u001b[38;5;241m1\u001b[39m\n\u001b[1;32m----> 8\u001b[0m \u001b[38;5;28;01mreturn\u001b[39;00m n \u001b[38;5;241m*\u001b[39m \u001b[43mfact\u001b[49m\u001b[43m(\u001b[49m\u001b[43mn\u001b[49m\u001b[43m \u001b[49m\u001b[38;5;241;43m-\u001b[39;49m\u001b[43m \u001b[49m\u001b[38;5;241;43m1\u001b[39;49m\u001b[43m)\u001b[49m\n",
      "Cell \u001b[1;32mIn[11], line 8\u001b[0m, in \u001b[0;36mfact\u001b[1;34m(n)\u001b[0m\n\u001b[0;32m      5\u001b[0m \u001b[38;5;28;01mif\u001b[39;00m(n \u001b[38;5;241m==\u001b[39m \u001b[38;5;241m0\u001b[39m):\n\u001b[0;32m      6\u001b[0m     \u001b[38;5;28;01mreturn\u001b[39;00m \u001b[38;5;241m1\u001b[39m\n\u001b[1;32m----> 8\u001b[0m \u001b[38;5;28;01mreturn\u001b[39;00m n \u001b[38;5;241m*\u001b[39m \u001b[43mfact\u001b[49m\u001b[43m(\u001b[49m\u001b[43mn\u001b[49m\u001b[43m \u001b[49m\u001b[38;5;241;43m-\u001b[39;49m\u001b[43m \u001b[49m\u001b[38;5;241;43m1\u001b[39;49m\u001b[43m)\u001b[49m\n",
      "    \u001b[1;31m[... skipping similar frames: fact at line 8 (2970 times)]\u001b[0m\n",
      "Cell \u001b[1;32mIn[11], line 8\u001b[0m, in \u001b[0;36mfact\u001b[1;34m(n)\u001b[0m\n\u001b[0;32m      5\u001b[0m \u001b[38;5;28;01mif\u001b[39;00m(n \u001b[38;5;241m==\u001b[39m \u001b[38;5;241m0\u001b[39m):\n\u001b[0;32m      6\u001b[0m     \u001b[38;5;28;01mreturn\u001b[39;00m \u001b[38;5;241m1\u001b[39m\n\u001b[1;32m----> 8\u001b[0m \u001b[38;5;28;01mreturn\u001b[39;00m n \u001b[38;5;241m*\u001b[39m \u001b[43mfact\u001b[49m\u001b[43m(\u001b[49m\u001b[43mn\u001b[49m\u001b[43m \u001b[49m\u001b[38;5;241;43m-\u001b[39;49m\u001b[43m \u001b[49m\u001b[38;5;241;43m1\u001b[39;49m\u001b[43m)\u001b[49m\n",
      "\u001b[1;31mRecursionError\u001b[0m: maximum recursion depth exceeded"
     ]
    }
   ],
   "source": [
    "# A simple recursive function\n",
    "# to compute the factorial of a number\n",
    "def fact(n):\n",
    " \n",
    "    if(n == 0):\n",
    "        return 1\n",
    " \n",
    "    return n * fact(n - 1)\n",
    " \n",
    " \n",
    "if __name__ == '__main__':\n",
    " \n",
    "    # taking input\n",
    "    f = int(input('Enter the number: \\n'))\n",
    " \n",
    "    print(fact(f))"
   ]
  },
  {
   "cell_type": "code",
   "execution_count": 22,
   "metadata": {},
   "outputs": [
    {
     "name": "stdin",
     "output_type": "stream",
     "text": [
      "How many terms to do  30\n"
     ]
    },
    {
     "name": "stdout",
     "output_type": "stream",
     "text": [
      "[0, 1, 1, 2, 3, 5, 8, 13, 21, 34, 55, 89, 144, 233, 377, 610, 987, 1597, 2584, 4181, 6765, 10946, 17711, 28657, 46368, 75025, 121393, 196418, 317811, 514229, 832040]\n"
     ]
    }
   ],
   "source": [
    "#using recursion \n",
    "def fibonacci(n):\n",
    "    # Initial cases where  they are by default F(0) = 0, F(1) = 1\n",
    "    if n == 0:\n",
    "        return 0\n",
    "    elif n == 1:\n",
    "        return 1\n",
    "    # beyond the initial apply F(n) = F(n-1) + F(n-2)\n",
    "    else:\n",
    "        return fibonacci(n - 1) + fibonacci(n - 2)\n",
    "\n",
    "target = int(input('How many terms to do '))\n",
    "print([fibonacci(term) for term in range(target+1)])\n"
   ]
  },
  {
   "cell_type": "markdown",
   "metadata": {},
   "source": [
    "### Bound methods \n",
    "Noting the slide, because we apply this to a bound method then the lookups for it exist in the local namespace not the global namespace.`m\n"
   ]
  },
  {
   "cell_type": "markdown",
   "metadata": {},
   "source": [
    "# Dispatch Table \n",
    "note that functions can be passed as values in dictionaries, this is very useful as shown in the slide were a test is made and a function called accordingly \n"
   ]
  },
  {
   "cell_type": "code",
   "execution_count": 7,
   "metadata": {},
   "outputs": [
    {
     "name": "stdout",
     "output_type": "stream",
     "text": [
      "Enter a Messier number: M31\n",
      "M31 is a spiral galaxy\n"
     ]
    }
   ],
   "source": [
    "def spiral(cobj):\n",
    "    print (cobj, \"is a spiral galaxy\")\n",
    "def open_cluster(cobj):\n",
    "    print (cobj, \"is an open cluster\")\n",
    "def glob_cluster(cobj):\n",
    "    print(cobj, \"is a globular cluster\")\n",
    "...\n",
    "dtab = {}\n",
    "dtab['M31'] = spiral\n",
    "dtab['M33'] = spiral\n",
    "dtab['M41'] = open_cluster\n",
    "dtab['M13'] = glob_cluster\n",
    "cobject = input(\"Enter a Messier number: \")\n",
    "if cobject in dtab:\n",
    "    dtab[cobject](cobject)\n",
    "else:\n",
    "    print (cobject, \"is unknown\")"
   ]
  },
  {
   "cell_type": "markdown",
   "metadata": {},
   "source": [
    "# Nested functions\n",
    "Reviewing the nested functions. Note that scope becomes an issue. "
   ]
  },
  {
   "cell_type": "code",
   "execution_count": 31,
   "metadata": {},
   "outputs": [
    {
     "name": "stdout",
     "output_type": "stream",
     "text": [
      "3 from the_func()\n",
      "The result without referencing nonlocal 3\n"
     ]
    }
   ],
   "source": [
    "result = 3\n",
    "def the_funct():\n",
    "    result_outer = 12\n",
    "    def scope_test(result = result_outer):\n",
    "        if result < 45:\n",
    "            result +=1\n",
    "            scope_test(result)\n",
    "    scope_test\n",
    "    print(result, 'from the_func()')\n",
    "the_funct()\n",
    "print(\"The result without referencing nonlocal\", result)\n",
    "\n",
    "\n"
   ]
  },
  {
   "cell_type": "code",
   "execution_count": 32,
   "metadata": {},
   "outputs": [
    {
     "name": "stdout",
     "output_type": "stream",
     "text": [
      "12 from the_func()\n",
      "The result referencing nonlocal 3\n"
     ]
    }
   ],
   "source": [
    "result = 3\n",
    "def the_funct():\n",
    "    result = 12\n",
    "    def scope_test():\n",
    "        nonlocal result\n",
    "        if result < 45:\n",
    "            result +=1\n",
    "            scope_test()\n",
    "    scope_test\n",
    "    print(result, 'from the_func()')\n",
    "the_funct()\n",
    "print(\"The result referencing nonlocal\", result)"
   ]
  },
  {
   "cell_type": "markdown",
   "metadata": {},
   "source": [
    "To better present the delimit there is the possiblity of using nonlocal. By doing this, you let the Python interpreter know you are not referring to the variable in the local scope but the one in the enclosing function instead."
   ]
  },
  {
   "cell_type": "code",
   "execution_count": 21,
   "metadata": {},
   "outputs": [
    {
     "name": "stdout",
     "output_type": "stream",
     "text": [
      "Bob\n",
      "Bob\n"
     ]
    }
   ],
   "source": [
    "def outer():\n",
    "    name = \"Alice\"\n",
    "    \n",
    "    def inner():\n",
    "        # Overwrite the name=\"Alice\" variable\n",
    "        nonlocal name\n",
    "        name = \"Bob\"\n",
    "        print(name)\n",
    "    \n",
    "    # Call the inner function bar()\n",
    "    inner()\n",
    "    \n",
    "    # Print foo()'s local variable name\n",
    "    print(name)\n",
    "outer()"
   ]
  },
  {
   "cell_type": "markdown",
   "metadata": {},
   "source": [
    "## closures  \n",
    "A closure in Python is a function object that remembers the values of the variables from the scope in which it was created, even after that scope has finished executing. Closures are used extensively in functional programming and in situations where we need to retain the state across multiple function calls.  It does this by having access to variables in it's enclosing scope, even when the function is called from outside that scope. \n",
    "\n",
    "### Some benefits and use cases \n",
    "Encapsulation: Closures allow you to encapsulate and protect variables from being accessed or modified from outside their scope.\n",
    "Stateful Functions: Closures can be used to create functions that maintain state between calls.\n",
    "Higher-Order Functions: Closures are often used in higher-order functions, which are functions that operate on other functions. i.e functions that are passed to it, map() is an example "
   ]
  },
  {
   "cell_type": "code",
   "execution_count": 34,
   "metadata": {},
   "outputs": [
    {
     "name": "stdout",
     "output_type": "stream",
     "text": [
      "15\n"
     ]
    }
   ],
   "source": [
    "def outer_function(outer_var):\n",
    "    def inner_function(inner_var):\n",
    "        return outer_var + inner_var\n",
    "    return inner_function\n",
    "\n",
    "closure = outer_function(10) # this returns the inner function without calling it but sets the parameter for the outer.\n",
    "print(closure(5))  \n"
   ]
  },
  {
   "cell_type": "markdown",
   "metadata": {},
   "source": [
    "## Decorators\n",
    "Decorators are functions that take other functions as inputs, then add a wrapper around it to create additional functionality, they usually, although not always, return a function. They are part of the Python function syntax, they promote Dont Repeat Yourself by adding functionalty to many functions.   \n",
    "##Example\n",
    " Ih the following example, we can see that the logging function  promotes DRY by being somthing that is available to any ohter function\n"
   ]
  },
  {
   "cell_type": "code",
   "execution_count": 6,
   "metadata": {},
   "outputs": [
    {
     "name": "stdout",
     "output_type": "stream",
     "text": [
      "Calling add with args (2, 3) and kwargs {}\n",
      "5\n"
     ]
    }
   ],
   "source": [
    "def logger(func):\n",
    "    def wrapper(*args, **kwargs):\n",
    "        print(f\"Calling {func.__name__} with args {args} and kwargs {kwargs}\")\n",
    "        return func(*args, **kwargs)\n",
    "    return wrapper\n",
    "\n",
    "@logger\n",
    "def add(x, y):\n",
    "    return x + y\n",
    "\n",
    "result = add(2, 3)\n",
    "print(result)  # Output: 5\n"
   ]
  },
  {
   "cell_type": "code",
   "execution_count": 7,
   "metadata": {},
   "outputs": [
    {
     "data": {
      "text/plain": [
       "7"
      ]
     },
     "execution_count": 7,
     "metadata": {},
     "output_type": "execute_result"
    }
   ],
   "source": [
    "class mathy:\n",
    "    @staticmethod\n",
    "    def add(num_1, num_2):\n",
    "        return num_1 + num_2\n",
    "\n",
    "mathy.add(3,4)"
   ]
  },
  {
   "cell_type": "code",
   "execution_count": 39,
   "metadata": {},
   "outputs": [],
   "source": [
    "# example profiler - Really good example \n",
    "import time \n",
    "import functools \n",
    "def profiler(fn): \n",
    "    def timer_wrapper_function(*args, **kwargs): \n",
    "        #start timer\n",
    "        start = time.perf_counter()\n",
    "        #call the function\n",
    "        result = fn(*args, **kwargs)\n",
    "        #end the timer\n",
    "        end = time.perf_counter()\n",
    "        duration = end - start\n",
    "        print(f\"{fn.__name__!r} execution time {duration:.5f} s\")\n",
    "        return result \n",
    "    return timer_wrapper_function\n"
   ]
  },
  {
   "cell_type": "code",
   "execution_count": 41,
   "metadata": {},
   "outputs": [
    {
     "ename": "KeyboardInterrupt",
     "evalue": "Interrupted by user",
     "output_type": "error",
     "traceback": [
      "\u001b[1;31m---------------------------------------------------------------------------\u001b[0m",
      "\u001b[1;31mKeyboardInterrupt\u001b[0m                         Traceback (most recent call last)",
      "Cell \u001b[1;32mIn[41], line 12\u001b[0m\n\u001b[0;32m      8\u001b[0m     \u001b[38;5;66;03m# beyond the initial apply F(n) = F(n-1) + F(n-2)\u001b[39;00m\n\u001b[0;32m      9\u001b[0m     \u001b[38;5;28;01melse\u001b[39;00m:\n\u001b[0;32m     10\u001b[0m         \u001b[38;5;28;01mreturn\u001b[39;00m fibonacci(n \u001b[38;5;241m-\u001b[39m \u001b[38;5;241m1\u001b[39m) \u001b[38;5;241m+\u001b[39m fibonacci(n \u001b[38;5;241m-\u001b[39m \u001b[38;5;241m2\u001b[39m)\n\u001b[1;32m---> 12\u001b[0m target \u001b[38;5;241m=\u001b[39m \u001b[38;5;28mint\u001b[39m(\u001b[38;5;28;43minput\u001b[39;49m\u001b[43m(\u001b[49m\u001b[38;5;124;43m'\u001b[39;49m\u001b[38;5;124;43mHow many terms to do \u001b[39;49m\u001b[38;5;124;43m'\u001b[39;49m\u001b[43m)\u001b[49m)\n\u001b[0;32m     13\u001b[0m \u001b[38;5;28mprint\u001b[39m([fibonacci(term) \u001b[38;5;28;01mfor\u001b[39;00m term \u001b[38;5;129;01min\u001b[39;00m \u001b[38;5;28mrange\u001b[39m(target\u001b[38;5;241m+\u001b[39m\u001b[38;5;241m1\u001b[39m)])\n",
      "File \u001b[1;32m~\\anaconda3\\envs\\development\\Lib\\site-packages\\ipykernel\\kernelbase.py:1282\u001b[0m, in \u001b[0;36mKernel.raw_input\u001b[1;34m(self, prompt)\u001b[0m\n\u001b[0;32m   1280\u001b[0m     msg \u001b[38;5;241m=\u001b[39m \u001b[38;5;124m\"\u001b[39m\u001b[38;5;124mraw_input was called, but this frontend does not support input requests.\u001b[39m\u001b[38;5;124m\"\u001b[39m\n\u001b[0;32m   1281\u001b[0m     \u001b[38;5;28;01mraise\u001b[39;00m StdinNotImplementedError(msg)\n\u001b[1;32m-> 1282\u001b[0m \u001b[38;5;28;01mreturn\u001b[39;00m \u001b[38;5;28;43mself\u001b[39;49m\u001b[38;5;241;43m.\u001b[39;49m\u001b[43m_input_request\u001b[49m\u001b[43m(\u001b[49m\n\u001b[0;32m   1283\u001b[0m \u001b[43m    \u001b[49m\u001b[38;5;28;43mstr\u001b[39;49m\u001b[43m(\u001b[49m\u001b[43mprompt\u001b[49m\u001b[43m)\u001b[49m\u001b[43m,\u001b[49m\n\u001b[0;32m   1284\u001b[0m \u001b[43m    \u001b[49m\u001b[38;5;28;43mself\u001b[39;49m\u001b[38;5;241;43m.\u001b[39;49m\u001b[43m_parent_ident\u001b[49m\u001b[43m[\u001b[49m\u001b[38;5;124;43m\"\u001b[39;49m\u001b[38;5;124;43mshell\u001b[39;49m\u001b[38;5;124;43m\"\u001b[39;49m\u001b[43m]\u001b[49m\u001b[43m,\u001b[49m\n\u001b[0;32m   1285\u001b[0m \u001b[43m    \u001b[49m\u001b[38;5;28;43mself\u001b[39;49m\u001b[38;5;241;43m.\u001b[39;49m\u001b[43mget_parent\u001b[49m\u001b[43m(\u001b[49m\u001b[38;5;124;43m\"\u001b[39;49m\u001b[38;5;124;43mshell\u001b[39;49m\u001b[38;5;124;43m\"\u001b[39;49m\u001b[43m)\u001b[49m\u001b[43m,\u001b[49m\n\u001b[0;32m   1286\u001b[0m \u001b[43m    \u001b[49m\u001b[43mpassword\u001b[49m\u001b[38;5;241;43m=\u001b[39;49m\u001b[38;5;28;43;01mFalse\u001b[39;49;00m\u001b[43m,\u001b[49m\n\u001b[0;32m   1287\u001b[0m \u001b[43m\u001b[49m\u001b[43m)\u001b[49m\n",
      "File \u001b[1;32m~\\anaconda3\\envs\\development\\Lib\\site-packages\\ipykernel\\kernelbase.py:1325\u001b[0m, in \u001b[0;36mKernel._input_request\u001b[1;34m(self, prompt, ident, parent, password)\u001b[0m\n\u001b[0;32m   1322\u001b[0m \u001b[38;5;28;01mexcept\u001b[39;00m \u001b[38;5;167;01mKeyboardInterrupt\u001b[39;00m:\n\u001b[0;32m   1323\u001b[0m     \u001b[38;5;66;03m# re-raise KeyboardInterrupt, to truncate traceback\u001b[39;00m\n\u001b[0;32m   1324\u001b[0m     msg \u001b[38;5;241m=\u001b[39m \u001b[38;5;124m\"\u001b[39m\u001b[38;5;124mInterrupted by user\u001b[39m\u001b[38;5;124m\"\u001b[39m\n\u001b[1;32m-> 1325\u001b[0m     \u001b[38;5;28;01mraise\u001b[39;00m \u001b[38;5;167;01mKeyboardInterrupt\u001b[39;00m(msg) \u001b[38;5;28;01mfrom\u001b[39;00m \u001b[38;5;28;01mNone\u001b[39;00m\n\u001b[0;32m   1326\u001b[0m \u001b[38;5;28;01mexcept\u001b[39;00m \u001b[38;5;167;01mException\u001b[39;00m:\n\u001b[0;32m   1327\u001b[0m     \u001b[38;5;28mself\u001b[39m\u001b[38;5;241m.\u001b[39mlog\u001b[38;5;241m.\u001b[39mwarning(\u001b[38;5;124m\"\u001b[39m\u001b[38;5;124mInvalid Message:\u001b[39m\u001b[38;5;124m\"\u001b[39m, exc_info\u001b[38;5;241m=\u001b[39m\u001b[38;5;28;01mTrue\u001b[39;00m)\n",
      "\u001b[1;31mKeyboardInterrupt\u001b[0m: Interrupted by user"
     ]
    }
   ],
   "source": [
    "@profiler\n",
    "def fibonacci(n):\n",
    "    # Initial cases where  they are by default F(0) = 0, F(1) = 1\n",
    "    if n == 0:\n",
    "        return 0\n",
    "    elif n == 1:\n",
    "        return 1\n",
    "    # beyond the initial apply F(n) = F(n-1) + F(n-2)\n",
    "    else:\n",
    "        return fibonacci(n - 1) + fibonacci(n - 2)\n",
    "\n",
    "target = int(input('How many terms to do '))\n",
    "print([fibonacci(term) for term in range(target+1)])"
   ]
  },
  {
   "cell_type": "markdown",
   "metadata": {},
   "source": [
    "## Functools \n",
    "The functools module is for higher-order functions: functions that act on or return other functions. In general, any callable object can be treated as a function for the purposes of this module.  \n",
    "\n",
    "Looking at partial()   \n",
    "he partial() is used for partial function application which “freezes” some portion of a function’s arguments and/or keywords resulting in a new object with a simplified signature. For example, partial() can be used to create a callable that behaves like the int() function where the base argument defaults to two"
   ]
  },
  {
   "cell_type": "markdown",
   "metadata": {},
   "source": [
    "## partials\n",
    "Normally function arguments are evaluated for left to right\n",
    "before the function call. With functools.partial only some of\n",
    "the arguments are evaluated, and others are supplied later."
   ]
  },
  {
   "cell_type": "code",
   "execution_count": 42,
   "metadata": {},
   "outputs": [
    {
     "name": "stdout",
     "output_type": "stream",
     "text": [
      "calling double on 5 to get 10 True\n",
      "calling triple on 4 to get 12 True\n"
     ]
    }
   ],
   "source": [
    "from functools import partial\n",
    "\n",
    "def multiply(x, y):\n",
    "    return x * y\n",
    "\n",
    "double = partial(multiply, 2)\n",
    "triple = partial(multiply, 3)\n",
    "\n",
    "print(f\"calling double on 5 to get {double(5)} {double(5)==10}\") \n",
    "print(f\"calling triple on 4 to get {triple(4)} {triple(4) == 12}\")\n"
   ]
  },
  {
   "cell_type": "code",
   "execution_count": 43,
   "metadata": {},
   "outputs": [
    {
     "name": "stdout",
     "output_type": "stream",
     "text": [
      "https://api.example.com/users\n",
      "https://api.example.com/posts\n"
     ]
    }
   ],
   "source": [
    "#practical example \n",
    "from functools import partial\n",
    "\n",
    "def build_url(base_url, endpoint):\n",
    "    return f\"{base_url}/{endpoint}\"\n",
    "\n",
    "# Create a function for a specific base URL\n",
    "api_url = partial(build_url, \"https://api.example.com\")\n",
    "\n",
    "#call the base url function with paramters \n",
    "print(api_url(\"users\"))  \n",
    "print(api_url(\"posts\"))  \n"
   ]
  },
  {
   "cell_type": "markdown",
   "metadata": {},
   "source": [
    "### Using decorators with arguments\n",
    "This is particularly useful if we want greater flexibility and reusibility. It enables paramertized decorators which can be cusomised with different behaviours\n"
   ]
  },
  {
   "cell_type": "code",
   "execution_count": 44,
   "metadata": {},
   "outputs": [],
   "source": [
    "import functools\n",
    "\n",
    "def log(level):\n",
    "    def decorator(func):\n",
    "        @functools.wraps(func)\n",
    "        def wrapper(*args, **kwargs):\n",
    "            if level == \"DEBUG\":\n",
    "                print(f\"DEBUG: Calling {func.__name__} with args={args}, kwargs={kwargs}\")\n",
    "            elif level == \"INFO\":\n",
    "                print(f\"INFO: Calling {func.__name__}\")\n",
    "            result = func(*args, **kwargs)\n",
    "            if level == \"DEBUG\":\n",
    "                print(f\"DEBUG: {func.__name__} returned {result}\")\n",
    "            elif level == \"INFO\":\n",
    "                print(f\"INFO: {func.__name__} completed\")\n",
    "            return result\n",
    "        return wrapper\n",
    "    return decorator\n"
   ]
  },
  {
   "cell_type": "markdown",
   "metadata": {},
   "source": [
    "In this we can see that the `log(level)` is the outer function taking the level as an argument the `decorator(mfunc)` function is tha actual decorator function and `wrapper(*args, **kwargs)` the the rapper function that adds the logging functionality "
   ]
  },
  {
   "cell_type": "code",
   "execution_count": 48,
   "metadata": {},
   "outputs": [
    {
     "name": "stdout",
     "output_type": "stream",
     "text": [
      "DEBUG: Calling sum_list with args=([44, 2, 2, 34, 5],), kwargs={}\n",
      "DEBUG: sum_list returned 87\n",
      "87\n",
      "INFO: Calling generate_name\n",
      "INFO: generate_name completed\n",
      "Hello, bob + watson!\n"
     ]
    }
   ],
   "source": [
    "@log(\"DEBUG\")\n",
    "def sum_list(x):\n",
    "    return sum(x)\n",
    "\n",
    "@log(\"INFO\")\n",
    "def generate_name(first_name, surname):\n",
    "    return f\"Hello, {first_name} + {surname}!\"\n",
    "\n",
    "print(sum_list([44,2,2,34,5])) \n",
    "print(generate_name(\"bob\", \"watson\"))  \n"
   ]
  },
  {
   "cell_type": "code",
   "execution_count": null,
   "metadata": {},
   "outputs": [],
   "source": []
  }
 ],
 "metadata": {
  "kernelspec": {
   "display_name": "Python 3 (ipykernel)",
   "language": "python",
   "name": "python3"
  },
  "language_info": {
   "codemirror_mode": {
    "name": "ipython",
    "version": 3
   },
   "file_extension": ".py",
   "mimetype": "text/x-python",
   "name": "python",
   "nbconvert_exporter": "python",
   "pygments_lexer": "ipython3",
   "version": "3.11.9"
  }
 },
 "nbformat": 4,
 "nbformat_minor": 4
}
