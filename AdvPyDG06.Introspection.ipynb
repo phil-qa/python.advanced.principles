{
 "cells": [
  {
   "cell_type": "markdown",
   "id": "569a8c3d",
   "metadata": {},
   "source": [
    "# Introspection \n",
    "\n",
    "The purpose of introspection is to provide visibility of the properties of an object at runtime, such as its type, attributes, and methods. It allows inspection of an object's structure and capabilities programmatically, without relying on external documentation or metadata.\n",
    "\n",
    "In python, introspection helps in determining the type of an object at runtime. Since in Python everything is an object, it helps in leveraging the introspection properties to examine those objects. There are some modules and a few built-in functions to achieve this. \n",
    "\n",
    "It is used because it gives programmers flexibility and management when examining an object with respect to its state and structure.\n",
    "\n",
    "IN this section we will elaborate on some things that have already been seen. \n",
    "- Dir()\n",
    "- Locals() and Globals()\n",
    "- callable \n",
    "- \\__dict__\n",
    "- \\__slots__\n",
    "- traceback\n",
    "- Frame objects\n",
    "- inspect \n",
    "- aliases\n",
    "\n",
    "Introspection is an important feature of dynamic programming languages like Python, because it enables developers to write code that is more flexible and adaptable. It also makes it easier to debug and maintain code, because you can inspect an object's properties and behavior at runtime. Things like : \n",
    "• Variables\n",
    "• Modules\n",
    "• Program code frames\n",
    "• Not just the current code-frame\n",
    "• The Python run-time\n",
    "• The operating system\n",
    "\n",
    "\n",
    "\n"
   ]
  },
  {
   "cell_type": "markdown",
   "id": "9840d50a-5d3b-421f-a6e3-646183cde127",
   "metadata": {},
   "source": [
    "Introspection in Python, the ability for a program to examine its own structure and properties, offers various functionalities in different scenarios. Here are some common use cases for introspection:\n",
    "\n",
    "1. Dynamic Code Generation:\n",
    "\n",
    "Introspection allows you to analyze code structures and dynamically generate code based on the information obtained. For example, a framework might use introspection to examine a class definition and automatically generate getters and setters for its attributes.   \n",
    "\n",
    "2. Code Documentation Tools:\n",
    "\n",
    "Introspection helps tools like Sphinx or autodoc generate documentation for your code. These tools can extract information like function arguments, return types, and docstrings using introspection and use it to create comprehensive documentation.   \n",
    "\n",
    "3. Debugging and Error Handling:\n",
    "\n",
    "By inspecting objects and their attributes at runtime, you can gain valuable insights into program behavior. This can be helpful for debugging unexpected errors or verifying the state of variables during execution.\n",
    "You can use introspection to check the type of an object before performing operations on it. This helps prevent runtime errors due to type mismatches.   \n",
    "\n",
    "4. Custom Metaprogramming Techniques:\n",
    "\n",
    "Advanced developers can leverage introspection for metaprogramming tasks. This involves writing code that manipulates other code structures at runtime. For example, a decorator might use introspection to modify the behavior of the functions it decorates.   \n",
    "\n",
    "5. Framework or Library Design:\n",
    "\n",
    "Frameworks and libraries often use introspection to provide generic functionalities. For example, an ORM (Object-Relational Mapper) might use introspection to map class attributes to database table columns based on naming conventions or annotations.   \n",
    "\n",
    "6. IDE Features and Code Completion:\n",
    "\n",
    "Integrated Development Environments (IDEs) can utilize introspection to provide features like code completion and type hints. By analyzing the code structure and object types, IDEs can suggest relevant options for variable names, function calls, and attribute access, improving developer productivity.   \n",
    "\n",
    "7. Plugin or Extension Development:\n",
    "\n",
    "Introspection can be useful for writing plugins or extensions for existing software. By examining the host program's objects and methods, plugins can integrate seamlessly and extend functionalities.   \n",
    "\n",
    "8. Unit Testing Frameworks:\n",
    "\n",
    "Unit testing frameworks like unittest and pytest can leverage introspection to discover test methods within your code. They can then automatically execute these tests, simplifying the testing process.   \n",
    "\n",
    "9. Data Validation and Sanitization:\n",
    "\n",
    "You can use introspection to validate data passed to functions or methods. By checking the type and structure of the data, you can ensure it aligns with expectations and prevent potential security vulnerabilities.   \n",
    "\n",
    "10. Dynamic Configuration and Customization:\n",
    "\n",
    "Introspection can be used to dynamically configure applications based on settings or environment variables. By examining configuration files or environment settings, the program can adjust its behavior or load specific modules at runtime.\n",
    "These are just some of the many use cases for introspection in Python. By understanding how to examine and manipulate code structures, you can create more flexible, dynamic, and maintainable codebases."
   ]
  },
  {
   "cell_type": "markdown",
   "id": "ab341386",
   "metadata": {},
   "source": [
    "## Dir\n",
    "This is commonly used, bery helpful in IDLE to look at what an object has, what is public what is private, special methods. The list of these is sorted, and includes attributes created by property()\n",
    "can be customised through the __dir__ special method\n",
    "However if there is no __dir__ then what wil get returned is the object and base class attributes\n",
    "\n"
   ]
  },
  {
   "cell_type": "code",
   "execution_count": 35,
   "id": "38e9728f",
   "metadata": {},
   "outputs": [
    {
     "data": {
      "text/plain": [
       "['__class__',\n",
       " '__delattr__',\n",
       " '__dict__',\n",
       " '__dir__',\n",
       " '__doc__',\n",
       " '__eq__',\n",
       " '__format__',\n",
       " '__ge__',\n",
       " '__getattribute__',\n",
       " '__gt__',\n",
       " '__hash__',\n",
       " '__init__',\n",
       " '__init_subclass__',\n",
       " '__le__',\n",
       " '__lt__',\n",
       " '__module__',\n",
       " '__ne__',\n",
       " '__new__',\n",
       " '__reduce__',\n",
       " '__reduce_ex__',\n",
       " '__repr__',\n",
       " '__setattr__',\n",
       " '__sizeof__',\n",
       " '__str__',\n",
       " '__subclasshook__',\n",
       " '__weakref__',\n",
       " '_hide_me',\n",
       " 'print_me']"
      ]
     },
     "execution_count": 35,
     "metadata": {},
     "output_type": "execute_result"
    }
   ],
   "source": [
    "class MySimpleClass:\n",
    "    def __init__(self):\n",
    "        self.number = 1\n",
    "        self.string = 'plate'\n",
    "        self._age = 44\n",
    "    \n",
    "    def print_me(self, thing): \n",
    "        print(thing)\n",
    "    \n",
    "    def _hide_me(self, thing):\n",
    "        print(f\"{thing} was hidden\")\n",
    "    \n",
    "dir (MySimpleClass)"
   ]
  },
  {
   "cell_type": "code",
   "execution_count": 36,
   "id": "127100a6",
   "metadata": {},
   "outputs": [
    {
     "data": {
      "text/plain": [
       "['__add__',\n",
       " '__class__',\n",
       " '__contains__',\n",
       " '__delattr__',\n",
       " '__dir__',\n",
       " '__doc__',\n",
       " '__eq__',\n",
       " '__format__',\n",
       " '__ge__',\n",
       " '__getattribute__',\n",
       " '__getitem__',\n",
       " '__getnewargs__',\n",
       " '__gt__',\n",
       " '__hash__',\n",
       " '__init__',\n",
       " '__init_subclass__',\n",
       " '__iter__',\n",
       " '__le__',\n",
       " '__len__',\n",
       " '__lt__',\n",
       " '__mod__',\n",
       " '__mul__',\n",
       " '__ne__',\n",
       " '__new__',\n",
       " '__reduce__',\n",
       " '__reduce_ex__',\n",
       " '__repr__',\n",
       " '__rmod__',\n",
       " '__rmul__',\n",
       " '__setattr__',\n",
       " '__sizeof__',\n",
       " '__str__',\n",
       " '__subclasshook__',\n",
       " 'capitalize',\n",
       " 'casefold',\n",
       " 'center',\n",
       " 'count',\n",
       " 'encode',\n",
       " 'endswith',\n",
       " 'expandtabs',\n",
       " 'find',\n",
       " 'format',\n",
       " 'format_map',\n",
       " 'index',\n",
       " 'isalnum',\n",
       " 'isalpha',\n",
       " 'isascii',\n",
       " 'isdecimal',\n",
       " 'isdigit',\n",
       " 'isidentifier',\n",
       " 'islower',\n",
       " 'isnumeric',\n",
       " 'isprintable',\n",
       " 'isspace',\n",
       " 'istitle',\n",
       " 'isupper',\n",
       " 'join',\n",
       " 'ljust',\n",
       " 'lower',\n",
       " 'lstrip',\n",
       " 'maketrans',\n",
       " 'partition',\n",
       " 'removeprefix',\n",
       " 'removesuffix',\n",
       " 'replace',\n",
       " 'rfind',\n",
       " 'rindex',\n",
       " 'rjust',\n",
       " 'rpartition',\n",
       " 'rsplit',\n",
       " 'rstrip',\n",
       " 'split',\n",
       " 'splitlines',\n",
       " 'startswith',\n",
       " 'strip',\n",
       " 'swapcase',\n",
       " 'title',\n",
       " 'translate',\n",
       " 'upper',\n",
       " 'zfill']"
      ]
     },
     "execution_count": 36,
     "metadata": {},
     "output_type": "execute_result"
    }
   ],
   "source": [
    "string_thing = \"A string thing\"\n",
    "dir(string_thing)"
   ]
  },
  {
   "cell_type": "markdown",
   "id": "a51d6044",
   "metadata": {},
   "source": [
    "Having got information using dir we can get values using getattr() method., remember though we can also check to see if an object has an attribute by usung hasattr method"
   ]
  },
  {
   "cell_type": "markdown",
   "id": "1253bc6f",
   "metadata": {},
   "source": [
    "## Locals and globals\n",
    "\n",
    "Locals and globals are builtin functions that return a dictionary returning a local or global symbol table of the current module. It is not safe to mess with these, however, locals() only gives a copy of the local symbol table, globals() though, if altered is altered for everything everywhere. Having said that, even altering locals() may have unintended consequences.\n",
    "\n",
    "\n",
    "\n",
    "\n",
    "## current symbol tables\n",
    "In computer science, a symbol table is a data structure used by a language translator such as a compiler or interpreter, where each identifier (or symbols), constants, procedures and functions in a program's source code is associated with information relating to its declaration or appearance in the source. In other words, the entries of a symbol table store the information related to the entry's corresponding symbol\n",
    "\n"
   ]
  },
  {
   "cell_type": "code",
   "execution_count": 1,
   "id": "98f40ece",
   "metadata": {},
   "outputs": [
    {
     "name": "stdout",
     "output_type": "stream",
     "text": [
      "{'name': 'Phil', 'age': 54, 'this_name': 'Phil', 'this_age': 54}\n"
     ]
    }
   ],
   "source": [
    "#example of locals\n",
    "def small_function(name, age):\n",
    "    this_name = name\n",
    "    this_age = age\n",
    "    print(locals())\n",
    "\n",
    "small_function(\"Phil\", 54)"
   ]
  },
  {
   "cell_type": "markdown",
   "id": "512828e3",
   "metadata": {},
   "source": [
    "## eval\n",
    "The function eval() is a built-in function that takes an expression as an input and returns the result of the expression on evaluation. Let us see the syntax of the eval() function.\n",
    "\n"
   ]
  },
  {
   "cell_type": "code",
   "execution_count": 3,
   "id": "510a6188",
   "metadata": {},
   "outputs": [
    {
     "ename": "KeyboardInterrupt",
     "evalue": "Interrupted by user",
     "output_type": "error",
     "traceback": [
      "\u001b[1;31m---------------------------------------------------------------------------\u001b[0m",
      "\u001b[1;31mKeyboardInterrupt\u001b[0m                         Traceback (most recent call last)",
      "Cell \u001b[1;32mIn[3], line 10\u001b[0m\n\u001b[0;32m      7\u001b[0m \u001b[38;5;28;01mdef\u001b[39;00m \u001b[38;5;21mdiv\u001b[39m(a,b):\n\u001b[0;32m      8\u001b[0m     \u001b[38;5;28mprint\u001b[39m(a\u001b[38;5;241m/\u001b[39mb)\n\u001b[1;32m---> 10\u001b[0m op\u001b[38;5;241m=\u001b[39m\u001b[38;5;28;43minput\u001b[39;49m\u001b[43m(\u001b[49m\u001b[38;5;124;43m'\u001b[39;49m\u001b[38;5;124;43mEnter either \u001b[39;49m\u001b[38;5;124;43m\"\u001b[39;49m\u001b[38;5;124;43madd\u001b[39;49m\u001b[38;5;124;43m\"\u001b[39;49m\u001b[38;5;124;43m or \u001b[39;49m\u001b[38;5;124;43m\"\u001b[39;49m\u001b[38;5;124;43msub\u001b[39;49m\u001b[38;5;124;43m\"\u001b[39;49m\u001b[38;5;124;43m or \u001b[39;49m\u001b[38;5;124;43m\"\u001b[39;49m\u001b[38;5;124;43mprod\u001b[39;49m\u001b[38;5;124;43m\"\u001b[39;49m\u001b[38;5;124;43m or \u001b[39;49m\u001b[38;5;124;43m\"\u001b[39;49m\u001b[38;5;124;43mdiv\u001b[39;49m\u001b[38;5;124;43m\"\u001b[39;49m\u001b[38;5;124;43m: \u001b[39;49m\u001b[38;5;124;43m'\u001b[39;49m\u001b[43m)\u001b[49m\n\u001b[0;32m     11\u001b[0m \u001b[38;5;28;01mif\u001b[39;00m(op \u001b[38;5;129;01min\u001b[39;00m \u001b[38;5;124m'\u001b[39m\u001b[38;5;124madd sub prod div\u001b[39m\u001b[38;5;124m'\u001b[39m):\n\u001b[0;32m     12\u001b[0m     a\u001b[38;5;241m=\u001b[39m\u001b[38;5;28minput\u001b[39m(\u001b[38;5;124m'\u001b[39m\u001b[38;5;124mEnter the first number\u001b[39m\u001b[38;5;124m'\u001b[39m)\n",
      "File \u001b[1;32m~\\anaconda3\\envs\\development\\Lib\\site-packages\\ipykernel\\kernelbase.py:1282\u001b[0m, in \u001b[0;36mKernel.raw_input\u001b[1;34m(self, prompt)\u001b[0m\n\u001b[0;32m   1280\u001b[0m     msg \u001b[38;5;241m=\u001b[39m \u001b[38;5;124m\"\u001b[39m\u001b[38;5;124mraw_input was called, but this frontend does not support input requests.\u001b[39m\u001b[38;5;124m\"\u001b[39m\n\u001b[0;32m   1281\u001b[0m     \u001b[38;5;28;01mraise\u001b[39;00m StdinNotImplementedError(msg)\n\u001b[1;32m-> 1282\u001b[0m \u001b[38;5;28;01mreturn\u001b[39;00m \u001b[38;5;28;43mself\u001b[39;49m\u001b[38;5;241;43m.\u001b[39;49m\u001b[43m_input_request\u001b[49m\u001b[43m(\u001b[49m\n\u001b[0;32m   1283\u001b[0m \u001b[43m    \u001b[49m\u001b[38;5;28;43mstr\u001b[39;49m\u001b[43m(\u001b[49m\u001b[43mprompt\u001b[49m\u001b[43m)\u001b[49m\u001b[43m,\u001b[49m\n\u001b[0;32m   1284\u001b[0m \u001b[43m    \u001b[49m\u001b[38;5;28;43mself\u001b[39;49m\u001b[38;5;241;43m.\u001b[39;49m\u001b[43m_parent_ident\u001b[49m\u001b[43m[\u001b[49m\u001b[38;5;124;43m\"\u001b[39;49m\u001b[38;5;124;43mshell\u001b[39;49m\u001b[38;5;124;43m\"\u001b[39;49m\u001b[43m]\u001b[49m\u001b[43m,\u001b[49m\n\u001b[0;32m   1285\u001b[0m \u001b[43m    \u001b[49m\u001b[38;5;28;43mself\u001b[39;49m\u001b[38;5;241;43m.\u001b[39;49m\u001b[43mget_parent\u001b[49m\u001b[43m(\u001b[49m\u001b[38;5;124;43m\"\u001b[39;49m\u001b[38;5;124;43mshell\u001b[39;49m\u001b[38;5;124;43m\"\u001b[39;49m\u001b[43m)\u001b[49m\u001b[43m,\u001b[49m\n\u001b[0;32m   1286\u001b[0m \u001b[43m    \u001b[49m\u001b[43mpassword\u001b[49m\u001b[38;5;241;43m=\u001b[39;49m\u001b[38;5;28;43;01mFalse\u001b[39;49;00m\u001b[43m,\u001b[49m\n\u001b[0;32m   1287\u001b[0m \u001b[43m\u001b[49m\u001b[43m)\u001b[49m\n",
      "File \u001b[1;32m~\\anaconda3\\envs\\development\\Lib\\site-packages\\ipykernel\\kernelbase.py:1325\u001b[0m, in \u001b[0;36mKernel._input_request\u001b[1;34m(self, prompt, ident, parent, password)\u001b[0m\n\u001b[0;32m   1322\u001b[0m \u001b[38;5;28;01mexcept\u001b[39;00m \u001b[38;5;167;01mKeyboardInterrupt\u001b[39;00m:\n\u001b[0;32m   1323\u001b[0m     \u001b[38;5;66;03m# re-raise KeyboardInterrupt, to truncate traceback\u001b[39;00m\n\u001b[0;32m   1324\u001b[0m     msg \u001b[38;5;241m=\u001b[39m \u001b[38;5;124m\"\u001b[39m\u001b[38;5;124mInterrupted by user\u001b[39m\u001b[38;5;124m\"\u001b[39m\n\u001b[1;32m-> 1325\u001b[0m     \u001b[38;5;28;01mraise\u001b[39;00m \u001b[38;5;167;01mKeyboardInterrupt\u001b[39;00m(msg) \u001b[38;5;28;01mfrom\u001b[39;00m \u001b[38;5;28;01mNone\u001b[39;00m\n\u001b[0;32m   1326\u001b[0m \u001b[38;5;28;01mexcept\u001b[39;00m \u001b[38;5;167;01mException\u001b[39;00m:\n\u001b[0;32m   1327\u001b[0m     \u001b[38;5;28mself\u001b[39m\u001b[38;5;241m.\u001b[39mlog\u001b[38;5;241m.\u001b[39mwarning(\u001b[38;5;124m\"\u001b[39m\u001b[38;5;124mInvalid Message:\u001b[39m\u001b[38;5;124m\"\u001b[39m, exc_info\u001b[38;5;241m=\u001b[39m\u001b[38;5;28;01mTrue\u001b[39;00m)\n",
      "\u001b[1;31mKeyboardInterrupt\u001b[0m: Interrupted by user"
     ]
    }
   ],
   "source": [
    "def add(a,b):\n",
    "    print(a+b)\n",
    "def sub(a,b):\n",
    "    print(a-b)\n",
    "def prod(a,b):\n",
    "    print(a*b)\n",
    "def div(a,b):\n",
    "    print(a/b)\n",
    "\n",
    "op=input('Enter either \"add\" or \"sub\" or \"prod\" or \"div\": ')\n",
    "if(op in 'add sub prod div'):\n",
    "    a=input('Enter the first number')\n",
    "    b=input('Enter the second number')\n",
    "    fun=op+'('+a+','+b+')'\n",
    "    eval(fun)\n",
    "else:\n",
    "    print('Please enter valid input')"
   ]
  },
  {
   "cell_type": "markdown",
   "id": "d4598da4",
   "metadata": {},
   "source": [
    "### exec\n",
    "exec() function is used for the dynamic execution of Python programs which can either be a string or object code. If it is a string, the string is parsed as a suite of Python statements which is then executed unless a syntax error occurs and if it is an object code, it is simply executed. We must be careful that the return statements may not be used outside of function definitions not even within the context of code passed to the exec() function. It doesn’t return any value, hence returns None. "
   ]
  },
  {
   "cell_type": "code",
   "execution_count": null,
   "id": "826239d2",
   "metadata": {},
   "outputs": [],
   "source": [
    "thing_to_exec = 'print(\"The result of dividing 20 and 5 is \",(10/5))'\n",
    "exec(thing_to_exec)"
   ]
  },
  {
   "cell_type": "markdown",
   "id": "665c46b5",
   "metadata": {},
   "source": [
    "## callable()\n",
    "callable() returns True for any callable\n",
    "object, including a class. You might think that a class is not\n",
    "callable, but consider how we create an object: we call the class\n",
    "name passing parameters required by the constructor.\n",
    "callable() returns True for an object whose class has a __call__\n",
    "method. That method makes an object of that class appear that it\n",
    "is a function."
   ]
  },
  {
   "cell_type": "code",
   "execution_count": 39,
   "id": "8524cb38",
   "metadata": {},
   "outputs": [
    {
     "name": "stdout",
     "output_type": "stream",
     "text": [
      "phil\n",
      "False\n",
      "name is phil\n",
      "True\n"
     ]
    }
   ],
   "source": [
    "class test_one:\n",
    "    def __init__(self):\n",
    "        self.name = \"phil\"\n",
    "\n",
    "t1 = test_one()\n",
    "print(t1.name)\n",
    "print(callable(t1))\n",
    "\n",
    "class test_two: \n",
    "    def __init__(self): \n",
    "        self.name = 'phil'\n",
    "    \n",
    "    def __call__(self):\n",
    "        return 'name is ' + self.name\n",
    "\n",
    "t2 = test_two()\n",
    "print(t2())\n",
    "print(callable(t2))"
   ]
  },
  {
   "cell_type": "markdown",
   "id": "45a3bf66",
   "metadata": {},
   "source": [
    "### Dict and slots\n",
    "as per slide \n",
    "\n",
    "\n",
    "## Exceptions and traceback \n",
    "Exceptions can occur in heavily nested function calls, and even exceptions can be nestd. Luclkily there are sevral modules in the standard library that can help us. for example sys has three variables, sys.last_type, sys.last_value, and\n",
    "sys.last_traceback, conveniently retrieved as a tuple by\n",
    "sys.exc_info(). "
   ]
  },
  {
   "cell_type": "code",
   "execution_count": null,
   "id": "86e12985",
   "metadata": {},
   "outputs": [],
   "source": [
    "import sys\n",
    "\n",
    "try: \n",
    "    result = 10/0\n",
    "except Exception as e:\n",
    "    print(e)\n",
    "    \n",
    "try: \n",
    "    result = 10 / 0\n",
    "except: \n",
    "    exc_type, exc_value, exc_traceback = sys.exc_info()\n",
    "    print(f\"Exception type: {exc_type}\")\n",
    "    print(f\"Exception value: {exc_value}\")\n",
    "    print(f\"Traceback object: {exc_traceback}\")"
   ]
  },
  {
   "cell_type": "markdown",
   "id": "e4601cf6",
   "metadata": {},
   "source": [
    "## inspect \n",
    "The inspect module is a rich tool-set (or toy-box, depending on\n",
    "your view) for anyone doing Python introspection. A lot of the\n",
    "information found by using this module can be obtained in other\n",
    "ways, but generally it is easier using inspect\n",
    "\n",
    "inspect.ismodule(), inspect.isclass()\n",
    "inspect.isfunction(), inspect.ismethod()\n",
    "inspect.isgenerator(), inspect.isbuiltin(), etc.\n",
    "inspect.getmembers() inherits from dir\n",
    "Gives details of each member, not just their names"
   ]
  },
  {
   "cell_type": "code",
   "execution_count": 40,
   "id": "3dbc98d4",
   "metadata": {},
   "outputs": [
    {
     "name": "stdout",
     "output_type": "stream",
     "text": [
      "[('__class__', <class 'type'>), ('__delattr__', <slot wrapper '__delattr__' of 'object' objects>), ('__dict__', mappingproxy({'__module__': '__main__', '__init__': <function MySimpleClass.__init__ at 0x000002B2D5548790>, 'print_me': <function MySimpleClass.print_me at 0x000002B2D5548430>, '_hide_me': <function MySimpleClass._hide_me at 0x000002B2D5548310>, '__dict__': <attribute '__dict__' of 'MySimpleClass' objects>, '__weakref__': <attribute '__weakref__' of 'MySimpleClass' objects>, '__doc__': None})), ('__dir__', <method '__dir__' of 'object' objects>), ('__doc__', None), ('__eq__', <slot wrapper '__eq__' of 'object' objects>), ('__format__', <method '__format__' of 'object' objects>), ('__ge__', <slot wrapper '__ge__' of 'object' objects>), ('__getattribute__', <slot wrapper '__getattribute__' of 'object' objects>), ('__gt__', <slot wrapper '__gt__' of 'object' objects>), ('__hash__', <slot wrapper '__hash__' of 'object' objects>), ('__init__', <function MySimpleClass.__init__ at 0x000002B2D5548790>), ('__init_subclass__', <built-in method __init_subclass__ of type object at 0x000002B2D23D6430>), ('__le__', <slot wrapper '__le__' of 'object' objects>), ('__lt__', <slot wrapper '__lt__' of 'object' objects>), ('__module__', '__main__'), ('__ne__', <slot wrapper '__ne__' of 'object' objects>), ('__new__', <built-in method __new__ of type object at 0x00007FFD71B83E00>), ('__reduce__', <method '__reduce__' of 'object' objects>), ('__reduce_ex__', <method '__reduce_ex__' of 'object' objects>), ('__repr__', <slot wrapper '__repr__' of 'object' objects>), ('__setattr__', <slot wrapper '__setattr__' of 'object' objects>), ('__sizeof__', <method '__sizeof__' of 'object' objects>), ('__str__', <slot wrapper '__str__' of 'object' objects>), ('__subclasshook__', <built-in method __subclasshook__ of type object at 0x000002B2D23D6430>), ('__weakref__', <attribute '__weakref__' of 'MySimpleClass' objects>), ('_hide_me', <function MySimpleClass._hide_me at 0x000002B2D5548310>), ('print_me', <function MySimpleClass.print_me at 0x000002B2D5548430>)]\n"
     ]
    }
   ],
   "source": [
    "import inspect\n",
    "\n",
    "print(inspect.getmembers(MySimpleClass))\n",
    "\n"
   ]
  },
  {
   "cell_type": "code",
   "execution_count": null,
   "id": "91689381",
   "metadata": {},
   "outputs": [],
   "source": [
    "print(inspect.isbuiltin(print))"
   ]
  },
  {
   "cell_type": "markdown",
   "id": "9cd37274",
   "metadata": {},
   "source": [
    "## aliases\n",
    "Use sys.modules \n"
   ]
  },
  {
   "cell_type": "code",
   "execution_count": null,
   "id": "76e58155",
   "metadata": {},
   "outputs": [],
   "source": [
    "import inspect,sys,re\n",
    "def look():\n",
    "    for name, val in sys._getframe(1).f_locals.items():\n",
    "        if inspect.ismodule(val):\n",
    "            fullnm = str(val)\n",
    "            if not '(built-in)' in fullnm and \\\n",
    "            not __name__ in fullnm:\n",
    "                m = re.search(r\"'(.+)'.*'(.+)'\", fullnm)\n",
    "                module,path = m.groups()\n",
    "                print(f\"{name} maps to {path}\")\n",
    "look()\n"
   ]
  }
 ],
 "metadata": {
  "kernelspec": {
   "display_name": "Python 3 (ipykernel)",
   "language": "python",
   "name": "python3"
  },
  "language_info": {
   "codemirror_mode": {
    "name": "ipython",
    "version": 3
   },
   "file_extension": ".py",
   "mimetype": "text/x-python",
   "name": "python",
   "nbconvert_exporter": "python",
   "pygments_lexer": "ipython3",
   "version": "3.11.9"
  }
 },
 "nbformat": 4,
 "nbformat_minor": 5
}
