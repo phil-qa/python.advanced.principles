{
 "cells": [
  {
   "cell_type": "markdown",
   "id": "a6548a44",
   "metadata": {},
   "source": [
    "# Meta Programming\n",
    "\n",
    "## Top Summary \n",
    "Metaprogramming is a term often used, but probably is seldom a\n",
    "target. It is a general description for techniques that manipulate\n",
    "code at run-time. Decorators, Metaclasses and Descriptors are all\n",
    "part of metaprogramming - and for Python that list is not\n",
    "exhaustive.\n",
    "You might never use these techniques, but you almost certainly\n",
    "will use modules or products that do. \n",
    "\n",
    "We have already experienced ,some of this previously with decorators \n",
    "\n",
    "Metaprogramming is used in Python for a variety of tasks, including:\n",
    "\n",
    "Creating dynamic class definitions and instances: Metaclasses can be used to create new classes dynamically at runtime, allowing for more flexible and customizable class structures.\n",
    "\n",
    "Modifying the behavior of functions and classes: Decorators can be used to modify the behavior of functions and classes, adding functionality such as caching, logging, or validation.\n",
    "\n",
    "Can be used for debugging\n",
    "\n",
    "Creating domain-specific languages (DSLs) or frameworks: Metaprogramming can be used to create domain-specific languages, which are specialized languages designed for a particular application domain.\n",
    "\n",
    "\n",
    "IN this sections we wil look at \n",
    "- Monkey-patching\n",
    "- Descriptors\n",
    "- Signatures\n",
    "- Class decorators\n",
    "- Metaclasses\n",
    "- Abstract Base Classes\n",
    "- Virtual subclasses\n",
    "- __call__\n",
    "\n",
    "# monkey-patching\n",
    "\n",
    "Monkey-patching is the altering of existing classes by replacement.\n",
    "That is easy in Python, but you might say \"too easy\". Beginners to\n",
    "Python often call variables names like len, list, or str, and the most\n",
    "common overwrite in Python 2 is storing a filename in a variable\n",
    "called file (an alias of open). Cant do that in Python 3\n",
    "There are obvious temptations to hack. The problem is that code\n",
    "might not behave in the way users expect - changing functionality\n",
    "to that documented is not always desirable, and can be\n",
    "unsupportable. Perhaps inheritance would be worth a try instead?\n"
   ]
  },
  {
   "cell_type": "markdown",
   "id": "e9d93767",
   "metadata": {},
   "source": [
    "## descriptors\n",
    "Introduced in Python 2.2 Descriptors are used to implement the underlying functions of the object system which include bound and unbound methods, class methods, and static methods. \n",
    "\n",
    "A lot of modern frameworks and libraries use the \"descriptor\" protocol to make the process of creating APIs for end-users neat and simple. Python's builtins like property, staticmethod and classmethod can be imitated using the descriptor protocol.\n",
    "\n",
    "Consider the following example class:\n",
    "\n",
    "For a class to be a descriptor it hs to implement the descriptor protocol The descriptor protocol the following functions may be implemented \n",
    "`__get__ (self, obj, type=None)`\n",
    "Used to access attributes. It returns the value of the attribute. If the attribute is illegal, it can throw a corresponding exception like ValueError. If the attribute does not exist, it will report AttributeError.\n",
    "\n",
    "`__set__ (self, obj, value)`\n",
    "Used to set the property’s values, none will be returned.\n",
    "\n",
    "`__delete__ (self, obj)`\n",
    "Controls the deletion of attributes; none will be returned."
   ]
  },
  {
   "cell_type": "code",
   "execution_count": 22,
   "id": "dd24ece2",
   "metadata": {},
   "outputs": [],
   "source": [
    "class ValidatedEngine:    \n",
    "    def __get__(self, obj, objtype = None):\n",
    "        value = obj._size\n",
    "        return value\n",
    "    \n",
    "    def __set__(self,obj,size):\n",
    "        if not  1 <= size <= 6:\n",
    "            raise ValueError('Engine size must be in range 1 to 6')\n",
    "        obj._size = size\n",
    "\n",
    "class Car:\n",
    "    engine = ValidatedEngine()\n",
    "    \n",
    "    def __init__(self, model, engine):\n",
    "        self.model = model\n",
    "        self.engine = engine\n",
    "        \n",
    "    def upgrade_engine(self, size):\n",
    "        self.engine += size\n",
    "\n",
    "        "
   ]
  },
  {
   "cell_type": "code",
   "execution_count": 23,
   "id": "001b4c85",
   "metadata": {},
   "outputs": [],
   "source": [
    "my_car = Car(\"BMW\", 2.0)\n",
    "\n"
   ]
  },
  {
   "cell_type": "code",
   "execution_count": 24,
   "id": "75f71bcb",
   "metadata": {},
   "outputs": [
    {
     "data": {
      "text/plain": [
       "2.0"
      ]
     },
     "execution_count": 24,
     "metadata": {},
     "output_type": "execute_result"
    }
   ],
   "source": [
    "my_car.engine"
   ]
  },
  {
   "cell_type": "code",
   "execution_count": 25,
   "id": "9bd97e60",
   "metadata": {},
   "outputs": [
    {
     "ename": "ValueError",
     "evalue": "Engine size must be in range 1 to 6",
     "output_type": "error",
     "traceback": [
      "\u001b[1;31m---------------------------------------------------------------------------\u001b[0m",
      "\u001b[1;31mValueError\u001b[0m                                Traceback (most recent call last)",
      "\u001b[1;32m~\\AppData\\Local\\Temp/ipykernel_58280/4213926557.py\u001b[0m in \u001b[0;36m<module>\u001b[1;34m\u001b[0m\n\u001b[1;32m----> 1\u001b[1;33m \u001b[0mmy_car\u001b[0m\u001b[1;33m.\u001b[0m\u001b[0mupgrade_engine\u001b[0m\u001b[1;33m(\u001b[0m\u001b[1;36m10\u001b[0m\u001b[1;33m)\u001b[0m\u001b[1;33m\u001b[0m\u001b[1;33m\u001b[0m\u001b[0m\n\u001b[0m",
      "\u001b[1;32m~\\AppData\\Local\\Temp/ipykernel_58280/3195472209.py\u001b[0m in \u001b[0;36mupgrade_engine\u001b[1;34m(self, size)\u001b[0m\n\u001b[0;32m     17\u001b[0m \u001b[1;33m\u001b[0m\u001b[0m\n\u001b[0;32m     18\u001b[0m     \u001b[1;32mdef\u001b[0m \u001b[0mupgrade_engine\u001b[0m\u001b[1;33m(\u001b[0m\u001b[0mself\u001b[0m\u001b[1;33m,\u001b[0m \u001b[0msize\u001b[0m\u001b[1;33m)\u001b[0m\u001b[1;33m:\u001b[0m\u001b[1;33m\u001b[0m\u001b[1;33m\u001b[0m\u001b[0m\n\u001b[1;32m---> 19\u001b[1;33m         \u001b[0mself\u001b[0m\u001b[1;33m.\u001b[0m\u001b[0mengine\u001b[0m \u001b[1;33m+=\u001b[0m \u001b[0msize\u001b[0m\u001b[1;33m\u001b[0m\u001b[1;33m\u001b[0m\u001b[0m\n\u001b[0m\u001b[0;32m     20\u001b[0m \u001b[1;33m\u001b[0m\u001b[0m\n\u001b[0;32m     21\u001b[0m \u001b[1;33m\u001b[0m\u001b[0m\n",
      "\u001b[1;32m~\\AppData\\Local\\Temp/ipykernel_58280/3195472209.py\u001b[0m in \u001b[0;36m__set__\u001b[1;34m(self, obj, size)\u001b[0m\n\u001b[0;32m      6\u001b[0m     \u001b[1;32mdef\u001b[0m \u001b[0m__set__\u001b[0m\u001b[1;33m(\u001b[0m\u001b[0mself\u001b[0m\u001b[1;33m,\u001b[0m\u001b[0mobj\u001b[0m\u001b[1;33m,\u001b[0m\u001b[0msize\u001b[0m\u001b[1;33m)\u001b[0m\u001b[1;33m:\u001b[0m\u001b[1;33m\u001b[0m\u001b[1;33m\u001b[0m\u001b[0m\n\u001b[0;32m      7\u001b[0m         \u001b[1;32mif\u001b[0m \u001b[1;32mnot\u001b[0m  \u001b[1;36m1\u001b[0m \u001b[1;33m<=\u001b[0m \u001b[0msize\u001b[0m \u001b[1;33m<=\u001b[0m \u001b[1;36m6\u001b[0m\u001b[1;33m:\u001b[0m\u001b[1;33m\u001b[0m\u001b[1;33m\u001b[0m\u001b[0m\n\u001b[1;32m----> 8\u001b[1;33m             \u001b[1;32mraise\u001b[0m \u001b[0mValueError\u001b[0m\u001b[1;33m(\u001b[0m\u001b[1;34m'Engine size must be in range 1 to 6'\u001b[0m\u001b[1;33m)\u001b[0m\u001b[1;33m\u001b[0m\u001b[1;33m\u001b[0m\u001b[0m\n\u001b[0m\u001b[0;32m      9\u001b[0m         \u001b[0mobj\u001b[0m\u001b[1;33m.\u001b[0m\u001b[0m_size\u001b[0m \u001b[1;33m=\u001b[0m \u001b[0msize\u001b[0m\u001b[1;33m\u001b[0m\u001b[1;33m\u001b[0m\u001b[0m\n\u001b[0;32m     10\u001b[0m \u001b[1;33m\u001b[0m\u001b[0m\n",
      "\u001b[1;31mValueError\u001b[0m: Engine size must be in range 1 to 6"
     ]
    }
   ],
   "source": [
    "my_car.upgrade_engine(10)"
   ]
  },
  {
   "cell_type": "markdown",
   "id": "bb0accfd",
   "metadata": {},
   "source": [
    "## Signatures\n",
    "Signatures are relatively new, and they represent the call interface\n",
    "of a function. \n",
    "\n",
    "In Python, Signature and Parameter objects are created by the\n",
    "inspect module. A Signature is immutable, but you can create a\n",
    "new one using Signature.replace().\n",
    "A Signature has a parameters’ attribute, which is a container\n",
    "(mapping) of Parameter objects.\n",
    "\n",
    "A Signature object represents a function's parameter list\n",
    "- It is a container of Parameter objects\n",
    "- Can yield a list of parameter names\n",
    "\n",
    "\n",
    "Signature and Parameter are from the inspect module\n",
    "\n",
    "You can list and create signatures for methods/functions\n",
    "- Signatures are created from a container of Parameters\n",
    "- Parameters are created from a string name and a type\n",
    "Example type: POSITIONAL_OR_KEYWORD\n",
    "A Signature object can be associated with a function using:\n",
    "Signature.bind(*args. *kwargs)\n",
    "\n",
    "\n",
    "the following code draws from an earlier example of setattr and this \n",
    "could be antoher way of doing this using signature\n",
    "\n",
    "Set struct is a base class that implements an empty `__signature__` class attribute \n",
    "unrelated classes can inherit from the common base class below\n"
   ]
  },
  {
   "cell_type": "code",
   "execution_count": 28,
   "id": "505cdb60",
   "metadata": {},
   "outputs": [],
   "source": [
    "from inspect import Parameter, Signature\n",
    "\n",
    "def create_sig(fields):\n",
    "    params = []\n",
    "    for pname in fields:\n",
    "        params.append(Parameter(pname, Parameter.POSITIONAL_OR_KEYWORD))\n",
    "    return Signature(params)\n",
    "\n",
    "class SetStruct:\n",
    "    __signature__ = create_sig([])\n",
    "    def __init__(self, *args, **kwargs):\n",
    "        bound = self.__signature__.bind(*args, **kwargs)\n",
    "        for attr_name, attr_val in bound.arguments.items():\n",
    "            setattr(self, attr_name, attr_val)\n",
    "\n",
    "    def __str__(self):\n",
    "        lstr = []\n",
    "        for pname in self.__signature__.parameters:\n",
    "            lstr.append(str(getattr(self, pname, '')))\n",
    "        return ', '.join(lstr)\n",
    "\n",
    "    "
   ]
  },
  {
   "cell_type": "markdown",
   "id": "ca26d5ed",
   "metadata": {},
   "source": [
    "Lets set up two unrelated classes using that signature"
   ]
  },
  {
   "cell_type": "code",
   "execution_count": 29,
   "id": "99e6f099",
   "metadata": {},
   "outputs": [],
   "source": [
    "class File(SetStruct):\n",
    "    __signature__ = create_sig(['filename', 'size', 'owner'])\n",
    "    \n",
    "class Person(SetStruct):\n",
    "    __signature__ = create_sig(['name', 'address', 'dob'])\n"
   ]
  },
  {
   "cell_type": "code",
   "execution_count": 31,
   "id": "09ffef31",
   "metadata": {},
   "outputs": [
    {
     "name": "stdout",
     "output_type": "stream",
     "text": [
      "(filename, size, owner)\n",
      "(name, address, dob)\n"
     ]
    }
   ],
   "source": [
    "print(File.__signature__)\n",
    "\n",
    "print(Person.__signature__)\n",
    "\n",
    "\n",
    "f1 = File('/usr/lib/python', 123, 'root')\n",
    "f2 = File('/home/user1/country.txt', 234, 'user1')\n",
    "f3 = File(owner = 'user2', filename = '/home/user2/gash',size = 1)\n"
   ]
  },
  {
   "cell_type": "code",
   "execution_count": 32,
   "id": "2b2f85ee",
   "metadata": {},
   "outputs": [
    {
     "name": "stdout",
     "output_type": "stream",
     "text": [
      "/usr/lib/python, 123, root\n"
     ]
    }
   ],
   "source": [
    "print(f1)"
   ]
  },
  {
   "cell_type": "code",
   "execution_count": 33,
   "id": "f4a7fd2b",
   "metadata": {},
   "outputs": [],
   "source": [
    "p1 = Person('Fred Bloggs', '4 Railway Cuttings', '12/12/1990')\n",
    "p2 = Person('Jim James', '123 Acacia Avenue', '4/5/1988')\n",
    "p3 = Person('Mary Lamb', '4 The Field', '1/1/1970')\n"
   ]
  },
  {
   "cell_type": "code",
   "execution_count": 34,
   "id": "7d3edc1e",
   "metadata": {},
   "outputs": [
    {
     "name": "stdout",
     "output_type": "stream",
     "text": [
      "Fred Bloggs, 4 Railway Cuttings, 12/12/1990\n"
     ]
    }
   ],
   "source": [
    "print(p1)"
   ]
  },
  {
   "cell_type": "markdown",
   "id": "30b633ca",
   "metadata": {},
   "source": [
    "## Class decorators\n",
    "\n",
    "Unlike function decorators, class decorators return a class object.\n",
    "We shall be looking at metaclasses soon, but class decorators are a\n",
    "simpler way of doing a similar thing - such as some extra\n",
    "processing when a class is defined (metaclasses can do more\n",
    "though).\n",
    "One use is to provide a new `__getattribute__` method, which might\n",
    "provide additional functionality or logging.\n",
    "\n",
    "\n"
   ]
  },
  {
   "cell_type": "markdown",
   "id": "45557dd6",
   "metadata": {},
   "source": [
    "A metaclass is a class that creates classes\n",
    "\n",
    "You use a metaclass every time you create a new class, the devault metaclass in python is Type.\n",
    "Even classes are objects, and they are created by a metaclass. While the\n",
    "Python system provides such classes transparently, you can\n",
    "provide your own. They are typically used in products such as\n",
    "frameworks and GUI debuggers to keep track of classes.\n",
    "In a class hierarchy you could consider the super class to be a\n",
    "metaclass."
   ]
  },
  {
   "cell_type": "code",
   "execution_count": 1,
   "id": "d44f7cae",
   "metadata": {},
   "outputs": [
    {
     "name": "stdout",
     "output_type": "stream",
     "text": [
      "__call__ was called, this means it was callable\n",
      "Phil Running for his life\n"
     ]
    }
   ],
   "source": [
    "class MyDecorator:\n",
    "    def __init__(self, function):\n",
    "        self.function = function\n",
    "\n",
    "    def __call__(self, *args, **kwargs):\n",
    "        print(\"__call__ was called, this means it was callable\")\n",
    "        self.function(*args, **kwargs)\n",
    "\n",
    "\n",
    "\n",
    "# adding class decorator to the function\n",
    "@MyDecorator\n",
    "def function(person, status):\n",
    "    print(f\"{person} {status}\")\n",
    "\n",
    "\n",
    "function(\"Phil\", \"Running for his life\")\n"
   ]
  },
  {
   "cell_type": "markdown",
   "id": "f662524f",
   "metadata": {},
   "source": [
    "## Abstract Base Class\n",
    "An Abstract Base Class (ABC) is a class which cannot be directly\n",
    "instantiated, but can be derived. Abstract methods described in\n",
    "the ABC must be implemented in the derived class, otherwise\n",
    "objects of that class cannot be instantiated either.\n",
    "\n",
    "\n",
    "Using ABC  forces an interface that classes must implement, this allows for variation.\n",
    "\n",
    "The follwong is an example of Animal class using abstract method notice that the last one does not follow\n",
    "the pattern"
   ]
  },
  {
   "cell_type": "code",
   "execution_count": 36,
   "id": "dcc0fe93",
   "metadata": {},
   "outputs": [],
   "source": [
    "from abc import ABC, abstractmethod\n",
    "\n",
    "class Animal(ABC):\n",
    "    @abstractmethod\n",
    "    def make_sound(self):\n",
    "        pass\n",
    "\n",
    "class Dog(Animal):\n",
    "    def make_sound(self):\n",
    "        return \"Woof!\"\n",
    "\n",
    "class Cat(Animal):\n",
    "    def make_sound(self):\n",
    "        return \"Meow!\"\n",
    "\n",
    "class Cow(Animal):\n",
    "    pass\n"
   ]
  },
  {
   "cell_type": "code",
   "execution_count": 38,
   "id": "9f02685e",
   "metadata": {},
   "outputs": [
    {
     "ename": "TypeError",
     "evalue": "Can't instantiate abstract class Cow with abstract method make_sound",
     "output_type": "error",
     "traceback": [
      "\u001b[1;31m---------------------------------------------------------------------------\u001b[0m",
      "\u001b[1;31mTypeError\u001b[0m                                 Traceback (most recent call last)",
      "\u001b[1;32m~\\AppData\\Local\\Temp/ipykernel_58280/748742242.py\u001b[0m in \u001b[0;36m<module>\u001b[1;34m\u001b[0m\n\u001b[1;32m----> 1\u001b[1;33m \u001b[0manimals\u001b[0m \u001b[1;33m=\u001b[0m \u001b[1;33m[\u001b[0m\u001b[0mDog\u001b[0m\u001b[1;33m(\u001b[0m\u001b[1;33m)\u001b[0m\u001b[1;33m,\u001b[0m \u001b[0mCat\u001b[0m\u001b[1;33m(\u001b[0m\u001b[1;33m)\u001b[0m\u001b[1;33m,\u001b[0m \u001b[0mCow\u001b[0m\u001b[1;33m(\u001b[0m\u001b[1;33m)\u001b[0m\u001b[1;33m]\u001b[0m\u001b[1;33m\u001b[0m\u001b[1;33m\u001b[0m\u001b[0m\n\u001b[0m\u001b[0;32m      2\u001b[0m \u001b[1;32mfor\u001b[0m \u001b[0manimal\u001b[0m \u001b[1;32min\u001b[0m \u001b[0manimals\u001b[0m\u001b[1;33m:\u001b[0m\u001b[1;33m\u001b[0m\u001b[1;33m\u001b[0m\u001b[0m\n\u001b[0;32m      3\u001b[0m     \u001b[0mprint\u001b[0m\u001b[1;33m(\u001b[0m\u001b[0manimal\u001b[0m\u001b[1;33m.\u001b[0m\u001b[0mmake_sound\u001b[0m\u001b[1;33m(\u001b[0m\u001b[1;33m)\u001b[0m\u001b[1;33m)\u001b[0m\u001b[1;33m\u001b[0m\u001b[1;33m\u001b[0m\u001b[0m\n",
      "\u001b[1;31mTypeError\u001b[0m: Can't instantiate abstract class Cow with abstract method make_sound"
     ]
    }
   ],
   "source": [
    "animals = [Dog(), Cat(), Cow()]\n",
    "for animal in animals: \n",
    "    print(animal.make_sound())"
   ]
  },
  {
   "cell_type": "markdown",
   "id": "27c5fd9e",
   "metadata": {},
   "source": [
    "## __call__\n",
    "This special method enables the class to be used as if it was a\n",
    "function - it makes the class callable. \n",
    "\n",
    "Its useful in many ways , such as when it is needed to define a callable object that \n",
    "maintains some internal state, for example if there is a process that requires multiple steps and\n",
    "it would be useful to encapsulate that behaviour\n",
    "\n",
    "Additionally it could be used in debugging : \n"
   ]
  },
  {
   "cell_type": "code",
   "execution_count": 39,
   "id": "4679aebc",
   "metadata": {},
   "outputs": [
    {
     "name": "stdout",
     "output_type": "stream",
     "text": [
      "Calling function add with args=(2, 3) kwargs={}\n",
      "Function returned 5\n",
      "5\n"
     ]
    }
   ],
   "source": [
    "class debug:\n",
    "    def __init__(self, func):\n",
    "        self.func = func\n",
    "\n",
    "    def __call__(self, *args, **kwargs):\n",
    "        print(f\"Calling function {self.func.__name__} with args={args} kwargs={kwargs}\")\n",
    "        result = self.func(*args, **kwargs)\n",
    "        print(f\"Function returned {result}\")\n",
    "        return result\n",
    "\n",
    "@debug\n",
    "def add(x, y):\n",
    "    return x + y\n",
    "\n",
    "print(add(2, 3))  \n"
   ]
  }
 ],
 "metadata": {
  "kernelspec": {
   "display_name": "Python 3 (ipykernel)",
   "language": "python",
   "name": "python3"
  },
  "language_info": {
   "codemirror_mode": {
    "name": "ipython",
    "version": 3
   },
   "file_extension": ".py",
   "mimetype": "text/x-python",
   "name": "python",
   "nbconvert_exporter": "python",
   "pygments_lexer": "ipython3",
   "version": "3.9.7"
  }
 },
 "nbformat": 4,
 "nbformat_minor": 5
}
