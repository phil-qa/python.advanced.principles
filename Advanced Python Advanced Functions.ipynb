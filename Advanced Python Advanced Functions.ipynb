{
 "cells": [
  {
   "cell_type": "markdown",
   "id": "5306d7ea",
   "metadata": {},
   "source": [
    "# Passing parameters\n",
    "Parameters can be passed by position or name or default \n"
   ]
  },
  {
   "cell_type": "code",
   "execution_count": 1,
   "id": "feacc14b",
   "metadata": {},
   "outputs": [
    {
     "name": "stdout",
     "output_type": "stream",
     "text": [
      "from the documentation educational is of type marker and it's base is chalk\n",
      "from the documentation educational is of type marker and it's base is Ink\n",
      "from the documentation practical is of type exercise and it's base is exercise content\n"
     ]
    }
   ],
   "source": [
    "#In this exanmple a function has all three used \n",
    "def a_function(source, display, base='chalk'):\n",
    "    print(f\"from the documentation {source} is of type {display} and it's base is {base}\")\n",
    "\n",
    "a_function(\"educational\", \"marker\")\n",
    "a_function(\"educational\", \"marker\", \"Ink\")\n",
    "a_function(source=\"practical\", display=\"exercise\", base=\"exercise content\")"
   ]
  },
  {
   "cell_type": "code",
   "execution_count": 3,
   "id": "c7b63f52",
   "metadata": {},
   "outputs": [
    {
     "name": "stdout",
     "output_type": "stream",
     "text": [
      "source: context elements, containing('reading', 'writing', 'explaining', 'demonstrating')\n"
     ]
    }
   ],
   "source": [
    "#This example contains the same sort of approach but is a variadic\n",
    "def a_function(source, *training_elements):\n",
    "    print(f\"source: {source}, containing{training_elements}\")\n",
    "\n",
    "a_function(\"context elements\", \"reading\", \"writing\", \"explaining\", \"demonstrating\")\n"
   ]
  },
  {
   "cell_type": "code",
   "execution_count": 10,
   "id": "bde5f3eb",
   "metadata": {},
   "outputs": [],
   "source": [
    "#can also send a dictionary as kwargs\n",
    "my_trips = {\"Reading\": 100, \"Swindon\": 70, \"Gloucester\" : 10}\n",
    "\n",
    "def calculate_remittance(base_rate, **trip_data):\n",
    "    trip_values = trip_data.values()\n",
    "    total_distance = sum(list(trip_values))\n",
    "    return base_rate * total_distance\n"
   ]
  },
  {
   "cell_type": "code",
   "execution_count": 11,
   "id": "53d030df",
   "metadata": {},
   "outputs": [
    {
     "data": {
      "text/plain": [
       "1800"
      ]
     },
     "execution_count": 11,
     "metadata": {},
     "output_type": "execute_result"
    }
   ],
   "source": [
    "calculate_remittance(10, **my_trips)"
   ]
  },
  {
   "cell_type": "markdown",
   "id": "8c2b4b92",
   "metadata": {},
   "source": [
    "# default parameter trap\n",
    "If we use mutable objects as parameters then the behaviour is not quite what we expect, this is because it's a suingle object that is created, not a new one per call \n"
   ]
  },
  {
   "cell_type": "markdown",
   "id": "2dd88632",
   "metadata": {},
   "source": [
    "# Recursion\n",
    "    There is a limit to the numer of times a system will allow recursion"
   ]
  },
  {
   "cell_type": "code",
   "execution_count": 13,
   "id": "688c89a5",
   "metadata": {},
   "outputs": [
    {
     "name": "stdout",
     "output_type": "stream",
     "text": [
      "3000\n"
     ]
    }
   ],
   "source": [
    "import sys\n",
    "print(sys.getrecursionlimit())"
   ]
  },
  {
   "cell_type": "code",
   "execution_count": null,
   "id": "f0cd6604",
   "metadata": {},
   "outputs": [
    {
     "name": "stdout",
     "output_type": "stream",
     "text": [
      "Enter the number: \n",
      "2999\n"
     ]
    }
   ],
   "source": [
    "\n",
    "# A simple recursive function\n",
    "# to compute the factorial of a number\n",
    "def fact(n):\n",
    " \n",
    "    if(n == 0):\n",
    "        return 1\n",
    " \n",
    "    return n * fact(n - 1)\n",
    " \n",
    " \n",
    "if __name__ == '__main__':\n",
    " \n",
    "    # taking input\n",
    "    f = int(input('Enter the number: \\n'))\n",
    " \n",
    "    print(fact(f))"
   ]
  },
  {
   "cell_type": "markdown",
   "id": "649c0823",
   "metadata": {},
   "source": [
    "# Dispatch Table \n",
    "note that functions can be passed as values in dictionaries, this is very useful as shown in the slide were a test is made and a function called accordingly\n"
   ]
  },
  {
   "cell_type": "code",
   "execution_count": 7,
   "id": "d55d90d1",
   "metadata": {},
   "outputs": [
    {
     "name": "stdout",
     "output_type": "stream",
     "text": [
      "Enter a Messier number: M31\n",
      "M31 is a spiral galaxy\n"
     ]
    }
   ],
   "source": [
    "def spiral(cobj):\n",
    "    print (cobj, \"is a spiral galaxy\")\n",
    "def open_cluster(cobj):\n",
    "    print (cobj, \"is an open cluster\")\n",
    "def glob_cluster(cobj):\n",
    "    print(cobj, \"is a globular cluster\")\n",
    "...\n",
    "dtab = {}\n",
    "dtab['M31'] = spiral\n",
    "dtab['M33'] = spiral\n",
    "dtab['M41'] = open_cluster\n",
    "dtab['M13'] = glob_cluster\n",
    "cobject = input(\"Enter a Messier number: \")\n",
    "if cobject in dtab:\n",
    "    dtab[cobject](cobject)\n",
    "else:\n",
    "    print (cobject, \"is unknown\")\n",
    "    \n",
    "    "
   ]
  },
  {
   "cell_type": "markdown",
   "id": "d7523568",
   "metadata": {},
   "source": [
    "# Operator.itemgetter\n",
    "This is a useful code object that returns an element. The following gets the value from a dictionary and uses it to run a sort on it. \n"
   ]
  },
  {
   "cell_type": "code",
   "execution_count": 13,
   "id": "5b63378f",
   "metadata": {},
   "outputs": [
    {
     "name": "stdout",
     "output_type": "stream",
     "text": [
      "[{'phoneName': 'Apple', 'phonePrice': 900}, {'phoneName': 'Samsung', 'phonePrice': 800}, {'phoneName': 'Nokia', 'phonePrice': 850}]\n",
      "[{'phoneName': 'Apple', 'phonePrice': 900}, {'phoneName': 'Nokia', 'phonePrice': 850}, {'phoneName': 'Samsung', 'phonePrice': 800}]\n",
      "[{'phoneName': 'Samsung', 'phonePrice': 800}, {'phoneName': 'Nokia', 'phonePrice': 850}, {'phoneName': 'Apple', 'phonePrice': 900}]\n"
     ]
    }
   ],
   "source": [
    "import operator\n",
    "phones = [{'phoneName': 'Apple', 'phonePrice': 900},\n",
    "         {'phoneName' : 'Samsung', 'phonePrice':800},\n",
    "         {'phoneName' : 'Nokia', 'phonePrice' : 850}]\n",
    "print(phones)\n",
    "\n",
    "print(sorted(phones, key=operator.itemgetter('phoneName')))\n",
    "print(sorted(phones, key=operator.itemgetter('phonePrice')))\n"
   ]
  },
  {
   "cell_type": "markdown",
   "id": "bc30d832",
   "metadata": {},
   "source": [
    "# Nested functions\n",
    "Reviewing the nested functions. Note that scope becomes an issue. "
   ]
  },
  {
   "cell_type": "code",
   "execution_count": 17,
   "id": "bc03161e",
   "metadata": {},
   "outputs": [
    {
     "name": "stdout",
     "output_type": "stream",
     "text": [
      "3\n"
     ]
    }
   ],
   "source": [
    "result = 3\n",
    "def the_funct():\n",
    "    result_outer = 12\n",
    "    def scope_test(result = result_outer):\n",
    "        if result < 45:\n",
    "            result +=1\n",
    "            scope_test(result)\n",
    "    scope_test\n",
    "the_funct()\n",
    "print(result)"
   ]
  },
  {
   "cell_type": "markdown",
   "id": "3a48f431",
   "metadata": {},
   "source": [
    "To better present the delimit there is the possiblity of using nonlocal. By doing this, you let the Python interpreter know you are not referring to the variable in the local scope but the one in the enclosing function instead."
   ]
  },
  {
   "cell_type": "code",
   "execution_count": 21,
   "id": "b90dd1e6",
   "metadata": {},
   "outputs": [
    {
     "name": "stdout",
     "output_type": "stream",
     "text": [
      "Bob\n",
      "Bob\n"
     ]
    }
   ],
   "source": [
    "def outer():\n",
    "    name = \"Alice\"\n",
    "    \n",
    "    def inner():\n",
    "        # Overwrite the name=\"Alice\" variable\n",
    "        nonlocal name\n",
    "        name = \"Bob\"\n",
    "        print(name)\n",
    "    \n",
    "    # Call the inner function bar()\n",
    "    inner()\n",
    "    \n",
    "    # Print foo()'s local variable name\n",
    "    print(name)\n",
    "outer()"
   ]
  },
  {
   "cell_type": "raw",
   "id": "0a3a82e0",
   "metadata": {},
   "source": [
    "# Decorators - metaprogramming\n",
    "At first, the word Metaprogramming seems like a very funky and alien thing but if you have ever worked with decorators or metaclasses, you were doing metaprogramming there all along. In a nutshell, we can say metaprogramming is the code that manipulates code.\n",
    "In this article, we are going to discuss Metaclasses, why and when we should use them, and what are the alternatives. This is a fairly advance Python topic and the following prerequisite is expected – \n",
    "\n",
    "OOP concept in Python\n",
    "Decorators in Python\n",
    "\n",
    "Every type in Python is defined by Class\n",
    "\n"
   ]
  },
  {
   "cell_type": "code",
   "execution_count": null,
   "id": "f86eeece",
   "metadata": {},
   "outputs": [],
   "source": []
  }
 ],
 "metadata": {
  "kernelspec": {
   "display_name": "Python 3 (ipykernel)",
   "language": "python",
   "name": "python3"
  },
  "language_info": {
   "codemirror_mode": {
    "name": "ipython",
    "version": 3
   },
   "file_extension": ".py",
   "mimetype": "text/x-python",
   "name": "python",
   "nbconvert_exporter": "python",
   "pygments_lexer": "ipython3",
   "version": "3.9.7"
  }
 },
 "nbformat": 4,
 "nbformat_minor": 5
}
