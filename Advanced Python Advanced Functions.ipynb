{
 "cells": [
  {
   "cell_type": "markdown",
   "metadata": {},
   "source": [
    "# Advanced functions top summary\n",
    "\n",
    "## Passing parameters\n",
    "Parameters can be passed by position or name or default \n",
    "In this chapter would be looking at some of the more advanced features to do with functions and we begin that by looking at things like primer to pass it the mechanisms that we know and some of the approaches that are more commonly known another c languages such as a variadic  function, Which is a function that accepts a variable number of arguments. \n",
    "functionality like this this can be achieved in a couple of ways, kwargs for example, leverage flexibility in the same way, and Python allows for passing flexible containers in this way. \n",
    "\n",
    "## Python gotchas default parameter\n",
    "Pythons flexibility which is expressed in the ability to pass whatever we like into functions, has to be balanced with the knowledge that the outcomes of implementing those freedoms sometimes have unintended results.  one such example is the default parameter trap \n",
    "\n",
    "## Recursion\n",
    "\n",
    "Understanding what may result in  the use of functions in certain contexts is a responsibility of the programmer such that whatever is being developed doesn't behave in ways which are unexpected, much as we've just   mentioned with a default parameter to trap. we'll look at methods by which you might want to observe things like recursion and default values in this chapter whereby with me understand how much recursion is possible under a default condition, and again this is something that we want to be aware of in complex programmes within python.\n",
    "\n",
    "## Dispatch table\n",
    "\n",
    "We will have a look at a very useful creation of a dispatch table which, using a dictionary type structure, maps keys to functions which execute according to the key used  at runtime.\n",
    "\n",
    "## Operator.Itemgetter()\n",
    "\n",
    "We will look at Operator.Itemgetter where the operator module is commonly used as a procedural interface to the python bulit-in special methods\n",
    "\n",
    "## Nested Funtions\n",
    "\n",
    "Nested functions, that is placing a function iside another, is not something which all languages support. We will review that, indeed we will have to remember that there are issues with scope in python\n",
    "\n",
    "## Closures\n",
    "A closure is a function object that remembers values in enclosing scopes even if they are not present in memory. It is a record that stores a function together with an environment: a mapping associating each free variable of the function (variables that are used locally, but defined in an enclosing scope) with the value or reference to which the name was bound when the closure was created.\n",
    "\n",
    "## Decorators\n",
    "We will look at how decorators are used, a requirement that comes from metaprogramming (used for developing frameworks) which is code that modifies code at runtime. Although this is a look at one aspect we look again at metaprogramming later. \n",
    "\n",
    "## Partial evaluation of arguments\n",
    "\n",
    "We will look at functools.partial that allows for partial evaluation of a function, the rest being used in different contexts later in the execution. We will note the difference between lambda and this\n"
   ]
  },
  {
   "cell_type": "markdown",
   "metadata": {},
   "source": [
    "## Passing parameters"
   ]
  },
  {
   "cell_type": "code",
   "execution_count": 1,
   "metadata": {},
   "outputs": [
    {
     "name": "stdout",
     "output_type": "stream",
     "text": [
      "from the documentation educational is of type marker and it's base is chalk\n",
      "from the documentation educational is of type marker and it's base is Ink\n",
      "from the documentation practical is of type exercise and it's base is exercise content\n"
     ]
    }
   ],
   "source": [
    "#In this exanmple a function has all three used \n",
    "def a_function(source, display, base='chalk'):\n",
    "    print(f\"from the documentation {source} is of type {display} and it's base is {base}\")\n",
    "\n",
    "a_function(\"educational\", \"marker\")\n",
    "a_function(\"educational\", \"marker\", \"Ink\")\n",
    "a_function(source=\"practical\", display=\"exercise\", base=\"exercise content\")"
   ]
  },
  {
   "cell_type": "code",
   "execution_count": 3,
   "metadata": {},
   "outputs": [
    {
     "name": "stdout",
     "output_type": "stream",
     "text": [
      "source: context elements, containing('reading', 'writing', 'explaining', 'demonstrating')\n"
     ]
    }
   ],
   "source": [
    "#This example contains the same sort of approach but is a variadic\n",
    "def a_function(source, *training_elements):\n",
    "    print(f\"source: {source}, containing{training_elements}\")\n",
    "\n",
    "a_function(\"context elements\", \"reading\", \"writing\", \"explaining\", \"demonstrating\")"
   ]
  },
  {
   "cell_type": "code",
   "execution_count": 1,
   "metadata": {},
   "outputs": [],
   "source": [
    "#TODO - This needs updating \n",
    "#can also send a dictionary as kwargs\n",
    "my_trips = {\"Reading\": 100, \"Swindon\": 70, \"Gloucester\" : 10}\n",
    "\n",
    "def calculate_remittance(base_rate, **trip_data):\n",
    "    trip_values = trip_data.values()\n",
    "    total_distance = sum(list(trip_values))\n",
    "    return base_rate * total_distance"
   ]
  },
  {
   "cell_type": "code",
   "execution_count": 2,
   "metadata": {},
   "outputs": [
    {
     "data": {
      "text/plain": [
       "1800"
      ]
     },
     "execution_count": 2,
     "metadata": {},
     "output_type": "execute_result"
    }
   ],
   "source": [
    "calculate_remittance(10, **my_trips)"
   ]
  },
  {
   "cell_type": "markdown",
   "metadata": {},
   "source": [
    "# Default parameter trap\n",
    "If we use mutable objects as parameters then the behaviour is not quite what we expect, this is because it's a suingle object that is created, not a new one per call \n",
    "\n"
   ]
  },
  {
   "cell_type": "code",
   "execution_count": 3,
   "metadata": {},
   "outputs": [
    {
     "name": "stdout",
     "output_type": "stream",
     "text": [
      "[1]\n",
      "[1, 2]\n"
     ]
    }
   ],
   "source": [
    "def listy(value, my_list=[]):\n",
    "    my_list.append(value)\n",
    "    print(my_list)\n",
    "    \n",
    "listy(1)\n",
    "listy(2)"
   ]
  },
  {
   "cell_type": "markdown",
   "metadata": {},
   "source": [
    "# Recursion\n",
    "    There is a limit to the numer of times a system will allow recursion"
   ]
  },
  {
   "cell_type": "code",
   "execution_count": 13,
   "metadata": {
    "scrolled": true
   },
   "outputs": [
    {
     "name": "stdout",
     "output_type": "stream",
     "text": [
      "3000\n"
     ]
    }
   ],
   "source": [
    "import sys\n",
    "print(sys.getrecursionlimit())"
   ]
  },
  {
   "cell_type": "code",
   "execution_count": null,
   "metadata": {},
   "outputs": [
    {
     "name": "stdout",
     "output_type": "stream",
     "text": [
      "Enter the number: \n",
      "2999\n"
     ]
    }
   ],
   "source": [
    "# A simple recursive function\n",
    "# to compute the factorial of a number\n",
    "def fact(n):\n",
    " \n",
    "    if(n == 0):\n",
    "        return 1\n",
    " \n",
    "    return n * fact(n - 1)\n",
    " \n",
    " \n",
    "if __name__ == '__main__':\n",
    " \n",
    "    # taking input\n",
    "    f = int(input('Enter the number: \\n'))\n",
    " \n",
    "    print(fact(f))"
   ]
  },
  {
   "cell_type": "markdown",
   "metadata": {},
   "source": [
    "# Dispatch Table \n",
    "note that functions can be passed as values in dictionaries, this is very useful as shown in the slide were a test is made and a function called accordingly\n"
   ]
  },
  {
   "cell_type": "code",
   "execution_count": 7,
   "metadata": {},
   "outputs": [
    {
     "name": "stdout",
     "output_type": "stream",
     "text": [
      "Enter a Messier number: M31\n",
      "M31 is a spiral galaxy\n"
     ]
    }
   ],
   "source": [
    "def spiral(cobj):\n",
    "    print (cobj, \"is a spiral galaxy\")\n",
    "def open_cluster(cobj):\n",
    "    print (cobj, \"is an open cluster\")\n",
    "def glob_cluster(cobj):\n",
    "    print(cobj, \"is a globular cluster\")\n",
    "...\n",
    "dtab = {}\n",
    "dtab['M31'] = spiral\n",
    "dtab['M33'] = spiral\n",
    "dtab['M41'] = open_cluster\n",
    "dtab['M13'] = glob_cluster\n",
    "cobject = input(\"Enter a Messier number: \")\n",
    "if cobject in dtab:\n",
    "    dtab[cobject](cobject)\n",
    "else:\n",
    "    print (cobject, \"is unknown\")"
   ]
  },
  {
   "cell_type": "markdown",
   "metadata": {},
   "source": [
    "# Operator.itemgetter\n",
    "This is a useful code object that returns an element. The following gets the value from a dictionary and uses it to run a sort on it. \n"
   ]
  },
  {
   "cell_type": "code",
   "execution_count": 13,
   "metadata": {},
   "outputs": [
    {
     "name": "stdout",
     "output_type": "stream",
     "text": [
      "[{'phoneName': 'Apple', 'phonePrice': 900}, {'phoneName': 'Samsung', 'phonePrice': 800}, {'phoneName': 'Nokia', 'phonePrice': 850}]\n",
      "[{'phoneName': 'Apple', 'phonePrice': 900}, {'phoneName': 'Nokia', 'phonePrice': 850}, {'phoneName': 'Samsung', 'phonePrice': 800}]\n",
      "[{'phoneName': 'Samsung', 'phonePrice': 800}, {'phoneName': 'Nokia', 'phonePrice': 850}, {'phoneName': 'Apple', 'phonePrice': 900}]\n"
     ]
    }
   ],
   "source": [
    "import operator\n",
    "phones = [{'phoneName': 'Apple', 'phonePrice': 900},\n",
    "         {'phoneName' : 'Samsung', 'phonePrice':800},\n",
    "         {'phoneName' : 'Nokia', 'phonePrice' : 850}]\n",
    "print(phones)\n",
    "\n",
    "print(sorted(phones, key=operator.itemgetter('phoneName')))\n",
    "print(sorted(phones, key=operator.itemgetter('phonePrice')))"
   ]
  },
  {
   "cell_type": "markdown",
   "metadata": {},
   "source": [
    "# Nested functions\n",
    "Reviewing the nested functions. Note that scope becomes an issue. "
   ]
  },
  {
   "cell_type": "code",
   "execution_count": 1,
   "metadata": {},
   "outputs": [
    {
     "name": "stdout",
     "output_type": "stream",
     "text": [
      "3\n"
     ]
    }
   ],
   "source": [
    "result = 3\n",
    "def the_funct():\n",
    "    result_outer = 12\n",
    "    def scope_test(result = result_outer):\n",
    "        if result < 45:\n",
    "            result +=1\n",
    "            scope_test(result)\n",
    "    scope_test\n",
    "the_funct()\n",
    "print(result)"
   ]
  },
  {
   "cell_type": "markdown",
   "metadata": {},
   "source": [
    "To better present the delimit there is the possiblity of using nonlocal. By doing this, you let the Python interpreter know you are not referring to the variable in the local scope but the one in the enclosing function instead."
   ]
  },
  {
   "cell_type": "code",
   "execution_count": 21,
   "metadata": {},
   "outputs": [
    {
     "name": "stdout",
     "output_type": "stream",
     "text": [
      "Bob\n",
      "Bob\n"
     ]
    }
   ],
   "source": [
    "def outer():\n",
    "    name = \"Alice\"\n",
    "    \n",
    "    def inner():\n",
    "        # Overwrite the name=\"Alice\" variable\n",
    "        nonlocal name\n",
    "        name = \"Bob\"\n",
    "        print(name)\n",
    "    \n",
    "    # Call the inner function bar()\n",
    "    inner()\n",
    "    \n",
    "    # Print foo()'s local variable name\n",
    "    print(name)\n",
    "outer()"
   ]
  },
  {
   "cell_type": "markdown",
   "metadata": {},
   "source": [
    "## clousres\n",
    "\n",
    "closures are a function object that has access to variables in it's enclosing scope, even when the function is called from outside that scope. "
   ]
  },
  {
   "cell_type": "code",
   "execution_count": 5,
   "metadata": {},
   "outputs": [
    {
     "name": "stdout",
     "output_type": "stream",
     "text": [
      "15\n"
     ]
    }
   ],
   "source": [
    "def outer_function(outer_var):\n",
    "    def inner_function(inner_var):\n",
    "        return outer_var + inner_var\n",
    "    return inner_function\n",
    "\n",
    "closure = outer_function(10)\n",
    "print(closure(5))  \n"
   ]
  },
  {
   "cell_type": "markdown",
   "metadata": {},
   "source": [
    "## Decorators\n",
    "Decorators are functions that take other functions as inputs, then add a wrapper around it to create additional functionality, they usually, although not always, return a function. They are part of the Python function syntax, they promote Dont Repeat Yourself by adding functionalty to many functions\n",
    "\n",
    "@classmethod is a decorator that is used to define a method that belongs to a class, rather than an instance of a class. It is called on the class, rather than an instance of the class, and it's parameters are the class itself, and any additional arguments. @classmethod is most commonly used to create factory methods, which instantiate an instance of a class using different arguments than those usually passed to the class constructor.\n"
   ]
  },
  {
   "cell_type": "code",
   "execution_count": 3,
   "metadata": {},
   "outputs": [
    {
     "name": "stdout",
     "output_type": "stream",
     "text": [
      "This is a class method\n"
     ]
    }
   ],
   "source": [
    "class MyClass:\n",
    "    @classmethod\n",
    "    def class_method(cls):\n",
    "        print(\"This is a class method\")\n",
    "\n",
    "MyClass.class_method()"
   ]
  },
  {
   "cell_type": "markdown",
   "metadata": {},
   "source": [
    "This can also be done with @staticmethod way but it's more tightly scoped than the @classmethod,\n",
    "\n",
    "There can be some functionality that relates to the class, but does not require any instance(s) to do some work, static methods can be used in such cases. A static method is a method which is bound to the class and not the object of the class. It can’t access or modify class state. It is present in a class because it makes sense for the method to be present in class. A static method does not receive an implicit first argument."
   ]
  },
  {
   "cell_type": "code",
   "execution_count": 7,
   "metadata": {},
   "outputs": [
    {
     "data": {
      "text/plain": [
       "7"
      ]
     },
     "execution_count": 7,
     "metadata": {},
     "output_type": "execute_result"
    }
   ],
   "source": [
    "class mathy:\n",
    "    @staticmethod\n",
    "    def add(num_1, num_2):\n",
    "        return num_1 + num_2\n",
    "\n",
    "mathy.add(3,4)"
   ]
  },
  {
   "cell_type": "code",
   "execution_count": 6,
   "metadata": {},
   "outputs": [
    {
     "name": "stdout",
     "output_type": "stream",
     "text": [
      "Calling add with args (2, 3) and kwargs {}\n",
      "5\n"
     ]
    }
   ],
   "source": [
    "def logger(func):\n",
    "    def wrapper(*args, **kwargs):\n",
    "        print(f\"Calling {func.__name__} with args {args} and kwargs {kwargs}\")\n",
    "        return func(*args, **kwargs)\n",
    "    return wrapper\n",
    "\n",
    "@logger\n",
    "def add(x, y):\n",
    "    return x + y\n",
    "\n",
    "result = add(2, 3)\n",
    "print(result)  # Output: 5\n"
   ]
  },
  {
   "cell_type": "markdown",
   "metadata": {},
   "source": [
    "## partials\n",
    "Normally function arguments are evaluated for left to right\n",
    "before the function call. With functools.partial only some of\n",
    "the arguments are evaluated, and others are supplied later."
   ]
  },
  {
   "cell_type": "code",
   "execution_count": 10,
   "metadata": {},
   "outputs": [
    {
     "name": "stdout",
     "output_type": "stream",
     "text": [
      "calling double to get 10 True\n",
      "calling triple to get 12 True\n"
     ]
    }
   ],
   "source": [
    "from functools import partial\n",
    "\n",
    "def multiply(x, y):\n",
    "    return x * y\n",
    "\n",
    "double = partial(multiply, 2)\n",
    "triple = partial(multiply, 3)\n",
    "\n",
    "print(f\"calling double to get {double(5)} {double(5)==10}\") \n",
    "print(f\"calling triple to get {triple(4)} {triple(4) == 12}\")\n"
   ]
  },
  {
   "cell_type": "markdown",
   "metadata": {},
   "source": [
    "### Functools.wraps\n",
    "Functools.wraps is a decorator from the functools module in Python. It is used to preserve the metadata of a function when it is wrapped by another function. This metadata includes the function name, docstring, arguments list, and other attributes. It is used to ensure that the wrapped function has the same metadata as the original function.\n",
    "\n",
    "The metadata is stored in the functions `__dict__` attribute "
   ]
  },
  {
   "cell_type": "code",
   "execution_count": 7,
   "metadata": {},
   "outputs": [
    {
     "name": "stdout",
     "output_type": "stream",
     "text": [
      "x:4, y:42, z:5\n",
      "my_function\n",
      " this is the doc for this function\n"
     ]
    }
   ],
   "source": [
    "#using the example from the slides \n",
    "import functools\n",
    "\n",
    "def my_decorator(incoming_function):\n",
    "    @functools.wraps(incoming_function)\n",
    "    def wrapper(*args, **kwargs):\n",
    "        return incoming_function(y = 42, *args, **kwargs)\n",
    "    return wrapper\n",
    "\n",
    "@my_decorator\n",
    "def my_function(x, y=37, z=123):\n",
    "    ''' this is the doc for this function'''\n",
    "    print(f\"x:{x}, y:{y}, z:{z}\")\n",
    "\n",
    "f = my_function(x=4, z=5)\n",
    "print(my_function.__name__)\n",
    "print(my_function.__doc__)\n"
   ]
  },
  {
   "cell_type": "markdown",
   "metadata": {},
   "source": [
    "### Sending parameters\n",
    "we can send paramters to a decorator thus"
   ]
  },
  {
   "cell_type": "code",
   "execution_count": 12,
   "metadata": {},
   "outputs": [],
   "source": [
    "#Using slide example \n",
    "def decorator(f = None, tag = 'default'):\n",
    "    if f is None:\n",
    "        return functools.partial(decorator, tag = tag)\n",
    "    f._tag = tag\n",
    "    \n",
    "    @wraps(f)\n",
    "    def wrapper(*args, **kwargs):\n",
    "        return f(*args, **kwargs)\n",
    "    return wrapper"
   ]
  },
  {
   "cell_type": "code",
   "execution_count": 13,
   "metadata": {},
   "outputs": [
    {
     "name": "stdout",
     "output_type": "stream",
     "text": [
      "42\n",
      "default\n"
     ]
    }
   ],
   "source": [
    "@decorator(tag=42)\n",
    "def function_one():\n",
    "    pass\n",
    "print (function_one._tag)\n",
    "\n",
    "@decorator()\n",
    "def function_two():\n",
    "    pass\n",
    "\n",
    "print (function_two._tag)"
   ]
  },
  {
   "cell_type": "code",
   "execution_count": null,
   "metadata": {},
   "outputs": [],
   "source": []
  }
 ],
 "metadata": {
  "kernelspec": {
   "display_name": "Python 3 (ipykernel)",
   "language": "python",
   "name": "python3"
  },
  "language_info": {
   "codemirror_mode": {
    "name": "ipython",
    "version": 3
   },
   "file_extension": ".py",
   "mimetype": "text/x-python",
   "name": "python",
   "nbconvert_exporter": "python",
   "pygments_lexer": "ipython3",
   "version": "3.9.7"
  }
 },
 "nbformat": 4,
 "nbformat_minor": 1
}
