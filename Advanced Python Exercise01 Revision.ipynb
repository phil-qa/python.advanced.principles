{
 "cells": [
  {
   "cell_type": "markdown",
   "metadata": {},
   "source": [
    "The Exercise is that given a set of :\n",
    "['zero','wun','two','tree','fower',\n",
    " 'fife','six','seven','ait','niner',\n",
    " 'alpha','bravo','charlie','delta','echo',\n",
    " 'foxtrot','golf','hotel','india','juliet',\n",
    " 'kilo','lima','mike','november','oscar','papa',\n",
    " 'quebec','romeo','sierra','tango','uniform',\n",
    " 'victor','whisky','xray','yankee','zulu']\n",
    "\n",
    "Create a dictionary called codes where the key are a single uppercase value for the letter represented and a number zero to nine for the numeric few"
   ]
  },
  {
   "cell_type": "code",
   "execution_count": null,
   "metadata": {},
   "outputs": [],
   "source": [
    "source = ['zero', 'wun', 'two', 'tree', 'fower', 'fife', 'six', 'seven', 'ait', 'niner', 'alpha', 'bravo', 'charlie',\n",
    "          'delta', 'echo', 'foxtrot', 'golf', 'hotel', 'india', 'juliet', 'kilo', 'lima', 'mike', 'november', 'oscar',\n",
    "          'papa', 'quebec', 'romeo', 'sierra', 'tango', 'uniform', 'victor', 'whisky', 'xray', 'yankee', 'zulu']\n",
    "import string  # delimit numerics\n",
    "\n",
    "\n",
    "def merge(dictionary1, dictionary2):\n",
    "    return (dictionary2.update(dictionary1))\n",
    "\n",
    "\n",
    "def delimit_types(data_to_delimit):\n",
    "    index_of_alphabet = source.index('alpha')\n",
    "    numerics = source[0:index_of_alphabet]\n",
    "    alphabet = source[index_of_alphabet:len(source)]\n",
    "    return {\"numerics\": numerics, \"alphabet\": alphabet}\n",
    "\n",
    "\n",
    "def develop_key_lists():\n",
    "    numbers = list(string.digits)\n",
    "    letters = list(string.ascii_uppercase)\n",
    "    return {\"numbers\": numbers, \"letters\": letters}\n",
    "\n",
    "\n",
    "def develop_dictionary(keys, values):\n",
    "    return dict(zip(keys, values))"
   ]
  },
  {
   "cell_type": "code",
   "execution_count": 11,
   "metadata": {},
   "outputs": [
    {
     "name": "stdout",
     "output_type": "stream",
     "text": [
      "{'0': 'zero', '1': 'wun', '2': 'two', '3': 'tree', '4': 'fower', '5': 'fife', '6': 'six', '7': 'seven', '8': 'ait', '9': 'niner', 'A': 'alpha', 'B': 'bravo', 'C': 'charlie', 'D': 'delta', 'E': 'echo', 'F': 'foxtrot', 'G': 'golf', 'H': 'hotel', 'I': 'india', 'J': 'juliet', 'K': 'kilo', 'L': 'lima', 'M': 'mike', 'N': 'november', 'O': 'oscar', 'P': 'papa', 'Q': 'quebec', 'R': 'romeo', 'S': 'sierra', 'T': 'tango', 'U': 'uniform', 'V': 'victor', 'W': 'whisky', 'X': 'xray', 'Y': 'yankee', 'Z': 'zulu'}\n",
      "Input a phrase this is a \n",
      "tango hotel india sierra  india sierra  alpha  \n",
      "Input a phrase exit\n"
     ]
    }
   ],
   "source": [
    "code_values = delimit_types(source)\n",
    "code_keys = develop_key_lists()\n",
    "\n",
    "numbers_dict = develop_dictionary(code_keys['numbers'], code_values['numerics'])\n",
    "letters_dict = develop_dictionary(code_keys['letters'], code_values['alphabet'])\n",
    "merge(letters_dict, numbers_dict)\n",
    "codes = numbers_dict\n",
    "print(codes)\n",
    "\n",
    "while True:\n",
    "    phrase = input(\"Input a phrase \")\n",
    "    if phrase == \"exit\":\n",
    "        break\n",
    "    for chr in phrase:\n",
    "        print(f\"{codes[chr.upper()]} \" if chr.upper() in codes.keys() else \" \", end='')\n",
    "    print('')"
   ]
  },
  {
   "cell_type": "code",
   "execution_count": null,
   "metadata": {},
   "outputs": [],
   "source": [
    ""
   ]
  },
  {
   "cell_type": "code",
   "execution_count": null,
   "metadata": {},
   "outputs": [],
   "source": [
    ""
   ]
  }
 ],
 "metadata": {
  "kernelspec": {
   "display_name": "Python 3 (ipykernel)",
   "language": "python",
   "name": "python3"
  },
  "language_info": {
   "codemirror_mode": {
    "name": "ipython",
    "version": 3.0
   },
   "file_extension": ".py",
   "mimetype": "text/x-python",
   "name": "python",
   "nbconvert_exporter": "python",
   "pygments_lexer": "ipython3",
   "version": "3.9.7"
  }
 },
 "nbformat": 4,
 "nbformat_minor": 0
}