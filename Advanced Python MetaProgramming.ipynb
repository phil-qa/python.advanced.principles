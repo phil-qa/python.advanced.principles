{
 "cells": [
  {
   "cell_type": "markdown",
   "metadata": {},
   "source": [
    "Reviewing the Python metaclass \n",
    "This is a calss that creates other classes\n",
    "In the first standard example a "
   ]
  },
  {
   "cell_type": "code",
   "execution_count": 3,
   "metadata": {},
   "outputs": [],
   "source": [
    "class BankAccount:\n",
    "    def __init__(self, account_name, account_number):\n",
    "        self._account_name = account_name\n",
    "        self._account_number = account_number\n",
    "        self._account_balance = 0.0\n",
    "    \n",
    "    def get_balance(self):\n",
    "        return self._account_balance\n",
    "    def get_account_name(self):\n",
    "        return self._account_name\n",
    "    def withdraw(self, value):\n",
    "        self._account_balance -= value\n",
    "    def deposit(self, value):\n",
    "        self._account_balance += value\n",
    "    def show_balance(self):\n",
    "        print(f\"Balance is £{self._account_balance}\")\n",
    "    def __str__(self):\n",
    "        return(f\"The account {self._account_name} has £{self._account_balance:.2f} in it\")"
   ]
  },
  {
   "cell_type": "code",
   "execution_count": null,
   "metadata": {},
   "outputs": [],
   "source": []
  },
  {
   "cell_type": "code",
   "execution_count": 4,
   "metadata": {},
   "outputs": [
    {
     "name": "stdout",
     "output_type": "stream",
     "text": [
      "The account Phil has £100.00 in it\n"
     ]
    }
   ],
   "source": [
    "my_account = BankAccount(\"Phil\", 122345)\n",
    "my_account.deposit(100)\n",
    "print(my_account)"
   ]
  },
  {
   "cell_type": "markdown",
   "metadata": {},
   "source": [
    "When the class is instantiated, then python uses the type metaclass to create the BankAccount the EXPLICIT class definition looks like this :"
   ]
  },
  {
   "cell_type": "code",
   "execution_count": 10,
   "metadata": {},
   "outputs": [],
   "source": [
    "class BankAccount(object, metaclass=type):\n",
    "    def __init__(self, account_name, account_number):\n",
    "        self._account_name = account_name\n",
    "        self._account_number = account_number\n",
    "        self._account_balance = 0.0\n",
    "    \n",
    "    def get_balance(self):\n",
    "        return self._account_balance\n",
    "    def get_account_name(self):\n",
    "        return self._account_name\n",
    "    def withdraw(self, value):\n",
    "        self._account_balance -= value\n",
    "    def deposit(self, value):\n",
    "        self._account_balance += value\n",
    "    def show_balance(self):\n",
    "        print(f\"Balance is £{self._account_balance}\")\n",
    "    def __str__(self):\n",
    "        return(f\"The account {self._account_name} has £{self._account_balance:.2f} in it\")"
   ]
  },
  {
   "cell_type": "code",
   "execution_count": 11,
   "metadata": {},
   "outputs": [
    {
     "name": "stdout",
     "output_type": "stream",
     "text": [
      "The account Phil has £0.00 in it\n"
     ]
    }
   ],
   "source": [
    "my_account = BankAccount(\"Phil\", 122345)\n",
    "print(my_account)\n"
   ]
  },
  {
   "cell_type": "markdown",
   "metadata": {},
   "source": [
    "Looking at the metaclass it is possible to implement another class instead of type, in the example below __new__ method will return a new class or a class object, it is a static method of object, the first argument passed is the thing to be made. In below mcs is metaclass, this must be followed by name in this case. __new__ is called first before __init__ sets up the class states. \n",
    "\n",
    "Note that  everything in python is an object, before we example metaclass lets prove that "
   ]
  },
  {
   "cell_type": "code",
   "execution_count": 16,
   "metadata": {},
   "outputs": [
    {
     "name": "stdout",
     "output_type": "stream",
     "text": [
      "<class 'int'>\n",
      "<class 'str'>\n",
      "<class 'type'>\n",
      "<class 'type'>\n"
     ]
    }
   ],
   "source": [
    "age = 35 \n",
    "name = \"phil\"\n",
    "print(age.__class__)\n",
    "print(name.__class__)\n",
    "\n",
    "print(age.__class__.__class__)\n",
    "print(name.__class__.__class__)"
   ]
  },
  {
   "cell_type": "markdown",
   "metadata": {},
   "source": [
    "Implementing metaclass, currently a basic implementation but this can be extended with *kwargs"
   ]
  },
  {
   "cell_type": "code",
   "execution_count": 18,
   "metadata": {},
   "outputs": [
    {
     "data": {
      "text/plain": [
       "True"
      ]
     },
     "execution_count": 18,
     "metadata": {},
     "output_type": "execute_result"
    }
   ],
   "source": [
    "class Human(type): \n",
    "    def __new__(mcs, name, bases, class_dict):\n",
    "        class_=super().__new__(mcs,name,bases,class_dict)\n",
    "        class_.eats_food = True\n",
    "        return class_\n",
    "\n",
    "class Person(object, metaclass=Human):\n",
    "    def __init__(self, name, age):\n",
    "        self.name = name\n",
    "        self.age = age\n",
    "\n",
    "    \n",
    "pers = Person(\"Phil\", 55)\n",
    "pers.eats_food\n",
    "            "
   ]
  },
  {
   "cell_type": "markdown",
   "metadata": {},
   "source": [
    "    Looking at the previous but with kwargs"
   ]
  },
  {
   "cell_type": "code",
   "execution_count": 20,
   "metadata": {
    "scrolled": true
   },
   "outputs": [
    {
     "name": "stdout",
     "output_type": "stream",
     "text": [
      "True\n",
      "Great Britain\n"
     ]
    }
   ],
   "source": [
    "class Human(type): \n",
    "    def __new__(mcs, name, bases, class_dict, **kwargs):\n",
    "        class_=super().__new__(mcs,name,bases,class_dict)\n",
    "        if kwargs:\n",
    "            for name, value in kwargs.items():\n",
    "                setattr(class_, name, value)\n",
    "        return class_\n",
    "\n",
    "class Person(object, metaclass=Human, country=\"Great Britain\", eats_food=True):\n",
    "    def __init__(self, name, age):\n",
    "        self.name = name\n",
    "        self.age = age\n",
    "\n",
    "    \n",
    "pers = Person(\"Phil\", 55)\n",
    "print(pers.eats_food)\n",
    "print(pers.country)\n"
   ]
  },
  {
   "cell_type": "markdown",
   "metadata": {},
   "source": [
    "***Reviewing the mappingproxy***\n",
    "mappingproxy - used to be dictproxy \n",
    "This is used in python to create an assurance and degree of constraint to a class level attributes. By default those attibutes for a class instance are exposed in a dictionary and mutable, for the class itself the values are exposed using mappingproxy ensuring that they are string values and that they are read-only and can only be set with the class.__setattr__ method\n",
    "\n"
   ]
  },
  {
   "cell_type": "code",
   "execution_count": 21,
   "metadata": {},
   "outputs": [
    {
     "name": "stdout",
     "output_type": "stream",
     "text": [
      "The class dict is <class 'mappingproxy'>\n",
      "The class instance dict type is <class 'dict'>\n"
     ]
    }
   ],
   "source": [
    "print(f\"The class dict is {type(BankAccount.__dict__)}\")\n",
    "print(f\"The class instance dict type is {type(my_account.__dict__)}\")"
   ]
  },
  {
   "cell_type": "code",
   "execution_count": null,
   "metadata": {},
   "outputs": [],
   "source": []
  }
 ],
 "metadata": {
  "kernelspec": {
   "display_name": "Python 3",
   "language": "python",
   "name": "python3"
  },
  "language_info": {
   "codemirror_mode": {
    "name": "ipython",
    "version": 3
   },
   "file_extension": ".py",
   "mimetype": "text/x-python",
   "name": "python",
   "nbconvert_exporter": "python",
   "pygments_lexer": "ipython3",
   "version": "3.7.4"
  }
 },
 "nbformat": 4,
 "nbformat_minor": 5
}
