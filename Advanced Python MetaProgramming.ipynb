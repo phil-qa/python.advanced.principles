{
 "cells": [
  {
   "cell_type": "markdown",
   "id": "36010c33",
   "metadata": {},
   "source": [
    "Reviewing the Python metaclass \n",
    "This is a calss that creates other classes\n",
    "In the first standard example a "
   ]
  },
  {
   "cell_type": "code",
   "execution_count": 3,
   "id": "83e0b5eb",
   "metadata": {},
   "outputs": [],
   "source": [
    "class BankAccount:\n",
    "    def __init__(self, account_name, account_number):\n",
    "        self._account_name = account_name\n",
    "        self._account_number = account_number\n",
    "        self._account_balance = 0.0\n",
    "    \n",
    "    def get_balance(self):\n",
    "        return self._account_balance\n",
    "    def get_account_name(self):\n",
    "        return self._account_name\n",
    "    def withdraw(self, value):\n",
    "        self._account_balance -= value\n",
    "    def deposit(self, value):\n",
    "        self._account_balance += value\n",
    "    def show_balance(self):\n",
    "        print(f\"Balance is £{self._account_balance}\")\n",
    "    def __str__(self):\n",
    "        return(f\"The account {self._account_name} has £{self._account_balance:.2f} in it\")"
   ]
  },
  {
   "cell_type": "code",
   "execution_count": null,
   "id": "bb49d62c",
   "metadata": {},
   "outputs": [],
   "source": []
  },
  {
   "cell_type": "code",
   "execution_count": 4,
   "id": "ada84ed3",
   "metadata": {},
   "outputs": [
    {
     "name": "stdout",
     "output_type": "stream",
     "text": [
      "The account Phil has £100.00 in it\n"
     ]
    }
   ],
   "source": [
    "my_account = BankAccount(\"Phil\", 122345)\n",
    "my_account.deposit(100)\n",
    "print(my_account)"
   ]
  },
  {
   "cell_type": "markdown",
   "id": "701a1cc8",
   "metadata": {},
   "source": [
    "When the class is instantiated, then python uses the type metaclass to create the BankAccount the EXPLICIT class definition looks like this :"
   ]
  },
  {
   "cell_type": "code",
   "execution_count": 10,
   "id": "241e154c",
   "metadata": {},
   "outputs": [],
   "source": [
    "class BankAccount(object, metaclass=type):\n",
    "    def __init__(self, account_name, account_number):\n",
    "        self._account_name = account_name\n",
    "        self._account_number = account_number\n",
    "        self._account_balance = 0.0\n",
    "    \n",
    "    def get_balance(self):\n",
    "        return self._account_balance\n",
    "    def get_account_name(self):\n",
    "        return self._account_name\n",
    "    def withdraw(self, value):\n",
    "        self._account_balance -= value\n",
    "    def deposit(self, value):\n",
    "        self._account_balance += value\n",
    "    def show_balance(self):\n",
    "        print(f\"Balance is £{self._account_balance}\")\n",
    "    def __str__(self):\n",
    "        return(f\"The account {self._account_name} has £{self._account_balance:.2f} in it\")"
   ]
  },
  {
   "cell_type": "code",
   "execution_count": 11,
   "id": "4099d449",
   "metadata": {},
   "outputs": [
    {
     "name": "stdout",
     "output_type": "stream",
     "text": [
      "The account Phil has £0.00 in it\n"
     ]
    }
   ],
   "source": [
    "my_account = BankAccount(\"Phil\", 122345)\n",
    "print(my_account)\n"
   ]
  },
  {
   "cell_type": "markdown",
   "id": "4f66b395",
   "metadata": {},
   "source": [
    "Looking at the metaclass it is possible to implement another class instead of type, in the example below __new__ method will return a new class or a class object, it is a static method of object, the first argument passed is the thing to be made. In below mcs is metaclass, this must be followed by name in this case. __new__ is called first before __init__ sets up the class states. \n",
    "\n",
    "Note that  everything in python is an object, before we example metaclass lets prove that "
   ]
  },
  {
   "cell_type": "code",
   "execution_count": 16,
   "id": "1213325a",
   "metadata": {},
   "outputs": [
    {
     "name": "stdout",
     "output_type": "stream",
     "text": [
      "<class 'int'>\n",
      "<class 'str'>\n",
      "<class 'type'>\n",
      "<class 'type'>\n"
     ]
    }
   ],
   "source": [
    "age = 35 \n",
    "name = \"phil\"\n",
    "print(age.__class__)\n",
    "print(name.__class__)\n",
    "\n",
    "print(age.__class__.__class__)\n",
    "print(name.__class__.__class__)"
   ]
  },
  {
   "cell_type": "markdown",
   "id": "2d286230",
   "metadata": {},
   "source": [
    "Implementing metaclass, currently a basic implementation but this can be extended with *kwargs"
   ]
  },
  {
   "cell_type": "code",
   "execution_count": 18,
   "id": "20bd914b",
   "metadata": {},
   "outputs": [
    {
     "data": {
      "text/plain": [
       "True"
      ]
     },
     "execution_count": 18,
     "metadata": {},
     "output_type": "execute_result"
    }
   ],
   "source": [
    "class Human(type): \n",
    "    def __new__(mcs, name, bases, class_dict):\n",
    "        class_=super().__new__(mcs,name,bases,class_dict)\n",
    "        class_.eats_food = True\n",
    "        return class_\n",
    "\n",
    "class Person(object, metaclass=Human):\n",
    "    def __init__(self, name, age):\n",
    "        self.name = name\n",
    "        self.age = age\n",
    "\n",
    "    \n",
    "pers = Person(\"Phil\", 55)\n",
    "pers.eats_food\n",
    "            "
   ]
  },
  {
   "cell_type": "markdown",
   "id": "babfc4af",
   "metadata": {},
   "source": [
    "    Looking at the previous but with kwargs"
   ]
  },
  {
   "cell_type": "code",
   "execution_count": 20,
   "id": "bc986648",
   "metadata": {
    "scrolled": true
   },
   "outputs": [
    {
     "name": "stdout",
     "output_type": "stream",
     "text": [
      "True\n",
      "Great Britain\n"
     ]
    }
   ],
   "source": [
    "class Human(type): \n",
    "    def __new__(mcs, name, bases, class_dict, **kwargs):\n",
    "        class_=super().__new__(mcs,name,bases,class_dict)\n",
    "        if kwargs:\n",
    "            for name, value in kwargs.items():\n",
    "                setattr(class_, name, value)\n",
    "        return class_\n",
    "\n",
    "class Person(object, metaclass=Human, country=\"Great Britain\", eats_food=True):\n",
    "    def __init__(self, name, age):\n",
    "        self.name = name\n",
    "        self.age = age\n",
    "\n",
    "    \n",
    "pers = Person(\"Phil\", 55)\n",
    "print(pers.eats_food)\n",
    "print(pers.country)\n"
   ]
  },
  {
   "cell_type": "markdown",
   "id": "1d320db1",
   "metadata": {},
   "source": [
    "***Reviewing the mappingproxy***\n",
    "mappingproxy - used to be dictproxy \n",
    "This is used in python to create an assurance and degree of constraint to a class level attributes. By default those attibutes for a class instance are exposed in a dictionary and mutable, for the class itself the values are exposed using mappingproxy ensuring that they are string values and that they are read-only and can only be set with the class.__setattr__ method\n",
    "\n"
   ]
  },
  {
   "cell_type": "code",
   "execution_count": 21,
   "id": "7d1a73f5",
   "metadata": {},
   "outputs": [
    {
     "name": "stdout",
     "output_type": "stream",
     "text": [
      "The class dict is <class 'mappingproxy'>\n",
      "The class instance dict type is <class 'dict'>\n"
     ]
    }
   ],
   "source": [
    "print(f\"The class dict is {type(BankAccount.__dict__)}\")\n",
    "print(f\"The class instance dict type is {type(my_account.__dict__)}\")"
   ]
  },
  {
   "cell_type": "markdown",
   "id": "dfe37246",
   "metadata": {},
   "source": [
    "## Descriptors\n",
    "The fuller code is shown: "
   ]
  },
  {
   "cell_type": "code",
   "execution_count": 4,
   "id": "1498daca",
   "metadata": {},
   "outputs": [],
   "source": [
    "import sys\n",
    "import inspect \n",
    "\n",
    "class TraceUse(object):\n",
    "   \n",
    "    def __init__(self, pname, pos):\n",
    "        self.tpos = \"%s line: %d\" % (pname, pos)        \n",
    "    def __get__(self, inst, cls):\n",
    "        return self.tpos\n",
    "    def __set__(self, inst, value):\n",
    "        self.tpos = str(value)\n",
    "    def __delete__(self, inst):\n",
    "        pass\n",
    "\n",
    "\n",
    "class Person(object):\n",
    "    t1 = TraceUse('Initial',inspect.currentframe().f_lineno)\n",
    "    \n",
    "    def __init__(self, name):\n",
    "        self.__name = str(name)\n",
    "        # This gives the line number of the construction call\n",
    "        Person.t1 = \"%s line: %d\" % ('__init__',\n",
    "                     inspect.currentframe().f_lineno)\n",
    "    def __str__(self):\n",
    "        x = Person.t1\n",
    "        return \"%s %s\" % (self.__name, x)\n"
   ]
  },
  {
   "cell_type": "markdown",
   "id": "78a6339c",
   "metadata": {},
   "source": [
    "## Signatures\n",
    "Let’s consider a scenario where you have written a very lengthy code and want to know the function call details. So what you can do is scroll through your code each and every time for different functions to know their details or you can work smartly. You can create a code where you can get the function details without scrolling through the code. This can be achieved in two ways –\n",
    "\n",
    "Using signature() function\n",
    "Using decorators"
   ]
  },
  {
   "cell_type": "code",
   "execution_count": 5,
   "id": "41573733",
   "metadata": {},
   "outputs": [
    {
     "name": "stdout",
     "output_type": "stream",
     "text": [
      "(x: str, y: int)\n",
      "x: str\n",
      "<class 'int'>\n"
     ]
    }
   ],
   "source": [
    "from inspect import signature\n",
    "\n",
    "def myFunct(x:str, y:int):\n",
    "\tpass\n",
    "\n",
    "t = signature(myFunct)\n",
    "\n",
    "# print the signature of the function\n",
    "print(t)\n",
    "\n",
    "# print the annonation of the parameter\n",
    "# of the function\n",
    "print(t.parameters['x'])\n",
    "\n",
    "# print the annonation of the parameter\n",
    "# of the function\n",
    "print(t.parameters['y'].annotation)\n"
   ]
  },
  {
   "cell_type": "code",
   "execution_count": null,
   "id": "7aeca63b",
   "metadata": {},
   "outputs": [],
   "source": []
  }
 ],
 "metadata": {
  "kernelspec": {
   "display_name": "Python 3 (ipykernel)",
   "language": "python",
   "name": "python3"
  },
  "language_info": {
   "codemirror_mode": {
    "name": "ipython",
    "version": 3
   },
   "file_extension": ".py",
   "mimetype": "text/x-python",
   "name": "python",
   "nbconvert_exporter": "python",
   "pygments_lexer": "ipython3",
   "version": "3.9.7"
  }
 },
 "nbformat": 4,
 "nbformat_minor": 5
}
