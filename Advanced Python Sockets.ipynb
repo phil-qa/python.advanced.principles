{
 "cells": [
  {
   "cell_type": "markdown",
   "id": "bc886a40",
   "metadata": {},
   "source": [
    "The socket module is a network programming interface which is \n",
    "based on the Berkeley Sockets programming model and is \n",
    "consistent with release 4.3 of the Berkeley Software Distribution. \n",
    "The API also contains a set of Python-specific extensions.\n",
    "The module provides a single API which abstracts the networking \n",
    "software below and to which developers can program. It closely \n",
    "follows the traditional C programming language implementation \n",
    "of the Serial Peripheral Interface (SPI) protocol.\n",
    "SPI is a synchronous communication protocol commonly used in\n",
    "embedded systems to facilitate communication between devices, \n",
    "but is considerably abstracted and easier to use. \n",
    "The conventional BSD socket API only supported IPv4, not IPv6. \n",
    "Modern operating systems can support IPv6, including Windows \n",
    "from XP onwards, but some data structures and some parameters \n",
    "are different. The Microsoft utility Checkv4.exe is available as a \n",
    "porting tool for conversion to IPv4 to IPv6. \n",
    "The Python standard library ssl provides a secure socket class \n",
    "derived from socket. "
   ]
  },
  {
   "cell_type": "markdown",
   "id": "97abe09c",
   "metadata": {},
   "source": [
    "Sockets are designed around the client/server model of IPC.\n",
    "- A socket is a named bidirectional endpoint of a communications link \n",
    "between processes. \n",
    "- They provide both virtual circuit connections and datagram-style communication.\n",
    "where Both can be used locally or across the network.\n",
    "- When using sockets, there is an asymmetry in establishing communication between the client and server so that each has a \n",
    "different role. \n",
    "- A server application normally listens at well-known \n",
    "addresses for service requests, remaining dormant until a \n",
    "connection is requested by a client's connection to a server \n",
    "address. At such a time the server process \"wakes up'' and services \n",
    "the client, performing whatever appropriate actions the client \n",
    "requests of it.\n",
    "\n",
    "- Sockets in themselves do not hold enough information to allow \n",
    "the communication to be specified fully as such they must operate within \n",
    "a particular communications domain.\n",
    "- A communication domain is an abstraction that defines how the socket is named, and which \n",
    "communications protocols are used to effect the transfer of the \n",
    "data. \n",
    "- Sockets normally exchange data only with sockets in the same domain. A communication domain is sometimes referred to \n",
    "as an address family or a protocol family.(thie protocol specification that is used)\n",
    "- A socket also has a type that is used to describe how data is \n",
    "transferred across a link through the socket. "
   ]
  },
  {
   "cell_type": "markdown",
   "id": "3715e359",
   "metadata": {},
   "source": [
    "For unix the address family is AF_UNIX and the names of sockets are local file names\n",
    "For the internet where working is not local and processes reside on different machines, communication is using TCP/IP protocol suite and the address family is AF_INET \n",
    "Other nomains have been implemented to support XNS Xerox protocols. \n",
    "\n",
    "Most implementations of UNIX that include sockets support two \n",
    "standard domains, or address families:\n",
    "UNIX - Used with processes residing on the same machine, \n",
    "using the local file system. The address family is AF_UNIX \n",
    "and the names of sockets are local file names.\n",
    "Internet - Used with processes residing on different \n",
    "machines, using the TCP/IP protocol suite. The address \n",
    "family is AF_INET and the names of sockets are globally \n",
    "unique network addresses.\n",
    "Other domains have been implemented, most notably to support \n",
    "XNS (Xerox) protocols. \n",
    "\n",
    "Windows Sockets facilities support AF_INET(IPv4) and AF_INET(IPv6)\n",
    "\n",
    "### XNS ref\n",
    "https://networkencyclopedia.com/xerox-network-systems-xns/"
   ]
  },
  {
   "cell_type": "markdown",
   "id": "18ea5294",
   "metadata": {},
   "source": [
    "Socket ‘names’ in the Internet domain have three components \n",
    "which make them globally unique. \n",
    "\n",
    "- For IPv4, a 32-bit Internet address (IP address) identifies a network \n",
    "interface. A network interface is a network card in a machine, \n",
    "interfacing to a particular network. Normally a machine (host) will \n",
    "have only one network interface. \n",
    "- A 16-bit port number assigned by a host, usually representing an \n",
    "application. \n",
    "\n",
    "- An implicit 16-bit protocol number, identifying either \n",
    "UDP for datagram sockets or TCP for stream sockets\n",
    "A local name is bound to a socket after it is created.\n",
    "\n",
    "- IPv6 uses 128-bit addresses, which are usually split into 8 16-bit \n",
    "pieces. This would be very difficult to use, and so leading zeros in \n",
    "each piece may be omitted. In addition concurrent zeros can be \n",
    "expressed as two colons: '::'. IPv4 addresses refer to hosts, whereas \n",
    "an IPv6 address specifically refers to an interface, which takes into \n",
    "account multiple network cards in one machine (multi-homed).\n",
    "Port numbers are assigned by a host. However many ‘well-known’ \n",
    "TCP/IP services, e.g. FTP, use specific port numbers that are the \n",
    "same on every host, and these numbers are therefore reserved and \n",
    "unavailable for general use. Port numbers less than IPPORT_RESERVED (1024) are used for these privileged processes.\n",
    "\n",
    "### ipv4 ref \n",
    "https://www.tutorialspoint.com/ipv4/ipv4_packet_structure.htm\n"
   ]
  },
  {
   "cell_type": "code",
   "execution_count": null,
   "id": "e9bcd15c",
   "metadata": {},
   "outputs": [],
   "source": [
    "# Socket methods\n",
    "socket()\n",
    ".bind()\n",
    ".listen()\n",
    ".accept()\n",
    ".connect()\n",
    ".connect_ex()\n",
    ".send()\n",
    ".recv()\n",
    ".close()"
   ]
  },
  {
   "cell_type": "markdown",
   "id": "f4efcb86",
   "metadata": {},
   "source": [
    "## Using connection oriented sockets\n",
    "A server application normally listens at a well-known name or port \n",
    "for service requests, remaining dormant until a connection is \n",
    "requested by a client's connection to the server's endpoint address. \n",
    "At such a time, the server process ‘wakes up’ and services the \n",
    "client, performing whatever appropriate actions the client requests \n",
    "of it. The following stages showing a conversation between a client \n",
    "and a server process are shown in the diagram.\n",
    "### First, \n",
    "the server must create a socket and bind it to a local name. In \n",
    "the Internet domain a name is a combination of a unique network \n",
    "address and a host-relative port number. The socket is created \n",
    "using the socket() method, at which time the socket type and \n",
    "communications domain are specified. In Python a socket is \n",
    "referenced using an object, much as an open file is. bind() will \n",
    "associate the socket with the appropriate socket name. \n",
    "The next stage is to specify that the socket is to listen for \n",
    "connections, which is done by the listen() method. Here we specify \n",
    "the size of a queue of waiting connection requests. A server \n",
    "application normally listens on a socket bound to a well-known \n",
    "name. To make its end of a connection, the server calls the accept() \n",
    "method. If there are no connection requests to be serviced, this cal\n",
    "will normally cause the process to block, waiting for a request. If \n",
    "there are requests (on the queue specified with listen()), then a \n",
    "connection is made.\n",
    "accept() returns a new socket object with the same characteristics \n",
    "as the listening socket, which is then used to transfer the data \n",
    "using recv() and send(). This is done so that the server may \n",
    "execute a subprocess or thread to manage the data transfer, while \n",
    "it continues to listen for new requests from other clients."
   ]
  },
  {
   "cell_type": "code",
   "execution_count": null,
   "id": "ba87ed30",
   "metadata": {},
   "outputs": [],
   "source": [
    "import socket\n",
    "\n",
    "HOST = \"127.0.0.1\"  # Standard loopback interface address (localhost)\n",
    "PORT = 65432  # Port to listen on (non-privileged ports are > 1023)\n",
    "\n",
    "with socket.socket(socket.AF_INET, socket.SOCK_STREAM) as s:\n",
    "    s.bind((HOST, PORT))\n",
    "    s.listen()\n",
    "    conn, addr = s.accept()\n",
    "    with conn:\n",
    "        print(f\"Connected by {addr}\")\n",
    "        while True:\n",
    "            data = conn.recv(1024)\n",
    "            if not data:\n",
    "                break\n",
    "            conn.sendall(data)"
   ]
  },
  {
   "cell_type": "markdown",
   "id": "8dc4a9db",
   "metadata": {},
   "source": [
    "The arguments passed to socket() are constants used to specify the address family and socket type. AF_INET is the Internet address family for IPv4. SOCK_STREAM is the socket type for TCP, the protocol that will be used to transport messages in the network.\n",
    "\n",
    "The .bind() method is used to associate the socket with a specific network interface and port number:\n",
    "The values passed to .bind() depend on the address family of the socket. In this example, you’re using socket.AF_INET (IPv4). So it expects a two-tuple: (host, port).\n",
    "\n",
    "https://realpython.com/python-sockets/"
   ]
  },
  {
   "cell_type": "markdown",
   "id": "77a2d4af",
   "metadata": {},
   "source": [
    "The .listen() method has a backlog parameter. It specifies the number of unaccepted connections that the system will allow before refusing new connections. Starting in Python 3.5, it’s optional. If not specified, a default backlog value is chosen."
   ]
  },
  {
   "cell_type": "markdown",
   "id": "fbbaf9da",
   "metadata": {},
   "source": [
    "If your server receives a lot of connection requests simultaneously, increasing the backlog value may help by setting the maximum length of the queue for pending connections. The maximum value is system dependent. For example, on Linux, see /proc/sys/net/core/somaxconn."
   ]
  },
  {
   "cell_type": "markdown",
   "id": "b0f7af60",
   "metadata": {},
   "source": [
    "The .accept() method blocks execution and waits for an incoming connection. When a client connects, it returns a new socket object representing the connection and a tuple holding the address of the client. The tuple will contain (host, port) for IPv4 connections or (host, port, flowinfo, scopeid) for IPv6. See Socket Address Families in the reference section for details on the tuple values."
   ]
  },
  {
   "cell_type": "markdown",
   "id": "56a7ea67",
   "metadata": {},
   "source": [
    "One thing that’s imperative to understand is that you now have a new socket object from .accept(). This is important because it’s the socket that you’ll use to communicate with the client. It’s distinct from the listening socket that the server is using to accept new connections:"
   ]
  },
  {
   "cell_type": "markdown",
   "id": "9748bb58",
   "metadata": {},
   "source": [
    "## Client\n"
   ]
  },
  {
   "cell_type": "code",
   "execution_count": 2,
   "id": "338878f7",
   "metadata": {},
   "outputs": [
    {
     "ename": "ConnectionRefusedError",
     "evalue": "[WinError 10061] No connection could be made because the target machine actively refused it",
     "output_type": "error",
     "traceback": [
      "\u001b[1;31m---------------------------------------------------------------------------\u001b[0m",
      "\u001b[1;31mConnectionRefusedError\u001b[0m                    Traceback (most recent call last)",
      "\u001b[1;32m<ipython-input-2-32eb80b2bee0>\u001b[0m in \u001b[0;36m<module>\u001b[1;34m\u001b[0m\n\u001b[0;32m      5\u001b[0m \u001b[1;33m\u001b[0m\u001b[0m\n\u001b[0;32m      6\u001b[0m \u001b[1;32mwith\u001b[0m \u001b[0msocket\u001b[0m\u001b[1;33m.\u001b[0m\u001b[0msocket\u001b[0m\u001b[1;33m(\u001b[0m\u001b[0msocket\u001b[0m\u001b[1;33m.\u001b[0m\u001b[0mAF_INET\u001b[0m\u001b[1;33m,\u001b[0m \u001b[0msocket\u001b[0m\u001b[1;33m.\u001b[0m\u001b[0mSOCK_STREAM\u001b[0m\u001b[1;33m)\u001b[0m \u001b[1;32mas\u001b[0m \u001b[0msock\u001b[0m\u001b[1;33m:\u001b[0m\u001b[1;33m\u001b[0m\u001b[1;33m\u001b[0m\u001b[0m\n\u001b[1;32m----> 7\u001b[1;33m     \u001b[0msock\u001b[0m\u001b[1;33m.\u001b[0m\u001b[0mconnect\u001b[0m\u001b[1;33m(\u001b[0m\u001b[1;33m(\u001b[0m\u001b[0mHOST\u001b[0m\u001b[1;33m,\u001b[0m \u001b[0mPORT\u001b[0m\u001b[1;33m)\u001b[0m\u001b[1;33m)\u001b[0m\u001b[1;33m\u001b[0m\u001b[1;33m\u001b[0m\u001b[0m\n\u001b[0m\u001b[0;32m      8\u001b[0m     \u001b[0mmessage\u001b[0m \u001b[1;33m=\u001b[0m \u001b[0mbytes\u001b[0m\u001b[1;33m(\u001b[0m\u001b[0minput\u001b[0m\u001b[1;33m(\u001b[0m\u001b[1;34m\"Data to send\"\u001b[0m\u001b[1;33m)\u001b[0m\u001b[1;33m,\u001b[0m \u001b[1;34m'utf-8'\u001b[0m\u001b[1;33m)\u001b[0m\u001b[1;33m\u001b[0m\u001b[1;33m\u001b[0m\u001b[0m\n\u001b[0;32m      9\u001b[0m     \u001b[0mssock\u001b[0m\u001b[1;33m.\u001b[0m\u001b[0msendall\u001b[0m\u001b[1;33m(\u001b[0m\u001b[0mmessage\u001b[0m\u001b[1;33m)\u001b[0m\u001b[1;33m\u001b[0m\u001b[1;33m\u001b[0m\u001b[0m\n",
      "\u001b[1;31mConnectionRefusedError\u001b[0m: [WinError 10061] No connection could be made because the target machine actively refused it"
     ]
    }
   ],
   "source": [
    "import socket\n",
    "\n",
    "HOST = \"127.0.0.1\"  # The server's hostname or IP address\n",
    "PORT = 65432  # The port used by the server\n",
    "\n",
    "with socket.socket(socket.AF_INET, socket.SOCK_STREAM) as sock:\n",
    "    sock.connect((HOST, PORT))\n",
    "    message = bytes(input(\"Data to send\"), 'utf-8')\n",
    "    ssock.sendall(message)\n",
    "    data = s.recv(1024)\n",
    "\n",
    "print(f\"Received {data!r}\")"
   ]
  },
  {
   "cell_type": "markdown",
   "id": "85cac699",
   "metadata": {},
   "source": [
    "## Network information database functions\n",
    "\n",
    "Function Overview:\n",
    "The function getprotobyname() takes a protocol string like TCP, UDP or ICMP and returns the associated constant for the protocol as defined by the socket module.\n",
    "\n",
    " \n",
    "\n",
    "For example, for TCP the getprotobyname() returns a constant value of 6, and for UDP the constant returned by getprotobyname() is 17 and icmp the returned constant value is 7.\n",
    "\n",
    "The returned value can be used as the value for 3rd parameter named proto of the socket function."
   ]
  },
  {
   "cell_type": "code",
   "execution_count": 3,
   "id": "e3bb7d4a",
   "metadata": {},
   "outputs": [
    {
     "name": "stdout",
     "output_type": "stream",
     "text": [
      "Socket module constant associated with protocol TCP is 6\n",
      "Socket module constant associated with protocol UDP is 17\n",
      "Socket module constant associated with protocol ICMP is 1\n"
     ]
    }
   ],
   "source": [
    "import socket\n",
    " \n",
    "#TCP protocol\n",
    "currentProtocol = \"TCP\"\n",
    "protoConstant = socket.getprotobyname(currentProtocol)\n",
    "print(\"Socket module constant associated with protocol {} is {}\".format(currentProtocol,protoConstant))\n",
    " \n",
    "#UDP protocol\n",
    "currentProtocol = \"UDP\"\n",
    "protoConstant = socket.getprotobyname(currentProtocol)\n",
    "print(\"Socket module constant associated with protocol {} is {}\".format(currentProtocol,protoConstant))\n",
    " \n",
    "#ICMP protocol\n",
    "currentProtocol = \"ICMP\"\n",
    "protoConstant = socket.getprotobyname(currentProtocol)\n",
    "print(\"Socket module constant associated with protocol {} is {}\".format(currentProtocol,protoConstant))\n",
    " "
   ]
  },
  {
   "cell_type": "code",
   "execution_count": 4,
   "id": "ed72918d",
   "metadata": {},
   "outputs": [
    {
     "name": "stdout",
     "output_type": "stream",
     "text": [
      "Name of the localhost is INSTRUCTOR\n",
      "IP address of the localhost is 192.168.1.125\n"
     ]
    }
   ],
   "source": [
    "myHostName = socket.gethostname()\n",
    "\n",
    "print(\"Name of the localhost is {}\".format(myHostName))\n",
    "\n",
    "myIP = socket.gethostbyname(myHostName)\n",
    "\n",
    "print(\"IP address of the localhost is {}\".format(myIP))"
   ]
  },
  {
   "cell_type": "markdown",
   "id": "8b93c21c",
   "metadata": {},
   "source": [
    "### example of other ways of looking at the network data \n"
   ]
  },
  {
   "cell_type": "code",
   "execution_count": 5,
   "id": "7d38e6a8",
   "metadata": {},
   "outputs": [
    {
     "name": "stdout",
     "output_type": "stream",
     "text": [
      "[(<AddressFamily.AF_INET: 2>, 0, 0, '', ('34.117.56.24', 80))]\n"
     ]
    }
   ],
   "source": [
    "# Query for socket information to connect to example.com\n",
    "addrInfo = socket.getaddrinfo(\"qa.com\",80)\n",
    " \n",
    "# print socket tuples\n",
    "print(addrInfo)"
   ]
  },
  {
   "cell_type": "markdown",
   "id": "31f66aca",
   "metadata": {},
   "source": [
    "If we know a network service by host name like example.org or the IP address of the network service either in form of IPv4 or IPv6 along with the port number of the network service, getaddrinfo() will return a list of tuples containing information about socket(s) that can be created with the service.\n"
   ]
  },
  {
   "cell_type": "code",
   "execution_count": 9,
   "id": "72d3db29",
   "metadata": {},
   "outputs": [
    {
     "name": "stdout",
     "output_type": "stream",
     "text": [
      "[(<AddressFamily.AF_INET: 2>, 0, 6, '', ('34.117.56.24', 80))]\n"
     ]
    }
   ],
   "source": [
    "# Query for socket info - Criteria is IPv4, TCP\n",
    "addressInfo = socket.getaddrinfo(\"qa.com\", 80, family=socket.AF_INET, proto=socket.IPPROTO_TCP)\n",
    " \n",
    "# Print socket info\n",
    "print(addressInfo)\n"
   ]
  },
  {
   "cell_type": "markdown",
   "id": "9e264f00",
   "metadata": {},
   "source": []
  }
 ],
 "metadata": {
  "kernelspec": {
   "display_name": "Python 3 (ipykernel)",
   "language": "python",
   "name": "python3"
  },
  "language_info": {
   "codemirror_mode": {
    "name": "ipython",
    "version": 3
   },
   "file_extension": ".py",
   "mimetype": "text/x-python",
   "name": "python",
   "nbconvert_exporter": "python",
   "pygments_lexer": "ipython3",
   "version": "3.9.7"
  }
 },
 "nbformat": 4,
 "nbformat_minor": 5
}
