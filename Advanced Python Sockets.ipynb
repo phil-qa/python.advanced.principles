{
 "cells": [
  {
   "cell_type": "markdown",
   "id": "5a0cf7ae",
   "metadata": {},
   "source": [
    "The socket module is a network programming interface which is \n",
    "based on the Berkeley Sockets programming model and is \n",
    "consistent with release 4.3 of the Berkeley Software Distribution. \n",
    "The API also contains a set of Python-specific extensions.\n",
    "The module provides a single API which abstracts the networking \n",
    "software below and to which developers can program. It closely \n",
    "follows the traditional C SPI, but is considerably abstracted and \n",
    "easier to use. \n",
    "The conventional BSD socket API only supported IPv4, not IPv6. \n",
    "Modern operating systems can support IPv6, including Windows \n",
    "from XP onwards, but some data structures and some parameters \n",
    "are different. The Microsoft utility Checkv4.exe is available as a \n",
    "porting tool for conversion to IPv4 to IPv6. \n",
    "The Python standard library ssl provides a secure socket class \n",
    "derived from socket. "
   ]
  },
  {
   "cell_type": "markdown",
   "id": "908bc25f",
   "metadata": {},
   "source": [
    "Sockets are designed around the client/server model of IPC. A \n",
    "socket is a named bidirectional endpoint of a communications link \n",
    "between processes. Sockets provide both virtual circuit \n",
    "connections and datagram-style communication. Both can be \n",
    "used locally or across the network.\n",
    "When using sockets, there is an asymmetry in establishing \n",
    "communication between the client and server so that each has a \n",
    "different role. A server application normally listens at well-known \n",
    "addresses for service requests, remaining dormant until a \n",
    "connection is requested by a client's connection to a server \n",
    "address. At such a time the server process \"wakes up'' and services \n",
    "the client, performing whatever appropriate actions the client \n",
    "requests of it.\n",
    "Sockets in themselves do not hold enough information to allow \n",
    "the communication to be specified fully; they must operate within \n",
    "a particular communications domain. A communication domain is \n",
    "an abstraction that defines how the socket is named, and which \n",
    "communications protocols are used to effect the transfer of the \n",
    "data. Sockets normally exchange data only with sockets in the \n",
    "same domain. A communication domain is sometimes referred to \n",
    "s an address family or a protocol family.\n",
    "A socket also has a type that is used to describe how data is \n",
    "transferred across a link through the socket. "
   ]
  },
  {
   "cell_type": "markdown",
   "id": "fb556a24",
   "metadata": {},
   "source": [
    "Most implementations of UNIX that include sockets support two \n",
    "standard domains, or address families:\n",
    "UNIX - Used with processes residing on the same machine, \n",
    "using the local file system. The address family is AF_UNIX \n",
    "and the names of sockets are local file names.\n",
    "Internet - Used with processes residing on different \n",
    "machines, using the TCP/IP protocol suite. The address \n",
    "family is AF_INET and the names of sockets are globally \n",
    "unique network addresses.\n",
    "Other domains have been implemented, most notably to support \n",
    "XNS (Xerox) protocols. \n",
    "The Windows Sockets facilities this support with a single \n",
    "communication domain: the Internet domain. Future versions of \n",
    "this specification may include additional domains. \n",
    "The diagram shows a particular setup, where process i on \n",
    "machine1 has established links through sockets with process j on \n",
    "machine1 and k on machine2. Both of these use the Internet \n",
    "domain.\n",
    "\n",
    "### XNS ref\n",
    "https://networkencyclopedia.com/xerox-network-systems-xns/"
   ]
  },
  {
   "cell_type": "markdown",
   "id": "7178c7e1",
   "metadata": {},
   "source": [
    "Socket ‘names’ in the Internet domain have three components \n",
    "which make them globally unique. \n",
    "For IPv4, a 32-bit Internet address (IP address) identifies a network \n",
    "interface. A network interface is a network card in a machine, \n",
    "interfacing to a particular network. Normally a machine (host) will \n",
    "have only one network interface. \n",
    "A 16-bit port number assigned by a host, usually representing an \n",
    "application. An implicit 16-bit protocol number, identifying either \n",
    "UDP for datagram sockets or TCP for stream sockets\n",
    "A local name is bound to a socket after it is created.\n",
    "IPv6 uses 128-bit addresses, which are usually split into 8 16-bit \n",
    "pieces. This would be very difficult to use, and so leading zeros in \n",
    "each piece may be omitted. In addition concurrent zeros can be \n",
    "expressed as two colons: '::'. IPv4 addresses refer to hosts, whereas \n",
    "an IPv6 address specifically refers to an interface, which takes into \n",
    "account multiple network cards in one machine (multi-homed).\n",
    "Port numbers are assigned by a host. However many ‘well-known’ \n",
    "TCP/IP services, e.g. FTP, use specific port numbers that are the \n",
    "same on every host, and these numbers are therefore reserved and \n",
    "unavailable for general use. Port numbers less than IPPORT_RESERVED (1024) are used for these privileged processes.\n",
    "\n",
    "### ipv4 ref \n",
    "https://www.tutorialspoint.com/ipv4/ipv4_packet_structure.htm\n"
   ]
  },
  {
   "cell_type": "markdown",
   "id": "74686866",
   "metadata": {},
   "source": [
    "### Socket info \n",
    "AF_INET is an address family that is used to designate the type of addresses that your socket can communicate with (in this case, Internet Protocol v4 addresses). When you create a socket, you have to specify its address family, and then you can only use addresses of that type with the socket. The Linux kernel, for example, supports 29 other address families such as UNIX (AF_UNIX) sockets and IPX (AF_IPX), and also communications with IRDA and Bluetooth (AF_IRDA and AF_BLUETOOTH, but it is doubtful you'll use these at such a low level).\n",
    "\n",
    "For the most part, sticking with AF_INET for socket programming over a network is the safest option. There is also AF_INET6 for Internet Protocol v6 addresses.\n"
   ]
  },
  {
   "cell_type": "markdown",
   "id": "bd5f8e4a",
   "metadata": {},
   "source": [
    "## Using connection oriented sockets\n",
    "A server application normally listens at a well-known name or port \n",
    "for service requests, remaining dormant until a connection is \n",
    "requested by a client's connection to the server's endpoint address. \n",
    "At such a time, the server process ‘wakes up’ and services the \n",
    "client, performing whatever appropriate actions the client requests \n",
    "of it. The following stages showing a conversation between a client \n",
    "and a server process are shown in the diagram.\n",
    "### First, \n",
    "the server must create a socket and bind it to a local name. In \n",
    "the Internet domain a name is a combination of a unique network \n",
    "address and a host-relative port number. The socket is created \n",
    "using the socket() method, at which time the socket type and \n",
    "communications domain are specified. In Python a socket is \n",
    "referenced using an object, much as an open file is. bind() will \n",
    "associate the socket with the appropriate socket name. \n",
    "The next stage is to specify that the socket is to listen for \n",
    "connections, which is done by the listen() method. Here we specify \n",
    "the size of a queue of waiting connection requests. A server \n",
    "application normally listens on a socket bound to a well-known \n",
    "name. To make its end of a connection, the server calls the accept() \n",
    "method. If there are no connection requests to be serviced, this cal\n",
    "will normally cause the process to block, waiting for a request. If \n",
    "there are requests (on the queue specified with listen()), then a \n",
    "connection is made.\n",
    "accept() returns a new socket object with the same characteristics \n",
    "as the listening socket, which is then used to transfer the data \n",
    "using recv() and send(). This is done so that the server may \n",
    "execute a subprocess or thread to manage the data transfer, while \n",
    "it continues to listen for new requests from other clients."
   ]
  },
  {
   "cell_type": "code",
   "execution_count": null,
   "id": "5ac75c2b",
   "metadata": {},
   "outputs": [],
   "source": [
    "import socket\n",
    "\n",
    "HOST = \"127.0.0.1\"  # Standard loopback interface address (localhost)\n",
    "PORT = 65432  # Port to listen on (non-privileged ports are > 1023)\n",
    "\n",
    "with socket.socket(socket.AF_INET, socket.SOCK_STREAM) as s:\n",
    "    s.bind((HOST, PORT))\n",
    "    s.listen()\n",
    "    conn, addr = s.accept()\n",
    "    with conn:\n",
    "        print(f\"Connected by {addr}\")\n",
    "        while True:\n",
    "            data = conn.recv(1024)\n",
    "            if not data:\n",
    "                break\n",
    "            conn.sendall(data)"
   ]
  },
  {
   "cell_type": "markdown",
   "id": "da45c7d8",
   "metadata": {},
   "source": [
    "The arguments passed to socket() are constants used to specify the address family and socket type. AF_INET is the Internet address family for IPv4. SOCK_STREAM is the socket type for TCP, the protocol that will be used to transport messages in the network.\n",
    "\n",
    "The .bind() method is used to associate the socket with a specific network interface and port number:\n",
    "The values passed to .bind() depend on the address family of the socket. In this example, you’re using socket.AF_INET (IPv4). So it expects a two-tuple: (host, port).\n",
    "\n",
    "https://realpython.com/python-sockets/"
   ]
  },
  {
   "cell_type": "code",
   "execution_count": null,
   "id": "00895960",
   "metadata": {},
   "outputs": [],
   "source": []
  }
 ],
 "metadata": {
  "kernelspec": {
   "display_name": "Python 3 (ipykernel)",
   "language": "python",
   "name": "python3"
  },
  "language_info": {
   "codemirror_mode": {
    "name": "ipython",
    "version": 3
   },
   "file_extension": ".py",
   "mimetype": "text/x-python",
   "name": "python",
   "nbconvert_exporter": "python",
   "pygments_lexer": "ipython3",
   "version": "3.9.7"
  }
 },
 "nbformat": 4,
 "nbformat_minor": 5
}
