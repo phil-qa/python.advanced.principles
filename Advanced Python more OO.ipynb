{
 "cells": [
  {
   "cell_type": "markdown",
   "metadata": {},
   "source": [
    "# Revision\n",
    "Class Method\n",
    "This method hops to a class rather than its object. No necessity of creating a class instance. This is much similar to the static method.\n",
    "The parameters of the Class method is predominantly the class itself and hence it associates with it. Therefore class methods operate at a global class level\n",
    "\n",
    "It’s important to note that you can access a class method using either the class or a concrete instance of the class at hand\n",
    "\n",
    "Unlike regular methods, class methods don’t take the current instance, self, as an argument. Instead, they take the class itself, which is commonly passed in as the cls argument. Using cls to name this argument is a popular convention in the Python community."
   ]
  },
  {
   "cell_type": "code",
   "execution_count": 32,
   "metadata": {},
   "outputs": [],
   "source": [
    "# point.py\n",
    "\n",
    "import math\n",
    "\n",
    "class PolarPoint:\n",
    "    def __init__(self, distance, angle):\n",
    "        self.distance = distance\n",
    "        self.angle = angle\n",
    "\n",
    "    @classmethod\n",
    "    def from_cartesian(cls, x, y):\n",
    "        distance = math.dist((0, 0), (x, y))\n",
    "        angle = math.degrees(math.atan2(y, x))\n",
    "        return cls(distance, angle)"
   ]
  },
  {
   "cell_type": "code",
   "execution_count": 35,
   "metadata": {},
   "outputs": [
    {
     "name": "stdout",
     "output_type": "stream",
     "text": [
      "13 22.6\n"
     ]
    }
   ],
   "source": [
    "value = PolarPoint(13, 22.6)\n",
    "print(f\"{value.distance} {value.angle}\")"
   ]
  },
  {
   "cell_type": "markdown",
   "metadata": {},
   "source": [
    "# Name Mangling\n",
    "    as per slide"
   ]
  },
  {
   "cell_type": "markdown",
   "metadata": {},
   "source": [
    "# built-in operators\n",
    "As they say the calls to these exercise the appropriate special function, this can be overridden though\n"
   ]
  },
  {
   "cell_type": "markdown",
   "metadata": {},
   "source": [
    "# classes derive from object\n",
    "Python Classes/Objects\n",
    "Python is an object oriented programming language.\n",
    "\n",
    "Almost everything in Python is an object, with its properties and methods.\n",
    "\n",
    "A Class is like an object constructor, or a \"blueprint\" for creating objects.\n",
    "\n",
    "++++REview the bank class +++\n"
   ]
  },
  {
   "cell_type": "markdown",
   "metadata": {},
   "source": [
    "# Mixins\n",
    "What is a mixin in Python\n",
    "A mixin is a class that provides method implementations for reuse by multiple related child classes. However, the inheritance is not implying an is-a relationship.\n",
    "\n",
    "A mixin doesn’t define a new type. Therefore, it is not intended for instantiation.\n",
    "\n",
    "A mixin will bundle a set of methods for reuse. However it is the intent that the methods implenented are closely related and requires each mixin to have a single specific behavior. The following example is from pythontutorial"
   ]
  },
  {
   "cell_type": "code",
   "execution_count": 36,
   "metadata": {},
   "outputs": [],
   "source": [
    "class Person:\n",
    "    def __init__(self, name):\n",
    "        self.name = name"
   ]
  },
  {
   "cell_type": "code",
   "execution_count": 37,
   "metadata": {},
   "outputs": [],
   "source": [
    "# define employee that inherits from the Person class\n",
    "class Employee(Person):\n",
    "    def __init__(self, name, skills, dependents):\n",
    "        super().__init__(name)\n",
    "        self.skills = skills\n",
    "        self.dependents = dependents"
   ]
  },
  {
   "cell_type": "code",
   "execution_count": 39,
   "metadata": {},
   "outputs": [],
   "source": [
    "# create an instance\n",
    "e = Employee(\n",
    "    name='John',\n",
    "    skills=['Python Programming''Project Management'],\n",
    "    dependents={'wife': 'Jane', 'children': ['Alice', 'Bob']})"
   ]
  },
  {
   "cell_type": "markdown",
   "metadata": {},
   "source": [
    "In this case we may want to convert the Employee to a dictionary and we can add a method for that but what if we want to convert objects of other classes to dictionaries. to make the code reusable we can define a mixin class"
   ]
  },
  {
   "cell_type": "code",
   "execution_count": 40,
   "metadata": {},
   "outputs": [],
   "source": [
    "class DictMixin:\n",
    "    def to_dict(self):\n",
    "        return self._traverse_dict(self.__dict__)\n",
    "\n",
    "    def _traverse_dict(self, attributes: dict) -> dict:\n",
    "        result = {}\n",
    "        for key, value in attributes.items():\n",
    "            result[key] = self._traverse(key, value)\n",
    "\n",
    "        return result\n",
    "\n",
    "    def _traverse(self, key, value):\n",
    "        if isinstance(value, DictMixin):\n",
    "            return value.to_dict()\n",
    "        elif isinstance(value, dict):\n",
    "            return self._traverse_dict(value)\n",
    "        elif isinstance(value, list):\n",
    "            return [self._traverse(key, v) for v in value]\n",
    "        elif hasattr(value, '__dict__'):\n",
    "            return self._traverse_dict(value.__dict__)\n",
    "        else:\n",
    "            return value"
   ]
  },
  {
   "cell_type": "markdown",
   "metadata": {},
   "source": [
    "The DictMixin class has the to_dict() method that converts an object to a dictionary.\n",
    "\n",
    "The _traverse_dict() method iterates the object’s attributes and assigns the key and value to the result.\n",
    "\n",
    "The attribute of an object may be a list, a dictionary, or an object with the __dict__ attribute. Therefore, the _traverse_dict() method uses the _traverse() method to convert the attribute to value.\n",
    "\n",
    "To convert instances of the Employee class to dictionaries, the Employee needs to inherit from both DictMixin and Person classes:"
   ]
  },
  {
   "cell_type": "code",
   "execution_count": 41,
   "metadata": {},
   "outputs": [],
   "source": [
    "class Employee(DictMixin, Person):\n",
    "    def __init__(self, name, skills, dependents):\n",
    "        super().__init__(name)\n",
    "        self.skills = skills\n",
    "        self.dependents = dependents"
   ]
  },
  {
   "cell_type": "markdown",
   "metadata": {},
   "source": [
    "Now creating an instance of Employee again"
   ]
  },
  {
   "cell_type": "code",
   "execution_count": 43,
   "metadata": {},
   "outputs": [
    {
     "name": "stdout",
     "output_type": "stream",
     "text": [
      "{'name': 'John', 'skills': ['Python Programming', 'Project Management'], 'dependents': {'wife': 'Jane', 'children': ['Alice', 'Bob']}}\n"
     ]
    }
   ],
   "source": [
    "e = Employee(\n",
    "    name='John',\n",
    "    skills=['Python Programming', 'Project Management'],\n",
    "    dependents={'wife': 'Jane', 'children': ['Alice', 'Bob']}\n",
    ")\n",
    "\n",
    "print(e.to_dict())"
   ]
  },
  {
   "cell_type": "markdown",
   "metadata": {},
   "source": [
    "This could be further enhanced by including a new Mixin for handling json conversion"
   ]
  },
  {
   "cell_type": "markdown",
   "metadata": {},
   "source": [
    "## MRO\n",
    "Method Resolution Order(MRO) it denotes the way a programming language resolves a method or attribute. Python supports classes inheriting from other classes. The class being inherited is called the Parent or Superclass, while the class that inherits is called the Child or Subclass \n",
    "\n",
    "### For Mixins consider composition\n",
    "What is Composition (Has-A Relation)? \n",
    "It is one of the fundamental concepts of Object-Oriented Programming. In this concept, we will describe a class that references to one or more objects of other classes as an Instance variable. Here, by using the class name or by creating the object we can access the members of one class inside another class. It enables creating complex types by combining objects of different classes. It means that a class Composite can contain an object of another class Component. This type of relationship is known as Has-A Relation.\n",
    "\n"
   ]
  }
 ],
 "metadata": {
  "kernelspec": {
   "display_name": "Python 3",
   "language": "python",
   "name": "python3"
  },
  "language_info": {
   "codemirror_mode": {
    "name": "ipython",
    "version": 3
   },
   "file_extension": ".py",
   "mimetype": "text/x-python",
   "name": "python",
   "nbconvert_exporter": "python",
   "pygments_lexer": "ipython3",
   "version": "3.7.4"
  }
 },
 "nbformat": 4,
 "nbformat_minor": 5
}
