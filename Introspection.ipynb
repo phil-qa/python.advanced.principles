{
 "cells": [
  {
   "cell_type": "markdown",
   "id": "b0c5d25c",
   "metadata": {},
   "source": [
    "# Locals and globals\n",
    "## current synmbol tables\n",
    "In computer science, a symbol table is a data structure used by a language translator such as a compiler or interpreter, where each identifier (or symbols), constants, procedures and functions in a program's source code is associated with information relating to its declaration or appearance in the source. In other words, the entries of a symbol table store the information related to the entry's corresponding symbol\n",
    "\n",
    "## eval\n",
    "The function eval() is a built-in function that takes an expression as an input and returns the result of the expression on evaluation. Let us see the syntax of the eval() function.\n",
    "\n",
    "\n"
   ]
  },
  {
   "cell_type": "code",
   "execution_count": 1,
   "id": "15bd5718",
   "metadata": {},
   "outputs": [
    {
     "name": "stdout",
     "output_type": "stream",
     "text": [
      "Enter either \"add\" or \"sub\" or \"prod\" or \"div\": div\n",
      "Enter the first number4\n",
      "Enter the second number5\n",
      "0.8\n"
     ]
    }
   ],
   "source": [
    "def add(a,b):\n",
    "    print(a+b)\n",
    "def sub(a,b):\n",
    "    print(a-b)\n",
    "def prod(a,b):\n",
    "    print(a*b)\n",
    "def div(a,b):\n",
    "    print(a/b)\n",
    "\n",
    "op=input('Enter either \"add\" or \"sub\" or \"prod\" or \"div\": ')\n",
    "if(op in 'add sub prod div'):\n",
    "    a=input('Enter the first number')\n",
    "    b=input('Enter the second number')\n",
    "    fun=op+'('+a+','+b+')'\n",
    "    eval(fun)\n",
    "else:\n",
    "    print('Please enter valid input')"
   ]
  },
  {
   "cell_type": "markdown",
   "id": "f06de9ba",
   "metadata": {},
   "source": [
    "### exec\n",
    "exec() function is used for the dynamic execution of Python programs which can either be a string or object code. If it is a string, the string is parsed as a suite of Python statements which is then executed unless a syntax error occurs and if it is an object code, it is simply executed. We must be careful that the return statements may not be used outside of function definitions not even within the context of code passed to the exec() function. It doesn’t return any value, hence returns None. "
   ]
  },
  {
   "cell_type": "code",
   "execution_count": 3,
   "id": "53a0cab0",
   "metadata": {},
   "outputs": [
    {
     "name": "stdout",
     "output_type": "stream",
     "text": [
      "The result of dividing 20 and 5 is  2.0\n"
     ]
    }
   ],
   "source": [
    "thing_to_exec = 'print(\"The result of dividing 20 and 5 is \",(10/5))'\n",
    "exec(thing_to_exec)"
   ]
  },
  {
   "cell_type": "code",
   "execution_count": null,
   "id": "d205aa97",
   "metadata": {},
   "outputs": [],
   "source": []
  }
 ],
 "metadata": {
  "kernelspec": {
   "display_name": "Python 3 (ipykernel)",
   "language": "python",
   "name": "python3"
  },
  "language_info": {
   "codemirror_mode": {
    "name": "ipython",
    "version": 3
   },
   "file_extension": ".py",
   "mimetype": "text/x-python",
   "name": "python",
   "nbconvert_exporter": "python",
   "pygments_lexer": "ipython3",
   "version": "3.9.7"
  }
 },
 "nbformat": 4,
 "nbformat_minor": 5
}
