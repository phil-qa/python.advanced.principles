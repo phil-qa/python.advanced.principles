{
 "cells": [
  {
   "cell_type": "markdown",
   "id": "90e8fb57",
   "metadata": {},
   "source": [
    "Easy_Install Package Manager\n",
    "\n",
    "Let's start out with Easy_Install.\n",
    "easy_install\n",
    "\n",
    "Distributes Python programs and libraries (based on the Python Eggs wrapper)\n",
    "\n",
    "It's a python module (easy_install) that is bundled with setuptools.\n",
    "\n",
    "It lets you automatically download, build, install, and manage Python packages.\n",
    "\n",
    "Easy_Install looks in the Python Package Index (PyPI) for the desired packages\n",
    "and uses the metadata there to download and install the package and its\n",
    "dependencies. \n",
    "\n",
    "It is also hosted itself on the PyPI.\n",
    "Python Eggs\n",
    "\n",
    "A Python egg is a way of distributing Python packages. \n",
    "\n",
    "\"Eggs are to Pythons as Jars are to Java...\"\n",
    "\n",
    "\n",
    "setuptools\n",
    "\n",
    "setuptools is a collection of enhancements to the Python distutils that allow\n",
    "you to more easily build and distribute Python packages, especially ones that\n",
    "have dependencies on other packages.\n",
    "http://pythonhosted.org/setuptools/formats.html\n"
   ]
  }
 ],
 "metadata": {
  "kernelspec": {
   "display_name": "Python 3 (ipykernel)",
   "language": "python",
   "name": "python3"
  },
  "language_info": {
   "codemirror_mode": {
    "name": "ipython",
    "version": 3
   },
   "file_extension": ".py",
   "mimetype": "text/x-python",
   "name": "python",
   "nbconvert_exporter": "python",
   "pygments_lexer": "ipython3",
   "version": "3.9.7"
  }
 },
 "nbformat": 4,
 "nbformat_minor": 5
}
