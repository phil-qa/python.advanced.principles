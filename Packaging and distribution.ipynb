{
 "cells": [
  {
   "cell_type": "markdown",
   "id": "d097dc39",
   "metadata": {},
   "source": [
    "# Distributing and packaging\n",
    "\n",
    "In Python, packaging and distribution refer to the process of preparing and sharing Python code so that it can be easily installed and used by others. This process typically involves creating a package, which is a collection of Python modules and resources, and making it available for installation via a package manager.  \n",
    "\n",
    "**Package**: A package is a collection of Python modules and other resources (such as data files, documentation, etc.) that are organized together for a specific purpose. Packages are typically distributed as archives (e.g., .tar.gz, .zip) and can be installed using a package manager. Packages can be distributed.\n",
    "\n",
    "**Control data, metadata**: For each package there has to be a manifest or data that describes the structure of the installation package, usually this is in setup.py\n",
    "\n",
    "**Package manager**:\n",
    "There are a number of ways of controlling the distribution, a package manager is probably the best approach, if the metadata is well formed and external dependencies available, then this is the most practical method. pip is a great example.   \n",
    "PyPI is the official repository for Python packages. It hosts thousands of open-source Python packages that can be installed using pip. Developers can upload their packages to PyPI to share them with the Python community.   \n"
   ]
  },
  {
   "cell_type": "markdown",
   "id": "90e8fb57",
   "metadata": {},
   "source": [
    "Easy_Install Package Manager\n",
    "\n",
    "Let's start out with Easy_Install.\n",
    "easy_install\n",
    "\n",
    "Distributes Python programs and libraries (based on the Python Eggs wrapper)\n",
    "\n",
    "It's a python module (easy_install) that is bundled with setuptools.\n",
    "\n",
    "It lets you automatically download, build, install, and manage Python packages.\n",
    "\n",
    "Easy_Install looks in the Python Package Index (PyPI) for the desired packages\n",
    "and uses the metadata there to download and install the package and its\n",
    "dependencies. \n",
    "\n",
    "It is also hosted itself on the PyPI.\n",
    "Python Eggs\n",
    "\n",
    "A Python egg is a way of distributing Python packages. \n",
    "\n",
    "\"Eggs are to Pythons as Jars are to Java...\"\n",
    "\n",
    "\n",
    "## setuptools\n",
    "\n",
    "setuptools is a collection of enhancements to the Python distutils that allow\n",
    "you to more easily build and distribute Python packages, especially ones that\n",
    "have dependencies on other packages.\n",
    "\n"
   ]
  },
  {
   "cell_type": "markdown",
   "id": "58343f47",
   "metadata": {},
   "source": [
    "### wheels\n",
    "Another distribution format is wheels (supported by pypy) for Python packages. It's essentially a built package that contains all the files necessary for installing a Python package, including the package's code, resources, and metadata.  \n",
    "\n",
    "They were introduced as a replacement for Python's older packaging formats, such as egg and tar.gz. They offer several advantages over these formats, including:\n",
    "\n",
    "- Consistency across platforms: Wheels are platform-specific, meaning separate wheel files are provided for different operating systems and Python versions. This ensures compatibility and consistency when installing packages on different platforms.\n",
    "\n",
    "- Simplified distribution: Creating wheels for distribution is straightforward, and they can be easily uploaded to the Python Package Index (PyPI) or other package repositories.\n",
    "\n",
    "- Improved installation performance: Wheels are pre-built binary packages, which means they can be installed faster than source distributions (tar.gz or zip files) because they don't require compilation.\n"
   ]
  },
  {
   "cell_type": "code",
   "execution_count": null,
   "id": "56ca2ea7",
   "metadata": {},
   "outputs": [],
   "source": [
    "#example of a setup file setup.py\n",
    "from setuptools import setup, find_packages\n",
    "\n",
    "setup(\n",
    "    name='example_package',\n",
    "    version='1.0.0',\n",
    "    author='Your Name',\n",
    "    author_email='your@email.com',\n",
    "    description='A sample Python package',\n",
    "    packages=find_packages(),\n",
    "    install_requires=[\n",
    "        # List of dependencies\n",
    "    ],\n",
    ")"
   ]
  },
  {
   "cell_type": "markdown",
   "id": "a18d5b63",
   "metadata": {},
   "source": [
    "## Working example \n",
    "The following is a working example of the process for a calculator script that implements numpy\n"
   ]
  },
  {
   "cell_type": "code",
   "execution_count": 1,
   "id": "4d7d9664",
   "metadata": {},
   "outputs": [
    {
     "name": "stderr",
     "output_type": "stream",
     "text": [
      "Traceback (most recent call last):\n",
      "  File \"_pydevd_bundle/pydevd_cython.pyx\", line 1134, in _pydevd_bundle.pydevd_cython.PyDBFrame.trace_dispatch\n",
      "  File \"_pydevd_bundle/pydevd_cython.pyx\", line 311, in _pydevd_bundle.pydevd_cython.PyDBFrame.do_wait_suspend\n",
      "  File \"C:\\Users\\phili\\AppData\\Roaming\\Python\\Python310\\site-packages\\debugpy\\_vendored\\pydevd\\pydevd.py\", line 2062, in do_wait_suspend\n",
      "    keep_suspended = self._do_wait_suspend(thread, frame, event, arg, suspend_type, from_this_thread, frames_tracker)\n",
      "  File \"C:\\Users\\phili\\AppData\\Roaming\\Python\\Python310\\site-packages\\debugpy\\_vendored\\pydevd\\pydevd.py\", line 2098, in _do_wait_suspend\n",
      "    time.sleep(0.01)\n",
      "KeyboardInterrupt\n"
     ]
    },
    {
     "ename": "KeyboardInterrupt",
     "evalue": "",
     "output_type": "error",
     "traceback": [
      "\u001b[1;31m---------------------------------------------------------------------------\u001b[0m",
      "\u001b[1;31mKeyboardInterrupt\u001b[0m                         Traceback (most recent call last)",
      "Cell \u001b[1;32mIn [1], line 2\u001b[0m\n\u001b[0;32m      1\u001b[0m \u001b[38;5;66;03m# calculator.py\u001b[39;00m\n\u001b[1;32m----> 2\u001b[0m \u001b[38;5;28;01mimport\u001b[39;00m \u001b[38;5;21;01mnumpy\u001b[39;00m \u001b[38;5;28;01mas\u001b[39;00m \u001b[38;5;21;01mnp\u001b[39;00m\n\u001b[0;32m      4\u001b[0m \u001b[38;5;28;01mdef\u001b[39;00m \u001b[38;5;21madd\u001b[39m(x, y):\n\u001b[0;32m      5\u001b[0m     \u001b[38;5;28;01mreturn\u001b[39;00m x \u001b[38;5;241m+\u001b[39m y\n",
      "Cell \u001b[1;32mIn [1], line 2\u001b[0m\n\u001b[0;32m      1\u001b[0m \u001b[38;5;66;03m# calculator.py\u001b[39;00m\n\u001b[1;32m----> 2\u001b[0m \u001b[38;5;28;01mimport\u001b[39;00m \u001b[38;5;21;01mnumpy\u001b[39;00m \u001b[38;5;28;01mas\u001b[39;00m \u001b[38;5;21;01mnp\u001b[39;00m\n\u001b[0;32m      4\u001b[0m \u001b[38;5;28;01mdef\u001b[39;00m \u001b[38;5;21madd\u001b[39m(x, y):\n\u001b[0;32m      5\u001b[0m     \u001b[38;5;28;01mreturn\u001b[39;00m x \u001b[38;5;241m+\u001b[39m y\n",
      "File \u001b[1;32m_pydevd_bundle/pydevd_cython.pyx:1443\u001b[0m, in \u001b[0;36m_pydevd_bundle.pydevd_cython.SafeCallWrapper.__call__\u001b[1;34m()\u001b[0m\n",
      "File \u001b[1;32m_pydevd_bundle/pydevd_cython.pyx:700\u001b[0m, in \u001b[0;36m_pydevd_bundle.pydevd_cython.PyDBFrame.trace_dispatch\u001b[1;34m()\u001b[0m\n",
      "File \u001b[1;32m_pydevd_bundle/pydevd_cython.pyx:1143\u001b[0m, in \u001b[0;36m_pydevd_bundle.pydevd_cython.PyDBFrame.trace_dispatch\u001b[1;34m()\u001b[0m\n",
      "File \u001b[1;32m_pydevd_bundle/pydevd_cython.pyx:1134\u001b[0m, in \u001b[0;36m_pydevd_bundle.pydevd_cython.PyDBFrame.trace_dispatch\u001b[1;34m()\u001b[0m\n",
      "File \u001b[1;32m_pydevd_bundle/pydevd_cython.pyx:311\u001b[0m, in \u001b[0;36m_pydevd_bundle.pydevd_cython.PyDBFrame.do_wait_suspend\u001b[1;34m()\u001b[0m\n",
      "File \u001b[1;32m~\\AppData\\Roaming\\Python\\Python310\\site-packages\\debugpy\\_vendored\\pydevd\\pydevd.py:2062\u001b[0m, in \u001b[0;36mPyDB.do_wait_suspend\u001b[1;34m(self, thread, frame, event, arg, exception_type)\u001b[0m\n\u001b[0;32m   2059\u001b[0m             from_this_thread\u001b[38;5;241m.\u001b[39mappend(frame_custom_thread_id)\n\u001b[0;32m   2061\u001b[0m     \u001b[38;5;28;01mwith\u001b[39;00m \u001b[38;5;28mself\u001b[39m\u001b[38;5;241m.\u001b[39m_threads_suspended_single_notification\u001b[38;5;241m.\u001b[39mnotify_thread_suspended(thread_id, stop_reason):\n\u001b[1;32m-> 2062\u001b[0m         keep_suspended \u001b[38;5;241m=\u001b[39m \u001b[38;5;28;43mself\u001b[39;49m\u001b[38;5;241;43m.\u001b[39;49m\u001b[43m_do_wait_suspend\u001b[49m\u001b[43m(\u001b[49m\u001b[43mthread\u001b[49m\u001b[43m,\u001b[49m\u001b[43m \u001b[49m\u001b[43mframe\u001b[49m\u001b[43m,\u001b[49m\u001b[43m \u001b[49m\u001b[43mevent\u001b[49m\u001b[43m,\u001b[49m\u001b[43m \u001b[49m\u001b[43marg\u001b[49m\u001b[43m,\u001b[49m\u001b[43m \u001b[49m\u001b[43msuspend_type\u001b[49m\u001b[43m,\u001b[49m\u001b[43m \u001b[49m\u001b[43mfrom_this_thread\u001b[49m\u001b[43m,\u001b[49m\u001b[43m \u001b[49m\u001b[43mframes_tracker\u001b[49m\u001b[43m)\u001b[49m\n\u001b[0;32m   2064\u001b[0m frames_list \u001b[38;5;241m=\u001b[39m \u001b[38;5;28;01mNone\u001b[39;00m\n\u001b[0;32m   2066\u001b[0m \u001b[38;5;28;01mif\u001b[39;00m keep_suspended:\n\u001b[0;32m   2067\u001b[0m     \u001b[38;5;66;03m# This means that we should pause again after a set next statement.\u001b[39;00m\n",
      "File \u001b[1;32m~\\AppData\\Roaming\\Python\\Python310\\site-packages\\debugpy\\_vendored\\pydevd\\pydevd.py:2098\u001b[0m, in \u001b[0;36mPyDB._do_wait_suspend\u001b[1;34m(self, thread, frame, event, arg, suspend_type, from_this_thread, frames_tracker)\u001b[0m\n\u001b[0;32m   2095\u001b[0m         \u001b[38;5;28mself\u001b[39m\u001b[38;5;241m.\u001b[39m_call_input_hook()\n\u001b[0;32m   2097\u001b[0m     \u001b[38;5;28mself\u001b[39m\u001b[38;5;241m.\u001b[39mprocess_internal_commands()\n\u001b[1;32m-> 2098\u001b[0m     \u001b[43mtime\u001b[49m\u001b[38;5;241;43m.\u001b[39;49m\u001b[43msleep\u001b[49m\u001b[43m(\u001b[49m\u001b[38;5;241;43m0.01\u001b[39;49m\u001b[43m)\u001b[49m\n\u001b[0;32m   2100\u001b[0m \u001b[38;5;28mself\u001b[39m\u001b[38;5;241m.\u001b[39mcancel_async_evaluation(get_current_thread_id(thread), \u001b[38;5;28mstr\u001b[39m(\u001b[38;5;28mid\u001b[39m(frame)))\n\u001b[0;32m   2102\u001b[0m \u001b[38;5;66;03m# process any stepping instructions\u001b[39;00m\n",
      "\u001b[1;31mKeyboardInterrupt\u001b[0m: "
     ]
    }
   ],
   "source": [
    "# calculator.py\n",
    "import numpy as np\n",
    "\n",
    "def add(x, y):\n",
    "    return x + y\n",
    "\n",
    "def subtract(x, y):\n",
    "    return x - y\n",
    "\n",
    "def multiply(x, y):\n",
    "    return x * y\n",
    "\n",
    "def divide(x, y):\n",
    "    return x / y"
   ]
  },
  {
   "cell_type": "code",
   "execution_count": null,
   "id": "31fbf942",
   "metadata": {},
   "outputs": [],
   "source": [
    "#The metadata in setup.py\n",
    "from setuptools import setup, find_packages\n",
    "\n",
    "setup(\n",
    "    name='my_project',\n",
    "    version='1.0.0',\n",
    "    author='Your Name',\n",
    "    author_email='your@email.com',\n",
    "    description='A simple calculator package',\n",
    "    packages=find_packages(),\n",
    "    install_requires=[\n",
    "        'numpy',\n",
    "    ],\n",
    ")"
   ]
  },
  {
   "cell_type": "code",
   "execution_count": null,
   "id": "bf323577",
   "metadata": {},
   "outputs": [],
   "source": [
    "#in a terminal execute the following command\n",
    "python setup.py bdist_wheel"
   ]
  },
  {
   "cell_type": "markdown",
   "id": "0593966e",
   "metadata": {},
   "source": [
    "ON completion there should be a .whl file in a directory called dist, installation is simply done using pip"
   ]
  }
 ],
 "metadata": {
  "kernelspec": {
   "display_name": "Python 3 (ipykernel)",
   "language": "python",
   "name": "python3"
  },
  "language_info": {
   "codemirror_mode": {
    "name": "ipython",
    "version": 3
   },
   "file_extension": ".py",
   "mimetype": "text/x-python",
   "name": "python",
   "nbconvert_exporter": "python",
   "pygments_lexer": "ipython3",
   "version": "3.10.10"
  }
 },
 "nbformat": 4,
 "nbformat_minor": 5
}
