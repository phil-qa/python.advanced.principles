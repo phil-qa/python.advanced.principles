{
 "cells": [
  {
   "cell_type": "markdown",
   "id": "88084b7f",
   "metadata": {},
   "source": [
    "Python provides pickle modules for Serialization and de-Serialization of python objects like lists, dictionaries, tuples, etc. Pickling is also called marshaling or flattening in other languages. Pickling is used to store python objects.\n",
    "\n",
    "## Serialization or Pickling: \n",
    "Pickling or Serialization is the process of converting a Python object (lists, dict, tuples, etc.) into byte streams that can be saved to disks or can be transferred over a network.\n",
    "\n",
    "## De-serialization or un pickling: \n",
    "The byte streams saved on file contains the necessary information to reconstruct the original python object. The process of converting byte streams back to python objects is called de-serialization.\n",
    "\n",
    "Below are the steps for pickling in python:\n",
    "\n",
    "Import pickle module.\n",
    "Use pickle.dump(object, filename) method to save the object into file <filename>: this will save the object in this file in byte format.\n",
    "Use pickle.load(filename): to load back python object from the file where it was dumped before.\n",
    "    \n",
    "    "
   ]
  },
  {
   "cell_type": "code",
   "execution_count": 4,
   "id": "d2be5b02",
   "metadata": {},
   "outputs": [
    {
     "name": "stdout",
     "output_type": "stream",
     "text": [
      "Pickling\n",
      "dictionary to be stored:\n",
      "{1: 'monday', 2: 'tuesday', 3: 'wednesday', 4: 'thursday', 5: 'friday', 6: 'saturday', 7: 'sunday'}\n",
      "\n",
      "\n",
      "Un-pickling\n",
      "displaying dictionary data\n",
      "1 --> monday\n",
      "2 --> tuesday\n",
      "3 --> wednesday\n",
      "4 --> thursday\n",
      "5 --> friday\n",
      "6 --> saturday\n",
      "7 --> sunday\n"
     ]
    }
   ],
   "source": [
    "import pickle\n",
    "# creating python object --> dictionary\n",
    "dictionary = {1: 'monday', 2: 'tuesday', 3: 'wednesday', 4: 'thursday', 5: 'friday', 6: 'saturday', 7: 'sunday'}\n",
    "print('Pickling')\n",
    "# open a file where to store dictionary\n",
    "print(\"dictionary to be stored:\")\n",
    "print(dictionary)\n",
    "with open('dictionary.pkl', 'wb') as file:\n",
    "    pickle.dump(dictionary, file) # storing dictionary into file\n",
    "\n",
    "print('\\n')\n",
    "print('Un-pickling')\n",
    "with open('dictionary.pkl', 'rb') as file:\n",
    "    unpickled_dict = pickle.load(file)\n",
    "\n",
    "print(\"displaying dictionary data\")\n",
    "for key, item in unpickled_dict.items():\n",
    "    print(key, '-->', item)"
   ]
  },
  {
   "cell_type": "code",
   "execution_count": null,
   "id": "d114fb07",
   "metadata": {},
   "outputs": [],
   "source": []
  }
 ],
 "metadata": {
  "kernelspec": {
   "display_name": "Python 3 (ipykernel)",
   "language": "python",
   "name": "python3"
  },
  "language_info": {
   "codemirror_mode": {
    "name": "ipython",
    "version": 3
   },
   "file_extension": ".py",
   "mimetype": "text/x-python",
   "name": "python",
   "nbconvert_exporter": "python",
   "pygments_lexer": "ipython3",
   "version": "3.9.7"
  }
 },
 "nbformat": 4,
 "nbformat_minor": 5
}
