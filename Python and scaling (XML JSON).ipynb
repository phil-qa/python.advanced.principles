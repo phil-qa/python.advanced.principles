{
 "cells": [
  {
   "cell_type": "markdown",
   "metadata": {},
   "source": [
    "\n",
    "# Microservices\n",
    "## The problem \n",
    "\n",
    "Developers have discovered plenty of reasons to create microservices in Python, from its foundation in object-oriented programming, to its ability to handle REST APIs, to its out-of-the-box support for application prototyping. In particular, its proponents praise Python's array of built-in features that help isolate key application processes and integrate dynamic collections of distributed services.\n",
    "\n",
    "As is the case with any programming language, however, Python also introduces its share of challenges to navigate. For some -- particularly those not well-versed in interpreted languages or have pressing needs for quick compile times -- Python might not be the ideal language for their microservices development efforts.\n",
    "\n",
    "Let's look at the reasons why developers might want to create microservices in Python, examine the standout features that streamline application build processes, and point out the potential hurdles that developers may encounter. We'll also assess some of the contending languages that offer a slightly different approach to distributed service development projects.\n",
    "\n",
    "Why language choice matters in microservices development\n",
    "While designed to operate as independently as possible, microservices must still communicate and share data using a variety of messaging components, network protocols, event triggers, API calls and other integration techniques. Separation of responsibilities between services, including the logic that drives those operations, is a fundamental part of fostering independence within microservices architectures.\n",
    "\n",
    "Rather than channel through a centralized messaging system, services must communicate between themselves to perform discrete tasks and to scale as needed. This means that the language developers choose for their microservices project should ideally support a number of important communication formats and protocols.\n",
    "\n",
    "Any language used to create microservices should support REST, which primarily relies on HTTP requests that post, read and delete data. However, protocols such as Remote Procedure Call (RPC), gRPC and GraphQL are also considered by some to be essential for microservices communication.\n",
    "\n",
    "Developers creating microservices will also rely on containers to spin up one-off, reproducible application environments and enforce bounded contexts between services. As such, the language in use should also provide strong support for container creation, deployment and orchestration.\n",
    "\n",
    "Advantages of Python for microservices development\n",
    "Python is an object-oriented language that lets developers treat elements as objects and organize them into reusable entities within a clear modular structure. This allows them to quickly write application code, plug in boilerplate functions and test the programs before converting them to script. Python is also a strongly typed language, meaning it ensures uniform consistency and minimizes errors by enforcing data types. Developers can also reuse the same code within a single application or across several modules, using built-in functions.\n",
    "\n",
    "Python's advanced scripting capabilities also allow developers to automate systems provisioning and configurations for microservices. Individual code changes are replicated throughout the code base. Developers can build and customize web front ends through server-side scripting, enhanced by Python's backward compatibility with legacy languages such as PHP and the ASP.NET framework. Python's standard library is augmented by thousands of third-party libraries for writing REST services, and there's plenty of support available from the Python community of users.\n",
    "\n",
    "Finally, Python provides strong support for containers. This support includes built-in container data types such as lists, tuples and sets and those available through the standard library. Developers can package dependencies and run the microservices in isolated environments for testing with these Python features.\n",
    "\n",
    "Python's limitations\n",
    "Of course, there are a few things to consider before rushing to develop microservices with Python. For instance, speed of execution and the nature of the interpreter environment are often cited as the biggest potential drawbacks when using Python to create microservices.\n",
    "\n",
    "For one, Python is an interpreted language, which means it generates non-machine code at execution. Then, an interpreter such as CPython, Jython, PyPy or PyCharm transforms it at runtime into bytecode instructions executed in the CPU's virtual environment. This may lead to notably slower execution times than found in Rust and other languages that compile directly into native code.\n",
    "\n",
    "Python may also prove challenging when it comes to errors and crashes. Because Python is dynamically typed, it's possible that errors ignored during the compilation stage appear suddenly during runtime, either causing applications to delay operations or, at worst, experience total failures.\n",
    "\n",
    "This is a clear problem for microservices, given that microservice instances may be deployed, retired or changed in a dynamic manner. While there are certain type-safety mechanisms that developers can rely on, it will still require that developers pay careful attention to variable assignments and application testing processes if they choose to create microservices in Python.\n",
    "\n",
    "\n"
   ]
  },
  {
   "cell_type": "markdown",
   "metadata": {},
   "source": [
    "# Scale\n",
    "https://www.educative.io/blog/scaling-in-python\n",
    "\n",
    "Python is often dismissed when it comes to building scalable, distributed applications. The trick is knowing the right implementation and tools for writing Python distributed applications that scale horizontally.\n",
    "\n",
    "With the right methods, technologies, and practices, you can make Python applications fast and able to grow in order to handle more work or requirements.\n",
    "\n",
    "What is scaling?\n",
    "Scalability is a somewhat vague term. A scalable system is able to grow to accommodate required growth, changes, or requirements. Scaling refers to the methods, technologies, and practices that allow an app to grow.\n",
    "\n",
    "A key part of scaling is building distributed systems. This means that you distribute workload across multiple workers and with multiple processing units. Workers divide tasks across multiple processors or computers.\n",
    "\n",
    "Spreading workload over multiple hosts makes it possible to achieve horizontal scalability, which is the ability to add more nodes. It also helps with fault tolerance. If a node fails, another can pick up the traffic.\n",
    "\n",
    "Before we look at the methods of building scalable systems in Python, let’s go over the fundamental properties distributed systems.\n",
    "\n",
    "Single-threaded application\n",
    "This is a type of system that implies no distribution. This is the simplest kind of application. However, they are limited by the power of using a single processor.\n",
    "\n",
    "\n",
    "Multi-threaded application\n",
    "Most computers are equipped with this type of system. Multi-threading applications are more error-prone, but they offer few failure scenarios, as no network is involved.\n",
    "\n",
    "\n",
    "Network distributed application\n",
    "This type of system is for applications that need to scale significantly. They are the most complicated applications to write, as they require a network.\n",
    "\n",
    "\n",
    "Multithreading\n",
    "Scaling across processors is done with multithreading. This means we are running code in parallel with threads, which are contained in a single process. Code will run in parallel only if there is more than one CPU available. Multithreading involves many traps and issues, such as Python’s Global Interpreter Lock (GIL).\n",
    "\n",
    "\n",
    "\n",
    "\n",
    "CPU scaling in Python\n",
    "Using multiple CPUs is one of the best options for scalability in Python. To do so, we must use concurrency and parallelism, which can be tricky to implement properly. Python offers two options for spreading your workload across multiple local CPUs: threads and processes.\n",
    "\n",
    "Threads in Python\n",
    "Threads are a good way to run a function concurrently. If there are multiple CPUs available, threads can be scheduled on multiple processing units. Scheduling is determined by the operating system.\n",
    "\n",
    "There is only one thread, the main, by default. This is the thread that runs your Python application. To start another thread, Python offers a threading module.\n",
    "\n",
    "Once started, the main thread waits for the second thread to complete by calling its join method. But, if you do not join all your threads, it is possible that the main thread finishes before the other threads can join, and your program will appear to be blocked.\n",
    "\n",
    "To prevent this, you can configure your threads as daemons. When a thread is a daemon, it is like a background thread and will be terminated once the main thread exits. Note that we don’t need to use the join method.\n",
    "\n",
    "Processes in Python\n",
    "Multithreading is not perfect for scalability due to the Global Interpreter Lock (GIL). We can also use processes instead of threads as an alternative. The multiprocessing package is a good, high-level option for processes. It provides an interface that starts new processes. Each process is a new, independent instance, so each process has its own independent global state.\n"
   ]
  },
  {
   "cell_type": "markdown",
   "metadata": {},
   "source": [
    "# SAX information\n",
    "\n",
    "## content handler \n",
    "\n",
    "public interface ContentHandler\n",
    "Receive notification of the logical content of a document.\n",
    "\n",
    "This module, both source code and documentation, is in the Public Domain, and comes with NO WARRANTY. See http://www.saxproject.org for further information.\n",
    "This is the main interface that most SAX applications implement: if the application needs to be informed of basic parsing events, it implements this interface and registers an instance with the SAX parser using the setContentHandler method. The parser uses the instance to report basic document-related events like the start and end of elements and character data.\n",
    "\n"
   ]
  },
  {
   "cell_type": "code",
   "execution_count": 2,
   "metadata": {},
   "outputs": [],
   "source": [
    "import xml.sax.handler\n",
    "class BookHandler(xml.sax.handler.ContentHandler):\n",
    "    def __init__(self):\n",
    "        self.text = ''\n",
    "    def startElement(self, name, attributes):\n",
    "        self.tag = name\n",
    "        if attributes.items(): \n",
    "         print(attributes.items())\n",
    "    def characters(self, data):\n",
    "        if not data.isspace(): \n",
    "            self.text += data\n",
    "    def endElement(self, name):\n",
    "        if self.text:\n",
    "            print(self.tag,':',self.text)\n",
    "            self.text = self.tag = ''"
   ]
  },
  {
   "cell_type": "code",
   "execution_count": 3,
   "metadata": {},
   "outputs": [
    {
     "name": "stdout",
     "output_type": "stream",
     "text": [
      "[('id', 'bk101')]\n",
      "author : Gambardella, Matthew\n",
      "title : XML Developer's Guide\n",
      "genre : Computer\n",
      "price : 44.95\n",
      "publish_date : 2000-10-01\n",
      "description : An in-depth look at creating applications      with XML.\n",
      "[('id', 'bk102')]\n",
      "author : Ralls, Kim\n",
      "title : Midnight Rain\n",
      "genre : Fantasy\n",
      "price : 5.95\n",
      "publish_date : 2000-12-16\n",
      "description : A former architect battles corporate zombies,      an evil sorceress, and her own childhood to become queen      of the world.\n",
      "[('id', 'bk103')]\n",
      "author : Corets, Eva\n",
      "title : Maeve Ascendant\n",
      "genre : Fantasy\n",
      "price : 5.95\n",
      "publish_date : 2000-11-17\n",
      "description : After the collapse of a nanotechnology      society in England, the young survivors lay the      foundation for a new society.\n",
      "[('id', 'bk104')]\n",
      "author : Corets, Eva\n",
      "title : Oberon's Legacy\n",
      "genre : Fantasy\n",
      "price : 5.95\n",
      "publish_date : 2001-03-10\n",
      "description : In post-apocalypse England, the mysterious      agent known only as Oberon helps to create a new life      for the inhabitants of London. Sequel to Maeve      Ascendant.\n",
      "[('id', 'bk105')]\n",
      "author : Corets, Eva\n",
      "title : The Sundered Grail\n",
      "genre : Fantasy\n",
      "price : 5.95\n",
      "publish_date : 2001-09-10\n",
      "description : The two daughters of Maeve, half-sisters,      battle one another for control of England. Sequel to      Oberon's Legacy.\n",
      "[('id', 'bk106')]\n",
      "author : Randall, Cynthia\n",
      "title : Lover Birds\n",
      "genre : Romance\n",
      "price : 4.95\n",
      "publish_date : 2000-09-02\n",
      "description : When Carla meets Paul at an ornithology      conference, tempers fly as feathers get ruffled.\n",
      "[('id', 'bk107')]\n",
      "author : Thurman, Paula\n",
      "title : Splish Splash\n",
      "genre : Romance\n",
      "price : 4.95\n",
      "publish_date : 2000-11-02\n",
      "description : A deep sea diver finds true love twenty      thousand leagues beneath the sea.\n",
      "[('id', 'bk108')]\n",
      "author : Knorr, Stefan\n",
      "title : Creepy Crawlies\n",
      "genre : Horror\n",
      "price : 4.95\n",
      "publish_date : 2000-12-06\n",
      "description : An anthology of horror stories about roaches,      centipedes, scorpions  and other insects.\n",
      "[('id', 'bk109')]\n",
      "author : Kress, Peter\n",
      "title : Paradox Lost\n",
      "genre : Science Fiction\n",
      "price : 6.95\n",
      "publish_date : 2000-11-02\n",
      "description : After an inadvertant trip through a Heisenberg      Uncertainty Device, James Salway discovers the problems      of being quantum.\n",
      "[('id', 'bk110')]\n",
      "author : O'Brien, Tim\n",
      "title : Microsoft .NET: The Programming Bible\n",
      "genre : Computer\n",
      "price : 36.95\n",
      "publish_date : 2000-12-09\n",
      "description : Microsoft's .NET initiative is explored in      detail in this deep programmer's reference.\n",
      "[('id', 'bk111')]\n",
      "author : O'Brien, Tim\n",
      "title : MSXML3: A Comprehensive Guide\n",
      "genre : Computer\n",
      "price : 36.95\n",
      "publish_date : 2000-12-01\n",
      "description : The Microsoft MSXML3 parser is covered in      detail, with attention to XML DOM interfaces, XSLT processing,      SAX and more.\n",
      "[('id', 'bk112')]\n",
      "author : Galos, Mike\n",
      "title : Visual Studio 7: A Comprehensive Guide\n",
      "genre : Computer\n",
      "price : 49.95\n",
      "publish_date : 2001-04-16\n",
      "description : Microsoft Visual Studio 7 is explored in depth,      looking at how Visual Basic, Visual C++, C#, and ASP+ are      integrated into a comprehensive development      environment.\n"
     ]
    }
   ],
   "source": [
    "parser = xml.sax.make_parser()\n",
    "handler = BookHandler()\n",
    "parser.setContentHandler(handler)\n",
    "parser.parse(\"books.xml\")\n"
   ]
  },
  {
   "cell_type": "markdown",
   "metadata": {},
   "source": [
    "## Parsing with DOM \n",
    "Minidom is a simple implementation of the full DOM specification.\n",
    "Parsing an XML string or a file (or Python file object) using DOM \n",
    "will create a document root node object with child nodes created \n",
    "beneath, representing the XML layout with tags from the input \n",
    "document.\n",
    "As usual, use 'dir(node_object)' to see the list of attributes and \n",
    "methods it supplies.\n"
   ]
  },
  {
   "cell_type": "code",
   "execution_count": 4,
   "metadata": {},
   "outputs": [
    {
     "name": "stdout",
     "output_type": "stream",
     "text": [
      "[<DOM Element: catalog at 0x1dbfb42f9d0>]\n",
      "catalog\n"
     ]
    }
   ],
   "source": [
    "import xml.dom.minidom\n",
    "doc = xml.dom.minidom.parse('books.xml')\n",
    "print(doc.childNodes)\n",
    "print(doc.firstChild.tagName)\n"
   ]
  },
  {
   "cell_type": "code",
   "execution_count": 6,
   "metadata": {},
   "outputs": [
    {
     "name": "stdout",
     "output_type": "stream",
     "text": [
      "catalog \n",
      " [<DOM Text node \"'\\n   '\">, <DOM Element: book at 0x1dbfb44d1f0>, <DOM Text node \"'\\n   '\">, <DOM Element: book at 0x1dbfb451160>, <DOM Text node \"'\\n   '\">, <DOM Element: book at 0x1dbfb451550>, <DOM Text node \"'\\n   '\">, <DOM Element: book at 0x1dbfb451940>, <DOM Text node \"'\\n   '\">, <DOM Element: book at 0x1dbfb451d30>, <DOM Text node \"'\\n   '\">, <DOM Element: book at 0x1dbfb458160>, <DOM Text node \"'\\n   '\">, <DOM Element: book at 0x1dbfb4585e0>, <DOM Text node \"'\\n   '\">, <DOM Element: book at 0x1dbfb4589d0>, <DOM Text node \"'\\n   '\">, <DOM Element: book at 0x1dbfb458e50>, <DOM Text node \"'\\n   '\">, <DOM Element: book at 0x1dbfb45c280>, <DOM Text node \"'\\n   '\">, <DOM Element: book at 0x1dbfb45c700>, <DOM Text node \"'\\n   '\">, <DOM Element: book at 0x1dbfb45caf0>, <DOM Text node \"'\\n'\">]\n"
     ]
    }
   ],
   "source": [
    "for node in doc.childNodes:\n",
    "    if node.nodeType == doc.ELEMENT_NODE:\n",
    "        print(node.nodeName, \"\\n\", node.childNodes)\n"
   ]
  },
  {
   "cell_type": "markdown",
   "metadata": {},
   "source": [
    "Another way of doing this "
   ]
  },
  {
   "cell_type": "code",
   "execution_count": 7,
   "metadata": {},
   "outputs": [
    {
     "name": "stdout",
     "output_type": "stream",
     "text": [
      "[<DOM Element: author at 0x1dbfb450dc0>, <DOM Element: title at 0x1dbfb450e50>, <DOM Element: genre at 0x1dbfb450ee0>, <DOM Element: price at 0x1dbfb450f70>, <DOM Element: publish_date at 0x1dbfb451040>, <DOM Element: description at 0x1dbfb4510d0>]\n"
     ]
    }
   ],
   "source": [
    "book1 = doc.firstChild.firstChild.nextSibling\n",
    "print(book1.childNodes[1:-1:2])"
   ]
  },
  {
   "cell_type": "markdown",
   "metadata": {},
   "source": [
    "## iterate thnrough the nodes xml attributes\n"
   ]
  },
  {
   "cell_type": "code",
   "execution_count": 10,
   "metadata": {},
   "outputs": [
    {
     "name": "stdout",
     "output_type": "stream",
     "text": [
      "bk101\n",
      "Gambardella, Matthew\n",
      "XML Developer's Guide\n",
      "Computer\n",
      "44.95\n",
      "2000-10-01\n",
      "An in-depth look at creating applications\n",
      "      with XML.\n",
      "bk102\n",
      "Ralls, Kim\n",
      "Midnight Rain\n",
      "Fantasy\n",
      "5.95\n",
      "2000-12-16\n",
      "A former architect battles corporate zombies,\n",
      "      an evil sorceress, and her own childhood to become queen\n",
      "      of the world.\n",
      "bk103\n",
      "Corets, Eva\n",
      "Maeve Ascendant\n",
      "Fantasy\n",
      "5.95\n",
      "2000-11-17\n",
      "After the collapse of a nanotechnology\n",
      "      society in England, the young survivors lay the\n",
      "      foundation for a new society.\n",
      "bk104\n",
      "Corets, Eva\n",
      "Oberon's Legacy\n",
      "Fantasy\n",
      "5.95\n",
      "2001-03-10\n",
      "In post-apocalypse England, the mysterious\n",
      "      agent known only as Oberon helps to create a new life\n",
      "      for the inhabitants of London. Sequel to Maeve\n",
      "      Ascendant.\n",
      "bk105\n",
      "Corets, Eva\n",
      "The Sundered Grail\n",
      "Fantasy\n",
      "5.95\n",
      "2001-09-10\n",
      "The two daughters of Maeve, half-sisters,\n",
      "      battle one another for control of England. Sequel to\n",
      "      Oberon's Legacy.\n",
      "bk106\n",
      "Randall, Cynthia\n",
      "Lover Birds\n",
      "Romance\n",
      "4.95\n",
      "2000-09-02\n",
      "When Carla meets Paul at an ornithology\n",
      "      conference, tempers fly as feathers get ruffled.\n",
      "bk107\n",
      "Thurman, Paula\n",
      "Splish Splash\n",
      "Romance\n",
      "4.95\n",
      "2000-11-02\n",
      "A deep sea diver finds true love twenty\n",
      "      thousand leagues beneath the sea.\n",
      "bk108\n",
      "Knorr, Stefan\n",
      "Creepy Crawlies\n",
      "Horror\n",
      "4.95\n",
      "2000-12-06\n",
      "An anthology of horror stories about roaches,\n",
      "      centipedes, scorpions  and other insects.\n",
      "bk109\n",
      "Kress, Peter\n",
      "Paradox Lost\n",
      "Science Fiction\n",
      "6.95\n",
      "2000-11-02\n",
      "After an inadvertant trip through a Heisenberg\n",
      "      Uncertainty Device, James Salway discovers the problems\n",
      "      of being quantum.\n",
      "bk110\n",
      "O'Brien, Tim\n",
      "Microsoft .NET: The Programming Bible\n",
      "Computer\n",
      "36.95\n",
      "2000-12-09\n",
      "Microsoft's .NET initiative is explored in\n",
      "      detail in this deep programmer's reference.\n",
      "bk111\n",
      "O'Brien, Tim\n",
      "MSXML3: A Comprehensive Guide\n",
      "Computer\n",
      "36.95\n",
      "2000-12-01\n",
      "The Microsoft MSXML3 parser is covered in\n",
      "      detail, with attention to XML DOM interfaces, XSLT processing,\n",
      "      SAX and more.\n",
      "bk112\n",
      "Galos, Mike\n",
      "Visual Studio 7: A Comprehensive Guide\n",
      "Computer\n",
      "49.95\n",
      "2001-04-16\n",
      "Microsoft Visual Studio 7 is explored in depth,\n",
      "      looking at how Visual Basic, Visual C++, C#, and ASP+ are\n",
      "      integrated into a comprehensive development\n",
      "      environment.\n"
     ]
    }
   ],
   "source": [
    "for book in doc.getElementsByTagName('book'):\n",
    "        print(book.getAttributeNode('id').nodeValue)\n",
    "        for child in book.childNodes:\n",
    "            if child.nodeType == book.ELEMENT_NODE:\n",
    "                for detail in child.childNodes:\n",
    "                    print(detail.data)\n"
   ]
  },
  {
   "cell_type": "markdown",
   "metadata": {},
   "source": [
    "## Extracting all text from DOM \n",
    "using recursion to get all text data \n"
   ]
  },
  {
   "cell_type": "code",
   "execution_count": 12,
   "metadata": {},
   "outputs": [
    {
     "name": "stdout",
     "output_type": "stream",
     "text": [
      "None\n"
     ]
    }
   ],
   "source": [
    "def getText(nodes):\n",
    "    for child in nodes:\n",
    "        if child.nodeType == child.TEXT_NODE:\n",
    "            if not child.data.isspace():\n",
    "                print(child.data)\n",
    "            elif child.nodeType == child.ELEMENT_NODE:\n",
    "                getText(child.childNodes)\n",
    "doc = xml.dom.minidom.parse('books.xml')\n",
    "\n",
    "print(getText(doc.childNodes))\n"
   ]
  },
  {
   "cell_type": "markdown",
   "metadata": {},
   "source": [
    "## Using etree\n",
    "The etree approach is very Pythonic. It uses standard Python \n",
    "interfaces such as iterators, lists and dictionaries to implement an \n",
    "iterable tree of objects. The ElementTree object encompasses the \n",
    "entire XML document and may be iterated through using the \n",
    ".iter*() and .find*() methods. Iteration takes place from top to \n",
    "bottom, first child first, then siblings' children (depth-first).\n",
    "The document root is an Element object and may also be iterated \n",
    "through using similar methods to the ElementTree. In addition, \n",
    "Element objects have list-like properties and methods as well as \n",
    "data attributes such as tag, tail, text and attrib, the latter being \n",
    "implemented as a dictionary of node attributes.\n",
    "New sub-element objects may be created and attached to the tree \n",
    "using the etree.SubElement() factory function.\n",
    "The Python documentation for xml.etree.ElementTree contains a \n",
    "short tutorial (19.7.1), see docs.python.org/2/library (or the \n",
    "corresponding Python 3 link)."
   ]
  },
  {
   "cell_type": "code",
   "execution_count": null,
   "metadata": {},
   "outputs": [],
   "source": []
  },
  {
   "cell_type": "code",
   "execution_count": 13,
   "metadata": {},
   "outputs": [
    {
     "name": "stdout",
     "output_type": "stream",
     "text": [
      "author : Gambardella, Matthew\n",
      "title : XML Developer's Guide\n",
      "genre : Computer\n",
      "price : 44.95\n",
      "publish_date : 2000-10-01\n",
      "description : An in-depth look at creating applications\n",
      "      with XML.\n",
      "author : Ralls, Kim\n",
      "title : Midnight Rain\n",
      "genre : Fantasy\n",
      "price : 5.95\n",
      "publish_date : 2000-12-16\n",
      "description : A former architect battles corporate zombies,\n",
      "      an evil sorceress, and her own childhood to become queen\n",
      "      of the world.\n",
      "author : Corets, Eva\n",
      "title : Maeve Ascendant\n",
      "genre : Fantasy\n",
      "price : 5.95\n",
      "publish_date : 2000-11-17\n",
      "description : After the collapse of a nanotechnology\n",
      "      society in England, the young survivors lay the\n",
      "      foundation for a new society.\n",
      "author : Corets, Eva\n",
      "title : Oberon's Legacy\n",
      "genre : Fantasy\n",
      "price : 5.95\n",
      "publish_date : 2001-03-10\n",
      "description : In post-apocalypse England, the mysterious\n",
      "      agent known only as Oberon helps to create a new life\n",
      "      for the inhabitants of London. Sequel to Maeve\n",
      "      Ascendant.\n",
      "author : Corets, Eva\n",
      "title : The Sundered Grail\n",
      "genre : Fantasy\n",
      "price : 5.95\n",
      "publish_date : 2001-09-10\n",
      "description : The two daughters of Maeve, half-sisters,\n",
      "      battle one another for control of England. Sequel to\n",
      "      Oberon's Legacy.\n",
      "author : Randall, Cynthia\n",
      "title : Lover Birds\n",
      "genre : Romance\n",
      "price : 4.95\n",
      "publish_date : 2000-09-02\n",
      "description : When Carla meets Paul at an ornithology\n",
      "      conference, tempers fly as feathers get ruffled.\n",
      "author : Thurman, Paula\n",
      "title : Splish Splash\n",
      "genre : Romance\n",
      "price : 4.95\n",
      "publish_date : 2000-11-02\n",
      "description : A deep sea diver finds true love twenty\n",
      "      thousand leagues beneath the sea.\n",
      "author : Knorr, Stefan\n",
      "title : Creepy Crawlies\n",
      "genre : Horror\n",
      "price : 4.95\n",
      "publish_date : 2000-12-06\n",
      "description : An anthology of horror stories about roaches,\n",
      "      centipedes, scorpions  and other insects.\n",
      "author : Kress, Peter\n",
      "title : Paradox Lost\n",
      "genre : Science Fiction\n",
      "price : 6.95\n",
      "publish_date : 2000-11-02\n",
      "description : After an inadvertant trip through a Heisenberg\n",
      "      Uncertainty Device, James Salway discovers the problems\n",
      "      of being quantum.\n",
      "author : O'Brien, Tim\n",
      "title : Microsoft .NET: The Programming Bible\n",
      "genre : Computer\n",
      "price : 36.95\n",
      "publish_date : 2000-12-09\n",
      "description : Microsoft's .NET initiative is explored in\n",
      "      detail in this deep programmer's reference.\n",
      "author : O'Brien, Tim\n",
      "title : MSXML3: A Comprehensive Guide\n",
      "genre : Computer\n",
      "price : 36.95\n",
      "publish_date : 2000-12-01\n",
      "description : The Microsoft MSXML3 parser is covered in\n",
      "      detail, with attention to XML DOM interfaces, XSLT processing,\n",
      "      SAX and more.\n",
      "author : Galos, Mike\n",
      "title : Visual Studio 7: A Comprehensive Guide\n",
      "genre : Computer\n",
      "price : 49.95\n",
      "publish_date : 2001-04-16\n",
      "description : Microsoft Visual Studio 7 is explored in depth,\n",
      "      looking at how Visual Basic, Visual C++, C#, and ASP+ are\n",
      "      integrated into a comprehensive development\n",
      "      environment.\n"
     ]
    }
   ],
   "source": [
    "import xml.etree.ElementTree as ET\n",
    "tree = ET.parse('books.xml')\n",
    "root = tree.getroot()\n",
    "for book in root.findall('book'):\n",
    "    for item in book:\n",
    "        print(item.tag, \":\", item.text)"
   ]
  },
  {
   "cell_type": "markdown",
   "metadata": {},
   "source": [
    "As well as iterating through elements, because they display list-like \n",
    "properties, we can also index into them.\n",
    "The document root Element equates to the <books> node. \n",
    "Therefore root[0] is an Element denoting the first <book> node and \n",
    "root[1] is an Element denoting the second <book> node. book2[2] is \n",
    "therefore the price SubElement of book2.\n",
    "In this example we have created a SubElement representing a new \n",
    "child of the book1 node, and we have updated the text of the price \n",
    "SubElement of the book2 node. \n",
    "Note that the empty dictionary '{ }' represents the (in this case, \n",
    "non-existent) attributes of the new node.\n"
   ]
  },
  {
   "cell_type": "code",
   "execution_count": 14,
   "metadata": {},
   "outputs": [
    {
     "name": "stdout",
     "output_type": "stream",
     "text": [
      "\n",
      "      \n",
      "Gambardella, Matthew\n",
      "XML Developer's Guide\n",
      "Computer\n",
      "44.95\n",
      "2000-10-01\n",
      "An in-depth look at creating applications\n",
      "      with XML.\n",
      "Today\n",
      "\n",
      "      \n",
      "Ralls, Kim\n",
      "Midnight Rain\n",
      "£12.00\n",
      "5.95\n",
      "2000-12-16\n",
      "A former architect battles corporate zombies,\n",
      "      an evil sorceress, and her own childhood to become queen\n",
      "      of the world.\n"
     ]
    }
   ],
   "source": [
    "book1 = root[0]\n",
    "pub = ET.SubElement(book1, 'Published', {})\n",
    "pub.text = 'Today'\n",
    "for item in book1.iter():\n",
    "    print(item.text)\n",
    "book2 = root[1]\n",
    "book2[2].text = '£12.00'\n",
    "for item in book2.iter():\n",
    "    print(item.text)\n"
   ]
  },
  {
   "cell_type": "markdown",
   "metadata": {},
   "source": [
    "## JSON\n",
    "    "
   ]
  },
  {
   "cell_type": "code",
   "execution_count": 22,
   "metadata": {},
   "outputs": [],
   "source": [
    "import json\n",
    "\n",
    "with open('books.json', 'r') as f:\n",
    "    data = json.load(f)\n",
    "    print(data['books'])"
   ]
  },
  {
   "cell_type": "code",
   "execution_count": 23,
   "metadata": {},
   "outputs": [
    {
     "name": "stdout",
     "output_type": "stream",
     "text": [
      "{\"name\": \"Bob\", \"age\": 12, \"children\": null}\n"
     ]
    }
   ],
   "source": [
    "import json\n",
    "\n",
    "person_dict = {'name': 'Bob',\n",
    "'age': 12,\n",
    "'children': None\n",
    "}\n",
    "person_json = json.dumps(person_dict)\n",
    "\n",
    "print(person_json)"
   ]
  },
  {
   "cell_type": "markdown",
   "metadata": {},
   "source": [
    "Python\tJSON Equivalent\n",
    "\n",
    "dict\tobject\n",
    "\n",
    "list, tuple\tarray\n",
    "\n",
    "str\tstring\n",
    "\n",
    "int, float, int\tnumber\n",
    "\n",
    "True\ttrue\n",
    "\n",
    "False\tfalse\n",
    "\n",
    "None\tnull"
   ]
  },
  {
   "cell_type": "code",
   "execution_count": 24,
   "metadata": {},
   "outputs": [],
   "source": [
    "\n",
    "import json\n",
    "\n",
    "person_dict = {\"name\": \"Bob\",\n",
    "\"languages\": [\"English\", \"French\"],\n",
    "\"married\": True,\n",
    "\"age\": 32\n",
    "}\n",
    "\n",
    "with open('person.txt', 'w') as json_file:\n",
    "  json.dump(person_dict, json_file)"
   ]
  },
  {
   "cell_type": "markdown",
   "metadata": {},
   "source": [
    "There are other useful tricks you can do with Python, converting between XML and JSON for example\n"
   ]
  }
 ],
 "metadata": {
  "kernelspec": {
   "display_name": "Python 3 (ipykernel)",
   "language": "python",
   "name": "python3"
  },
  "language_info": {
   "codemirror_mode": {
    "name": "ipython",
    "version": 3
   },
   "file_extension": ".py",
   "mimetype": "text/x-python",
   "name": "python",
   "nbconvert_exporter": "python",
   "pygments_lexer": "ipython3",
   "version": "3.9.7"
  }
 },
 "nbformat": 4,
 "nbformat_minor": 2
}
