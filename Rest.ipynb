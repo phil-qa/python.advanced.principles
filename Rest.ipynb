{
 "cells": [
  {
   "attachments": {
    "image.png": {
     "image/png": "[encoded data removed]"
    }
   },
   "cell_type": "markdown",
   "id": "a67f9132",
   "metadata": {},
   "source": [
    "# Building out an API \n",
    "\n",
    "Clearly the internet works off the idea of client server over a http relationship where requests are made and the response served, the communication protocols that are involved are either HTTP or HTTPS a server responds with the response and content if it is there. \n",
    "\n",
    "This can come from the database and there will be aset of APIs to help with that \n",
    "\n",
    "![image.png](attachment:image.png)\n",
    "\n",
    "So an API is a menu of things that the service can provide or respond to. \n",
    "\n",
    "The architectural style for desinging that menu takes different forms \n",
    "- SOAP\n",
    "- RaST\n",
    "- GraphQL\n",
    "- FALCOR\n",
    "\n",
    "to name a few, we will look at REST \n",
    "\n",
    "REST proposes a set of rules to follow, these are the underlying rules for wich a RESTful API works\n",
    "\n",
    "- must use HTTP Request verbs\n",
    "- Use specific Pattern or Routes/Endpoint URLs\n",
    "\n",
    "\n",
    "## Verbs\n",
    "- GET \n",
    "- POST\n",
    "- PUT PATCH\n",
    "- DELETE \n",
    "\n",
    "\n"
   ]
  }
 ],
 "metadata": {
  "kernelspec": {
   "display_name": "Python 3 (ipykernel)",
   "language": "python",
   "name": "python3"
  },
  "language_info": {
   "codemirror_mode": {
    "name": "ipython",
    "version": 3
   },
   "file_extension": ".py",
   "mimetype": "text/x-python",
   "name": "python",
   "nbconvert_exporter": "python",
   "pygments_lexer": "ipython3",
   "version": "3.9.7"
  }
 },
 "nbformat": 4,
 "nbformat_minor": 5
}
