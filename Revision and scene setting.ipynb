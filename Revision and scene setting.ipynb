{
 "cells": [
  {
   "cell_type": "markdown",
   "id": "45999149",
   "metadata": {},
   "source": [
    "Like most scripting languages, Python variables are defined\n",
    "automatically, and are untyped until assigned. Variables are\n",
    "actually references to objects, so the assignment of a string to a\n",
    "variable makes that variable reference a string object. Uninitialised\n",
    "variables reference an object called None (NULL, nil or undef in\n",
    "other languages).\n",
    "You could argue, as some do, that Python does not have variables!\n",
    "Where the objects themselves are immutable (cannot be altered)\n",
    "then several names (variables) may reference the same physical\n",
    "value.\n",
    "Unlike most scripting languages, names defined in a function are\n",
    "local by default - and must be specifically marked as global if\n",
    "required. \n"
   ]
  },
  {
   "cell_type": "code",
   "execution_count": 4,
   "id": "3eb797d1",
   "metadata": {},
   "outputs": [
    {
     "name": "stdout",
     "output_type": "stream",
     "text": [
      "the type of None is <class 'NoneType'>\n",
      "the type of 10 is <class 'int'>\n",
      "the type of 10 is <class 'str'>\n",
      "the type of 10.0 is <class 'float'>\n"
     ]
    }
   ],
   "source": [
    "def WhatsMyType(thing):\n",
    "    print(f\"the type of {thing} is {type(thing)}\")\n",
    "\n",
    "a_variable = None\n",
    "WhatsMyType(a_variable)\n",
    "a_variable = 10\n",
    "WhatsMyType(a_variable)\n",
    "a_variable = '10'\n",
    "WhatsMyType(a_variable)\n",
    "a_variable = 10.0\n",
    "WhatsMyType(a_variable)"
   ]
  },
  {
   "cell_type": "markdown",
   "id": "d8d4fa04",
   "metadata": {},
   "source": [
    "In Python generally has different types: numbers, strings, tuples, lists, dictionaries, sets They vary slightly between Python versions and this should be taken into account if you're working on either one. the recommendation will be to go and look at the documentation if you are working on anything less than Python 3 and this course will Focus only on python3. Of all the types that we have, some or immutable, that means that they can't be changed and some immutable which means they can. \n",
    "\n",
    "**List Comprehensions***\n",
    "Aside from the basic data types just mentioned,  there are more complex data types and one of which would be something like a list,  these are essentially arrays but in Python there are a number of operations that become available on this data type which make it very useful.\n",
    "\n",
    "one of those is list comprehensions which is a more natural way of expressing operations that lists would normally do there are three parts to it an expression which is executed on each item a loop and an optional condition that condition could be regarded as a filter where the item will only be returned out of the list structure of the loop that comes with it iif the condition is true \n",
    "\n",
    "There are equivalents to this things like map for example and filter, they have functional equivalence to list comprehension but this comprehension is regarded as being more pythonic \n"
   ]
  },
  {
   "cell_type": "code",
   "execution_count": 8,
   "id": "4a30ee5d",
   "metadata": {},
   "outputs": [
    {
     "name": "stdout",
     "output_type": "stream",
     "text": [
      "[1, 2, 4, 5, 10, 20, 25, 50, 100]\n",
      "[1, 2, 4, 5, 10, 20, 25, 50, 100]\n"
     ]
    }
   ],
   "source": [
    "'''\n",
    "non comprehension\n",
    "'''\n",
    "def factors(number):\n",
    "   factors = []\n",
    "   for num in range(1, number+ 1):\n",
    "       if number % num == 0:\n",
    "           factors.append(num)\n",
    "   return factors\n",
    "\n",
    "'''\n",
    "comprehension\n",
    "'''\n",
    "def comprehension_factors(number):\n",
    "    return [num for num in range(1,number+1) if number%num==0]\n",
    "\n",
    "\n",
    "print(factors(100))\n",
    "print(comprehension_factors(100))\n",
    "\n"
   ]
  },
  {
   "cell_type": "markdown",
   "id": "41472e7d",
   "metadata": {},
   "source": [
    "Later versions of Python extend this functionality to to sets and dictionaries "
   ]
  },
  {
   "cell_type": "code",
   "execution_count": 10,
   "id": "7ba7b49a",
   "metadata": {},
   "outputs": [
    {
     "name": "stdout",
     "output_type": "stream",
     "text": [
      "{'Executing ftp get on compoundRates', 'Executing ftp get on localRates', 'Executing ftp get on dayRates'}\n"
     ]
    }
   ],
   "source": [
    "def ftp_get(filename):\n",
    "    #psuedo code\n",
    "    return(f\"Executing ftp get on {filename}\")\n",
    "    \n",
    "\n",
    "files_to_acquire = {'dayRates', 'localRates', 'compoundRates'}\n",
    "\n",
    "results = {ftp_get(f) for f in files_to_acquire}\n",
    "\n",
    "print(results)\n"
   ]
  },
  {
   "cell_type": "code",
   "execution_count": 11,
   "id": "85933cd8",
   "metadata": {},
   "outputs": [
    {
     "name": "stdout",
     "output_type": "stream",
     "text": [
      "{'bristol': 20, 'cardiff': 55, 'london': 60, 'glasgow': 140, 'fife': 120}\n"
     ]
    }
   ],
   "source": [
    "# Python code to demonstrate dictionary\n",
    "# comprehension\n",
    " \n",
    "keys = ['bristol','cardiff','london','glasgow','fife']\n",
    "values = [20,55,60,140,120] \n",
    " \n",
    "myDict = { k:v for (k,v) in zip(keys, values)} \n",
    " \n",
    "print (myDict)"
   ]
  },
  {
   "cell_type": "code",
   "execution_count": null,
   "id": "38e2c4a0",
   "metadata": {},
   "outputs": [],
   "source": []
  }
 ],
 "metadata": {
  "kernelspec": {
   "display_name": "Python 3 (ipykernel)",
   "language": "python",
   "name": "python3"
  },
  "language_info": {
   "codemirror_mode": {
    "name": "ipython",
    "version": 3
   },
   "file_extension": ".py",
   "mimetype": "text/x-python",
   "name": "python",
   "nbconvert_exporter": "python",
   "pygments_lexer": "ipython3",
   "version": "3.9.7"
  }
 },
 "nbformat": 4,
 "nbformat_minor": 5
}
