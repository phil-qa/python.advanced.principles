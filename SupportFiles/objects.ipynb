{
 "cells": [
  {
   "cell_type": "markdown",
   "metadata": {},
   "source": [
    "# Objects\n",
    "We would consider objects as a noun in a system design, it represents something in the real world.  \n",
    "\n",
    "A pen for example would be ideal \n",
    "\n",
    "Pen\n",
    "____\n",
    "- red\n",
    "- thick\n",
    "- plastic\n",
    "_____\n",
    "Write\n",
    "erase\n",
    "\n",
    "Here are the things that define the Pen, the things that are characteristics and the things it can do. This is an explicit expression that describes a particular pen. \n",
    "\n",
    "The details (attributes) are the internal state of the object. the methods describe what the object can do, some methods will alter that internal state, and some methods will act on the attributes. This could be expressed by another object, a car for example. \n"
   ]
  },
  {
   "cell_type": "code",
   "execution_count": 1,
   "metadata": {},
   "outputs": [],
   "source": [
    "class Pen:\n",
    "    def __init(self):\n",
    "        colour = 'red'\n",
    "        nib = 'wide'\n",
    "        made_of = 'plastic'"
   ]
  },
  {
   "cell_type": "markdown",
   "metadata": {},
   "source": [
    "## Inheritance \n",
    "We have seen classes, a pen is a class in the previous example, in OOP we can say \n",
    "- A class can be defined based on another class\n",
    "- A child will inherit everything from it's parent\n",
    "- an object that belongs to a child class also belongs to the parents class"
   ]
  }
 ],
 "metadata": {
  "kernelspec": {
   "display_name": "Python 3",
   "language": "python",
   "name": "python3"
  },
  "language_info": {
   "codemirror_mode": {
    "name": "ipython",
    "version": 3
   },
   "file_extension": ".py",
   "mimetype": "text/x-python",
   "name": "python",
   "nbconvert_exporter": "python",
   "pygments_lexer": "ipython3",
   "version": "3.10.10"
  }
 },
 "nbformat": 4,
 "nbformat_minor": 2
}
